{
 "cells": [
  {
   "cell_type": "markdown",
   "metadata": {},
   "source": [
    "# Title: Software Maintainability Prodiction by Applying Machine Learning On Open Source Abandonware"
   ]
  },
  {
   "cell_type": "markdown",
   "metadata": {},
   "source": [
    "# Abstraction\n",
    "\n",
    "asdfasdf"
   ]
  },
  {
   "cell_type": "markdown",
   "metadata": {},
   "source": [
    "# ACKNOWLEDGEMENTS"
   ]
  },
  {
   "cell_type": "markdown",
   "metadata": {},
   "source": [
    "# Introduction\n",
    "\n",
    "## Scope\n",
    "\n",
    "## Problem Statement\n",
    "\n",
    "## Approach\n",
    "\n",
    "## Outcome"
   ]
  },
  {
   "cell_type": "markdown",
   "metadata": {},
   "source": [
    "# On maintainability\n",
    "\n",
    "Software maintainability decides the cost of owning a codebase. It is defined by IEEE as “the ease with which a software system or component can be modified to correct faults, improve performance or other attributes, or adapt to a changed environment” (IEEE, 1990). I will try to define maintainable software from the result's perspective. If a software system or component has been actively maintained to continuously correct faults, improve performance or other attributes, or adapt to a changed environment since a certain point of time *T*, for a period of time *P*, then I can say the state of the software at the time *T* has at least some maintainability. And I made an assumption that if a software system or component stopped maintainance at *T* tends to have less maintenability. Especially, when there's evidence based on the software's development history before *T* that continuous maintenace is required.\n",
    "\n",
    "Based on the above assumption, I can label a version of software as 'maintainable' or 'not maintainable' by analyzing it release history."
   ]
  },
  {
   "cell_type": "markdown",
   "metadata": {},
   "source": [
    "# On open source \"Abandonware\"\n",
    "\n",
    "Khong (2007) defined abandonware as the copyrighted work that's still owned by the owner, but because the owner ignored the work it is no longer commercially available to the public. One problem caused by abandonware, as pointed out by Khong (2007) is that some software may need continual support from the vendors or producers. Many open source software also fit in the definition of abandonware, that is the source code is still available to the public, but the owner of the project ignores it.\n",
    "\n",
    "Khong (2007) mentioned \"A related problem of abandonment of computer software is the unavailability\n",
    "of source codes to correct or modify a computer program.\" This is no longer the case for open source abandonware. However having the source code doesn't solve the problem completely. It still takes the domain knowledge, the knowledge of the software structure, the interest and the effort to maintain the software, which the user of open source software might not have. And the orginal access point (the library server, the version control system) might still be owned by the original author. Then it's hard to continue the project and share the maintained work with the others.\n",
    "\n",
    "In my research of the Ruby open source abandonware, I found some have over a hundred open issues on Github. Some people depending on these software are crying for support. Some of the abandonware have tens of pull requests but the owners just ignore them. One example is the CanCan Ruby gem created by Ryan Bates and first released in 2009 and soon becomes very popular (6000+ stars on Github as of today). It's an enhancement to the Ruby on Rails framework to make the authorization easy. As it's part of the framework, projects depending on CanCan tend to have a tight coupling with it. When in 2013 the project suddenly stopped all development activity on Github, it became a big problem. We can see now the CanCan projec has more than eight hundred forks. Some people chose to take the source code and maintain it by themselves. Eventually, some people formed the \"CanCanCan Community\" and continue the \"CanCan\" project under the name of \"CanCanCan\" (https://github.com/CanCanCommunity/cancancan)."
   ]
  },
  {
   "cell_type": "markdown",
   "metadata": {},
   "source": [
    "## Stable library"
   ]
  },
  {
   "cell_type": "markdown",
   "metadata": {},
   "source": [
    "# Background and review of Literature"
   ]
  },
  {
   "cell_type": "markdown",
   "metadata": {},
   "source": [
    "## Background"
   ]
  },
  {
   "cell_type": "markdown",
   "metadata": {},
   "source": [
    "Ruby is a popular programming language. It's widely used as a programming language in Web service and automation. Ruby also have large open source community. The RubyGems.org is where most of the open source Ruby project release their software packages. At the beginning of year 2017, there are about 13908 gems, with 1126308 different versions. A lot of software developers are working on their gems all the time. In year 2016, 44 gems were released per day,\n",
    "332 gem versions were released per day (Ćilimković, 2017).\n",
    "\n",
    "With the rich collection of Ruby gems, people can do their job much faster. But depending on an open source library also introduce future risks. Some software packages do simple and clear things. They tend to stablize after a period of time and do not need much active maintenance. But most non-trivial software libraries do need active maintenance to address new problems, adjust to new environment and adding new features. It can be painful when depending on a third party library and then found that library stopped being maintained.\n",
    "\n",
    "There are 1132 Ruby gems stop having any new versions before 2015, which had been actively maintained for more then 10 months before they stopped. Please find the definition for \"actively maintained for more than 10 months\" in Process - Labeling the data.\n",
    "\n",
    "There are also many Ruby gems that have been maintained actively for a long time with many releases. From software maintainability's perspective, they are at least \"maintainable\" code some releases back from the recent.\n",
    "\n",
    "There could be different reasons why certain Ruby project stopped, and why some is still continuing. RubyGems.org keeps all the gems versions and most of the gems developers tend to release often. Perhaps we have find behavioral trace in the releases. Ruby libraries are ditributed in the form of source code. If there's a pattern or we can find a model then we can use it to evaluate Ruby source code or learn how to increase software maintainability.\n",
    "\n"
   ]
  },
  {
   "cell_type": "markdown",
   "metadata": {},
   "source": [
    "## Literature Review\n",
    "\n",
    "Riaz, Mendes,& Tempero (2009) had a systematic review of software maintainability prediction and metrics. They found that the commonly used maintainability prediction models were based on algorithmic techniques. And the method could be perticular with certain maintance type. Size, complexity and coupling, all these are collected at source code level only. There's a lacky of accuracy measures and cross-validation. They also found that expert judgment plays an important role when designing these metics.\n",
    "\n",
    "Riaz et al (2009) suggested the creation of more robust and reliable software maintainability prediction models. This is exactly what I'm trying to achieve by this research. In my prediction model, although the basic data is also mostly from source code, I put them in time scale and combined several tools' result to avoid prejudice. I intended to use machine learning mechnism to avoid expert opinion.\n",
    "\n",
    "Beller, Bholanath, McIntosh, & Zaidman (2016) made an research on the usage of Automated Static Analysis Tools (ASATs). In their research, they found that 60% of the most popular open source projects use ASATs, although not embed them as part of their workflow. This might bias my data a bit, as some of the popular projects used ASAT, therefore the analyzing result has been optimized towards certain tool already. But I'm confident that it won't have big impact. Because in my research, I only take code older than year 2015. All the three tools I used has tons of new features since 2015.\n",
    "\n",
    "My open source Static Analyzer \"lizard\" has been used in many large projects, including the ATLAS project at CERN (Kluth, et al. 2016). The ATLAS Experiment (Anelli et al. 2008) use lizard to get the cyclomatic complexity metrics in their C++ and Python code. Lizard also support many other programming languages including Ruby.\n",
    "\n",
    "I use the countings of automatically detected \"code smells\" as part of the data I extract from source code. Code smells, as Fowler & Beck (1999) defined as symptoms of poor design and implementation choices. They are the anti-patterns. As a result, code smells will affect the maintainability of software. Tufano, Palomba, Bavota, Oliveto, Di Penta, De Lucia & Poshyvanyk (2015) in their study of when code becomes to smell found that \"Code artifacts becoming smelly as consequence of maintenance and evolution activities are characterized by peculiar metrics’ trends.\" Similar conclusion can be found by the work of Lozano (2009). Palomba, Bavota, Di Penta, Oliveto, De Lucia, & Poshyvanyk (2013) used the change history of source coe to detect cod smells, similar to the work by Rapu et al (2004). These papers give me both hope and method when building maintainability prediction model by using machine learning. \n",
    "\n",
    "Moser, Pedrycz & Succi (2008)'s research strongly endorsed using change data of source code to build defect predictors. The change data and process related metrics contain more information. \n",
    "\n",
    "Inspired by Lohn (2016)'s keynote speak at a Python Conference, I will also try to apply fractal dimension metrics on the code change history. Fratal dimension is a complexity ratio showing how how detail in a pattern changes with the scale at which it is measured.(Mandelbrot 1967). One of Lohn (2016)'s example is to apply fractal dimension on the Fixfox crash report. The stack trace in the report can be regarded as a sequence of offsets in the computer memory. By getting the fractal dimension metrics of these sequence, Lohn claimed that sometimes he found seemingly unrated software bugs with similar fractal dimension to have the same root cause."
   ]
  },
  {
   "cell_type": "markdown",
   "metadata": {},
   "source": [
    "## Theory\n",
    "\n",
    "**Assumption 1**: We can derive a useful model when applying machine-learning to a large veriaty of metrics generated from the source code of a large number of open source projects. These projects are labelled as abandoned, and well-maintained. This model can be used to predict the probability of becoming abandonware for other software projects. Similar research has been done \n",
    "\n",
    "**Assumption 2** The prediction model will improve in accuracy when using change history rather than a static view of one version of the software. I assume the change data and process related metrics contain more information about the defect distribution in software than the source code itself (Moser 2008).\n",
    "\n",
    "**Prototype software** A prototype software is built to implement and verify the assumptions. The software project is hosted at https://github.com/terryyin/rubygem_digger under the MIT License (Rosen 2005).\n",
    "\n",
    "Hayes (2014)'s data science process model devided the process into raw data collection, data processing, data clearning, exploratory data analysis (EDA), machine learning and the final data product. In my prototype software, each part may be built with different programming language.\n",
    "\n",
    "The raw data collection, data processing and data clearning part is built using the Ruby programming language. Choosing Ruby is because of the subject being studied is RubyGems. It's easier to use the same language to extra information. Another reason for choosing Ruby is the Ruby on Rails web service framework (Bächle & Kirchberg 2007). Because of the heavy load of computing resource needed for the job, I built a simple distributed computing system using Ruby on Rails.\n",
    "\n",
    "The exploratory data analysis (EDA), machine learning and the final data product is developed with the Python programming language. A reason for choosing Python is because it's rich toolboxes of big data and machine learning libraries. I mainly use the Scikit-learn library (Pedregosa, et al 2011) for this job. Another reason for using Python is the Jupyter platform (Kluyver et al 2016). Jupyter is an interactive platform to create reproducible computational workflows. Jupyter is implemented in Python and has very good support for using Python in it. Scikit-learn library works perfectly in Jupyter. Jupyter is a nearly perfect EDA platform for me."
   ]
  },
  {
   "cell_type": "markdown",
   "metadata": {},
   "source": [
    "## Terms\n",
    "\n",
    "**Data science process**\n",
    "\n",
    "**Ruby programming language**\n",
    "\n",
    "**Ruby on Rails**\n",
    "\n",
    "**Python programming language**\n",
    "\n",
    "**Test-Driven Development**\n",
    "\n",
    "**Code Smells**\n",
    "\n",
    "**Metrics**:\n",
    "\n",
    "* **NLOC**\n",
    "\n",
    "To avoid confusion, I will use the following terms when discribing a software package on RubyGems\n",
    "\n",
    "* **Gem** is a software project hosted by RubyGems.org. It has a unique name and may have mulitiple versions.\n",
    "* **version** is one snapshot of the code that has a version number. We will sometimes also call it a \"**Release**\"\n",
    "* **package** the collective data related to one version of a gem. This includes the specification and all the code. One thing need to emphasize is a package's file extension is \".gem\".\n",
    "\n",
    "\n"
   ]
  },
  {
   "cell_type": "markdown",
   "metadata": {},
   "source": [
    "# Analysis and Design"
   ]
  },
  {
   "cell_type": "markdown",
   "metadata": {},
   "source": [
    "# Implementation"
   ]
  },
  {
   "cell_type": "markdown",
   "metadata": {},
   "source": [
    "## Collecting the raw data"
   ]
  },
  {
   "cell_type": "markdown",
   "metadata": {},
   "source": [
    "RubyGems is a package-management system for Ruby applications and libraries (Berube 2007). A \"gem\" is the Ruby application or ibrary being managed. RubyGems.org is an instance of such a system and is the biggest host for open source Ruby gems. After installed Ruby, a simple command will down and unpack the Ruby gem of a certain version from the remote server (by default RubyGems.org):\n",
    "\n",
    "    gem unpack <gem name> -v<gem version>\n",
    "    \n",
    "But given the network and service speed, it would be impractical to fetch the gems from RubyGems.org. The whole RubyGems.org database can be mirrored using open source tool (https://github.com/rubygems/rubygems-mirror). The whole database is around 300GB as of the beginning of year 2017. It will extract to about 1.4TB Ruby source code and that's about twenty billion lines of code. Then using the Ruby Gem library (https://github.com/rubygems/gems) we can get all the gems specification and unpack the packages when needed.\n",
    "\n",
    "`lib/gem_specs.rb` does this job."
   ]
  },
  {
   "cell_type": "markdown",
   "metadata": {},
   "source": [
    "### Versions simplification\n",
    "\n",
    "To simplify and normalize the data, I keep only one last version for a gem in a month, if there are multiple versions in that month.\n",
    "\n",
    "After this simplification, I made the assumption that a gem have more than 10 months with versions means they are the kind of software that needs continuous updates."
   ]
  },
  {
   "cell_type": "markdown",
   "metadata": {},
   "source": [
    "### Labeling the data"
   ]
  },
  {
   "cell_type": "markdown",
   "metadata": {},
   "source": [
    "A gem will be labelled as \"abandonware\" if it:\n",
    "\n",
    "* Has more than `maintained_months` months with new versions\n",
    "* Has no new releases for 2 years\n",
    "* Has more than `min_nloc` NLOC in its last version\n",
    "\n",
    "A gem will be labelled as \"well maintained\" if it:\n",
    "\n",
    "* Has more than `well_maintained_months` months with new versions\n",
    "* Has more than `min_nloc` NLOC in its last version\n",
    "\n",
    "`well_maintained_months` (20 ~ 32) is a much large number than `maintained_month` (10 ~ 20). \n",
    "\n",
    "### Remove recent months for \"well maintained\" gems\n",
    "\n",
    "For the data that's labelled as 'well maintained', I remove the last 15 months because we don't know what will happen to them next, but 15 months ago they are \"maintainable\" software as they have been maintained for at least another 15 months.\n",
    "\n",
    "### Complicated enough\n",
    "\n",
    "To reduce the irregular data, I removed the gems that has less then a certain number of NLOC."
   ]
  },
  {
   "cell_type": "markdown",
   "metadata": {},
   "source": [
    "Different specifications are used to label data.\n",
    "\n",
    "| index | description | min. months | min. NLOC | Well maintained | Hist. months | ignored recent months |\n",
    "|---|---|---|---|---|---|---|\n",
    "| 1| most data| 10| 2000| 20| 20| 10|\n",
    "| 2| less months| 10| 2000| 20| 12| 12|\n",
    "| 4| more code| 10| 5000| 20| 20| 10|\n",
    "| 5| long maintained but stopped| 15| 2000| 20| 20| 10|\n",
    "| 7| longer maintained for good| 12| 2000| 30| 15| 15|\n",
    "| 8| balanced| 15| 3000| 30| 10| 15|\n",
    "\n",
    "As it's still quite objective to define what an \"abandonware\" and \"well maintained\" Ruby gem is, I will compare the result generated by different labelling specifications."
   ]
  },
  {
   "cell_type": "markdown",
   "metadata": {},
   "source": [
    "### Manual confirmation\n",
    "\n",
    "Using labelling specification index 1, out of 387 stopped and complicated enough gems 199 listed their Github URL as the homepage for the gem. A lot of the others also use Github as their version control system, but have other web page as homepage. Amoung these gems, 80 of them have open issues on github after the last version was released, which means there are still need not fulfilled for these gems. But they stopped.\n",
    "\n",
    "Here's an incomplete list for gems having at least ten open issues on github after the last version was released."
   ]
  },
  {
   "cell_type": "markdown",
   "metadata": {},
   "source": [
    "| Index | Gem | Open Issues | Years stopped | URL | Possible Reason For Stopping |\n",
    "|---|---|---|---|---|---|\n",
    "| 1 | axlsx | 131 | 3.4 | https://github.com/randym/axlsx | Still actively being developed, but having too many open issues and pull requests. |\n",
    "| 2 | cancan | 205 | 3.7 | https://github.com/ryanb/cancan | Became very popular when released in 2009 but the author stopp all development activity in 2013. In an effort to keep the gem going, the community forked it and created CanCanCan (https://github.com/CanCanCommunity/cancancan). |\n",
    "| 3 | chronic | 99 | 3.4 | https://github.com/mojombo/chronic | Nearly no development activity for 3 years. |\n",
    "| 4 | fakeweb | 30 | 6.4 | https://github.com/chrisk/fakeweb | Just stopped. |\n",
    "| 5 | fnordmetric | 96 | 3.6 | https://github.com/paulasmuth/fnordmetric | Just stopped. Having over 400 forks but only 6 pull requests. |\n",
    "| 6 | i18n | 29 | 2.1 | https://github.com/svenfuchs/i18n | Wrong label. Stable popular component. Will have a new release soon. |\n",
    "| 7 | jsduck | 81 | 3.3 | https://github.com/senchalabs/jsduck | Little development activity. |\n",
    "| 8 | ooor | 22 | 3.7 | https://github.com/akretion/ooor | Still maintained (38 commits in 2016). But somehow no new release. |\n",
    "| 9 | redcar | 20 | 5.0 | https://github.com/danlucraft/redcar | Just stopped. |\n",
    "| 10 | surveyor | 32 | 3.8 | https://github.com/NUBIC/surveyor | Just stopped. |\n",
    "| 11 | taps | 63 | 4.7 | https://github.com/ricardochimal/taps | Just stopped. |\n",
    "| 12 | veewee | 86 | 2.3 | https://github.com/jedi4ever/veewee | Code still maintained with about 20 commits each year. With over 800 forks. |\n",
    "| 13 | webrat | 22 | 6.1 | https://github.com/brynary/webrat | Just stopped. |\n",
    "| 14 | youtube_it | 22 | 2.5 | https://github.com/kylejginavan/youtube_it | Just stopped. |"
   ]
  },
  {
   "cell_type": "markdown",
   "metadata": {},
   "source": [
    "Most of the above 14 gems I checked manually stopped in a way that will surprise an outsider who depends on the gem. With below exceptions:\n",
    "\n",
    "* `i18n` is mistakenly marked as *bad*. It has a new release (January 31, 2017) right after I mirror the RubyGems. It provides internationalization support for Ruby since 2008.\n",
    "* `axlsx`, `ooor` and `veewee` still have some maintainance activity on their Github repositories. But they have publish any new release for more than two years and people have to fork their code to make changes.\n",
    "\n",
    "After manually check 14 gems, I found 11 of them just stopped in a surprising way, 3 of them stop making any new versions despite the many open issues."
   ]
  },
  {
   "cell_type": "markdown",
   "metadata": {},
   "source": [
    "## Getting the Static Code Analysis"
   ]
  },
  {
   "cell_type": "markdown",
   "metadata": {},
   "source": [
    "The basic building blocks for the processed data is generated by static code analyzers.\n",
    "\n",
    "Before making any judgement regarding the usefulness of the matrics, I try to collect as many of them as possible. The efficiency will be check when later doing the simple statistics and machine learning. The conclusions can be found in the part On Static Code Analyzing."
   ]
  },
  {
   "cell_type": "markdown",
   "metadata": {},
   "source": [
    "Three open source software tools are employed for the static code analyzing. They are Lizard, RuboCop and Reek.\n",
    "\n",
    "**Lizard** (Kluth, et al. 2016) is an open source static code analyzer mostly does cyclomatic complexity counting. It supports a large amount of different programming languages including Ruby. It also has easy to use interfact to extend its analyzing features. As I am the main anthor and owner of the lizard project, new requirement can be added to lizard when needed without waiting.\n",
    "\n",
    "**RuboCop** (Batsov, 2012) is a Ruby static code analyzer. It reports a large veriaty of potentially code problems, but mostly focus on coding styles. It's hard to prevent a static code analyzer focusing on coding styles to be opinionated. RuboCop is so opinionated that it even has an `-a` option to automatically 'correct' some of the problems it discovers. My hope for RuboCop wasn't high when getting it involved. As mentioned above, I just wanted to get as much metrics as possible without judgement. But the result surprised me.\n",
    "\n",
    "**Reek** is a code smell detector for Ruby by Rößner (2008). Ruby is a dynamic typed programming language (Paulson 2007). It is not as easy to get the actually meaning behind the code by a static analyzer as a static typed language like Java. A side effect of this research is to evaluate the efficiency of Reek in discovering meaningful code smells."
   ]
  },
  {
   "cell_type": "markdown",
   "metadata": {},
   "source": [
    "### Distributed Computing\n",
    "\n",
    "There are twenty billion lines of code in the RubyGems database. After remove the less frequent gems, taking only one version per month and remove the unwanted months, there are still nearly a billion lines of code to be scanned by the static analyzers. It will take days to proceed one round of computing and an update to the static analyzing configuration might need to go through the process several time. In fact, as I'm doing the EDA, I had to run through the process tens of times to retrieve new data and fix bugs.\n",
    "\n",
    "A simple client/server style distributed computing system has been developed to accelerate the computing using Ruby on Rails."
   ]
  },
  {
   "cell_type": "markdown",
   "metadata": {},
   "source": [
    "## Simple Statistics"
   ]
  },
  {
   "cell_type": "markdown",
   "metadata": {},
   "source": [
    "Low hanging fruit."
   ]
  },
  {
   "cell_type": "markdown",
   "metadata": {},
   "source": [
    "### Machine Learning for static-static code analysis"
   ]
  },
  {
   "cell_type": "markdown",
   "metadata": {},
   "source": [
    "### Machine Learning for dynamic-static code analysis"
   ]
  },
  {
   "cell_type": "markdown",
   "metadata": {},
   "source": [
    "### Evaluating the current popular Ruby gems"
   ]
  },
  {
   "cell_type": "markdown",
   "metadata": {},
   "source": [
    "## Software Structure"
   ]
  },
  {
   "cell_type": "markdown",
   "metadata": {},
   "source": [
    "## On Static Code Analyzing"
   ]
  },
  {
   "cell_type": "markdown",
   "metadata": {},
   "source": [
    "## Idea about applying on version control system"
   ]
  },
  {
   "cell_type": "markdown",
   "metadata": {},
   "source": [
    "Frameworks that requires inheritance"
   ]
  },
  {
   "cell_type": "markdown",
   "metadata": {},
   "source": [
    "Alternative To Abandonware"
   ]
  },
  {
   "cell_type": "markdown",
   "metadata": {},
   "source": [
    "# Conclusions\n",
    "\n",
    "Automated testing"
   ]
  },
  {
   "cell_type": "markdown",
   "metadata": {},
   "source": [
    "## Lessons Learned"
   ]
  },
  {
   "cell_type": "markdown",
   "metadata": {},
   "source": [
    "## Recommendations / Prospects  for Future Research / Work"
   ]
  },
  {
   "cell_type": "markdown",
   "metadata": {
    "collapsed": true
   },
   "source": [
    "Testing rate"
   ]
  },
  {
   "cell_type": "markdown",
   "metadata": {},
   "source": [
    "share the json file"
   ]
  },
  {
   "cell_type": "code",
   "execution_count": null,
   "metadata": {
    "collapsed": true
   },
   "outputs": [],
   "source": []
  }
 ],
 "metadata": {
  "kernelspec": {
   "display_name": "Python 3",
   "language": "python",
   "name": "python3"
  },
  "language_info": {
   "codemirror_mode": {
    "name": "ipython",
    "version": 3
   },
   "file_extension": ".py",
   "mimetype": "text/x-python",
   "name": "python",
   "nbconvert_exporter": "python",
   "pygments_lexer": "ipython3",
   "version": "3.6.0"
  }
 },
 "nbformat": 4,
 "nbformat_minor": 2
}
