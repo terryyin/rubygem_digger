{
 "cells": [
  {
   "cell_type": "markdown",
   "metadata": {},
   "source": [
    "# Appendix"
   ]
  },
  {
   "cell_type": "code",
   "execution_count": 1,
   "metadata": {
    "collapsed": false
   },
   "outputs": [],
   "source": [
    "import json\n",
    "\n",
    "fn = 'RubygemDigger--Steps--GenerateJsonForLastVersions--1.data.json'\n",
    "with open(fn) as f: data = json.load(f)\n",
    "simple_analysis = data[\"simple_analysis\"]\n",
    "keys = simple_analysis.keys()\n",
    "d = data[\"data\"]\n",
    "\n"
   ]
  },
  {
   "cell_type": "code",
   "execution_count": 2,
   "metadata": {
    "collapsed": true
   },
   "outputs": [],
   "source": [
    "def error_rate(field):\n",
    "    return average_stddev_percent(field) - abs(improved_rate(field))\n",
    "\n",
    "def improved_rate(field):\n",
    "    return (field[\"abandoned\"][\"avg\"] - field[\"maintained\"][\"avg\"]) * 100 / field[\"maintained\"][\"avg\"]\n",
    "def stddev_percent(data):\n",
    "    return data[\"stddev\"] * 100 / data[\"avg\"]\n",
    "def average_stddev_percent(field):\n",
    "    return (stddev_percent(field[\"maintained\"]) + stddev_percent(field[\"abandoned\"])) / 2"
   ]
  },
  {
   "cell_type": "code",
   "execution_count": 3,
   "metadata": {
    "collapsed": false
   },
   "outputs": [
    {
     "name": "stdout",
     "output_type": "stream",
     "text": [
      "Metrics: style_\tImprovement:  24.8%\tError rate:  26.0%\n",
      "   maintained:\tavg: 48.401\tstddev: 26.349\tstddev percent:  54.4%\n",
      "   abandoned:\tavg: 60.395\tstddev: 28.462\tstddev percent:  47.1%\n",
      "   with_issues:\tavg: 56.487\tstddev: 30.394\tstddev percent:  53.8%\n",
      "Metrics: avg_ccn\tImprovement:   3.2%\tError rate:  29.2%\n",
      "   maintained:\tavg:  1.757\tstddev:  0.581\tstddev percent:  33.1%\n",
      "   abandoned:\tavg:  1.813\tstddev:  0.573\tstddev percent:  31.6%\n",
      "   with_issues:\tavg:  1.762\tstddev:  0.370\tstddev percent:  21.0%\n",
      "Metrics: lint_\tImprovement:  26.6%\tError rate:  32.5%\n",
      "   maintained:\tavg:  6.688\tstddev:  4.296\tstddev percent:  64.2%\n",
      "   abandoned:\tavg:  8.467\tstddev:  4.570\tstddev percent:  54.0%\n",
      "   with_issues:\tavg:  6.913\tstddev:  3.918\tstddev percent:  56.7%\n",
      "Metrics: metrics_\tImprovement:  20.1%\tError rate:  38.7%\n",
      "   maintained:\tavg:  6.766\tstddev:  4.183\tstddev percent:  61.8%\n",
      "   abandoned:\tavg:  8.123\tstddev:  4.529\tstddev percent:  55.8%\n",
      "   with_issues:\tavg:  7.851\tstddev:  5.327\tstddev percent:  67.8%\n",
      "Metrics: reek_total\tImprovement:   8.0%\tError rate:  47.3%\n",
      "   maintained:\tavg: 101.423\tstddev: 57.340\tstddev percent:  56.5%\n",
      "   abandoned:\tavg: 109.536\tstddev: 59.189\tstddev percent:  54.0%\n",
      "   with_issues:\tavg: 131.114\tstddev: 46.662\tstddev percent:  35.6%\n",
      "Metrics: TooManyStatements\tImprovement:  10.3%\tError rate:  57.8%\n",
      "   maintained:\tavg: 12.049\tstddev:  7.957\tstddev percent:  66.0%\n",
      "   abandoned:\tavg: 13.296\tstddev:  9.334\tstddev percent:  70.2%\n",
      "   with_issues:\tavg: 14.618\tstddev:  7.688\tstddev percent:  52.6%\n",
      "Metrics: warning_count\tImprovement:  10.8%\tError rate:  65.3%\n",
      "   maintained:\tavg:  4.686\tstddev:  3.456\tstddev percent:  73.8%\n",
      "   abandoned:\tavg:  5.190\tstddev:  4.069\tstddev percent:  78.4%\n",
      "   with_issues:\tavg:  5.537\tstddev:  3.433\tstddev percent:  62.0%\n",
      "Metrics: metrics_perceivedcomplexity\tImprovement:  26.3%\tError rate:  68.6%\n",
      "   maintained:\tavg:  0.770\tstddev:  0.765\tstddev percent:  99.3%\n",
      "   abandoned:\tavg:  0.973\tstddev:  0.881\tstddev percent:  90.5%\n",
      "   with_issues:\tavg:  1.106\tstddev:  0.884\tstddev percent:  79.9%\n",
      "Metrics: DuplicateMethodCall\tImprovement:  11.5%\tError rate:  68.7%\n",
      "   maintained:\tavg: 26.379\tstddev: 21.839\tstddev percent:  82.8%\n",
      "   abandoned:\tavg: 29.420\tstddev: 22.845\tstddev percent:  77.7%\n",
      "   with_issues:\tavg: 36.461\tstddev: 22.650\tstddev percent:  62.1%\n",
      "Metrics: metrics_cyclomaticcomplexity\tImprovement:  24.8%\tError rate:  68.7%\n",
      "   maintained:\tavg:  0.837\tstddev:  0.817\tstddev percent:  97.7%\n",
      "   abandoned:\tavg:  1.044\tstddev:  0.933\tstddev percent:  89.3%\n",
      "   with_issues:\tavg:  1.036\tstddev:  1.074\tstddev percent: 103.7%\n"
     ]
    }
   ],
   "source": [
    "def print_label(name, f):\n",
    "    print(\"   %s:\\tavg: %6.3f\\tstddev: %6.3f\\tstddev percent:%6.1f%%\" %(name, f[name][\"avg\"], f[name][\"stddev\"], stddev_percent(f[name])))\n",
    "    \n",
    "impacts = {k: error_rate(simple_analysis[k]) for k in keys}\n",
    "for key in (sorted(impacts.items(), key=lambda x: x[1]))[:10]:\n",
    "    k = key[0]\n",
    "    f = simple_analysis[k]\n",
    "    print(\"Metrics: %s\\tImprovement:%6.1f%%\\tError rate:%6.1f%%\" % (key[0],improved_rate(f), key[1]))\n",
    "    for name in ('maintained', 'abandoned', 'with_issues'):\n",
    "        print_label(name, f)\n",
    "\n"
   ]
  },
  {
   "cell_type": "code",
   "execution_count": null,
   "metadata": {
    "collapsed": true
   },
   "outputs": [],
   "source": []
  }
 ],
 "metadata": {
  "kernelspec": {
   "display_name": "Python 3",
   "language": "python",
   "name": "python3"
  },
  "language_info": {
   "codemirror_mode": {
    "name": "ipython",
    "version": 3
   },
   "file_extension": ".py",
   "mimetype": "text/x-python",
   "name": "python",
   "nbconvert_exporter": "python",
   "pygments_lexer": "ipython3",
   "version": "3.6.0"
  }
 },
 "nbformat": 4,
 "nbformat_minor": 2
}
