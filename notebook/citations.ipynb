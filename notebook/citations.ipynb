{
 "cells": [
  {
   "cell_type": "markdown",
   "metadata": {},
   "source": [
    "Ćilimković, M. (2017). Is Ruby dead? Hell no! - Analyzing RubyGems stats for 2016. [online] Infinum.co. Available at: https://infinum.co/the-capsized-eight/analyzing-rubygems-stats-v2016 [Accessed 11 Feb. 2017]."
   ]
  },
  {
   "cell_type": "code",
   "execution_count": null,
   "metadata": {
    "collapsed": true
   },
   "outputs": [],
   "source": []
  },
  {
   "cell_type": "markdown",
   "metadata": {},
   "source": [
    "Beller, M., Bholanath, R., McIntosh, S., & Zaidman, A. (2016, March). Analyzing the state of static analysis: A large-scale evaluation in open source software. In Software Analysis, Evolution, and Reengineering (SANER), 2016 IEEE 23rd International Conference on (Vol. 1, pp. 470-481). IEEE."
   ]
  },
  {
   "cell_type": "markdown",
   "metadata": {},
   "source": [
    "Why the lucky stiff. (2017, February). In Wikipedia, The Free Encyclopedia. Retrieved 13:38, February 13, 2017, from https://en.wikipedia.org/w/index.php?title=Why_the_lucky_stiff&oldid=763626986"
   ]
  },
  {
   "cell_type": "markdown",
   "metadata": {},
   "source": [
    "Wittern, E., Suter, P., & Rajagopalan, S. (2016, May). A look at the dynamics of the JavaScript package ecosystem. In Proceedings of the 13th International Conference on Mining Software Repositories (pp. 351-361). ACM."
   ]
  },
  {
   "cell_type": "markdown",
   "metadata": {},
   "source": [
    "Van Rossum, G. (2007, June). Python Programming Language. In USENIX Annual Technical Conference (Vol. 41, p. 36)."
   ]
  },
  {
   "cell_type": "markdown",
   "metadata": {},
   "source": [
    "Spolsky, J. (2005). The Best Software Writing I. [electronic book]. Berkeley, CA : Joel Spolsky, 2005."
   ]
  },
  {
   "cell_type": "markdown",
   "metadata": {},
   "source": [
    "Norman, D. A. (2005). Emotional design: Why we love (or hate) everyday things. Basic books."
   ]
  },
  {
   "cell_type": "markdown",
   "metadata": {},
   "source": [
    "Tufano, M., Palomba, F., Bavota, G., Oliveto, R., Di Penta, M., De Lucia, A., & Poshyvanyk, D. (2015, May). When and why your code starts to smell bad. In Proceedings of the 37th International Conference on Software Engineering-Volume 1 (pp. 403-414). IEEE Press."
   ]
  },
  {
   "cell_type": "markdown",
   "metadata": {},
   "source": [
    "Kluth, S., Seuster, R., Obreshkov, E., Martin-Haugh, S., Snyder, S., Stewart, G., & Roe, S. (2016). C++ Software Quality in the ATLAS Experiment: Tools and Experience (No. ATL-SOFT-SLIDE-2016-013). ATL-COM-SOFT-2016-004.\n",
    "\n",
    "Introduced lizard."
   ]
  },
  {
   "cell_type": "markdown",
   "metadata": {},
   "source": [
    "Riaz, M., Mendes, E., & Tempero, E. (2009, October). A systematic review of software maintainability prediction and metrics. In Proceedings of the 2009 3rd International Symposium on Empirical Software Engineering and Measurement (pp. 367-377). IEEE Computer Society.\n"
   ]
  },
  {
   "cell_type": "markdown",
   "metadata": {},
   "source": [
    "IEEE. (1990). Standard Glossary of Software Engineering Terminology. IEEE Software Engineering Standards & Collection. IEEE, 610-12.\n"
   ]
  },
  {
   "cell_type": "markdown",
   "metadata": {},
   "source": [
    "Khong, D. W. (2007). Orphan Works, Abandonware and the Missing Market for Copyrighted Goods. International Journal of Law and Information Technology, 15(1), 54-89."
   ]
  },
  {
   "cell_type": "markdown",
   "metadata": {},
   "source": [
    "Anelli, G., Antchev, G., Aspell, P., Avati, V., Bagliesi, M. G., Berardi, V., ... & Brücken, E. (2008). The totem experiment at the cern large hadron collider. Journal of Instrumentation, 3(08), S08007."
   ]
  },
  {
   "cell_type": "markdown",
   "metadata": {},
   "source": [
    "Fowler, M., & Beck, K. (1999). Refactoring: improving the design of existing code. Addison-Wesley Professional."
   ]
  },
  {
   "cell_type": "markdown",
   "metadata": {},
   "source": [
    "Lozano Rodriguez, A. (2009). Assessing the effect of source code characteristics on changeability (Doctoral dissertation, The Open University)."
   ]
  },
  {
   "cell_type": "markdown",
   "metadata": {},
   "source": [
    "Palomba, F., Bavota, G., Di Penta, M., Oliveto, R., Poshyvanyk, D., & De Lucia, A. (2015). Mining version histories for detecting code smells. IEEE Transactions on Software Engineering, 41(5), 462-489."
   ]
  },
  {
   "cell_type": "markdown",
   "metadata": {},
   "source": [
    "Palomba, F., Bavota, G., Di Penta, M., Oliveto, R., De Lucia, A., & Poshyvanyk, D. (2013, November). Detecting bad smells in source code using change history information. In Automated software engineering (ASE), 2013 IEEE/ACM 28th international conference on (pp. 268-278). IEEE."
   ]
  },
  {
   "cell_type": "markdown",
   "metadata": {},
   "source": [
    "Hassan, A. E. (2008, September). The road ahead for mining software repositories. In Frontiers of Software Maintenance, 2008. FoSM 2008. (pp. 48-57). IEEE."
   ]
  },
  {
   "cell_type": "markdown",
   "metadata": {},
   "source": [
    "Hassan, A. E. (2006, September). Mining software repositories to assist developers and support managers. In Software Maintenance, 2006. ICSM'06. 22nd IEEE International Conference on (pp. 339-342). IEEE."
   ]
  },
  {
   "cell_type": "markdown",
   "metadata": {},
   "source": [
    "Zimmermann, T., Zeller, A., Weissgerber, P., & Diehl, S. (2005). Mining version histories to guide software changes. IEEE Transactions on Software Engineering, 31(6), 429-445."
   ]
  },
  {
   "cell_type": "markdown",
   "metadata": {},
   "source": [
    "Ying, A. T., Murphy, G. C., Ng, R., & Chu-Carroll, M. C. (2004). Predicting source code changes by mining change history. IEEE transactions on Software Engineering, 30(9), 574-586."
   ]
  },
  {
   "cell_type": "markdown",
   "metadata": {},
   "source": [
    "Breiman, L. (1996). Bagging predictors. Machine learning, 24(2), 123-140.\n"
   ]
  },
  {
   "cell_type": "markdown",
   "metadata": {},
   "source": [
    "Kohavi, R. (1995, August). A study of cross-validation and bootstrap for accuracy estimation and model selection. In Ijcai (Vol. 14, No. 2, pp. 1137-1145)."
   ]
  },
  {
   "cell_type": "markdown",
   "metadata": {},
   "source": [
    "Elish, M. O., Aljamaan, H., & Ahmad, I. (2015). Three empirical studies on predicting software maintainability using ensemble methods. Soft Computing, 19(9), 2511-2524."
   ]
  },
  {
   "cell_type": "markdown",
   "metadata": {},
   "source": [
    "Nguyen, N., & Guo, Y. (2007, June). Comparisons of sequence labeling algorithms and extensions. In Proceedings of the 24th international conference on Machine learning (pp. 681-688). ACM."
   ]
  },
  {
   "cell_type": "markdown",
   "metadata": {},
   "source": [
    "Martin, R. C. (2009). Clean code: a handbook of agile software craftsmanship. Pearson Education."
   ]
  },
  {
   "cell_type": "markdown",
   "metadata": {},
   "source": [
    "Paulson, L. D. (2007). Developers shift to dynamic programming languages. Computer, 40(2)."
   ]
  },
  {
   "cell_type": "markdown",
   "metadata": {},
   "source": [
    "Rößner, T. (2008). Reek: Code smell detector for Ruby. [online] GitHub. Available at: https://github.com/troessner/reek [Accessed 12 Feb. 2017]."
   ]
  },
  {
   "cell_type": "markdown",
   "metadata": {},
   "source": [
    "Batsov, B. (2012). RuboCop | A Ruby static code analyzer. [online] Batsov.com. Available at: http://batsov.com/rubocop/ [Accessed 12 Feb. 2017]."
   ]
  },
  {
   "cell_type": "markdown",
   "metadata": {},
   "source": [
    "Berube, D. (2007). What Is RubyGems?. In , Practical Ruby Gems (p. 3). doi:10.1007/978-1-4302-0193-9_1"
   ]
  },
  {
   "cell_type": "markdown",
   "metadata": {},
   "source": [
    "Kluyver, T., Ragan-Kelley, B., Pérez, F., Granger, B., Bussonnier, M., Frederic, J., ... & Ivanov, P. (2016). Jupyter Notebooks—a publishing format for reproducible computational workflows. Positioning and Power in Academic Publishing: Players, Agents and Agendas, 87."
   ]
  },
  {
   "cell_type": "markdown",
   "metadata": {},
   "source": [
    "Bächle, M., & Kirchberg, P. (2007). Ruby on rails. IEEE software, 24(6)."
   ]
  },
  {
   "cell_type": "markdown",
   "metadata": {},
   "source": [
    "Hayes, B. (2014). Doing Data Science."
   ]
  },
  {
   "cell_type": "markdown",
   "metadata": {},
   "source": [
    "Rosen, L. (2005). Open source licensing (Vol. 692). Prentice Hall."
   ]
  },
  {
   "cell_type": "markdown",
   "metadata": {},
   "source": [
    "Moser, R., Pedrycz, W., & Succi, G. (2008, May). A comparative analysis of the efficiency of change metrics and static code attributes for defect prediction. In Proceedings of the 30th international conference on Software engineering (pp. 181-190). ACM."
   ]
  },
  {
   "cell_type": "markdown",
   "metadata": {},
   "source": [
    "Pedregosa, F., Varoquaux, G., Gramfort, A., Michel, V., Thirion, B., Grisel, O., ... & Vanderplas, J. (2011). Scikit-learn: Machine learning in Python. Journal of Machine Learning Research, 12(Oct), 2825-2830."
   ]
  },
  {
   "cell_type": "markdown",
   "metadata": {},
   "source": [
    "Mandelbrot, B. B. (1967). How long is the coast of Britain. Science, 156(3775), 636-638."
   ]
  },
  {
   "cell_type": "markdown",
   "metadata": {},
   "source": [
    "Lohn, K. (2016). K Lars Lohn - Keynote - PyCon 2016. [online] YouTube. Available at: https://www.youtube.com/watch?v=bSfe5M_zG2s&t=1015s [Accessed 11 Feb. 2016]."
   ]
  },
  {
   "cell_type": "markdown",
   "metadata": {},
   "source": [
    "Rapu, D., Ducasse, S., Gîrba, T., & Marinescu, R. (2004, March). Using history information to improve design flaws detection. In Software Maintenance and Reengineering, 2004. CSMR 2004. Proceedings. Eighth European Conference on (pp. 223-232). IEEE."
   ]
  }
 ],
 "metadata": {
  "kernelspec": {
   "display_name": "Python 3",
   "language": "python",
   "name": "python3"
  },
  "language_info": {
   "codemirror_mode": {
    "name": "ipython",
    "version": 3
   },
   "file_extension": ".py",
   "mimetype": "text/x-python",
   "name": "python",
   "nbconvert_exporter": "python",
   "pygments_lexer": "ipython3",
   "version": "3.6.0"
  }
 },
 "nbformat": 4,
 "nbformat_minor": 2
}
