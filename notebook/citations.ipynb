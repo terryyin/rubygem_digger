{
 "cells": [
  {
   "cell_type": "markdown",
   "metadata": {},
   "source": [
    "Ćilimković, M. (2017). Is Ruby dead? Hell no! - Analyzing RubyGems stats for 2016. [online] Infinum.co. Available at: https://infinum.co/the-capsized-eight/analyzing-rubygems-stats-v2016 [Accessed 11 Feb. 2017]."
   ]
  },
  {
   "cell_type": "code",
   "execution_count": null,
   "metadata": {
    "collapsed": true
   },
   "outputs": [],
   "source": []
  },
  {
   "cell_type": "markdown",
   "metadata": {},
   "source": [
    "Beller, M., Bholanath, R., McIntosh, S., & Zaidman, A. (2016, March). Analyzing the state of static analysis: A large-scale evaluation in open source software. In Software Analysis, Evolution, and Reengineering (SANER), 2016 IEEE 23rd International Conference on (Vol. 1, pp. 470-481). IEEE."
   ]
  },
  {
   "cell_type": "markdown",
   "metadata": {},
   "source": [
    "Tufano, M., Palomba, F., Bavota, G., Oliveto, R., Di Penta, M., De Lucia, A., & Poshyvanyk, D. (2015, May). When and why your code starts to smell bad. In Proceedings of the 37th International Conference on Software Engineering-Volume 1 (pp. 403-414). IEEE Press."
   ]
  },
  {
   "cell_type": "markdown",
   "metadata": {},
   "source": [
    "Kluth, S., Seuster, R., Obreshkov, E., Martin-Haugh, S., Snyder, S., Stewart, G., & Roe, S. (2016). C++ Software Quality in the ATLAS Experiment: Tools and Experience (No. ATL-SOFT-SLIDE-2016-013). ATL-COM-SOFT-2016-004.\n",
    "\n",
    "Introduced lizard."
   ]
  },
  {
   "cell_type": "markdown",
   "metadata": {},
   "source": [
    "Riaz, M., Mendes, E., & Tempero, E. (2009, October). A systematic review of software maintainability prediction and metrics. In Proceedings of the 2009 3rd International Symposium on Empirical Software Engineering and Measurement (pp. 367-377). IEEE Computer Society.\n"
   ]
  },
  {
   "cell_type": "markdown",
   "metadata": {},
   "source": [
    "IEEE. (1990). Standard Glossary of Software Engineering Terminology. IEEE Software Engineering Standards & Collection. IEEE, 610-12.\n"
   ]
  },
  {
   "cell_type": "markdown",
   "metadata": {},
   "source": [
    "Khong, D. W. (2007). Orphan Works, Abandonware and the Missing Market for Copyrighted Goods. International Journal of Law and Information Technology, 15(1), 54-89."
   ]
  },
  {
   "cell_type": "markdown",
   "metadata": {},
   "source": [
    "Anelli, G., Antchev, G., Aspell, P., Avati, V., Bagliesi, M. G., Berardi, V., ... & Brücken, E. (2008). The totem experiment at the cern large hadron collider. Journal of Instrumentation, 3(08), S08007."
   ]
  },
  {
   "cell_type": "markdown",
   "metadata": {},
   "source": [
    "Fowler, M., & Beck, K. (1999). Refactoring: improving the design of existing code. Addison-Wesley Professional."
   ]
  },
  {
   "cell_type": "markdown",
   "metadata": {},
   "source": [
    "Lozano Rodriguez, A. (2009). Assessing the effect of source code characteristics on changeability (Doctoral dissertation, The Open University)."
   ]
  },
  {
   "cell_type": "markdown",
   "metadata": {},
   "source": [
    "Palomba, F., Bavota, G., Di Penta, M., Oliveto, R., De Lucia, A., & Poshyvanyk, D. (2013, November). Detecting bad smells in source code using change history information. In Automated software engineering (ASE), 2013 IEEE/ACM 28th international conference on (pp. 268-278). IEEE."
   ]
  },
  {
   "cell_type": "code",
   "execution_count": null,
   "metadata": {
    "collapsed": true
   },
   "outputs": [],
   "source": [
    "Paulson, L. D. (2007). Developers shift to dynamic programming languages. Computer, 40(2)."
   ]
  },
  {
   "cell_type": "markdown",
   "metadata": {},
   "source": [
    "Rößner, T. (2008). Reek: Code smell detector for Ruby. [online] GitHub. Available at: https://github.com/troessner/reek [Accessed 12 Feb. 2017]."
   ]
  },
  {
   "cell_type": "markdown",
   "metadata": {},
   "source": [
    "Batsov, B. (2012). RuboCop | A Ruby static code analyzer. [online] Batsov.com. Available at: http://batsov.com/rubocop/ [Accessed 12 Feb. 2017]."
   ]
  },
  {
   "cell_type": "markdown",
   "metadata": {},
   "source": [
    "Berube, D. (2007). What Is RubyGems?. In , Practical Ruby Gems (p. 3). doi:10.1007/978-1-4302-0193-9_1"
   ]
  },
  {
   "cell_type": "markdown",
   "metadata": {},
   "source": [
    "Kluyver, T., Ragan-Kelley, B., Pérez, F., Granger, B., Bussonnier, M., Frederic, J., ... & Ivanov, P. (2016). Jupyter Notebooks—a publishing format for reproducible computational workflows. Positioning and Power in Academic Publishing: Players, Agents and Agendas, 87."
   ]
  },
  {
   "cell_type": "markdown",
   "metadata": {},
   "source": [
    "Bächle, M., & Kirchberg, P. (2007). Ruby on rails. IEEE software, 24(6)."
   ]
  },
  {
   "cell_type": "markdown",
   "metadata": {},
   "source": [
    "Hayes, B. (2014). Doing Data Science."
   ]
  },
  {
   "cell_type": "markdown",
   "metadata": {},
   "source": [
    "Rosen, L. (2005). Open source licensing (Vol. 692). Prentice Hall."
   ]
  },
  {
   "cell_type": "markdown",
   "metadata": {},
   "source": [
    "Moser, R., Pedrycz, W., & Succi, G. (2008, May). A comparative analysis of the efficiency of change metrics and static code attributes for defect prediction. In Proceedings of the 30th international conference on Software engineering (pp. 181-190). ACM."
   ]
  },
  {
   "cell_type": "markdown",
   "metadata": {},
   "source": [
    "Pedregosa, F., Varoquaux, G., Gramfort, A., Michel, V., Thirion, B., Grisel, O., ... & Vanderplas, J. (2011). Scikit-learn: Machine learning in Python. Journal of Machine Learning Research, 12(Oct), 2825-2830."
   ]
  },
  {
   "cell_type": "markdown",
   "metadata": {},
   "source": [
    "Mandelbrot, B. B. (1967). How long is the coast of Britain. Science, 156(3775), 636-638."
   ]
  },
  {
   "cell_type": "markdown",
   "metadata": {},
   "source": [
    "Lohn, K. (2016). K Lars Lohn - Keynote - PyCon 2016. [online] YouTube. Available at: https://www.youtube.com/watch?v=bSfe5M_zG2s&t=1015s [Accessed 11 Feb. 2016]."
   ]
  },
  {
   "cell_type": "markdown",
   "metadata": {},
   "source": [
    "Rapu, D., Ducasse, S., Gîrba, T., & Marinescu, R. (2004, March). Using history information to improve design flaws detection. In Software Maintenance and Reengineering, 2004. CSMR 2004. Proceedings. Eighth European Conference on (pp. 223-232). IEEE."
   ]
  }
 ],
 "metadata": {
  "kernelspec": {
   "display_name": "Python 3",
   "language": "python",
   "name": "python3"
  },
  "language_info": {
   "codemirror_mode": {
    "name": "ipython",
    "version": 3
   },
   "file_extension": ".py",
   "mimetype": "text/x-python",
   "name": "python",
   "nbconvert_exporter": "python",
   "pygments_lexer": "ipython3",
   "version": "3.6.0"
  }
 },
 "nbformat": 4,
 "nbformat_minor": 2
}
