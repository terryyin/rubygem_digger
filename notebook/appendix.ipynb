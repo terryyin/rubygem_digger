{
 "cells": [
  {
   "cell_type": "code",
   "execution_count": 67,
   "metadata": {
    "collapsed": false
   },
   "outputs": [],
   "source": [
    "#%writefile learner1.py\n",
    "import numpy as np\n",
    "import pandas as pd\n",
    "import json\n",
    "import matplotlib.pyplot as plt\n",
    "from sklearn.linear_model import LogisticRegression\n",
    "from sklearn.neighbors import KNeighborsClassifier\n",
    "\n",
    "from sklearn.preprocessing import binarize\n",
    "from sklearn.cross_validation import train_test_split, cross_val_score\n",
    "from sklearn import metrics\n",
    "from sklearn.feature_selection import SelectKBest\n",
    "from sklearn.feature_selection import chi2,f_classif, mutual_info_classif, f_regression, SelectPercentile\n",
    "\n",
    "class RubygemLearner(object):\n",
    "    def __init__(self, fn):\n",
    "        with open(fn) as f:\n",
    "            data = json.load(f)\n",
    "        self.data = data[\"data\"]\n",
    "        self.spec = data[\"spec\"]\n",
    "        self.df = pd.io.json.json_normalize(self.data)\n",
    "        self.features = self.exclude_unwanted_features()\n",
    "        self._rename_columns()\n",
    "        self.df = self.df[self.df[\"avg_nloc\"]<20]\n",
    "            \n",
    "    def exclude_unwanted_features(self):\n",
    "        exclude = []#'nloc',] #+ reek_columns + lizard_columns #+ reek_columns\n",
    "        return [k for k, v in self.data[0]['stat'].items() if k not in exclude]\n",
    "        \n",
    "    def remove_too_small_changes(self):\n",
    "        try:\n",
    "            df = df.groupby('name').filter(lambda x: x['delta_nloc'].sum() >2000)\n",
    "        except:\n",
    "            pass\n",
    "    \n",
    "    def summary(self):\n",
    "        print(self.spec)\n",
    "        print('nb_records:', len(self.df))\n",
    "        print(\"abandoned:\", (self.df['label'] != 'maintained').sum())\n",
    "        \n",
    "    def feature_evaluation(self):\n",
    "        X = self.df[self.features]\n",
    "        y = (self.df.label == 'maintained').values.astype(int)\n",
    "        X_new = SelectKBest(f_classif, k=10).fit(X, y)\n",
    "        feature_list = np.array([X_new.scores_.astype(float), self.features]).T\n",
    "        feature_list=[[float(x[0]), x[1]] for x in feature_list]\n",
    "        return sorted(feature_list, key=lambda a_entry: a_entry[0], reverse=True )\n",
    "        \n",
    "    def _rename_columns(self):\n",
    "        old_new_cols = {}\n",
    "        for name in self.df.columns:\n",
    "            if name.startswith('stat'):\n",
    "                old_new_cols[name] = name.split('.')[1]\n",
    "        self.df.rename(columns=old_new_cols, inplace=True)\n",
    "        \n",
    "    def my_train_test_split(self, test_size=0.3):\n",
    "        Xgems = self.df[[\"name\"]].drop_duplicates()\n",
    "        X_train_gems, X_test_gems = train_test_split(Xgems, test_size=test_size)\n",
    "        X_train = self.df[self.df['name'].isin(X_train_gems['name'])]\n",
    "        y_train = (X_train.label == 'maintained').values.astype(int)\n",
    "        X_train = X_train[self.features]\n",
    "        dftest = self.df[self.df['name'].isin(X_test_gems['name'])]\n",
    "\n",
    "        return X_train, y_train, dftest"
   ]
  },
  {
   "cell_type": "code",
   "execution_count": 70,
   "metadata": {
    "collapsed": false
   },
   "outputs": [],
   "source": [
    "fn = 'RubygemDigger--Steps--GenerateJsonForLastVersions--1.data.json'\n",
    "#fn = 'RubygemDigger--Steps--GenerateJsonForAllVersions--1.data.json.all.json'\n",
    "\n",
    "learner = RubygemLearner(fn)"
   ]
  },
  {
   "cell_type": "code",
   "execution_count": 73,
   "metadata": {
    "collapsed": false
   },
   "outputs": [
    {
     "data": {
      "text/plain": [
       "[[46.16000204454106, 'style_'],\n",
       " [38.03630385465227, 'lint_'],\n",
       " [22.82784427240693, 'metrics_'],\n",
       " [15.09687869019009, 'lint_duplicate'],\n",
       " [14.954064018153039, 'metrics_perceivedcomplexity'],\n",
       " [13.580174991072534, 'metrics_cyclomaticcomplexity'],\n",
       " [12.864751105747185, 'ClassVariable'],\n",
       " [10.985229061642315, 'performance_'],\n",
       " [10.763269893506074, 'metrics_classlength'],\n",
       " [9.062464297122212, 'metrics_abcsize'],\n",
       " [8.700433362849248, 'InstanceVariableAssumption'],\n",
       " [8.68876107343239, 'metrics_methodlength'],\n",
       " [6.229381722984, 'metrics_linelength'],\n",
       " [5.106207790958623, 'TooManyStatements'],\n",
       " [4.9592937039708005, 'metrics_blocklength'],\n",
       " [4.83327620552429, 'warning_count'],\n",
       " [4.762727855322185, 'reek_total'],\n",
       " [4.429191897632879, 'security_'],\n",
       " [4.233816937769375, 'fun_count'],\n",
       " [4.1352090269238015, 'TooManyInstanceVariables']]"
      ]
     },
     "execution_count": 73,
     "metadata": {},
     "output_type": "execute_result"
    }
   ],
   "source": [
    "learner.feature_evaluation() [:20]"
   ]
  },
  {
   "cell_type": "code",
   "execution_count": null,
   "metadata": {
    "collapsed": true
   },
   "outputs": [],
   "source": []
  }
 ],
 "metadata": {
  "kernelspec": {
   "display_name": "Python 3",
   "language": "python",
   "name": "python3"
  },
  "language_info": {
   "codemirror_mode": {
    "name": "ipython",
    "version": 3
   },
   "file_extension": ".py",
   "mimetype": "text/x-python",
   "name": "python",
   "nbconvert_exporter": "python",
   "pygments_lexer": "ipython3",
   "version": "3.6.0"
  }
 },
 "nbformat": 4,
 "nbformat_minor": 2
}
