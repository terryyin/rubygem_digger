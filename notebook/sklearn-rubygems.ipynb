{
 "cells": [
  {
   "cell_type": "code",
   "execution_count": 1,
   "metadata": {
    "collapsed": true
   },
   "outputs": [],
   "source": [
    "import numpy as np\n",
    "import pandas as pd\n",
    "import matplotlib.pyplot as plt\n",
    "import seaborn as sea\n",
    "%matplotlib inline"
   ]
  },
  {
   "cell_type": "code",
   "execution_count": 2,
   "metadata": {
    "collapsed": false
   },
   "outputs": [
    {
     "name": "stderr",
     "output_type": "stream",
     "text": [
      "/Users/terry/anaconda3/lib/python3.6/site-packages/sklearn/cross_validation.py:44: DeprecationWarning: This module was deprecated in version 0.18 in favor of the model_selection module into which all the refactored classes and functions are moved. Also note that the interface of the new CV iterators are different from that of this module. This module will be removed in 0.20.\n",
      "  \"This module will be removed in 0.20.\", DeprecationWarning)\n"
     ]
    }
   ],
   "source": [
    "from sklearn.linear_model import LogisticRegression\n",
    "from sklearn.neighbors import KNeighborsClassifier\n",
    "\n",
    "from sklearn.preprocessing import binarize\n",
    "from sklearn.cross_validation import train_test_split, cross_val_score\n",
    "from sklearn import metrics"
   ]
  },
  {
   "cell_type": "code",
   "execution_count": 3,
   "metadata": {
    "collapsed": false
   },
   "outputs": [
    {
     "name": "stdout",
     "output_type": "stream",
     "text": [
      "{'version': 8, 'description': 'balanced', 'min_number_of_gems': 12, 'min_months': 15, 'min_nloc': 3000, 'min_months_good': 30, 'history_months': 10, 'stopped_time_point': '2015-01-01 00:00:00 UTC', 'ignored_months_for_good': 15}\n",
      "{'name': 'actionwebservice', 'version': '1.0.0', 'age': 9, 'stat': {'nloc': 5336, 'avg_ccn': 1.7, 'avg_nloc': 7.0, 'avg_token': 37.3, 'fun_count': 588, 'warning_count': 6.371814092953524, 'fun_rate': 0.06, 'nloc_rate': 0.24, 'style_': 57.72113943028486, 'lint_': 12.556221889055472, 'lint_duplicate': 0.1874062968515742, 'metrics_abcsize': 1.4992503748125936, 'metrics_blocklength': 1.1244377811094453, 'metrics_blocknesting': 0.0, 'metrics_classlength': 0.5622188905547226, 'metrics_cyclomaticcomplexity': 0.1874062968515742, 'metrics_linelength': 1.4992503748125936, 'metrics_methodlength': 0.7496251874062968, 'metrics_modulelength': 1.1244377811094453, 'metrics_parameterlists': 0.7496251874062968, 'metrics_perceivedcomplexity': 1.1244377811094453, 'total': 0.7496251874062968, 'DuplicateMethodCall': 35.044977511244376, 'FeatureEnvy': 7.683658170914542, 'IrresponsibleModule': 20.42728635682159, 'NilCheck': 8.433283358320839, 'TooManyConstants': 0.0, 'TooManyMethods': 0.3748125937031484, 'UncommunicativeVariableName': 11.994002998500749, 'TooManyStatements': 16.866566716641678, 'UnusedParameters': 16.304347826086957, 'InstanceVariableAssumption': 8.245877061469265, 'TooManyInstanceVariables': 2.4362818590704647, 'UtilityFunction': 11.619190404797601, 'PrimaDonnaMethod': 0.0, 'NestedIterators': 2.623688155922039, 'DataClump': 1.3118440779610194, 'UncommunicativeMethodName': 4.310344827586207, 'LongParameterList': 5.059970014992504, 'UncommunicativeParameterName': 1.686656671664168, 'ControlParameter': 1.686656671664168, 'ManualDispatch': 2.0614692653673163, 'RepeatedConditional': 0.5622188905547226, 'Attribute': 4.497751124437781, 'BooleanParameter': 0.1874062968515742, 'SubclassedFromCoreClass': 0.1874062968515742, 'UncommunicativeModuleName': 0.1874062968515742, 'ModuleInitialize': 0.0, 'ClassVariable': 0.0, 'LongYieldList': 0.0, 'delta_nloc': 265, 'delta_avg_ccn': 0.0, 'delta_avg_nloc': -0.09999999999999964, 'delta_avg_token': -0.09999999999999432, 'delta_fun_count': 37, 'delta_warning_count': -0.12292996511920862, 'delta_fun_rate': 0.0, 'delta_nloc_rate': 0.0, 'delta_style_': 4.410622755039192, 'delta_lint_': -1.3082304589537035, 'delta_lint_duplicate': -0.008866750342022334, 'delta_metrics_abcsize': 0.10760554377337317, 'delta_metrics_blocklength': -0.5888191415807896, 'delta_metrics_blocknesting': 0.0, 'delta_metrics_classlength': 0.3304788419930367, 'delta_metrics_cyclomaticcomplexity': 0.34821234267708145, 'delta_metrics_linelength': -0.07093400273617867, 'delta_metrics_methodlength': 0.1430725451414625, 'delta_metrics_modulelength': -0.053200502052134, 'delta_metrics_parameterlists': -0.035467001368089335, 'delta_metrics_perceivedcomplexity': 0.12533904445741784, 'delta_total': -0.035467001368089335, 'delta_DuplicateMethodCall': 1.7341690697233076, 'delta_FeatureEnvy': -0.18499721751336384, 'delta_IrresponsibleModule': -0.6093966942613314, 'delta_NilCheck': -0.041924672371902005, 'delta_TooManyConstants': 0.0, 'delta_TooManyMethods': -0.017733500684044667, 'delta_UncommunicativeVariableName': -0.3889324753798782, 'delta_TooManyStatements': 0.09469020176575071, 'delta_UnusedParameters': -0.41432818673684046, 'delta_InstanceVariableAssumption': -0.39013701504898357, 'delta_TooManyInstanceVariables': -0.11526775444629056, 'delta_UtilityFunction': 1.0571173973805816, 'delta_PrimaDonnaMethod': 0.0, 'delta_NestedIterators': 0.41148413474034307, 'delta_DataClump': -0.062067252394156336, 'delta_UncommunicativeMethodName': -0.02539571135696228, 'delta_LongParameterList': -0.060862712725051615, 'delta_UncommunicativeParameterName': -0.07980075307820123, 'delta_ControlParameter': 0.09873879343135061, 'delta_ManualDispatch': -0.09753425376224589, 'delta_RepeatedConditional': 0.15193929548348484, 'delta_Attribute': -0.212802008208536, 'delta_BooleanParameter': 0.16967279616752953, 'delta_SubclassedFromCoreClass': -0.008866750342022334, 'delta_UncommunicativeModuleName': -0.008866750342022334, 'delta_ModuleInitialize': 0.0, 'delta_ClassVariable': 0.0, 'delta_LongYieldList': 0.0}, 'label': 'good'}\n",
      "nb_records: 3160\n"
     ]
    }
   ],
   "source": [
    "import json\n",
    "\n",
    "fn = 'RubygemDigger--Steps--GenerateJsonForLastVersions--3.data.json'\n",
    "fn = 'RubygemDigger--Steps--GenerateJsonForLastVersions--6.data.json'\n",
    "fn = 'RubygemDigger--Steps--GenerateJsonForLastVersions--7.data.json'\n",
    "fn = 'RubygemDigger--Steps--GenerateJsonForLastVersions--8.data.json'\n",
    "fn = 'RubygemDigger--Steps--GenerateJsonForAllVersions--8.data.json.all.json'\n",
    "with open(fn) as f:\n",
    "    data = json.load(f)\n",
    "    d = data[\"data\"]\n",
    "    spec = data[\"spec\"]\n",
    "\n",
    "print(spec)\n",
    "print(d[0])\n",
    "\n",
    "n_obs = len(d)\n",
    "print('nb_records:', n_obs)"
   ]
  },
  {
   "cell_type": "code",
   "execution_count": 4,
   "metadata": {
    "collapsed": false
   },
   "outputs": [
    {
     "data": {
      "text/html": [
       "<div>\n",
       "<table border=\"1\" class=\"dataframe\">\n",
       "  <thead>\n",
       "    <tr style=\"text-align: right;\">\n",
       "      <th></th>\n",
       "      <th>age</th>\n",
       "      <th>label</th>\n",
       "      <th>name</th>\n",
       "      <th>Attribute</th>\n",
       "      <th>BooleanParameter</th>\n",
       "      <th>ClassVariable</th>\n",
       "      <th>ControlParameter</th>\n",
       "      <th>DataClump</th>\n",
       "      <th>DuplicateMethodCall</th>\n",
       "      <th>FeatureEnvy</th>\n",
       "      <th>...</th>\n",
       "      <th>metrics_methodlength</th>\n",
       "      <th>metrics_modulelength</th>\n",
       "      <th>metrics_parameterlists</th>\n",
       "      <th>metrics_perceivedcomplexity</th>\n",
       "      <th>nloc</th>\n",
       "      <th>nloc_rate</th>\n",
       "      <th>style_</th>\n",
       "      <th>total</th>\n",
       "      <th>warning_count</th>\n",
       "      <th>version</th>\n",
       "    </tr>\n",
       "  </thead>\n",
       "  <tbody>\n",
       "    <tr>\n",
       "      <th>0</th>\n",
       "      <td>9</td>\n",
       "      <td>good</td>\n",
       "      <td>actionwebservice</td>\n",
       "      <td>4.497751</td>\n",
       "      <td>0.187406</td>\n",
       "      <td>0.0</td>\n",
       "      <td>1.686657</td>\n",
       "      <td>1.311844</td>\n",
       "      <td>35.044978</td>\n",
       "      <td>7.683658</td>\n",
       "      <td>...</td>\n",
       "      <td>0.749625</td>\n",
       "      <td>1.124438</td>\n",
       "      <td>0.749625</td>\n",
       "      <td>1.124438</td>\n",
       "      <td>5336</td>\n",
       "      <td>0.24</td>\n",
       "      <td>57.721139</td>\n",
       "      <td>0.749625</td>\n",
       "      <td>6.371814</td>\n",
       "      <td>1.0.0</td>\n",
       "    </tr>\n",
       "    <tr>\n",
       "      <th>1</th>\n",
       "      <td>8</td>\n",
       "      <td>good</td>\n",
       "      <td>actionwebservice</td>\n",
       "      <td>4.313444</td>\n",
       "      <td>0.359454</td>\n",
       "      <td>0.0</td>\n",
       "      <td>1.797268</td>\n",
       "      <td>1.258088</td>\n",
       "      <td>37.203451</td>\n",
       "      <td>7.548526</td>\n",
       "      <td>...</td>\n",
       "      <td>0.898634</td>\n",
       "      <td>1.078361</td>\n",
       "      <td>0.718907</td>\n",
       "      <td>1.258088</td>\n",
       "      <td>5564</td>\n",
       "      <td>0.24</td>\n",
       "      <td>56.254493</td>\n",
       "      <td>1.437815</td>\n",
       "      <td>6.290439</td>\n",
       "      <td>1.1.0</td>\n",
       "    </tr>\n",
       "    <tr>\n",
       "      <th>2</th>\n",
       "      <td>7</td>\n",
       "      <td>good</td>\n",
       "      <td>actionwebservice</td>\n",
       "      <td>4.299534</td>\n",
       "      <td>0.358295</td>\n",
       "      <td>0.0</td>\n",
       "      <td>1.791473</td>\n",
       "      <td>1.254031</td>\n",
       "      <td>37.620924</td>\n",
       "      <td>7.524185</td>\n",
       "      <td>...</td>\n",
       "      <td>0.895736</td>\n",
       "      <td>1.074884</td>\n",
       "      <td>0.716589</td>\n",
       "      <td>1.254031</td>\n",
       "      <td>5582</td>\n",
       "      <td>0.24</td>\n",
       "      <td>59.118595</td>\n",
       "      <td>0.179147</td>\n",
       "      <td>6.270154</td>\n",
       "      <td>1.1.2</td>\n",
       "    </tr>\n",
       "    <tr>\n",
       "      <th>3</th>\n",
       "      <td>6</td>\n",
       "      <td>good</td>\n",
       "      <td>actionwebservice</td>\n",
       "      <td>4.299534</td>\n",
       "      <td>0.358295</td>\n",
       "      <td>0.0</td>\n",
       "      <td>1.791473</td>\n",
       "      <td>1.254031</td>\n",
       "      <td>37.620924</td>\n",
       "      <td>7.524185</td>\n",
       "      <td>...</td>\n",
       "      <td>0.895736</td>\n",
       "      <td>1.074884</td>\n",
       "      <td>0.716589</td>\n",
       "      <td>1.254031</td>\n",
       "      <td>5582</td>\n",
       "      <td>0.24</td>\n",
       "      <td>59.118595</td>\n",
       "      <td>0.179147</td>\n",
       "      <td>6.270154</td>\n",
       "      <td>1.1.4</td>\n",
       "    </tr>\n",
       "    <tr>\n",
       "      <th>4</th>\n",
       "      <td>5</td>\n",
       "      <td>good</td>\n",
       "      <td>actionwebservice</td>\n",
       "      <td>4.299534</td>\n",
       "      <td>0.358295</td>\n",
       "      <td>0.0</td>\n",
       "      <td>1.791473</td>\n",
       "      <td>1.254031</td>\n",
       "      <td>37.620924</td>\n",
       "      <td>7.524185</td>\n",
       "      <td>...</td>\n",
       "      <td>0.895736</td>\n",
       "      <td>1.074884</td>\n",
       "      <td>0.716589</td>\n",
       "      <td>1.254031</td>\n",
       "      <td>5582</td>\n",
       "      <td>0.24</td>\n",
       "      <td>59.118595</td>\n",
       "      <td>0.179147</td>\n",
       "      <td>6.270154</td>\n",
       "      <td>1.1.6</td>\n",
       "    </tr>\n",
       "  </tbody>\n",
       "</table>\n",
       "<p>5 rows × 104 columns</p>\n",
       "</div>"
      ],
      "text/plain": [
       "   age label              name  Attribute  BooleanParameter  ClassVariable  \\\n",
       "0    9  good  actionwebservice   4.497751          0.187406            0.0   \n",
       "1    8  good  actionwebservice   4.313444          0.359454            0.0   \n",
       "2    7  good  actionwebservice   4.299534          0.358295            0.0   \n",
       "3    6  good  actionwebservice   4.299534          0.358295            0.0   \n",
       "4    5  good  actionwebservice   4.299534          0.358295            0.0   \n",
       "\n",
       "   ControlParameter  DataClump  DuplicateMethodCall  FeatureEnvy   ...     \\\n",
       "0          1.686657   1.311844            35.044978     7.683658   ...      \n",
       "1          1.797268   1.258088            37.203451     7.548526   ...      \n",
       "2          1.791473   1.254031            37.620924     7.524185   ...      \n",
       "3          1.791473   1.254031            37.620924     7.524185   ...      \n",
       "4          1.791473   1.254031            37.620924     7.524185   ...      \n",
       "\n",
       "   metrics_methodlength  metrics_modulelength  metrics_parameterlists  \\\n",
       "0              0.749625              1.124438                0.749625   \n",
       "1              0.898634              1.078361                0.718907   \n",
       "2              0.895736              1.074884                0.716589   \n",
       "3              0.895736              1.074884                0.716589   \n",
       "4              0.895736              1.074884                0.716589   \n",
       "\n",
       "   metrics_perceivedcomplexity  nloc  nloc_rate     style_     total  \\\n",
       "0                     1.124438  5336       0.24  57.721139  0.749625   \n",
       "1                     1.258088  5564       0.24  56.254493  1.437815   \n",
       "2                     1.254031  5582       0.24  59.118595  0.179147   \n",
       "3                     1.254031  5582       0.24  59.118595  0.179147   \n",
       "4                     1.254031  5582       0.24  59.118595  0.179147   \n",
       "\n",
       "   warning_count  version  \n",
       "0       6.371814    1.0.0  \n",
       "1       6.290439    1.1.0  \n",
       "2       6.270154    1.1.2  \n",
       "3       6.270154    1.1.4  \n",
       "4       6.270154    1.1.6  \n",
       "\n",
       "[5 rows x 104 columns]"
      ]
     },
     "execution_count": 4,
     "metadata": {},
     "output_type": "execute_result"
    }
   ],
   "source": [
    "df = pd.io.json.json_normalize(d)\n",
    "\n",
    "old_new_cols = {}\n",
    "for name in df.columns:\n",
    "    if name.startswith('stat'):\n",
    "        old_new_cols[name] = name.split('.')[1]\n",
    "\n",
    "df.rename(columns=old_new_cols, inplace=True)\n",
    "df.head()"
   ]
  },
  {
   "cell_type": "code",
   "execution_count": 5,
   "metadata": {
    "collapsed": true
   },
   "outputs": [],
   "source": [
    "reek_columns =[\n",
    " 'Attribute',\n",
    " 'BooleanParameter',\n",
    " 'ClassVariable',\n",
    " 'ControlParameter',\n",
    " 'DataClump',\n",
    " 'DuplicateMethodCall',\n",
    " 'FeatureEnvy',\n",
    " 'InstanceVariableAssumption',\n",
    " 'IrresponsibleModule',\n",
    " 'LongParameterList',\n",
    " 'LongYieldList',\n",
    " 'ManualDispatch',\n",
    " 'ModuleInitialize',\n",
    " 'NestedIterators',\n",
    " 'NilCheck',\n",
    " 'PrimaDonnaMethod',\n",
    " 'RepeatedConditional',\n",
    " 'SubclassedFromCoreClass',\n",
    " 'TooManyConstants',\n",
    " 'TooManyInstanceVariables',\n",
    " 'TooManyMethods',\n",
    " 'TooManyStatements',\n",
    " 'UncommunicativeMethodName',\n",
    " 'UncommunicativeModuleName',\n",
    " 'UncommunicativeParameterName',\n",
    " 'UncommunicativeVariableName',\n",
    " 'UnusedParameters',\n",
    " 'UtilityFunction',\n",
    " 'delta_Attribute',\n",
    " 'delta_BooleanParameter',\n",
    " 'delta_ClassVariable',\n",
    " 'delta_ControlParameter',\n",
    " 'delta_DataClump',\n",
    " 'delta_DuplicateMethodCall',\n",
    " 'delta_FeatureEnvy',\n",
    " 'delta_InstanceVariableAssumption',\n",
    " 'delta_IrresponsibleModule',\n",
    " 'delta_LongParameterList',\n",
    " 'delta_LongYieldList',\n",
    " 'delta_ManualDispatch',\n",
    " 'delta_ModuleInitialize',\n",
    " 'delta_NestedIterators',\n",
    " 'delta_NilCheck',\n",
    " 'delta_PrimaDonnaMethod',\n",
    " 'delta_RepeatedConditional',\n",
    " 'delta_SubclassedFromCoreClass',\n",
    " 'delta_TooManyConstants',\n",
    " 'delta_TooManyInstanceVariables',\n",
    " 'delta_TooManyMethods',\n",
    " 'delta_TooManyStatements',\n",
    " 'delta_UncommunicativeMethodName',\n",
    " 'delta_UncommunicativeModuleName',\n",
    " 'delta_UncommunicativeParameterName',\n",
    " 'delta_UncommunicativeVariableName',\n",
    " 'delta_UnusedParameters',\n",
    " 'delta_UtilityFunction',]\n",
    "lizard_columns = [\n",
    " 'avg_ccn',\n",
    " 'avg_nloc',\n",
    " 'avg_token',\n",
    " 'fun_count',\n",
    " 'fun_rate',\n",
    " 'nloc_rate',\n",
    " 'warning_count',\n",
    " 'delta_avg_ccn',\n",
    " 'delta_avg_nloc',\n",
    " 'delta_avg_token',\n",
    " 'delta_fun_count',\n",
    " 'delta_fun_rate',\n",
    " 'delta_warning_count',\n",
    "\n",
    "]\n",
    "\n",
    "rubocop_columns = [\n",
    " 'delta_lint_',\n",
    " 'delta_lint_duplicate',\n",
    " 'delta_metrics_abcsize',\n",
    " 'delta_metrics_blocklength',\n",
    " 'delta_metrics_blocknesting',\n",
    " 'delta_metrics_classlength',\n",
    " 'delta_metrics_cyclomaticcomplexity',\n",
    " 'delta_metrics_linelength',\n",
    " 'delta_metrics_methodlength',\n",
    " 'delta_metrics_modulelength',\n",
    " 'delta_metrics_parameterlists',\n",
    " 'delta_metrics_perceivedcomplexity',\n",
    " 'delta_nloc',\n",
    " 'delta_nloc_rate',\n",
    " 'delta_style_',\n",
    " 'delta_total',\n",
    " 'lint_',\n",
    " 'lint_duplicate',\n",
    " 'metrics_abcsize',\n",
    " 'metrics_blocklength',\n",
    " 'metrics_blocknesting',\n",
    " 'metrics_classlength',\n",
    " 'metrics_cyclomaticcomplexity',\n",
    " 'metrics_linelength',\n",
    " 'metrics_methodlength',\n",
    " 'metrics_modulelength',\n",
    " 'metrics_parameterlists',\n",
    " 'metrics_perceivedcomplexity',\n",
    " 'style_',\n",
    " 'total',\n",
    " ]"
   ]
  },
  {
   "cell_type": "code",
   "execution_count": 6,
   "metadata": {
    "collapsed": false
   },
   "outputs": [
    {
     "name": "stdout",
     "output_type": "stream",
     "text": [
      "Empty DataFrame\n",
      "Columns: [name, version]\n",
      "Index: []\n"
     ]
    }
   ],
   "source": [
    "rows_with_NaNs = pd.isnull(df).any(1).nonzero()[0]\n",
    "print(df.ix[rows_with_NaNs][['name', 'version']])"
   ]
  },
  {
   "cell_type": "code",
   "execution_count": 7,
   "metadata": {
    "collapsed": false
   },
   "outputs": [
    {
     "name": "stdout",
     "output_type": "stream",
     "text": [
      "(3160, 104)\n"
     ]
    }
   ],
   "source": [
    "print(df.shape)\n",
    "if len(rows_with_NaNs) > 0:\n",
    "    df.dropna(inplace=True)\n",
    "    print(df.shape)"
   ]
  },
  {
   "cell_type": "code",
   "execution_count": 8,
   "metadata": {
    "collapsed": false
   },
   "outputs": [],
   "source": [
    "exclude = ['avg_nloc',] #+lizard_columns + reek_columns\n",
    "features = [k for k, v in d[0]['stat'].items() if k not in exclude]\n",
    "\n",
    "X = df[features]\n",
    "y = (df.label == 'good').values.astype(int)"
   ]
  },
  {
   "cell_type": "code",
   "execution_count": 9,
   "metadata": {
    "collapsed": true
   },
   "outputs": [],
   "source": [
    "def label_counts_summary(data, label='unknow'):\n",
    "    N = len(data)\n",
    "    N_ones = data.sum()\n",
    "    print('''\n",
    "label: {}\n",
    "nb. of observations: {}\n",
    "nb. of ones (good gems): {}\n",
    "frequency: {:.3f}\n",
    "    '''.format(label, N, N_ones, 1.0 * N_ones / N))"
   ]
  },
  {
   "cell_type": "code",
   "execution_count": 10,
   "metadata": {
    "collapsed": false
   },
   "outputs": [
    {
     "name": "stdout",
     "output_type": "stream",
     "text": [
      "\n",
      "label: Full set\n",
      "nb. of observations: 3160\n",
      "nb. of ones (good gems): 970\n",
      "frequency: 0.307\n",
      "    \n",
      "\n",
      "label: Training set\n",
      "nb. of observations: 2212\n",
      "nb. of ones (good gems): 677\n",
      "frequency: 0.306\n",
      "    \n",
      "\n",
      "label: Test set\n",
      "nb. of observations: 948\n",
      "nb. of ones (good gems): 293\n",
      "frequency: 0.309\n",
      "    \n"
     ]
    }
   ],
   "source": [
    "label_counts_summary(y, label='Full set')\n",
    "\n",
    "# split full dataset into 70% training and 30% test data\n",
    "# test data is used only to evalute the model's prediction performance\n",
    "X_train, X_test, y_train, y_test = train_test_split(X, y, test_size=0.3)\n",
    "\n",
    "label_counts_summary(y_train, label='Training set')\n",
    "label_counts_summary(y_test, label='Test set')"
   ]
  },
  {
   "cell_type": "markdown",
   "metadata": {},
   "source": [
    "# Classify using LogisticRegression"
   ]
  },
  {
   "cell_type": "code",
   "execution_count": 11,
   "metadata": {
    "collapsed": false
   },
   "outputs": [
    {
     "name": "stdout",
     "output_type": "stream",
     "text": [
      "             precision    recall  f1-score   support\n",
      "\n",
      "          0       0.79      0.93      0.85       655\n",
      "          1       0.73      0.43      0.55       293\n",
      "\n",
      "avg / total       0.77      0.78      0.76       948\n",
      "\n",
      "0.776371308017\n"
     ]
    }
   ],
   "source": [
    "model = LogisticRegression()\n",
    "model.fit(X_train, y_train)\n",
    "\n",
    "y_pred = model.predict(X_test)\n",
    "\n",
    "print(metrics.classification_report(y_test, y_pred))\n",
    "print(metrics.accuracy_score(y_test, y_pred))  # % of correct predictions"
   ]
  },
  {
   "cell_type": "code",
   "execution_count": 12,
   "metadata": {
    "collapsed": false
   },
   "outputs": [
    {
     "name": "stdout",
     "output_type": "stream",
     "text": [
      "[[  8.28224427e-01   1.71775573e-01]\n",
      " [  1.60857145e-03   9.98391429e-01]\n",
      " [  9.99826435e-01   1.73565377e-04]]\n",
      "0.768987341772\n"
     ]
    }
   ],
   "source": [
    "# generate predictions based on classification probability\n",
    "y_pred_proba = model.predict_proba(X_test)\n",
    "\n",
    "print(y_pred_proba[:3])\n",
    "\n",
    "thresh = 0.6\n",
    "y_pred_good = binarize([y_pred_proba[:,1]], thresh)[0]\n",
    "\n",
    "print(metrics.accuracy_score(y_test, y_pred_good))"
   ]
  },
  {
   "cell_type": "markdown",
   "metadata": {},
   "source": [
    "## k-fold cross-validation\n",
    "\n",
    "Split data into 10 blocks and use 1 as testing and 9 others as training. Repeat 10 times with different block as testing block. Good for verifying dependency on outliers."
   ]
  },
  {
   "cell_type": "code",
   "execution_count": 13,
   "metadata": {
    "collapsed": false
   },
   "outputs": [
    {
     "name": "stdout",
     "output_type": "stream",
     "text": [
      "[ 0.65822785  0.65506329  0.69620253  0.59493671  0.63924051  0.7943038\n",
      "  0.70253165  0.66772152  0.66455696  0.69936709]\n",
      "0.677215189873 0.0495129296598\n"
     ]
    }
   ],
   "source": [
    "model = LogisticRegression()\n",
    "scores = cross_val_score(model, X, y, cv=10, scoring='accuracy')\n",
    "print(scores)\n",
    "print(scores.mean(), scores.std())"
   ]
  },
  {
   "cell_type": "markdown",
   "metadata": {},
   "source": [
    "# Classify using kNN"
   ]
  },
  {
   "cell_type": "code",
   "execution_count": 14,
   "metadata": {
    "collapsed": false
   },
   "outputs": [
    {
     "data": {
      "text/plain": [
       "<matplotlib.text.Text at 0x11c47e198>"
      ]
     },
     "execution_count": 14,
     "metadata": {},
     "output_type": "execute_result"
    },
    {
     "data": {
      "image/png": "[encoded data removed]",
      "text/plain": [
       "<matplotlib.figure.Figure at 0x118e36b38>"
      ]
     },
     "metadata": {},
     "output_type": "display_data"
    }
   ],
   "source": [
    "X_train, X_test, y_train, y_test = train_test_split(X, y, test_size=0.3)\n",
    "\n",
    "nb_range = np.arange(1, 31)\n",
    "a_scores = []\n",
    "\n",
    "for nb in nb_range:\n",
    "    model = KNeighborsClassifier(n_neighbors=nb)\n",
    "    model.fit(X_train, y_train)\n",
    "    y_pred = model.predict(X_test)\n",
    "    a_scores.append(metrics.accuracy_score(y_test, y_pred))\n",
    "    \n",
    "plt.plot(nb_range, a_scores, 'o-')\n",
    "plt.ylabel('Testing accuracy')\n",
    "plt.xlabel('k neighbours')"
   ]
  },
  {
   "cell_type": "code",
   "execution_count": 15,
   "metadata": {
    "collapsed": false
   },
   "outputs": [
    {
     "name": "stderr",
     "output_type": "stream",
     "text": [
      "/Users/terry/anaconda3/lib/python3.6/site-packages/sklearn/grid_search.py:43: DeprecationWarning: This module was deprecated in version 0.18 in favor of the model_selection module into which all the refactored classes and functions are moved. This module will be removed in 0.20.\n",
      "  DeprecationWarning)\n"
     ]
    }
   ],
   "source": [
    "from sklearn.grid_search import GridSearchCV"
   ]
  },
  {
   "cell_type": "code",
   "execution_count": 16,
   "metadata": {
    "collapsed": false
   },
   "outputs": [
    {
     "name": "stdout",
     "output_type": "stream",
     "text": [
      "0.6474683544303798\n",
      "{'n_neighbors': 30, 'weights': 'uniform'}\n",
      "KNeighborsClassifier(algorithm='auto', leaf_size=30, metric='minkowski',\n",
      "           metric_params=None, n_jobs=1, n_neighbors=30, p=2,\n",
      "           weights='uniform')\n"
     ]
    }
   ],
   "source": [
    "k_range = list(range(1, 31))\n",
    "weight_options = ['uniform', 'distance']\n",
    "param_grid = dict(n_neighbors=k_range, weights=weight_options)\n",
    "\n",
    "knn = KNeighborsClassifier()\n",
    "\n",
    "grid = GridSearchCV(knn, param_grid, cv=10, scoring='accuracy')\n",
    "grid.fit(X, y)\n",
    "\n",
    "\n",
    "# examine the best model\n",
    "print(grid.best_score_)\n",
    "print(grid.best_params_)\n",
    "print(grid.best_estimator_)"
   ]
  },
  {
   "cell_type": "code",
   "execution_count": null,
   "metadata": {
    "collapsed": true
   },
   "outputs": [],
   "source": []
  }
 ],
 "metadata": {
  "anaconda-cloud": {},
  "kernelspec": {
   "display_name": "Python 3",
   "language": "python",
   "name": "python3"
  },
  "language_info": {
   "codemirror_mode": {
    "name": "ipython",
    "version": 3
   },
   "file_extension": ".py",
   "mimetype": "text/x-python",
   "name": "python",
   "nbconvert_exporter": "python",
   "pygments_lexer": "ipython3",
   "version": "3.6.0"
  }
 },
 "nbformat": 4,
 "nbformat_minor": 1
}
