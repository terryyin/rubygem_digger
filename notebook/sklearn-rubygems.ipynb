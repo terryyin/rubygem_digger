{
 "cells": [
  {
   "cell_type": "code",
   "execution_count": 1,
   "metadata": {
    "collapsed": true
   },
   "outputs": [],
   "source": [
    "import numpy as np\n",
    "import pandas as pd\n",
    "import matplotlib.pyplot as plt\n",
    "import seaborn as sea\n",
    "%matplotlib inline"
   ]
  },
  {
   "cell_type": "code",
   "execution_count": 2,
   "metadata": {
    "collapsed": false
   },
   "outputs": [
    {
     "name": "stderr",
     "output_type": "stream",
     "text": [
      "/Users/terry/anaconda3/lib/python3.6/site-packages/sklearn/cross_validation.py:44: DeprecationWarning: This module was deprecated in version 0.18 in favor of the model_selection module into which all the refactored classes and functions are moved. Also note that the interface of the new CV iterators are different from that of this module. This module will be removed in 0.20.\n",
      "  \"This module will be removed in 0.20.\", DeprecationWarning)\n"
     ]
    }
   ],
   "source": [
    "from sklearn.linear_model import LogisticRegression\n",
    "from sklearn.neighbors import KNeighborsClassifier\n",
    "\n",
    "from sklearn.preprocessing import binarize\n",
    "from sklearn.cross_validation import train_test_split, cross_val_score\n",
    "from sklearn import metrics"
   ]
  },
  {
   "cell_type": "code",
   "execution_count": 50,
   "metadata": {
    "collapsed": true
   },
   "outputs": [],
   "source": [
    "class RubygemLearner(object):\n",
    "    def __init__(self, fn):\n",
    "        with open(fn) as f:\n",
    "            data = json.load(f)\n",
    "        d = data[\"data\"]\n",
    "        self.spec = data[\"spec\"]\n",
    "        self.df = pd.io.json.json_normalize(d)\n",
    "        self._rename_columns()\n",
    "        self.df = self.df[self.df[\"avg_nloc\"]<20]\n",
    "            \n",
    "    def exclude_unwanted_features(self):\n",
    "        exclude = []#'nloc',] #+ reek_columns + lizard_columns #+ reek_columns\n",
    "        features = [k for k, v in d[0]['stat'].items() if k not in exclude]\n",
    "        \n",
    "    def remove_too_small_changes(self):\n",
    "        try:\n",
    "            df = df.groupby('name').filter(lambda x: x['delta_nloc'].sum() >2000)\n",
    "        except:\n",
    "            pass\n",
    "    \n",
    "    def summary(self):\n",
    "        print(spec)\n",
    "        print('nb_records:', len(self.df))\n",
    "        print(\"abandoned:\", (self.df['label'] != 'maintained').sum())\n",
    "        \n",
    "    def feature_evaluation(self):\n",
    "        X = df[features]\n",
    "        y = (df.label == 'maintained').values.astype(int)\n",
    "        from sklearn.feature_selection import SelectKBest\n",
    "        from sklearn.feature_selection import chi2,f_classif, mutual_info_classif\n",
    "        X_new = SelectKBest(f_classif, k=10).fit(X, y)\n",
    "        return np.array([X_new.scores_, features]).T\n",
    "        \n",
    "    def _rename_columns(self):\n",
    "        old_new_cols = {}\n",
    "        for name in self.df.columns:\n",
    "            if name.startswith('stat'):\n",
    "                old_new_cols[name] = name.split('.')[1]\n",
    "        self.df.rename(columns=old_new_cols, inplace=True)\n",
    "        \n",
    "    def my_train_test_split(self, test_size=0.3):\n",
    "        Xgems = self.df[[\"name\"]].drop_duplicates()\n",
    "        X_train_gems, X_test_gems = train_test_split(Xgems, test_size=test_size)\n",
    "        X_train = self.df[self.df['name'].isin(X_train_gems['name'])]\n",
    "        y_train = (X_train.label == 'maintained').values.astype(int)\n",
    "        X_train = X_train[features]\n",
    "        dftest = self.df[self.df['name'].isin(X_test_gems['name'])]\n",
    "\n",
    "        return X_train, y_train, dftest\n",
    "\n",
    "\n",
    "\n",
    "df.rename(columns=old_new_cols, inplace=True)"
   ]
  },
  {
   "cell_type": "code",
   "execution_count": 49,
   "metadata": {
    "collapsed": false
   },
   "outputs": [
    {
     "name": "stdout",
     "output_type": "stream",
     "text": [
      "{'version': 2, 'description': 'less months', 'min_number_of_gems': 12, 'min_months': 10, 'min_nloc': 2000, 'min_months_good': 20, 'history_months': 10, 'stopped_time_point': '2015-01-01 00:00:00 UTC', 'ignored_months_for_good': 10}\n",
      "nb_records: 9968\n",
      "abandoned: 3819\n",
      "[['11.961183389288173' 'nloc']\n",
      " ['3.75560467766501' 'avg_ccn']\n",
      " ['0.6448856907157405' 'avg_nloc']\n",
      " ['0.039490378879491146' 'avg_token']\n",
      " ['37.27119007124272' 'fun_count']\n",
      " ['17.213127194413996' 'warning_count']\n",
      " ['9.15856335988168' 'fun_rate']\n",
      " ['3.6478394417823767' 'nloc_rate']\n",
      " ['46.02250622697096' 'style_']\n",
      " ['83.92041889635281' 'performance_']\n",
      " ['20.146286120430833' 'security_']\n",
      " ['153.1749586354917' 'lint_']\n",
      " ['5.809438409861999' 'lint_duplicate']\n",
      " ['26.271959944849' 'metrics_']\n",
      " ['26.7601405258994' 'metrics_abcsize']\n",
      " ['3.660312428657418' 'metrics_blocklength']\n",
      " ['0.41187401076284047' 'metrics_blocknesting']\n",
      " ['79.66042872761909' 'metrics_classlength']\n",
      " ['55.36896104310767' 'metrics_cyclomaticcomplexity']\n",
      " ['0.43001497901991287' 'metrics_linelength']\n",
      " ['17.447801677836726' 'metrics_methodlength']\n",
      " ['0.10763911071731348' 'metrics_modulelength']\n",
      " ['10.703036463905999' 'metrics_parameterlists']\n",
      " ['66.90582541797207' 'metrics_perceivedcomplexity']\n",
      " ['2.3465111267373078' 'total']\n",
      " ['63.6846844813909' 'DuplicateMethodCall']\n",
      " ['8.05057339375675' 'FeatureEnvy']\n",
      " ['2.5649115419082387' 'IrresponsibleModule']\n",
      " ['39.85404183643339' 'NilCheck']\n",
      " ['2.6094422427107022' 'TooManyConstants']\n",
      " ['9.172292279081852' 'TooManyMethods']\n",
      " ['11.224433578576987' 'UncommunicativeVariableName']\n",
      " ['61.359236191986795' 'TooManyStatements']\n",
      " ['0.7780452269753259' 'UnusedParameters']\n",
      " ['50.388496127390425' 'InstanceVariableAssumption']\n",
      " ['53.19927850567757' 'TooManyInstanceVariables']\n",
      " ['21.348285808821743' 'UtilityFunction']\n",
      " ['1.0797123383353706' 'PrimaDonnaMethod']\n",
      " ['10.352093513827663' 'NestedIterators']\n",
      " ['0.1661802476850896' 'DataClump']\n",
      " ['0.7854482701815593' 'UncommunicativeMethodName']\n",
      " ['4.661254369759571' 'LongParameterList']\n",
      " ['13.153970508261398' 'UncommunicativeParameterName']\n",
      " ['20.877417505617007' 'ControlParameter']\n",
      " ['8.355072108394088' 'ManualDispatch']\n",
      " ['22.43543148222043' 'RepeatedConditional']\n",
      " ['62.579619167743715' 'Attribute']\n",
      " ['54.42345440697882' 'BooleanParameter']\n",
      " ['6.298267488035581' 'SubclassedFromCoreClass']\n",
      " ['6.468040111291154' 'UncommunicativeModuleName']\n",
      " ['11.462878210919188' 'ModuleInitialize']\n",
      " ['47.23787819372269' 'ClassVariable']\n",
      " ['11.131397407234195' 'LongYieldList']\n",
      " ['75.53370167850423' 'reek_total']\n",
      " ['20.69773414899672' 'delta_nloc']\n",
      " ['2.057083099502025' 'delta_avg_ccn']\n",
      " ['2.4385845716285477' 'delta_avg_nloc']\n",
      " ['0.8695482930415593' 'delta_avg_token']\n",
      " ['11.991178198724' 'delta_fun_count']\n",
      " ['2.1483886133895074' 'delta_warning_count']\n",
      " ['0.5369142915020461' 'delta_fun_rate']\n",
      " ['0.12282348693692134' 'delta_nloc_rate']\n",
      " ['0.02735629274212759' 'delta_style_']\n",
      " ['34.284154621040315' 'delta_performance_']\n",
      " ['14.973504944066923' 'delta_security_']\n",
      " ['14.249791809874218' 'delta_lint_']\n",
      " ['3.2109928593784574' 'delta_lint_duplicate']\n",
      " ['1.6848754399873749' 'delta_metrics_']\n",
      " ['6.2547269192950985' 'delta_metrics_abcsize']\n",
      " ['0.09992077071374166' 'delta_metrics_blocklength']\n",
      " ['0.08206539339217989' 'delta_metrics_blocknesting']\n",
      " ['0.10438216317508645' 'delta_metrics_classlength']\n",
      " ['4.740943766026432' 'delta_metrics_cyclomaticcomplexity']\n",
      " ['0.006851292717088839' 'delta_metrics_linelength']\n",
      " ['2.1684419180471437' 'delta_metrics_methodlength']\n",
      " ['0.11764156512666772' 'delta_metrics_modulelength']\n",
      " ['4.837627199216374' 'delta_metrics_parameterlists']\n",
      " ['4.541502264778731' 'delta_metrics_perceivedcomplexity']\n",
      " ['2.5415462608801453' 'delta_total']\n",
      " ['15.675232149933285' 'delta_DuplicateMethodCall']\n",
      " ['22.526153677675733' 'delta_FeatureEnvy']\n",
      " ['18.87846973670889' 'delta_IrresponsibleModule']\n",
      " ['19.520411453009615' 'delta_NilCheck']\n",
      " ['11.03229123283583' 'delta_TooManyConstants']\n",
      " ['2.423655077347565' 'delta_TooManyMethods']\n",
      " ['0.13437447724189827' 'delta_UncommunicativeVariableName']\n",
      " ['13.1168335432386' 'delta_TooManyStatements']\n",
      " ['0.16972141960985743' 'delta_UnusedParameters']\n",
      " ['2.788702355007643' 'delta_InstanceVariableAssumption']\n",
      " ['11.42129418872963' 'delta_TooManyInstanceVariables']\n",
      " ['1.437614730557299' 'delta_UtilityFunction']\n",
      " ['23.892330066846917' 'delta_PrimaDonnaMethod']\n",
      " ['1.1864762065512175' 'delta_NestedIterators']\n",
      " ['2.8577999335984265' 'delta_DataClump']\n",
      " ['1.9129801690962782' 'delta_UncommunicativeMethodName']\n",
      " ['43.84697293668098' 'delta_LongParameterList']\n",
      " ['1.2791919505897307' 'delta_UncommunicativeParameterName']\n",
      " ['4.116724959705909' 'delta_ControlParameter']\n",
      " ['2.102026820222602' 'delta_ManualDispatch']\n",
      " ['8.445025005609132' 'delta_RepeatedConditional']\n",
      " ['21.979825288926374' 'delta_Attribute']\n",
      " ['44.90673750720804' 'delta_BooleanParameter']\n",
      " ['0.03508262519451168' 'delta_SubclassedFromCoreClass']\n",
      " ['1.9233286600067931' 'delta_UncommunicativeModuleName']\n",
      " ['0.7561803435941685' 'delta_ModuleInitialize']\n",
      " ['19.110263414748786' 'delta_ClassVariable']\n",
      " ['2.944997536888312' 'delta_LongYieldList']\n",
      " ['23.67158762034365' 'delta_reek_total']\n",
      " ['0.007227104920498271' 'age']]\n"
     ]
    }
   ],
   "source": [
    "import json\n",
    "\n",
    "fn = 'RubygemDigger--Steps--GenerateJsonForLastVersions--2.data.json'\n",
    "fn = 'RubygemDigger--Steps--GenerateJsonForAllVersions--2.data.json.all.json'\n",
    "\n",
    "learner = RubygemLearner(fn)\n",
    "learner.summary()\n",
    "print(learner.feature_evaluation())"
   ]
  },
  {
   "cell_type": "code",
   "execution_count": 4,
   "metadata": {
    "collapsed": false
   },
   "outputs": [
    {
     "data": {
      "text/html": [
       "<div>\n",
       "<table border=\"1\" class=\"dataframe\">\n",
       "  <thead>\n",
       "    <tr style=\"text-align: right;\">\n",
       "      <th></th>\n",
       "      <th>label</th>\n",
       "      <th>name</th>\n",
       "      <th>Attribute</th>\n",
       "      <th>BooleanParameter</th>\n",
       "      <th>ClassVariable</th>\n",
       "      <th>ControlParameter</th>\n",
       "      <th>DataClump</th>\n",
       "      <th>DuplicateMethodCall</th>\n",
       "      <th>FeatureEnvy</th>\n",
       "      <th>InstanceVariableAssumption</th>\n",
       "      <th>...</th>\n",
       "      <th>metrics_perceivedcomplexity</th>\n",
       "      <th>nloc</th>\n",
       "      <th>nloc_rate</th>\n",
       "      <th>performance_</th>\n",
       "      <th>reek_total</th>\n",
       "      <th>security_</th>\n",
       "      <th>style_</th>\n",
       "      <th>total</th>\n",
       "      <th>warning_count</th>\n",
       "      <th>version</th>\n",
       "    </tr>\n",
       "  </thead>\n",
       "  <tbody>\n",
       "    <tr>\n",
       "      <th>0</th>\n",
       "      <td>abandoned</td>\n",
       "      <td>actionwebservice</td>\n",
       "      <td>4.497751</td>\n",
       "      <td>0.187406</td>\n",
       "      <td>0.0</td>\n",
       "      <td>1.686657</td>\n",
       "      <td>1.311844</td>\n",
       "      <td>35.044978</td>\n",
       "      <td>7.683658</td>\n",
       "      <td>8.245877</td>\n",
       "      <td>...</td>\n",
       "      <td>1.124438</td>\n",
       "      <td>5336</td>\n",
       "      <td>0.24</td>\n",
       "      <td>0.562219</td>\n",
       "      <td>163.793103</td>\n",
       "      <td>0.0</td>\n",
       "      <td>57.721139</td>\n",
       "      <td>0.749625</td>\n",
       "      <td>6.371814</td>\n",
       "      <td>1.0.0</td>\n",
       "    </tr>\n",
       "    <tr>\n",
       "      <th>1</th>\n",
       "      <td>abandoned</td>\n",
       "      <td>actionwebservice</td>\n",
       "      <td>4.313444</td>\n",
       "      <td>0.359454</td>\n",
       "      <td>0.0</td>\n",
       "      <td>1.797268</td>\n",
       "      <td>1.258088</td>\n",
       "      <td>37.203451</td>\n",
       "      <td>7.548526</td>\n",
       "      <td>7.907980</td>\n",
       "      <td>...</td>\n",
       "      <td>1.258088</td>\n",
       "      <td>5564</td>\n",
       "      <td>0.24</td>\n",
       "      <td>0.539180</td>\n",
       "      <td>165.168943</td>\n",
       "      <td>0.0</td>\n",
       "      <td>56.254493</td>\n",
       "      <td>1.437815</td>\n",
       "      <td>6.290439</td>\n",
       "      <td>1.1.0</td>\n",
       "    </tr>\n",
       "    <tr>\n",
       "      <th>2</th>\n",
       "      <td>abandoned</td>\n",
       "      <td>actionwebservice</td>\n",
       "      <td>4.299534</td>\n",
       "      <td>0.358295</td>\n",
       "      <td>0.0</td>\n",
       "      <td>1.791473</td>\n",
       "      <td>1.254031</td>\n",
       "      <td>37.620924</td>\n",
       "      <td>7.524185</td>\n",
       "      <td>7.882479</td>\n",
       "      <td>...</td>\n",
       "      <td>1.254031</td>\n",
       "      <td>5582</td>\n",
       "      <td>0.24</td>\n",
       "      <td>0.537442</td>\n",
       "      <td>165.711215</td>\n",
       "      <td>0.0</td>\n",
       "      <td>59.118595</td>\n",
       "      <td>0.179147</td>\n",
       "      <td>6.270154</td>\n",
       "      <td>1.1.2</td>\n",
       "    </tr>\n",
       "    <tr>\n",
       "      <th>3</th>\n",
       "      <td>abandoned</td>\n",
       "      <td>actionwebservice</td>\n",
       "      <td>4.299534</td>\n",
       "      <td>0.358295</td>\n",
       "      <td>0.0</td>\n",
       "      <td>1.791473</td>\n",
       "      <td>1.254031</td>\n",
       "      <td>37.620924</td>\n",
       "      <td>7.524185</td>\n",
       "      <td>7.882479</td>\n",
       "      <td>...</td>\n",
       "      <td>1.254031</td>\n",
       "      <td>5582</td>\n",
       "      <td>0.24</td>\n",
       "      <td>0.537442</td>\n",
       "      <td>165.711215</td>\n",
       "      <td>0.0</td>\n",
       "      <td>59.118595</td>\n",
       "      <td>0.179147</td>\n",
       "      <td>6.270154</td>\n",
       "      <td>1.1.4</td>\n",
       "    </tr>\n",
       "    <tr>\n",
       "      <th>4</th>\n",
       "      <td>abandoned</td>\n",
       "      <td>actionwebservice</td>\n",
       "      <td>4.299534</td>\n",
       "      <td>0.358295</td>\n",
       "      <td>0.0</td>\n",
       "      <td>1.791473</td>\n",
       "      <td>1.254031</td>\n",
       "      <td>37.620924</td>\n",
       "      <td>7.524185</td>\n",
       "      <td>7.882479</td>\n",
       "      <td>...</td>\n",
       "      <td>1.254031</td>\n",
       "      <td>5582</td>\n",
       "      <td>0.24</td>\n",
       "      <td>0.537442</td>\n",
       "      <td>165.711215</td>\n",
       "      <td>0.0</td>\n",
       "      <td>59.118595</td>\n",
       "      <td>0.179147</td>\n",
       "      <td>6.270154</td>\n",
       "      <td>1.1.6</td>\n",
       "    </tr>\n",
       "  </tbody>\n",
       "</table>\n",
       "<p>5 rows × 112 columns</p>\n",
       "</div>"
      ],
      "text/plain": [
       "       label              name  Attribute  BooleanParameter  ClassVariable  \\\n",
       "0  abandoned  actionwebservice   4.497751          0.187406            0.0   \n",
       "1  abandoned  actionwebservice   4.313444          0.359454            0.0   \n",
       "2  abandoned  actionwebservice   4.299534          0.358295            0.0   \n",
       "3  abandoned  actionwebservice   4.299534          0.358295            0.0   \n",
       "4  abandoned  actionwebservice   4.299534          0.358295            0.0   \n",
       "\n",
       "   ControlParameter  DataClump  DuplicateMethodCall  FeatureEnvy  \\\n",
       "0          1.686657   1.311844            35.044978     7.683658   \n",
       "1          1.797268   1.258088            37.203451     7.548526   \n",
       "2          1.791473   1.254031            37.620924     7.524185   \n",
       "3          1.791473   1.254031            37.620924     7.524185   \n",
       "4          1.791473   1.254031            37.620924     7.524185   \n",
       "\n",
       "   InstanceVariableAssumption   ...     metrics_perceivedcomplexity  nloc  \\\n",
       "0                    8.245877   ...                        1.124438  5336   \n",
       "1                    7.907980   ...                        1.258088  5564   \n",
       "2                    7.882479   ...                        1.254031  5582   \n",
       "3                    7.882479   ...                        1.254031  5582   \n",
       "4                    7.882479   ...                        1.254031  5582   \n",
       "\n",
       "   nloc_rate  performance_  reek_total  security_     style_     total  \\\n",
       "0       0.24      0.562219  163.793103        0.0  57.721139  0.749625   \n",
       "1       0.24      0.539180  165.168943        0.0  56.254493  1.437815   \n",
       "2       0.24      0.537442  165.711215        0.0  59.118595  0.179147   \n",
       "3       0.24      0.537442  165.711215        0.0  59.118595  0.179147   \n",
       "4       0.24      0.537442  165.711215        0.0  59.118595  0.179147   \n",
       "\n",
       "   warning_count  version  \n",
       "0       6.371814    1.0.0  \n",
       "1       6.290439    1.1.0  \n",
       "2       6.270154    1.1.2  \n",
       "3       6.270154    1.1.4  \n",
       "4       6.270154    1.1.6  \n",
       "\n",
       "[5 rows x 112 columns]"
      ]
     },
     "execution_count": 4,
     "metadata": {},
     "output_type": "execute_result"
    }
   ],
   "source": [
    "df = pd.io.json.json_normalize(d)\n",
    "\n",
    "old_new_cols = {}\n",
    "for name in df.columns:\n",
    "    if name.startswith('stat'):\n",
    "        old_new_cols[name] = name.split('.')[1]\n",
    "\n",
    "df.rename(columns=old_new_cols, inplace=True)\n",
    "df = df[df[\"avg_nloc\"]<20]\n",
    "df.head()"
   ]
  },
  {
   "cell_type": "code",
   "execution_count": 5,
   "metadata": {
    "collapsed": false
   },
   "outputs": [
    {
     "data": {
      "text/plain": [
       "3819"
      ]
     },
     "execution_count": 5,
     "metadata": {},
     "output_type": "execute_result"
    }
   ],
   "source": [
    "(df['label'] != 'maintained').sum()"
   ]
  },
  {
   "cell_type": "code",
   "execution_count": 6,
   "metadata": {
    "collapsed": true
   },
   "outputs": [],
   "source": [
    "reek_columns =[\n",
    "    'reek_total',\n",
    " 'Attribute',\n",
    " 'BooleanParameter',\n",
    " 'ClassVariable',\n",
    " 'ControlParameter',\n",
    " 'DataClump',\n",
    " 'DuplicateMethodCall',\n",
    " 'FeatureEnvy',\n",
    " 'InstanceVariableAssumption',\n",
    " 'IrresponsibleModule',\n",
    " 'LongParameterList',\n",
    " 'LongYieldList',\n",
    " 'ManualDispatch',\n",
    " 'ModuleInitialize',\n",
    " 'NestedIterators',\n",
    " 'NilCheck',\n",
    " 'PrimaDonnaMethod',\n",
    " 'RepeatedConditional',\n",
    " 'SubclassedFromCoreClass',\n",
    " 'TooManyConstants',\n",
    " 'TooManyInstanceVariables',\n",
    " 'TooManyMethods',\n",
    " 'TooManyStatements',\n",
    " 'UncommunicativeMethodName',\n",
    " 'UncommunicativeModuleName',\n",
    " 'UncommunicativeParameterName',\n",
    " 'UncommunicativeVariableName',\n",
    " 'UnusedParameters',\n",
    " 'UtilityFunction',\n",
    " 'delta_Attribute',\n",
    " 'delta_BooleanParameter',\n",
    " 'delta_ClassVariable',\n",
    " 'delta_ControlParameter',\n",
    " 'delta_DataClump',\n",
    " 'delta_DuplicateMethodCall',\n",
    " 'delta_FeatureEnvy',\n",
    " 'delta_InstanceVariableAssumption',\n",
    " 'delta_IrresponsibleModule',\n",
    " 'delta_LongParameterList',\n",
    " 'delta_LongYieldList',\n",
    " 'delta_ManualDispatch',\n",
    " 'delta_ModuleInitialize',\n",
    " 'delta_NestedIterators',\n",
    " 'delta_NilCheck',\n",
    " 'delta_PrimaDonnaMethod',\n",
    " 'delta_RepeatedConditional',\n",
    " 'delta_SubclassedFromCoreClass',\n",
    " 'delta_TooManyConstants',\n",
    " 'delta_TooManyInstanceVariables',\n",
    " 'delta_TooManyMethods',\n",
    " 'delta_TooManyStatements',\n",
    " 'delta_UncommunicativeMethodName',\n",
    " 'delta_UncommunicativeModuleName',\n",
    " 'delta_UncommunicativeParameterName',\n",
    " 'delta_UncommunicativeVariableName',\n",
    " 'delta_UnusedParameters',\n",
    " 'delta_UtilityFunction',\n",
    " 'delta_reek_total']\n",
    "lizard_columns = [\n",
    " 'avg_ccn',\n",
    " 'avg_nloc',\n",
    " 'avg_token',\n",
    " 'fun_count',\n",
    " 'fun_rate',\n",
    " 'nloc_rate',\n",
    " 'warning_count',\n",
    " 'delta_avg_ccn',\n",
    " 'delta_avg_nloc',\n",
    " 'delta_avg_token',\n",
    " 'delta_fun_count',\n",
    " 'delta_fun_rate',\n",
    " 'delta_warning_count',\n",
    "\n",
    "]\n",
    "\n",
    "rubocop_columns = [\n",
    " 'delta_lint_',\n",
    " 'delta_lint_duplicate',\n",
    " 'delta_metrics_abcsize',\n",
    " 'delta_metrics_blocklength',\n",
    " 'delta_metrics_blocknesting',\n",
    " 'delta_metrics_classlength',\n",
    " 'delta_metrics_cyclomaticcomplexity',\n",
    " 'delta_metrics_linelength',\n",
    " 'delta_metrics_methodlength',\n",
    " 'delta_metrics_modulelength',\n",
    " 'delta_metrics_parameterlists',\n",
    " 'delta_metrics_perceivedcomplexity',\n",
    " 'delta_nloc',\n",
    " 'delta_nloc_rate',\n",
    " 'delta_style_',\n",
    " 'delta_total',\n",
    "        'delta_performance_',\n",
    "    'delta_security_',\n",
    "    'delta_metrics_',\n",
    " 'lint_',\n",
    " 'lint_duplicate',\n",
    " 'metrics_abcsize',\n",
    " 'metrics_blocklength',\n",
    " 'metrics_blocknesting',\n",
    " 'metrics_classlength',\n",
    " 'metrics_cyclomaticcomplexity',\n",
    " 'metrics_linelength',\n",
    " 'metrics_methodlength',\n",
    " 'metrics_modulelength',\n",
    " 'metrics_parameterlists',\n",
    " 'metrics_perceivedcomplexity',\n",
    " 'style_',\n",
    "    'performance_',\n",
    "    'security_',\n",
    "    'metrics_',\n",
    " 'total',\n",
    " ]"
   ]
  },
  {
   "cell_type": "markdown",
   "metadata": {},
   "source": [
    "# Basic building blocks"
   ]
  },
  {
   "cell_type": "code",
   "execution_count": 11,
   "metadata": {
    "collapsed": false
   },
   "outputs": [],
   "source": []
  },
  {
   "cell_type": "code",
   "execution_count": 12,
   "metadata": {
    "collapsed": true
   },
   "outputs": [],
   "source": [
    "def label_counts_summary(data, label='unknow'):\n",
    "    N = len(data)\n",
    "    N_ones = data.sum()\n",
    "    print('''\n",
    "label: {}\n",
    "nb. of observations: {}\n",
    "nb. of ones (good gems): {}\n",
    "frequency: {:.3f}\n",
    "    '''.format(label, N, N_ones, 1.0 * N_ones / N))"
   ]
  },
  {
   "cell_type": "code",
   "execution_count": 13,
   "metadata": {
    "collapsed": false
   },
   "outputs": [
    {
     "name": "stdout",
     "output_type": "stream",
     "text": [
      "\n",
      "label: Full set\n",
      "nb. of observations: 7265\n",
      "nb. of ones (good gems): 4579\n",
      "frequency: 0.630\n",
      "    \n",
      "\n",
      "label: Training set\n",
      "nb. of observations: 5091\n",
      "nb. of ones (good gems): 3213\n",
      "frequency: 0.631\n",
      "    \n"
     ]
    }
   ],
   "source": [
    "label_counts_summary(y, label='Full set')\n",
    "\n",
    "# split full dataset into 70% training and 30% test data\n",
    "# test data is used only to evalute the model's prediction performance\n",
    "X_train, y_train, dftest = my_train_test_split(df, test_size=0.3)\n",
    "\n",
    "label_counts_summary(y_train, label='Training set')\n",
    "#label_counts_summary(dftest, label='Test set')"
   ]
  },
  {
   "cell_type": "code",
   "execution_count": 14,
   "metadata": {
    "collapsed": true
   },
   "outputs": [],
   "source": [
    "def train(model, X_train, y_train):\n",
    "    estimator = model\n",
    "    X_train = dftrain[features]\n",
    "    y_train = (dftrain.label == 'maintained').values.astype(int)\n",
    "    estimator.fit(X_train, y_train)\n",
    "    return estimator"
   ]
  },
  {
   "cell_type": "code",
   "execution_count": 15,
   "metadata": {
    "collapsed": false
   },
   "outputs": [],
   "source": [
    "def predict_sequence(estimator, df, name, label, threshold=0.5):\n",
    "    X = df[df['name']==name][df['label']==label][features]\n",
    "    y_pred = estimator.predict(X)\n",
    "    return 0 if np.mean(y_pred) < threshold else 1\n",
    "\n",
    "def test_model(model, dftest):\n",
    "    estimator = model\n",
    "    testers = dftest[[\"name\", \"label\"]].drop_duplicates()\n",
    "    y_test = (testers.label == 'maintained').values.astype(int)\n",
    "    y_pred = [predict_sequence(estimator, dftest, t[0], t[1]) for t in testers.values]\n",
    "    #print(y_pred)\n",
    "    #print(y_test)\n",
    "    #print(metrics.classification_report(y_test, y_pred))\n",
    "    return metrics.accuracy_score(y_test, y_pred)\n",
    "\n",
    "def train_and_test(model, df):\n",
    "    accuracies = []\n",
    "    for i in range(5):\n",
    "        X_train, y_train, test = my_train_test_split(df, test_size=0.3)\n",
    "        model.fit(X_train, y_train)\n",
    "        accuracies.append(test_model(model, test))\n",
    "    return np.mean(accuracies)\n",
    "    "
   ]
  },
  {
   "cell_type": "markdown",
   "metadata": {},
   "source": [
    "# Classify using LogisticRegression"
   ]
  },
  {
   "cell_type": "code",
   "execution_count": 16,
   "metadata": {
    "collapsed": false
   },
   "outputs": [
    {
     "name": "stderr",
     "output_type": "stream",
     "text": [
      "/Users/terry/anaconda3/lib/python3.6/site-packages/ipykernel/__main__.py:2: UserWarning: Boolean Series key will be reindexed to match DataFrame index.\n",
      "  from ipykernel import kernelapp as app\n"
     ]
    },
    {
     "name": "stdout",
     "output_type": "stream",
     "text": [
      "0.6116331746\n"
     ]
    }
   ],
   "source": [
    "model = LogisticRegression()\n",
    "print(train_and_test(model, df))\n"
   ]
  },
  {
   "cell_type": "markdown",
   "metadata": {},
   "source": [
    "# Classify using kNN"
   ]
  },
  {
   "cell_type": "code",
   "execution_count": 17,
   "metadata": {
    "collapsed": false
   },
   "outputs": [
    {
     "name": "stderr",
     "output_type": "stream",
     "text": [
      "/Users/terry/anaconda3/lib/python3.6/site-packages/ipykernel/__main__.py:2: UserWarning: Boolean Series key will be reindexed to match DataFrame index.\n",
      "  from ipykernel import kernelapp as app\n"
     ]
    },
    {
     "data": {
      "text/plain": [
       "<matplotlib.text.Text at 0x127c03780>"
      ]
     },
     "execution_count": 17,
     "metadata": {},
     "output_type": "execute_result"
    },
    {
     "data": {
      "image/png": "[encoded data removed]",
      "text/plain": [
       "<matplotlib.figure.Figure at 0x122aed588>"
      ]
     },
     "metadata": {},
     "output_type": "display_data"
    }
   ],
   "source": [
    "X_train, X_test, y_train, y_test = train_test_split(X, y, test_size=0.3)\n",
    "\n",
    "nb_range = np.arange(1, 31)\n",
    "a_scores = []\n",
    "\n",
    "for nb in nb_range:\n",
    "    model = KNeighborsClassifier(n_neighbors=nb)\n",
    "    a_scores.append(train_and_test(model, df))\n",
    "    \n",
    "plt.plot(nb_range, a_scores, 'o-')\n",
    "plt.ylabel('Testing accuracy')\n",
    "plt.xlabel('k neighbours')"
   ]
  },
  {
   "cell_type": "code",
   "execution_count": 18,
   "metadata": {
    "collapsed": false,
    "scrolled": true
   },
   "outputs": [
    {
     "name": "stderr",
     "output_type": "stream",
     "text": [
      "/Users/terry/anaconda3/lib/python3.6/site-packages/sklearn/grid_search.py:43: DeprecationWarning: This module was deprecated in version 0.18 in favor of the model_selection module into which all the refactored classes and functions are moved. This module will be removed in 0.20.\n",
      "  DeprecationWarning)\n"
     ]
    }
   ],
   "source": [
    "from sklearn.grid_search import GridSearchCV"
   ]
  },
  {
   "cell_type": "code",
   "execution_count": 19,
   "metadata": {
    "collapsed": false
   },
   "outputs": [
    {
     "name": "stdout",
     "output_type": "stream",
     "text": [
      "0.5832071576049552\n",
      "{'n_neighbors': 28, 'weights': 'distance'}\n",
      "KNeighborsClassifier(algorithm='auto', leaf_size=30, metric='minkowski',\n",
      "           metric_params=None, n_jobs=1, n_neighbors=28, p=2,\n",
      "           weights='distance')\n"
     ]
    }
   ],
   "source": [
    "k_range = list(range(1, 31))\n",
    "weight_options = ['uniform', 'distance']\n",
    "param_grid = dict(n_neighbors=k_range, weights=weight_options)\n",
    "\n",
    "knn = KNeighborsClassifier()\n",
    "\n",
    "grid = GridSearchCV(knn, param_grid, cv=10, scoring='accuracy')\n",
    "grid.fit(X, y)\n",
    "\n",
    "\n",
    "# examine the best model\n",
    "print(grid.best_score_)\n",
    "print(grid.best_params_)\n",
    "print(grid.best_estimator_)"
   ]
  },
  {
   "cell_type": "markdown",
   "metadata": {
    "collapsed": true
   },
   "source": [
    "# Ensemble"
   ]
  },
  {
   "cell_type": "code",
   "execution_count": 20,
   "metadata": {
    "collapsed": true
   },
   "outputs": [],
   "source": [
    "from sklearn.ensemble import BaggingRegressor\n",
    "from sklearn.tree import DecisionTreeRegressor"
   ]
  },
  {
   "cell_type": "code",
   "execution_count": 21,
   "metadata": {
    "collapsed": false
   },
   "outputs": [
    {
     "name": "stderr",
     "output_type": "stream",
     "text": [
      "/Users/terry/anaconda3/lib/python3.6/site-packages/ipykernel/__main__.py:2: UserWarning: Boolean Series key will be reindexed to match DataFrame index.\n",
      "  from ipykernel import kernelapp as app\n",
      "/Users/terry/anaconda3/lib/python3.6/site-packages/ipykernel/__main__.py:2: UserWarning: Boolean Series key will be reindexed to match DataFrame index.\n",
      "  from ipykernel import kernelapp as app\n",
      "/Users/terry/anaconda3/lib/python3.6/site-packages/ipykernel/__main__.py:2: UserWarning: Boolean Series key will be reindexed to match DataFrame index.\n",
      "  from ipykernel import kernelapp as app\n",
      "/Users/terry/anaconda3/lib/python3.6/site-packages/ipykernel/__main__.py:2: UserWarning: Boolean Series key will be reindexed to match DataFrame index.\n",
      "  from ipykernel import kernelapp as app\n",
      "/Users/terry/anaconda3/lib/python3.6/site-packages/ipykernel/__main__.py:2: UserWarning: Boolean Series key will be reindexed to match DataFrame index.\n",
      "  from ipykernel import kernelapp as app\n"
     ]
    },
    {
     "name": "stdout",
     "output_type": "stream",
     "text": [
      "0.643455735282\n"
     ]
    }
   ],
   "source": [
    "from sklearn.ensemble import BaggingClassifier\n",
    "print(train_and_test(BaggingClassifier(grid.best_estimator_, max_samples=0.5, max_features=0.5), df))"
   ]
  },
  {
   "cell_type": "code",
   "execution_count": 22,
   "metadata": {
    "collapsed": false
   },
   "outputs": [
    {
     "name": "stderr",
     "output_type": "stream",
     "text": [
      "/Users/terry/anaconda3/lib/python3.6/site-packages/ipykernel/__main__.py:2: UserWarning: Boolean Series key will be reindexed to match DataFrame index.\n",
      "  from ipykernel import kernelapp as app\n",
      "/Users/terry/anaconda3/lib/python3.6/site-packages/sklearn/ensemble/bagging.py:146: VisibleDeprecationWarning: using a non-integer number instead of an integer will result in an error in the future\n",
      "  proba[i, predictions[i]] += 1\n",
      "/Users/terry/anaconda3/lib/python3.6/site-packages/ipykernel/__main__.py:2: UserWarning: Boolean Series key will be reindexed to match DataFrame index.\n",
      "  from ipykernel import kernelapp as app\n",
      "/Users/terry/anaconda3/lib/python3.6/site-packages/sklearn/ensemble/bagging.py:146: VisibleDeprecationWarning: using a non-integer number instead of an integer will result in an error in the future\n",
      "  proba[i, predictions[i]] += 1\n",
      "/Users/terry/anaconda3/lib/python3.6/site-packages/ipykernel/__main__.py:2: UserWarning: Boolean Series key will be reindexed to match DataFrame index.\n",
      "  from ipykernel import kernelapp as app\n",
      "/Users/terry/anaconda3/lib/python3.6/site-packages/sklearn/ensemble/bagging.py:146: VisibleDeprecationWarning: using a non-integer number instead of an integer will result in an error in the future\n",
      "  proba[i, predictions[i]] += 1\n",
      "/Users/terry/anaconda3/lib/python3.6/site-packages/ipykernel/__main__.py:2: UserWarning: Boolean Series key will be reindexed to match DataFrame index.\n",
      "  from ipykernel import kernelapp as app\n",
      "/Users/terry/anaconda3/lib/python3.6/site-packages/sklearn/ensemble/bagging.py:146: VisibleDeprecationWarning: using a non-integer number instead of an integer will result in an error in the future\n",
      "  proba[i, predictions[i]] += 1\n",
      "/Users/terry/anaconda3/lib/python3.6/site-packages/ipykernel/__main__.py:2: UserWarning: Boolean Series key will be reindexed to match DataFrame index.\n",
      "  from ipykernel import kernelapp as app\n",
      "/Users/terry/anaconda3/lib/python3.6/site-packages/sklearn/ensemble/bagging.py:146: VisibleDeprecationWarning: using a non-integer number instead of an integer will result in an error in the future\n",
      "  proba[i, predictions[i]] += 1\n"
     ]
    },
    {
     "name": "stdout",
     "output_type": "stream",
     "text": [
      "0.589953025127\n"
     ]
    }
   ],
   "source": [
    "print(train_and_test(BaggingClassifier(DecisionTreeRegressor()), df))"
   ]
  },
  {
   "cell_type": "code",
   "execution_count": 23,
   "metadata": {
    "collapsed": false
   },
   "outputs": [
    {
     "name": "stderr",
     "output_type": "stream",
     "text": [
      "/Users/terry/anaconda3/lib/python3.6/site-packages/ipykernel/__main__.py:2: UserWarning: Boolean Series key will be reindexed to match DataFrame index.\n",
      "  from ipykernel import kernelapp as app\n",
      "/Users/terry/anaconda3/lib/python3.6/site-packages/ipykernel/__main__.py:2: UserWarning: Boolean Series key will be reindexed to match DataFrame index.\n",
      "  from ipykernel import kernelapp as app\n",
      "/Users/terry/anaconda3/lib/python3.6/site-packages/ipykernel/__main__.py:2: UserWarning: Boolean Series key will be reindexed to match DataFrame index.\n",
      "  from ipykernel import kernelapp as app\n",
      "/Users/terry/anaconda3/lib/python3.6/site-packages/ipykernel/__main__.py:2: UserWarning: Boolean Series key will be reindexed to match DataFrame index.\n",
      "  from ipykernel import kernelapp as app\n",
      "/Users/terry/anaconda3/lib/python3.6/site-packages/ipykernel/__main__.py:2: UserWarning: Boolean Series key will be reindexed to match DataFrame index.\n",
      "  from ipykernel import kernelapp as app\n"
     ]
    },
    {
     "name": "stdout",
     "output_type": "stream",
     "text": [
      "0.599925549063\n"
     ]
    }
   ],
   "source": [
    "print(train_and_test(BaggingClassifier(LogisticRegression()), df))"
   ]
  },
  {
   "cell_type": "code",
   "execution_count": 24,
   "metadata": {
    "collapsed": false
   },
   "outputs": [
    {
     "name": "stderr",
     "output_type": "stream",
     "text": [
      "/Users/terry/anaconda3/lib/python3.6/site-packages/ipykernel/__main__.py:2: UserWarning: Boolean Series key will be reindexed to match DataFrame index.\n",
      "  from ipykernel import kernelapp as app\n",
      "/Users/terry/anaconda3/lib/python3.6/site-packages/ipykernel/__main__.py:2: UserWarning: Boolean Series key will be reindexed to match DataFrame index.\n",
      "  from ipykernel import kernelapp as app\n",
      "/Users/terry/anaconda3/lib/python3.6/site-packages/ipykernel/__main__.py:2: UserWarning: Boolean Series key will be reindexed to match DataFrame index.\n",
      "  from ipykernel import kernelapp as app\n",
      "/Users/terry/anaconda3/lib/python3.6/site-packages/ipykernel/__main__.py:2: UserWarning: Boolean Series key will be reindexed to match DataFrame index.\n",
      "  from ipykernel import kernelapp as app\n",
      "/Users/terry/anaconda3/lib/python3.6/site-packages/ipykernel/__main__.py:2: UserWarning: Boolean Series key will be reindexed to match DataFrame index.\n",
      "  from ipykernel import kernelapp as app\n"
     ]
    },
    {
     "name": "stdout",
     "output_type": "stream",
     "text": [
      "0.601605256362\n"
     ]
    }
   ],
   "source": [
    "print(train_and_test(BaggingClassifier(KNeighborsClassifier(n_neighbors=15)), df))"
   ]
  },
  {
   "cell_type": "code",
   "execution_count": 25,
   "metadata": {
    "collapsed": false
   },
   "outputs": [
    {
     "name": "stderr",
     "output_type": "stream",
     "text": [
      "/Users/terry/anaconda3/lib/python3.6/site-packages/ipykernel/__main__.py:2: UserWarning: Boolean Series key will be reindexed to match DataFrame index.\n",
      "  from ipykernel import kernelapp as app\n",
      "/Users/terry/anaconda3/lib/python3.6/site-packages/ipykernel/__main__.py:2: UserWarning: Boolean Series key will be reindexed to match DataFrame index.\n",
      "  from ipykernel import kernelapp as app\n",
      "/Users/terry/anaconda3/lib/python3.6/site-packages/ipykernel/__main__.py:2: UserWarning: Boolean Series key will be reindexed to match DataFrame index.\n",
      "  from ipykernel import kernelapp as app\n",
      "/Users/terry/anaconda3/lib/python3.6/site-packages/ipykernel/__main__.py:2: UserWarning: Boolean Series key will be reindexed to match DataFrame index.\n",
      "  from ipykernel import kernelapp as app\n",
      "/Users/terry/anaconda3/lib/python3.6/site-packages/ipykernel/__main__.py:2: UserWarning: Boolean Series key will be reindexed to match DataFrame index.\n",
      "  from ipykernel import kernelapp as app\n"
     ]
    },
    {
     "name": "stdout",
     "output_type": "stream",
     "text": [
      "0.6329392747\n"
     ]
    }
   ],
   "source": [
    "from sklearn.ensemble import RandomForestClassifier\n",
    "print(train_and_test(RandomForestClassifier(n_estimators=20), df))"
   ]
  },
  {
   "cell_type": "code",
   "execution_count": 26,
   "metadata": {
    "collapsed": false
   },
   "outputs": [
    {
     "name": "stderr",
     "output_type": "stream",
     "text": [
      "/Users/terry/anaconda3/lib/python3.6/site-packages/ipykernel/__main__.py:2: UserWarning: Boolean Series key will be reindexed to match DataFrame index.\n",
      "  from ipykernel import kernelapp as app\n",
      "/Users/terry/anaconda3/lib/python3.6/site-packages/ipykernel/__main__.py:2: UserWarning: Boolean Series key will be reindexed to match DataFrame index.\n",
      "  from ipykernel import kernelapp as app\n",
      "/Users/terry/anaconda3/lib/python3.6/site-packages/ipykernel/__main__.py:2: UserWarning: Boolean Series key will be reindexed to match DataFrame index.\n",
      "  from ipykernel import kernelapp as app\n",
      "/Users/terry/anaconda3/lib/python3.6/site-packages/ipykernel/__main__.py:2: UserWarning: Boolean Series key will be reindexed to match DataFrame index.\n",
      "  from ipykernel import kernelapp as app\n",
      "/Users/terry/anaconda3/lib/python3.6/site-packages/ipykernel/__main__.py:2: UserWarning: Boolean Series key will be reindexed to match DataFrame index.\n",
      "  from ipykernel import kernelapp as app\n"
     ]
    },
    {
     "name": "stdout",
     "output_type": "stream",
     "text": [
      "0.609544935276\n"
     ]
    }
   ],
   "source": [
    "from sklearn.ensemble import AdaBoostClassifier\n",
    "print(train_and_test(AdaBoostClassifier(n_estimators=100), df))"
   ]
  },
  {
   "cell_type": "code",
   "execution_count": 27,
   "metadata": {
    "collapsed": false
   },
   "outputs": [
    {
     "name": "stderr",
     "output_type": "stream",
     "text": [
      "/Users/terry/anaconda3/lib/python3.6/site-packages/ipykernel/__main__.py:2: UserWarning: Boolean Series key will be reindexed to match DataFrame index.\n",
      "  from ipykernel import kernelapp as app\n"
     ]
    },
    {
     "name": "stdout",
     "output_type": "stream",
     "text": [
      "0.586939843069\n"
     ]
    }
   ],
   "source": [
    "from sklearn.ensemble import GradientBoostingClassifier\n",
    "print(train_and_test( GradientBoostingClassifier(n_estimators=100, learning_rate=1.0,max_depth=4, random_state=0), df))"
   ]
  },
  {
   "cell_type": "code",
   "execution_count": 28,
   "metadata": {
    "collapsed": false
   },
   "outputs": [
    {
     "name": "stderr",
     "output_type": "stream",
     "text": [
      "/Users/terry/anaconda3/lib/python3.6/site-packages/sklearn/svm/classes.py:199: DeprecationWarning: loss='l2' has been deprecated in favor of loss='squared_hinge' as of 0.16. Backward compatibility for the loss='l2' will be removed in 1.0\n",
      "  DeprecationWarning)\n",
      "/Users/terry/anaconda3/lib/python3.6/site-packages/ipykernel/__main__.py:2: UserWarning: Boolean Series key will be reindexed to match DataFrame index.\n",
      "  from ipykernel import kernelapp as app\n"
     ]
    },
    {
     "name": "stdout",
     "output_type": "stream",
     "text": [
      "0.627486760632\n"
     ]
    }
   ],
   "source": [
    "from sklearn.svm import LinearSVC\n",
    "model = LinearSVC(loss='l2', penalty=\"l2\",dual=False, tol=1e-4)\n",
    "print(train_and_test(model, df))"
   ]
  },
  {
   "cell_type": "code",
   "execution_count": 38,
   "metadata": {
    "collapsed": false
   },
   "outputs": [
    {
     "data": {
      "text/plain": [
       "<bound method LinearClassifierMixin.decision_function of LinearSVC(C=1.0, class_weight=None, dual=False, fit_intercept=True,\n",
       "     intercept_scaling=1, loss='squared_hinge', max_iter=1000,\n",
       "     multi_class='ovr', penalty='l2', random_state=None, tol=0.0001,\n",
       "     verbose=0)>"
      ]
     },
     "execution_count": 38,
     "metadata": {},
     "output_type": "execute_result"
    }
   ],
   "source": [
    "model.decision_function"
   ]
  },
  {
   "cell_type": "code",
   "execution_count": 29,
   "metadata": {
    "collapsed": false
   },
   "outputs": [
    {
     "name": "stderr",
     "output_type": "stream",
     "text": [
      "/Users/terry/anaconda3/lib/python3.6/site-packages/ipykernel/__main__.py:2: UserWarning: Boolean Series key will be reindexed to match DataFrame index.\n",
      "  from ipykernel import kernelapp as app\n"
     ]
    },
    {
     "name": "stdout",
     "output_type": "stream",
     "text": [
      "0.615394273131\n"
     ]
    }
   ],
   "source": [
    "from sklearn.neural_network import MLPClassifier\n",
    "print(train_and_test(MLPClassifier(solver='lbfgs', alpha=1e-5,hidden_layer_sizes=(15,), random_state=1), df))"
   ]
  },
  {
   "cell_type": "code",
   "execution_count": null,
   "metadata": {
    "collapsed": true
   },
   "outputs": [],
   "source": []
  }
 ],
 "metadata": {
  "anaconda-cloud": {},
  "kernelspec": {
   "display_name": "Python 3",
   "language": "python",
   "name": "python3"
  },
  "language_info": {
   "codemirror_mode": {
    "name": "ipython",
    "version": 3
   },
   "file_extension": ".py",
   "mimetype": "text/x-python",
   "name": "python",
   "nbconvert_exporter": "python",
   "pygments_lexer": "ipython3",
   "version": "3.6.0"
  }
 },
 "nbformat": 4,
 "nbformat_minor": 1
}
