{
 "cells": [
  {
   "cell_type": "code",
   "execution_count": 1,
   "metadata": {
    "collapsed": true
   },
   "outputs": [],
   "source": [
    "import numpy as np\n",
    "import pandas as pd\n",
    "import matplotlib.pyplot as plt\n",
    "import seaborn as sea\n",
    "%matplotlib inline"
   ]
  },
  {
   "cell_type": "code",
   "execution_count": 2,
   "metadata": {
    "collapsed": false
   },
   "outputs": [
    {
     "name": "stderr",
     "output_type": "stream",
     "text": [
      "/Users/terry/anaconda3/lib/python3.6/site-packages/sklearn/cross_validation.py:44: DeprecationWarning: This module was deprecated in version 0.18 in favor of the model_selection module into which all the refactored classes and functions are moved. Also note that the interface of the new CV iterators are different from that of this module. This module will be removed in 0.20.\n",
      "  \"This module will be removed in 0.20.\", DeprecationWarning)\n"
     ]
    }
   ],
   "source": [
    "from sklearn.linear_model import LogisticRegression\n",
    "from sklearn.neighbors import KNeighborsClassifier\n",
    "\n",
    "from sklearn.preprocessing import binarize\n",
    "from sklearn.cross_validation import train_test_split, cross_val_score\n",
    "from sklearn import metrics"
   ]
  },
  {
   "cell_type": "code",
   "execution_count": 3,
   "metadata": {
    "collapsed": false
   },
   "outputs": [
    {
     "name": "stdout",
     "output_type": "stream",
     "text": [
      "{'version': 4, 'description': 'more code', 'min_number_of_gems': 12, 'min_months': 10, 'min_nloc': 5000, 'min_months_good': 20, 'history_months': 20, 'stopped_time_point': '2015-01-01 00:00:00 UTC', 'ignored_months_for_good': 10}\n",
      "nb_records: 437\n"
     ]
    }
   ],
   "source": [
    "import json\n",
    "\n",
    "fn = 'RubygemDigger--Steps--GenerateJsonForLastVersions--4.data.json'\n",
    "#fn = 'RubygemDigger--Steps--GenerateJsonForAllVersions--4.data.json.all.json'\n",
    "with open(fn) as f:\n",
    "    data = json.load(f)\n",
    "    d = data[\"data\"]\n",
    "    spec = data[\"spec\"]\n",
    "\n",
    "print(spec)\n",
    "#print(d[0])\n",
    "\n",
    "n_obs = len(d)\n",
    "print('nb_records:', n_obs)"
   ]
  },
  {
   "cell_type": "code",
   "execution_count": 4,
   "metadata": {
    "collapsed": false
   },
   "outputs": [
    {
     "data": {
      "text/html": [
       "<div>\n",
       "<table border=\"1\" class=\"dataframe\">\n",
       "  <thead>\n",
       "    <tr style=\"text-align: right;\">\n",
       "      <th></th>\n",
       "      <th>label</th>\n",
       "      <th>name</th>\n",
       "      <th>Attribute</th>\n",
       "      <th>BooleanParameter</th>\n",
       "      <th>ClassVariable</th>\n",
       "      <th>ControlParameter</th>\n",
       "      <th>DataClump</th>\n",
       "      <th>DuplicateMethodCall</th>\n",
       "      <th>FeatureEnvy</th>\n",
       "      <th>InstanceVariableAssumption</th>\n",
       "      <th>...</th>\n",
       "      <th>metrics_perceivedcomplexity</th>\n",
       "      <th>nloc</th>\n",
       "      <th>nloc_rate</th>\n",
       "      <th>performance_</th>\n",
       "      <th>reek_total</th>\n",
       "      <th>security_</th>\n",
       "      <th>style_</th>\n",
       "      <th>total</th>\n",
       "      <th>warning_count</th>\n",
       "      <th>version</th>\n",
       "    </tr>\n",
       "  </thead>\n",
       "  <tbody>\n",
       "    <tr>\n",
       "      <th>0</th>\n",
       "      <td>maintained</td>\n",
       "      <td>actionwebservice</td>\n",
       "      <td>4.284949</td>\n",
       "      <td>0.357079</td>\n",
       "      <td>0.000000</td>\n",
       "      <td>1.785395</td>\n",
       "      <td>1.249777</td>\n",
       "      <td>36.779147</td>\n",
       "      <td>7.498661</td>\n",
       "      <td>7.855740</td>\n",
       "      <td>...</td>\n",
       "      <td>1.249777</td>\n",
       "      <td>5601</td>\n",
       "      <td>0.24</td>\n",
       "      <td>0.535619</td>\n",
       "      <td>164.792001</td>\n",
       "      <td>0.000000</td>\n",
       "      <td>62.131762</td>\n",
       "      <td>0.714158</td>\n",
       "      <td>6.248884</td>\n",
       "      <td>1.2.6</td>\n",
       "    </tr>\n",
       "    <tr>\n",
       "      <th>1</th>\n",
       "      <td>maintained</td>\n",
       "      <td>adlint</td>\n",
       "      <td>0.753580</td>\n",
       "      <td>0.192403</td>\n",
       "      <td>0.016034</td>\n",
       "      <td>1.635428</td>\n",
       "      <td>0.721512</td>\n",
       "      <td>26.968526</td>\n",
       "      <td>11.223525</td>\n",
       "      <td>2.164537</td>\n",
       "      <td>...</td>\n",
       "      <td>0.048101</td>\n",
       "      <td>62369</td>\n",
       "      <td>0.34</td>\n",
       "      <td>0.240504</td>\n",
       "      <td>124.388719</td>\n",
       "      <td>0.064134</td>\n",
       "      <td>4.970418</td>\n",
       "      <td>0.096202</td>\n",
       "      <td>3.639629</td>\n",
       "      <td>3.2.14</td>\n",
       "    </tr>\n",
       "    <tr>\n",
       "      <th>2</th>\n",
       "      <td>maintained</td>\n",
       "      <td>amee</td>\n",
       "      <td>1.486252</td>\n",
       "      <td>0.619272</td>\n",
       "      <td>0.247709</td>\n",
       "      <td>0.371563</td>\n",
       "      <td>0.123854</td>\n",
       "      <td>26.628685</td>\n",
       "      <td>1.981670</td>\n",
       "      <td>3.467922</td>\n",
       "      <td>...</td>\n",
       "      <td>0.866980</td>\n",
       "      <td>8074</td>\n",
       "      <td>0.23</td>\n",
       "      <td>0.866980</td>\n",
       "      <td>74.808026</td>\n",
       "      <td>0.123854</td>\n",
       "      <td>42.605895</td>\n",
       "      <td>0.371563</td>\n",
       "      <td>7.926678</td>\n",
       "      <td>4.4.0</td>\n",
       "    </tr>\n",
       "    <tr>\n",
       "      <th>3</th>\n",
       "      <td>maintained</td>\n",
       "      <td>amq-client</td>\n",
       "      <td>1.084011</td>\n",
       "      <td>7.407407</td>\n",
       "      <td>0.361337</td>\n",
       "      <td>0.722674</td>\n",
       "      <td>0.180668</td>\n",
       "      <td>3.613369</td>\n",
       "      <td>1.264679</td>\n",
       "      <td>4.878049</td>\n",
       "      <td>...</td>\n",
       "      <td>0.180668</td>\n",
       "      <td>5535</td>\n",
       "      <td>0.02</td>\n",
       "      <td>1.084011</td>\n",
       "      <td>47.877145</td>\n",
       "      <td>0.180668</td>\n",
       "      <td>30.894309</td>\n",
       "      <td>0.361337</td>\n",
       "      <td>0.903342</td>\n",
       "      <td>1.0.4</td>\n",
       "    </tr>\n",
       "    <tr>\n",
       "      <th>4</th>\n",
       "      <td>maintained</td>\n",
       "      <td>antlr3</td>\n",
       "      <td>4.892856</td>\n",
       "      <td>0.453042</td>\n",
       "      <td>0.000000</td>\n",
       "      <td>1.132605</td>\n",
       "      <td>0.226521</td>\n",
       "      <td>17.940470</td>\n",
       "      <td>2.310515</td>\n",
       "      <td>3.443121</td>\n",
       "      <td>...</td>\n",
       "      <td>0.181217</td>\n",
       "      <td>22073</td>\n",
       "      <td>0.33</td>\n",
       "      <td>0.090608</td>\n",
       "      <td>77.742038</td>\n",
       "      <td>0.090608</td>\n",
       "      <td>17.170299</td>\n",
       "      <td>0.407738</td>\n",
       "      <td>3.624337</td>\n",
       "      <td>1.10.0</td>\n",
       "    </tr>\n",
       "  </tbody>\n",
       "</table>\n",
       "<p>5 rows × 57 columns</p>\n",
       "</div>"
      ],
      "text/plain": [
       "        label              name  Attribute  BooleanParameter  ClassVariable  \\\n",
       "0  maintained  actionwebservice   4.284949          0.357079       0.000000   \n",
       "1  maintained            adlint   0.753580          0.192403       0.016034   \n",
       "2  maintained              amee   1.486252          0.619272       0.247709   \n",
       "3  maintained        amq-client   1.084011          7.407407       0.361337   \n",
       "4  maintained            antlr3   4.892856          0.453042       0.000000   \n",
       "\n",
       "   ControlParameter  DataClump  DuplicateMethodCall  FeatureEnvy  \\\n",
       "0          1.785395   1.249777            36.779147     7.498661   \n",
       "1          1.635428   0.721512            26.968526    11.223525   \n",
       "2          0.371563   0.123854            26.628685     1.981670   \n",
       "3          0.722674   0.180668             3.613369     1.264679   \n",
       "4          1.132605   0.226521            17.940470     2.310515   \n",
       "\n",
       "   InstanceVariableAssumption   ...     metrics_perceivedcomplexity   nloc  \\\n",
       "0                    7.855740   ...                        1.249777   5601   \n",
       "1                    2.164537   ...                        0.048101  62369   \n",
       "2                    3.467922   ...                        0.866980   8074   \n",
       "3                    4.878049   ...                        0.180668   5535   \n",
       "4                    3.443121   ...                        0.181217  22073   \n",
       "\n",
       "   nloc_rate  performance_  reek_total  security_     style_     total  \\\n",
       "0       0.24      0.535619  164.792001   0.000000  62.131762  0.714158   \n",
       "1       0.34      0.240504  124.388719   0.064134   4.970418  0.096202   \n",
       "2       0.23      0.866980   74.808026   0.123854  42.605895  0.371563   \n",
       "3       0.02      1.084011   47.877145   0.180668  30.894309  0.361337   \n",
       "4       0.33      0.090608   77.742038   0.090608  17.170299  0.407738   \n",
       "\n",
       "   warning_count  version  \n",
       "0       6.248884    1.2.6  \n",
       "1       3.639629   3.2.14  \n",
       "2       7.926678    4.4.0  \n",
       "3       0.903342    1.0.4  \n",
       "4       3.624337   1.10.0  \n",
       "\n",
       "[5 rows x 57 columns]"
      ]
     },
     "execution_count": 4,
     "metadata": {},
     "output_type": "execute_result"
    }
   ],
   "source": [
    "df = pd.io.json.json_normalize(d)\n",
    "\n",
    "old_new_cols = {}\n",
    "for name in df.columns:\n",
    "    if name.startswith('stat'):\n",
    "        old_new_cols[name] = name.split('.')[1]\n",
    "\n",
    "df.rename(columns=old_new_cols, inplace=True)\n",
    "df.head()"
   ]
  },
  {
   "cell_type": "code",
   "execution_count": 5,
   "metadata": {
    "collapsed": true
   },
   "outputs": [],
   "source": [
    "reek_columns =[\n",
    "    'reek_total',\n",
    " 'Attribute',\n",
    " 'BooleanParameter',\n",
    " 'ClassVariable',\n",
    " 'ControlParameter',\n",
    " 'DataClump',\n",
    " 'DuplicateMethodCall',\n",
    " 'FeatureEnvy',\n",
    " 'InstanceVariableAssumption',\n",
    " 'IrresponsibleModule',\n",
    " 'LongParameterList',\n",
    " 'LongYieldList',\n",
    " 'ManualDispatch',\n",
    " 'ModuleInitialize',\n",
    " 'NestedIterators',\n",
    " 'NilCheck',\n",
    " 'PrimaDonnaMethod',\n",
    " 'RepeatedConditional',\n",
    " 'SubclassedFromCoreClass',\n",
    " 'TooManyConstants',\n",
    " 'TooManyInstanceVariables',\n",
    " 'TooManyMethods',\n",
    " 'TooManyStatements',\n",
    " 'UncommunicativeMethodName',\n",
    " 'UncommunicativeModuleName',\n",
    " 'UncommunicativeParameterName',\n",
    " 'UncommunicativeVariableName',\n",
    " 'UnusedParameters',\n",
    " 'UtilityFunction',\n",
    " 'delta_Attribute',\n",
    " 'delta_BooleanParameter',\n",
    " 'delta_ClassVariable',\n",
    " 'delta_ControlParameter',\n",
    " 'delta_DataClump',\n",
    " 'delta_DuplicateMethodCall',\n",
    " 'delta_FeatureEnvy',\n",
    " 'delta_InstanceVariableAssumption',\n",
    " 'delta_IrresponsibleModule',\n",
    " 'delta_LongParameterList',\n",
    " 'delta_LongYieldList',\n",
    " 'delta_ManualDispatch',\n",
    " 'delta_ModuleInitialize',\n",
    " 'delta_NestedIterators',\n",
    " 'delta_NilCheck',\n",
    " 'delta_PrimaDonnaMethod',\n",
    " 'delta_RepeatedConditional',\n",
    " 'delta_SubclassedFromCoreClass',\n",
    " 'delta_TooManyConstants',\n",
    " 'delta_TooManyInstanceVariables',\n",
    " 'delta_TooManyMethods',\n",
    " 'delta_TooManyStatements',\n",
    " 'delta_UncommunicativeMethodName',\n",
    " 'delta_UncommunicativeModuleName',\n",
    " 'delta_UncommunicativeParameterName',\n",
    " 'delta_UncommunicativeVariableName',\n",
    " 'delta_UnusedParameters',\n",
    " 'delta_UtilityFunction',\n",
    " 'delta_reek_total']\n",
    "lizard_columns = [\n",
    " 'avg_ccn',\n",
    " 'avg_nloc',\n",
    " 'avg_token',\n",
    " 'fun_count',\n",
    " 'fun_rate',\n",
    " 'nloc_rate',\n",
    " 'warning_count',\n",
    " 'delta_avg_ccn',\n",
    " 'delta_avg_nloc',\n",
    " 'delta_avg_token',\n",
    " 'delta_fun_count',\n",
    " 'delta_fun_rate',\n",
    " 'delta_warning_count',\n",
    "\n",
    "]\n",
    "\n",
    "rubocop_columns = [\n",
    " 'delta_lint_',\n",
    " 'delta_lint_duplicate',\n",
    " 'delta_metrics_abcsize',\n",
    " 'delta_metrics_blocklength',\n",
    " 'delta_metrics_blocknesting',\n",
    " 'delta_metrics_classlength',\n",
    " 'delta_metrics_cyclomaticcomplexity',\n",
    " 'delta_metrics_linelength',\n",
    " 'delta_metrics_methodlength',\n",
    " 'delta_metrics_modulelength',\n",
    " 'delta_metrics_parameterlists',\n",
    " 'delta_metrics_perceivedcomplexity',\n",
    " 'delta_nloc',\n",
    " 'delta_nloc_rate',\n",
    " 'delta_style_',\n",
    " 'delta_total',\n",
    "        'delta_performance_',\n",
    "    'delta_security_',\n",
    "    'delta_metrics_',\n",
    " 'lint_',\n",
    " 'lint_duplicate',\n",
    " 'metrics_abcsize',\n",
    " 'metrics_blocklength',\n",
    " 'metrics_blocknesting',\n",
    " 'metrics_classlength',\n",
    " 'metrics_cyclomaticcomplexity',\n",
    " 'metrics_linelength',\n",
    " 'metrics_methodlength',\n",
    " 'metrics_modulelength',\n",
    " 'metrics_parameterlists',\n",
    " 'metrics_perceivedcomplexity',\n",
    " 'style_',\n",
    "    'performance_',\n",
    "    'security_',\n",
    "    'metrics_',\n",
    " 'total',\n",
    " ]"
   ]
  },
  {
   "cell_type": "code",
   "execution_count": 6,
   "metadata": {
    "collapsed": false
   },
   "outputs": [
    {
     "name": "stdout",
     "output_type": "stream",
     "text": [
      "Empty DataFrame\n",
      "Columns: [name, version]\n",
      "Index: []\n"
     ]
    }
   ],
   "source": [
    "rows_with_NaNs = pd.isnull(df).any(1).nonzero()[0]\n",
    "print(df.ix[rows_with_NaNs][['name', 'version']])"
   ]
  },
  {
   "cell_type": "code",
   "execution_count": 7,
   "metadata": {
    "collapsed": false
   },
   "outputs": [
    {
     "name": "stdout",
     "output_type": "stream",
     "text": [
      "(437, 57)\n"
     ]
    }
   ],
   "source": [
    "print(df.shape)\n",
    "if len(rows_with_NaNs) > 0:\n",
    "    df.dropna(inplace=True)\n",
    "    print(df.shape)"
   ]
  },
  {
   "cell_type": "code",
   "execution_count": 8,
   "metadata": {
    "collapsed": false
   },
   "outputs": [
    {
     "name": "stdout",
     "output_type": "stream",
     "text": [
      "['avg_ccn', 'avg_nloc', 'avg_token', 'fun_count', 'warning_count', 'fun_rate', 'nloc_rate', 'style_', 'performance_', 'security_', 'lint_', 'lint_duplicate', 'metrics_', 'metrics_abcsize', 'metrics_blocklength', 'metrics_blocknesting', 'metrics_classlength', 'metrics_cyclomaticcomplexity', 'metrics_linelength', 'metrics_methodlength', 'metrics_modulelength', 'metrics_parameterlists', 'metrics_perceivedcomplexity', 'total', 'DuplicateMethodCall', 'FeatureEnvy', 'IrresponsibleModule', 'NilCheck', 'TooManyConstants', 'TooManyMethods', 'UncommunicativeVariableName', 'TooManyStatements', 'UnusedParameters', 'InstanceVariableAssumption', 'TooManyInstanceVariables', 'UtilityFunction', 'PrimaDonnaMethod', 'NestedIterators', 'DataClump', 'UncommunicativeMethodName', 'LongParameterList', 'UncommunicativeParameterName', 'ControlParameter', 'ManualDispatch', 'RepeatedConditional', 'Attribute', 'BooleanParameter', 'SubclassedFromCoreClass', 'UncommunicativeModuleName', 'ModuleInitialize', 'ClassVariable', 'LongYieldList', 'reek_total']\n"
     ]
    }
   ],
   "source": [
    "exclude = ['nloc',] #+ reek_columns + lizard_columns #+ reek_columns\n",
    "features = [k for k, v in d[0]['stat'].items() if k not in exclude]\n",
    "#features = [k for k in features if k.startswith(\"delta\")]\n",
    "print(features)\n",
    "\n",
    "\n",
    "X = df[features]\n",
    "y = (df.label == 'maintained').values.astype(int)"
   ]
  },
  {
   "cell_type": "code",
   "execution_count": 9,
   "metadata": {
    "collapsed": true
   },
   "outputs": [],
   "source": [
    "def label_counts_summary(data, label='unknow'):\n",
    "    N = len(data)\n",
    "    N_ones = data.sum()\n",
    "    print('''\n",
    "label: {}\n",
    "nb. of observations: {}\n",
    "nb. of ones (good gems): {}\n",
    "frequency: {:.3f}\n",
    "    '''.format(label, N, N_ones, 1.0 * N_ones / N))"
   ]
  },
  {
   "cell_type": "code",
   "execution_count": 10,
   "metadata": {
    "collapsed": false
   },
   "outputs": [
    {
     "name": "stdout",
     "output_type": "stream",
     "text": [
      "\n",
      "label: Full set\n",
      "nb. of observations: 437\n",
      "nb. of ones (good gems): 139\n",
      "frequency: 0.318\n",
      "    \n",
      "\n",
      "label: Training set\n",
      "nb. of observations: 305\n",
      "nb. of ones (good gems): 103\n",
      "frequency: 0.338\n",
      "    \n",
      "\n",
      "label: Test set\n",
      "nb. of observations: 132\n",
      "nb. of ones (good gems): 36\n",
      "frequency: 0.273\n",
      "    \n"
     ]
    }
   ],
   "source": [
    "label_counts_summary(y, label='Full set')\n",
    "\n",
    "# split full dataset into 70% training and 30% test data\n",
    "# test data is used only to evalute the model's prediction performance\n",
    "X_train, X_test, y_train, y_test = train_test_split(X, y, test_size=0.3)\n",
    "\n",
    "label_counts_summary(y_train, label='Training set')\n",
    "label_counts_summary(y_test, label='Test set')"
   ]
  },
  {
   "cell_type": "markdown",
   "metadata": {},
   "source": [
    "# Classify using LogisticRegression"
   ]
  },
  {
   "cell_type": "code",
   "execution_count": 11,
   "metadata": {
    "collapsed": false
   },
   "outputs": [
    {
     "name": "stdout",
     "output_type": "stream",
     "text": [
      "             precision    recall  f1-score   support\n",
      "\n",
      "          0       0.74      0.72      0.73        96\n",
      "          1       0.31      0.33      0.32        36\n",
      "\n",
      "avg / total       0.62      0.61      0.62       132\n",
      "\n",
      "0.613636363636\n"
     ]
    }
   ],
   "source": [
    "model = LogisticRegression()\n",
    "model.fit(X_train, y_train)\n",
    "\n",
    "y_pred = model.predict(X_test)\n",
    "\n",
    "print(metrics.classification_report(y_test, y_pred))\n",
    "print(metrics.accuracy_score(y_test, y_pred))  # % of correct predictions"
   ]
  },
  {
   "cell_type": "code",
   "execution_count": 12,
   "metadata": {
    "collapsed": false
   },
   "outputs": [
    {
     "name": "stdout",
     "output_type": "stream",
     "text": [
      "[[ 0.30942652  0.69057348]\n",
      " [ 0.49443086  0.50556914]\n",
      " [ 0.38527155  0.61472845]]\n",
      "0.613636363636\n"
     ]
    }
   ],
   "source": [
    "# generate predictions based on classification probability\n",
    "y_pred_proba = model.predict_proba(X_test)\n",
    "\n",
    "print(y_pred_proba[:3])\n",
    "\n",
    "thresh = 0.5\n",
    "y_pred_good = binarize([y_pred_proba[:,1]], thresh)[0]\n",
    "\n",
    "print(metrics.accuracy_score(y_test, y_pred_good))"
   ]
  },
  {
   "cell_type": "markdown",
   "metadata": {},
   "source": [
    "## k-fold cross-validation\n",
    "\n",
    "Split data into 10 blocks and use 1 as testing and 9 others as training. Repeat 10 times with different block as testing block. Good for verifying dependency on outliers."
   ]
  },
  {
   "cell_type": "code",
   "execution_count": 13,
   "metadata": {
    "collapsed": false,
    "scrolled": true
   },
   "outputs": [
    {
     "name": "stdout",
     "output_type": "stream",
     "text": [
      "[ 0.65909091  0.77272727  0.52272727  0.72727273  0.56818182  0.84090909\n",
      "  0.65909091  0.59090909  0.65116279  0.66666667]\n",
      "0.665873854827 0.0904368635065\n"
     ]
    }
   ],
   "source": [
    "model = LogisticRegression()\n",
    "scores = cross_val_score(model, X, y, cv=10, scoring='accuracy')\n",
    "print(scores)\n",
    "print(scores.mean(), scores.std())"
   ]
  },
  {
   "cell_type": "markdown",
   "metadata": {},
   "source": [
    "# Classify using kNN"
   ]
  },
  {
   "cell_type": "code",
   "execution_count": 14,
   "metadata": {
    "collapsed": false
   },
   "outputs": [
    {
     "data": {
      "text/plain": [
       "<matplotlib.text.Text at 0x112724438>"
      ]
     },
     "execution_count": 14,
     "metadata": {},
     "output_type": "execute_result"
    },
    {
     "data": {
      "image/png": "[encoded data removed]",
      "text/plain": [
       "<matplotlib.figure.Figure at 0x112760710>"
      ]
     },
     "metadata": {},
     "output_type": "display_data"
    }
   ],
   "source": [
    "X_train, X_test, y_train, y_test = train_test_split(X, y, test_size=0.3)\n",
    "\n",
    "nb_range = np.arange(1, 31)\n",
    "a_scores = []\n",
    "\n",
    "for nb in nb_range:\n",
    "    model = KNeighborsClassifier(n_neighbors=nb)\n",
    "    model.fit(X_train, y_train)\n",
    "    y_pred = model.predict(X_test)\n",
    "    a_scores.append(metrics.accuracy_score(y_test, y_pred))\n",
    "    \n",
    "plt.plot(nb_range, a_scores, 'o-')\n",
    "plt.ylabel('Testing accuracy')\n",
    "plt.xlabel('k neighbours')"
   ]
  },
  {
   "cell_type": "code",
   "execution_count": 15,
   "metadata": {
    "collapsed": false
   },
   "outputs": [
    {
     "name": "stderr",
     "output_type": "stream",
     "text": [
      "/Users/terry/anaconda3/lib/python3.6/site-packages/sklearn/grid_search.py:43: DeprecationWarning: This module was deprecated in version 0.18 in favor of the model_selection module into which all the refactored classes and functions are moved. This module will be removed in 0.20.\n",
      "  DeprecationWarning)\n"
     ]
    }
   ],
   "source": [
    "from sklearn.grid_search import GridSearchCV"
   ]
  },
  {
   "cell_type": "code",
   "execution_count": 16,
   "metadata": {
    "collapsed": false
   },
   "outputs": [
    {
     "name": "stdout",
     "output_type": "stream",
     "text": [
      "0.6819221967963387\n",
      "{'n_neighbors': 27, 'weights': 'uniform'}\n",
      "KNeighborsClassifier(algorithm='auto', leaf_size=30, metric='minkowski',\n",
      "           metric_params=None, n_jobs=1, n_neighbors=27, p=2,\n",
      "           weights='uniform')\n"
     ]
    }
   ],
   "source": [
    "k_range = list(range(1, 31))\n",
    "weight_options = ['uniform', 'distance']\n",
    "param_grid = dict(n_neighbors=k_range, weights=weight_options)\n",
    "\n",
    "knn = KNeighborsClassifier()\n",
    "\n",
    "grid = GridSearchCV(knn, param_grid, cv=10, scoring='accuracy')\n",
    "grid.fit(X, y)\n",
    "\n",
    "\n",
    "# examine the best model\n",
    "print(grid.best_score_)\n",
    "print(grid.best_params_)\n",
    "print(grid.best_estimator_)"
   ]
  },
  {
   "cell_type": "markdown",
   "metadata": {
    "collapsed": true
   },
   "source": [
    "# Ensemble"
   ]
  },
  {
   "cell_type": "code",
   "execution_count": 17,
   "metadata": {
    "collapsed": true
   },
   "outputs": [],
   "source": [
    "from sklearn.ensemble import BaggingRegressor\n",
    "from sklearn.tree import DecisionTreeRegressor"
   ]
  },
  {
   "cell_type": "code",
   "execution_count": 18,
   "metadata": {
    "collapsed": false
   },
   "outputs": [
    {
     "ename": "KeyError",
     "evalue": "'age'",
     "output_type": "error",
     "traceback": [
      "\u001b[0;31m---------------------------------------------------------------------------\u001b[0m",
      "\u001b[0;31mKeyError\u001b[0m                                  Traceback (most recent call last)",
      "\u001b[0;32m<ipython-input-18-9cca97624727>\u001b[0m in \u001b[0;36m<module>\u001b[0;34m()\u001b[0m\n\u001b[1;32m      1\u001b[0m \u001b[0;34m\u001b[0m\u001b[0m\n\u001b[0;32m----> 2\u001b[0;31m \u001b[0mdtrain\u001b[0m \u001b[0;34m=\u001b[0m \u001b[0mlist\u001b[0m\u001b[0;34m(\u001b[0m\u001b[0mx\u001b[0m \u001b[0;32mfor\u001b[0m \u001b[0mx\u001b[0m \u001b[0;32min\u001b[0m \u001b[0md\u001b[0m \u001b[0;32mif\u001b[0m \u001b[0mx\u001b[0m\u001b[0;34m[\u001b[0m\u001b[0;34m\"stat\"\u001b[0m\u001b[0;34m]\u001b[0m\u001b[0;34m[\u001b[0m\u001b[0;34m\"age\"\u001b[0m\u001b[0;34m]\u001b[0m\u001b[0;34m!=\u001b[0m\u001b[0;36m0\u001b[0m \u001b[0;32mand\u001b[0m \u001b[0;32mnot\u001b[0m\u001b[0;34m(\u001b[0m\u001b[0mx\u001b[0m\u001b[0;34m[\u001b[0m\u001b[0;34m\"name\"\u001b[0m\u001b[0;34m]\u001b[0m\u001b[0;34m.\u001b[0m\u001b[0mstartswith\u001b[0m\u001b[0;34m(\u001b[0m\u001b[0;34m\"t\"\u001b[0m\u001b[0;34m)\u001b[0m \u001b[0;32mor\u001b[0m  \u001b[0mx\u001b[0m\u001b[0;34m[\u001b[0m\u001b[0;34m\"name\"\u001b[0m\u001b[0;34m]\u001b[0m\u001b[0;34m.\u001b[0m\u001b[0mstartswith\u001b[0m\u001b[0;34m(\u001b[0m\u001b[0;34m\"s\"\u001b[0m\u001b[0;34m)\u001b[0m \u001b[0;32mor\u001b[0m \u001b[0mx\u001b[0m\u001b[0;34m[\u001b[0m\u001b[0;34m\"name\"\u001b[0m\u001b[0;34m]\u001b[0m\u001b[0;34m.\u001b[0m\u001b[0mstartswith\u001b[0m\u001b[0;34m(\u001b[0m\u001b[0;34m\"r\"\u001b[0m\u001b[0;34m)\u001b[0m \u001b[0;32mor\u001b[0m \u001b[0mx\u001b[0m\u001b[0;34m[\u001b[0m\u001b[0;34m\"name\"\u001b[0m\u001b[0;34m]\u001b[0m\u001b[0;34m.\u001b[0m\u001b[0mstartswith\u001b[0m\u001b[0;34m(\u001b[0m\u001b[0;34m\"d\"\u001b[0m\u001b[0;34m)\u001b[0m\u001b[0;34m)\u001b[0m\u001b[0;34m)\u001b[0m\u001b[0;34m\u001b[0m\u001b[0m\n\u001b[0m\u001b[1;32m      3\u001b[0m \u001b[0;34m\u001b[0m\u001b[0m\n\u001b[1;32m      4\u001b[0m \u001b[0mdtest\u001b[0m \u001b[0;34m=\u001b[0m \u001b[0mlist\u001b[0m\u001b[0;34m(\u001b[0m\u001b[0mx\u001b[0m \u001b[0;32mfor\u001b[0m \u001b[0mx\u001b[0m \u001b[0;32min\u001b[0m \u001b[0md\u001b[0m \u001b[0;32mif\u001b[0m  \u001b[0mx\u001b[0m\u001b[0;34m[\u001b[0m\u001b[0;34m\"stat\"\u001b[0m\u001b[0;34m]\u001b[0m\u001b[0;34m[\u001b[0m\u001b[0;34m\"age\"\u001b[0m\u001b[0;34m]\u001b[0m\u001b[0;34m!=\u001b[0m\u001b[0;36m0\u001b[0m \u001b[0;32mand\u001b[0m \u001b[0;34m(\u001b[0m\u001b[0mx\u001b[0m\u001b[0;34m[\u001b[0m\u001b[0;34m\"name\"\u001b[0m\u001b[0;34m]\u001b[0m\u001b[0;34m.\u001b[0m\u001b[0mstartswith\u001b[0m\u001b[0;34m(\u001b[0m\u001b[0;34m\"t\"\u001b[0m\u001b[0;34m)\u001b[0m \u001b[0;32mor\u001b[0m  \u001b[0mx\u001b[0m\u001b[0;34m[\u001b[0m\u001b[0;34m\"name\"\u001b[0m\u001b[0;34m]\u001b[0m\u001b[0;34m.\u001b[0m\u001b[0mstartswith\u001b[0m\u001b[0;34m(\u001b[0m\u001b[0;34m\"s\"\u001b[0m\u001b[0;34m)\u001b[0m \u001b[0;32mor\u001b[0m \u001b[0mx\u001b[0m\u001b[0;34m[\u001b[0m\u001b[0;34m\"name\"\u001b[0m\u001b[0;34m]\u001b[0m\u001b[0;34m.\u001b[0m\u001b[0mstartswith\u001b[0m\u001b[0;34m(\u001b[0m\u001b[0;34m\"r\"\u001b[0m\u001b[0;34m)\u001b[0m  \u001b[0;32mor\u001b[0m \u001b[0mx\u001b[0m\u001b[0;34m[\u001b[0m\u001b[0;34m\"name\"\u001b[0m\u001b[0;34m]\u001b[0m\u001b[0;34m.\u001b[0m\u001b[0mstartswith\u001b[0m\u001b[0;34m(\u001b[0m\u001b[0;34m\"d\"\u001b[0m\u001b[0;34m)\u001b[0m\u001b[0;34m)\u001b[0m\u001b[0;34m)\u001b[0m\u001b[0;34m\u001b[0m\u001b[0m\n\u001b[1;32m      5\u001b[0m \u001b[0;34m\u001b[0m\u001b[0m\n",
      "\u001b[0;32m<ipython-input-18-9cca97624727>\u001b[0m in \u001b[0;36m<genexpr>\u001b[0;34m(.0)\u001b[0m\n\u001b[1;32m      1\u001b[0m \u001b[0;34m\u001b[0m\u001b[0m\n\u001b[0;32m----> 2\u001b[0;31m \u001b[0mdtrain\u001b[0m \u001b[0;34m=\u001b[0m \u001b[0mlist\u001b[0m\u001b[0;34m(\u001b[0m\u001b[0mx\u001b[0m \u001b[0;32mfor\u001b[0m \u001b[0mx\u001b[0m \u001b[0;32min\u001b[0m \u001b[0md\u001b[0m \u001b[0;32mif\u001b[0m \u001b[0mx\u001b[0m\u001b[0;34m[\u001b[0m\u001b[0;34m\"stat\"\u001b[0m\u001b[0;34m]\u001b[0m\u001b[0;34m[\u001b[0m\u001b[0;34m\"age\"\u001b[0m\u001b[0;34m]\u001b[0m\u001b[0;34m!=\u001b[0m\u001b[0;36m0\u001b[0m \u001b[0;32mand\u001b[0m \u001b[0;32mnot\u001b[0m\u001b[0;34m(\u001b[0m\u001b[0mx\u001b[0m\u001b[0;34m[\u001b[0m\u001b[0;34m\"name\"\u001b[0m\u001b[0;34m]\u001b[0m\u001b[0;34m.\u001b[0m\u001b[0mstartswith\u001b[0m\u001b[0;34m(\u001b[0m\u001b[0;34m\"t\"\u001b[0m\u001b[0;34m)\u001b[0m \u001b[0;32mor\u001b[0m  \u001b[0mx\u001b[0m\u001b[0;34m[\u001b[0m\u001b[0;34m\"name\"\u001b[0m\u001b[0;34m]\u001b[0m\u001b[0;34m.\u001b[0m\u001b[0mstartswith\u001b[0m\u001b[0;34m(\u001b[0m\u001b[0;34m\"s\"\u001b[0m\u001b[0;34m)\u001b[0m \u001b[0;32mor\u001b[0m \u001b[0mx\u001b[0m\u001b[0;34m[\u001b[0m\u001b[0;34m\"name\"\u001b[0m\u001b[0;34m]\u001b[0m\u001b[0;34m.\u001b[0m\u001b[0mstartswith\u001b[0m\u001b[0;34m(\u001b[0m\u001b[0;34m\"r\"\u001b[0m\u001b[0;34m)\u001b[0m \u001b[0;32mor\u001b[0m \u001b[0mx\u001b[0m\u001b[0;34m[\u001b[0m\u001b[0;34m\"name\"\u001b[0m\u001b[0;34m]\u001b[0m\u001b[0;34m.\u001b[0m\u001b[0mstartswith\u001b[0m\u001b[0;34m(\u001b[0m\u001b[0;34m\"d\"\u001b[0m\u001b[0;34m)\u001b[0m\u001b[0;34m)\u001b[0m\u001b[0;34m)\u001b[0m\u001b[0;34m\u001b[0m\u001b[0m\n\u001b[0m\u001b[1;32m      3\u001b[0m \u001b[0;34m\u001b[0m\u001b[0m\n\u001b[1;32m      4\u001b[0m \u001b[0mdtest\u001b[0m \u001b[0;34m=\u001b[0m \u001b[0mlist\u001b[0m\u001b[0;34m(\u001b[0m\u001b[0mx\u001b[0m \u001b[0;32mfor\u001b[0m \u001b[0mx\u001b[0m \u001b[0;32min\u001b[0m \u001b[0md\u001b[0m \u001b[0;32mif\u001b[0m  \u001b[0mx\u001b[0m\u001b[0;34m[\u001b[0m\u001b[0;34m\"stat\"\u001b[0m\u001b[0;34m]\u001b[0m\u001b[0;34m[\u001b[0m\u001b[0;34m\"age\"\u001b[0m\u001b[0;34m]\u001b[0m\u001b[0;34m!=\u001b[0m\u001b[0;36m0\u001b[0m \u001b[0;32mand\u001b[0m \u001b[0;34m(\u001b[0m\u001b[0mx\u001b[0m\u001b[0;34m[\u001b[0m\u001b[0;34m\"name\"\u001b[0m\u001b[0;34m]\u001b[0m\u001b[0;34m.\u001b[0m\u001b[0mstartswith\u001b[0m\u001b[0;34m(\u001b[0m\u001b[0;34m\"t\"\u001b[0m\u001b[0;34m)\u001b[0m \u001b[0;32mor\u001b[0m  \u001b[0mx\u001b[0m\u001b[0;34m[\u001b[0m\u001b[0;34m\"name\"\u001b[0m\u001b[0;34m]\u001b[0m\u001b[0;34m.\u001b[0m\u001b[0mstartswith\u001b[0m\u001b[0;34m(\u001b[0m\u001b[0;34m\"s\"\u001b[0m\u001b[0;34m)\u001b[0m \u001b[0;32mor\u001b[0m \u001b[0mx\u001b[0m\u001b[0;34m[\u001b[0m\u001b[0;34m\"name\"\u001b[0m\u001b[0;34m]\u001b[0m\u001b[0;34m.\u001b[0m\u001b[0mstartswith\u001b[0m\u001b[0;34m(\u001b[0m\u001b[0;34m\"r\"\u001b[0m\u001b[0;34m)\u001b[0m  \u001b[0;32mor\u001b[0m \u001b[0mx\u001b[0m\u001b[0;34m[\u001b[0m\u001b[0;34m\"name\"\u001b[0m\u001b[0;34m]\u001b[0m\u001b[0;34m.\u001b[0m\u001b[0mstartswith\u001b[0m\u001b[0;34m(\u001b[0m\u001b[0;34m\"d\"\u001b[0m\u001b[0;34m)\u001b[0m\u001b[0;34m)\u001b[0m\u001b[0;34m)\u001b[0m\u001b[0;34m\u001b[0m\u001b[0m\n\u001b[1;32m      5\u001b[0m \u001b[0;34m\u001b[0m\u001b[0m\n",
      "\u001b[0;31mKeyError\u001b[0m: 'age'"
     ]
    }
   ],
   "source": [
    "\n",
    "dtrain = list(x for x in d if x[\"stat\"][\"age\"]!=0 and not(x[\"name\"].startswith(\"t\") or  x[\"name\"].startswith(\"s\") or x[\"name\"].startswith(\"r\") or x[\"name\"].startswith(\"d\")))\n",
    "\n",
    "dtest = list(x for x in d if  x[\"stat\"][\"age\"]!=0 and (x[\"name\"].startswith(\"t\") or  x[\"name\"].startswith(\"s\") or x[\"name\"].startswith(\"r\")  or x[\"name\"].startswith(\"d\")))\n",
    "\n",
    "dftrain = pd.io.json.json_normalize(dtrain)\n",
    "dftest = pd.io.json.json_normalize(dtest)\n",
    "dftrain.rename(columns=old_new_cols, inplace=True)\n",
    "dftest.rename(columns=old_new_cols, inplace=True)"
   ]
  },
  {
   "cell_type": "code",
   "execution_count": null,
   "metadata": {
    "collapsed": false
   },
   "outputs": [],
   "source": [
    "def manual_tested_ensemble_bagging_with(model):\n",
    "    accuracies = 0.0\n",
    "    estimator = model\n",
    "    X_train = dftrain[features]\n",
    "    y_train = (dftrain.label == 'maintained').values.astype(int)\n",
    "\n",
    "    X_test = dftest[features]\n",
    "    y_test = (dftest.label == 'maintained').values.astype(int)\n",
    "\n",
    "    estimator.fit(X_train, y_train)\n",
    "\n",
    "    y_pred = estimator.predict(X_test)\n",
    "    thresh = 0.5\n",
    "    y_pred_good = binarize([y_pred[:]], thresh)[0]\n",
    "    accuracies +=metrics.accuracy_score(y_test, y_pred_good)\n",
    "\n",
    "    return accuracies\n"
   ]
  },
  {
   "cell_type": "code",
   "execution_count": null,
   "metadata": {
    "collapsed": false
   },
   "outputs": [],
   "source": [
    "manual_tested_ensemble_bagging_with(DecisionTreeRegressor())"
   ]
  },
  {
   "cell_type": "code",
   "execution_count": null,
   "metadata": {
    "collapsed": false
   },
   "outputs": [],
   "source": [
    "from sklearn.ensemble import BaggingClassifier\n",
    "manual_tested_ensemble_bagging_with(BaggingClassifier(grid.best_estimator_, max_samples=0.5, max_features=0.5))"
   ]
  },
  {
   "cell_type": "code",
   "execution_count": null,
   "metadata": {
    "collapsed": false
   },
   "outputs": [],
   "source": [
    "manual_tested_ensemble_bagging_with(BaggingClassifier(LogisticRegression()))"
   ]
  },
  {
   "cell_type": "code",
   "execution_count": 19,
   "metadata": {
    "collapsed": false
   },
   "outputs": [],
   "source": [
    "def ensemble_bagging_with(model):\n",
    "    accuracies = 0.0\n",
    "    for i in range(5):\n",
    "        estimator = model\n",
    "        X = df[features]\n",
    "        y = (df.label == 'maintained').values.astype(int)\n",
    "        X_train, X_test, y_train, y_test = train_test_split(X, y, test_size=0.3)\n",
    "        estimator.fit(X_train, y_train)\n",
    "\n",
    "        y_pred = estimator.predict(X_test)\n",
    "        thresh = 0.5\n",
    "        y_pred_good = binarize([y_pred[:]], thresh)[0]\n",
    "        accuracies +=metrics.accuracy_score(y_test, y_pred_good)\n",
    "\n",
    "    return accuracies/5"
   ]
  },
  {
   "cell_type": "code",
   "execution_count": 20,
   "metadata": {
    "collapsed": false
   },
   "outputs": [
    {
     "data": {
      "text/plain": [
       "0.57121212121212106"
      ]
     },
     "execution_count": 20,
     "metadata": {},
     "output_type": "execute_result"
    }
   ],
   "source": [
    "ensemble_bagging_with(DecisionTreeRegressor())"
   ]
  },
  {
   "cell_type": "code",
   "execution_count": 21,
   "metadata": {
    "collapsed": false
   },
   "outputs": [
    {
     "data": {
      "text/plain": [
       "0.68333333333333335"
      ]
     },
     "execution_count": 21,
     "metadata": {},
     "output_type": "execute_result"
    }
   ],
   "source": [
    "from sklearn.ensemble import BaggingClassifier\n",
    "ensemble_bagging_with(BaggingClassifier(grid.best_estimator_))"
   ]
  },
  {
   "cell_type": "code",
   "execution_count": 22,
   "metadata": {
    "collapsed": false
   },
   "outputs": [
    {
     "data": {
      "text/plain": [
       "0.68636363636363629"
      ]
     },
     "execution_count": 22,
     "metadata": {},
     "output_type": "execute_result"
    }
   ],
   "source": [
    "ensemble_bagging_with(BaggingClassifier(LogisticRegression()))"
   ]
  },
  {
   "cell_type": "code",
   "execution_count": null,
   "metadata": {
    "collapsed": true
   },
   "outputs": [],
   "source": []
  }
 ],
 "metadata": {
  "anaconda-cloud": {},
  "kernelspec": {
   "display_name": "Python 3",
   "language": "python",
   "name": "python3"
  },
  "language_info": {
   "codemirror_mode": {
    "name": "ipython",
    "version": 3
   },
   "file_extension": ".py",
   "mimetype": "text/x-python",
   "name": "python",
   "nbconvert_exporter": "python",
   "pygments_lexer": "ipython3",
   "version": "3.6.0"
  }
 },
 "nbformat": 4,
 "nbformat_minor": 1
}
