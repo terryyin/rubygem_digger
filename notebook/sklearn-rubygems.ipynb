{
 "cells": [
  {
   "cell_type": "code",
   "execution_count": 1,
   "metadata": {
    "collapsed": true
   },
   "outputs": [],
   "source": [
    "import numpy as np\n",
    "import pandas as pd\n",
    "import matplotlib.pyplot as plt\n",
    "import seaborn as sea\n",
    "%matplotlib inline"
   ]
  },
  {
   "cell_type": "code",
   "execution_count": 2,
   "metadata": {
    "collapsed": false
   },
   "outputs": [
    {
     "name": "stderr",
     "output_type": "stream",
     "text": [
      "/Users/terry/anaconda3/lib/python3.6/site-packages/sklearn/cross_validation.py:44: DeprecationWarning: This module was deprecated in version 0.18 in favor of the model_selection module into which all the refactored classes and functions are moved. Also note that the interface of the new CV iterators are different from that of this module. This module will be removed in 0.20.\n",
      "  \"This module will be removed in 0.20.\", DeprecationWarning)\n"
     ]
    }
   ],
   "source": [
    "from sklearn.linear_model import LogisticRegression\n",
    "from sklearn.neighbors import KNeighborsClassifier\n",
    "\n",
    "from sklearn.preprocessing import binarize\n",
    "from sklearn.cross_validation import train_test_split, cross_val_score\n",
    "from sklearn import metrics"
   ]
  },
  {
   "cell_type": "code",
   "execution_count": 3,
   "metadata": {
    "collapsed": false
   },
   "outputs": [
    {
     "name": "stdout",
     "output_type": "stream",
     "text": [
      "{'version': 2, 'min_number_of_gems': 12, 'min_months': 10, 'min_nloc': 2000, 'min_months_good': 20, 'history_months': 20, 'stopped_time_point': '2015-01-01 00:00:00 UTC', 'min_months_bad': 10, 'ignored_months_for_good': 10}\n",
      "{'name': 'actionwebservice', 'version': '1.2.6', 'stat': {'nloc': 5601, 'avg_nloc': 6.9, 'avg_ccn': 1.7, 'avg_token': 37.2, 'fun_count': 625, 'warning_count': 35, 'fun_rate': 0.06, 'nloc_rate': 0.24, 'files': 56, 'style_': 348, 'lint_': 63, 'lint_duplicate': 1, 'metrics_abcsize': 9, 'metrics_blocklength': 3, 'metrics_blocknesting': 0, 'metrics_classlength': 5, 'metrics_cyclomaticcomplexity': 3, 'metrics_linelength': 8, 'metrics_methodlength': 5, 'metrics_modulelength': 6, 'metrics_parameterlists': 4, 'metrics_perceivedcomplexity': 7, 'total': 4}, 'label': 'good'}\n",
      "nb_records: 1014\n"
     ]
    }
   ],
   "source": [
    "import json\n",
    "\n",
    "fn = 'RubygemDigger--Steps--GenerateJsonForLastVersions--3.data.json'\n",
    "fn = 'RubygemDigger--Steps--GenerateJsonForLastVersions--6.data.json'\n",
    "fn = 'RubygemDigger--Steps--GenerateJsonForLastVersions--7.data.json'\n",
    "fn = 'RubygemDigger--Steps--GenerateJsonForLastVersions--8.data.json'\n",
    "fn = 'RubygemDigger--Steps--GenerateJsonForLastVersions--2.data.json'\n",
    "with open(fn) as f:\n",
    "    data = json.load(f)\n",
    "    d = data[\"data\"]\n",
    "    spec = data[\"spec\"]\n",
    "\n",
    "print(spec)\n",
    "print(d[0])\n",
    "\n",
    "n_obs = len(d)\n",
    "print('nb_records:', n_obs)"
   ]
  },
  {
   "cell_type": "code",
   "execution_count": 4,
   "metadata": {
    "collapsed": false
   },
   "outputs": [
    {
     "data": {
      "text/html": [
       "<div>\n",
       "<table border=\"1\" class=\"dataframe\">\n",
       "  <thead>\n",
       "    <tr style=\"text-align: right;\">\n",
       "      <th></th>\n",
       "      <th>label</th>\n",
       "      <th>name</th>\n",
       "      <th>avg_ccn</th>\n",
       "      <th>avg_nloc</th>\n",
       "      <th>avg_token</th>\n",
       "      <th>files</th>\n",
       "      <th>fun_count</th>\n",
       "      <th>fun_rate</th>\n",
       "      <th>lint_</th>\n",
       "      <th>lint_duplicate</th>\n",
       "      <th>...</th>\n",
       "      <th>metrics_methodlength</th>\n",
       "      <th>metrics_modulelength</th>\n",
       "      <th>metrics_parameterlists</th>\n",
       "      <th>metrics_perceivedcomplexity</th>\n",
       "      <th>nloc</th>\n",
       "      <th>nloc_rate</th>\n",
       "      <th>style_</th>\n",
       "      <th>total</th>\n",
       "      <th>warning_count</th>\n",
       "      <th>version</th>\n",
       "    </tr>\n",
       "  </thead>\n",
       "  <tbody>\n",
       "    <tr>\n",
       "      <th>0</th>\n",
       "      <td>good</td>\n",
       "      <td>actionwebservice</td>\n",
       "      <td>1.7</td>\n",
       "      <td>6.9</td>\n",
       "      <td>37.2</td>\n",
       "      <td>56</td>\n",
       "      <td>625</td>\n",
       "      <td>0.06</td>\n",
       "      <td>63</td>\n",
       "      <td>1</td>\n",
       "      <td>...</td>\n",
       "      <td>5</td>\n",
       "      <td>6</td>\n",
       "      <td>4</td>\n",
       "      <td>7</td>\n",
       "      <td>5601</td>\n",
       "      <td>0.24</td>\n",
       "      <td>348</td>\n",
       "      <td>4</td>\n",
       "      <td>35</td>\n",
       "      <td>1.2.6</td>\n",
       "    </tr>\n",
       "    <tr>\n",
       "      <th>1</th>\n",
       "      <td>good</td>\n",
       "      <td>active_metadata</td>\n",
       "      <td>1.2</td>\n",
       "      <td>6.2</td>\n",
       "      <td>42.2</td>\n",
       "      <td>64</td>\n",
       "      <td>221</td>\n",
       "      <td>0.01</td>\n",
       "      <td>33</td>\n",
       "      <td>0</td>\n",
       "      <td>...</td>\n",
       "      <td>9</td>\n",
       "      <td>0</td>\n",
       "      <td>2</td>\n",
       "      <td>2</td>\n",
       "      <td>2109</td>\n",
       "      <td>0.03</td>\n",
       "      <td>178</td>\n",
       "      <td>7</td>\n",
       "      <td>3</td>\n",
       "      <td>0.8.9</td>\n",
       "    </tr>\n",
       "    <tr>\n",
       "      <th>2</th>\n",
       "      <td>good</td>\n",
       "      <td>acts_as_ferret</td>\n",
       "      <td>1.7</td>\n",
       "      <td>8.1</td>\n",
       "      <td>49.2</td>\n",
       "      <td>78</td>\n",
       "      <td>392</td>\n",
       "      <td>0.05</td>\n",
       "      <td>56</td>\n",
       "      <td>2</td>\n",
       "      <td>...</td>\n",
       "      <td>3</td>\n",
       "      <td>3</td>\n",
       "      <td>0</td>\n",
       "      <td>6</td>\n",
       "      <td>3852</td>\n",
       "      <td>0.12</td>\n",
       "      <td>324</td>\n",
       "      <td>0</td>\n",
       "      <td>19</td>\n",
       "      <td>0.5.4</td>\n",
       "    </tr>\n",
       "    <tr>\n",
       "      <th>3</th>\n",
       "      <td>good</td>\n",
       "      <td>adapi</td>\n",
       "      <td>2.7</td>\n",
       "      <td>10.6</td>\n",
       "      <td>64.4</td>\n",
       "      <td>66</td>\n",
       "      <td>115</td>\n",
       "      <td>0.18</td>\n",
       "      <td>33</td>\n",
       "      <td>0</td>\n",
       "      <td>...</td>\n",
       "      <td>5</td>\n",
       "      <td>0</td>\n",
       "      <td>0</td>\n",
       "      <td>9</td>\n",
       "      <td>3989</td>\n",
       "      <td>0.47</td>\n",
       "      <td>247</td>\n",
       "      <td>6</td>\n",
       "      <td>21</td>\n",
       "      <td>0.2.0</td>\n",
       "    </tr>\n",
       "    <tr>\n",
       "      <th>4</th>\n",
       "      <td>good</td>\n",
       "      <td>adaptation</td>\n",
       "      <td>2.1</td>\n",
       "      <td>8.2</td>\n",
       "      <td>45.6</td>\n",
       "      <td>55</td>\n",
       "      <td>219</td>\n",
       "      <td>0.10</td>\n",
       "      <td>43</td>\n",
       "      <td>0</td>\n",
       "      <td>...</td>\n",
       "      <td>6</td>\n",
       "      <td>1</td>\n",
       "      <td>2</td>\n",
       "      <td>9</td>\n",
       "      <td>2377</td>\n",
       "      <td>0.28</td>\n",
       "      <td>288</td>\n",
       "      <td>8</td>\n",
       "      <td>21</td>\n",
       "      <td>1.0.1</td>\n",
       "    </tr>\n",
       "  </tbody>\n",
       "</table>\n",
       "<p>5 rows × 26 columns</p>\n",
       "</div>"
      ],
      "text/plain": [
       "  label              name  avg_ccn  avg_nloc  avg_token  files  fun_count  \\\n",
       "0  good  actionwebservice      1.7       6.9       37.2     56        625   \n",
       "1  good   active_metadata      1.2       6.2       42.2     64        221   \n",
       "2  good    acts_as_ferret      1.7       8.1       49.2     78        392   \n",
       "3  good             adapi      2.7      10.6       64.4     66        115   \n",
       "4  good        adaptation      2.1       8.2       45.6     55        219   \n",
       "\n",
       "   fun_rate  lint_  lint_duplicate   ...     metrics_methodlength  \\\n",
       "0      0.06     63               1   ...                        5   \n",
       "1      0.01     33               0   ...                        9   \n",
       "2      0.05     56               2   ...                        3   \n",
       "3      0.18     33               0   ...                        5   \n",
       "4      0.10     43               0   ...                        6   \n",
       "\n",
       "   metrics_modulelength  metrics_parameterlists  metrics_perceivedcomplexity  \\\n",
       "0                     6                       4                            7   \n",
       "1                     0                       2                            2   \n",
       "2                     3                       0                            6   \n",
       "3                     0                       0                            9   \n",
       "4                     1                       2                            9   \n",
       "\n",
       "   nloc  nloc_rate  style_  total  warning_count  version  \n",
       "0  5601       0.24     348      4             35    1.2.6  \n",
       "1  2109       0.03     178      7              3    0.8.9  \n",
       "2  3852       0.12     324      0             19    0.5.4  \n",
       "3  3989       0.47     247      6             21    0.2.0  \n",
       "4  2377       0.28     288      8             21    1.0.1  \n",
       "\n",
       "[5 rows x 26 columns]"
      ]
     },
     "execution_count": 4,
     "metadata": {},
     "output_type": "execute_result"
    }
   ],
   "source": [
    "df = pd.io.json.json_normalize(d)\n",
    "\n",
    "old_new_cols = {}\n",
    "for name in df.columns:\n",
    "    if name.startswith('stat'):\n",
    "        old_new_cols[name] = name.split('.')[1]\n",
    "\n",
    "df.rename(columns=old_new_cols, inplace=True)\n",
    "df.head()"
   ]
  },
  {
   "cell_type": "code",
   "execution_count": 5,
   "metadata": {
    "collapsed": false
   },
   "outputs": [
    {
     "name": "stdout",
     "output_type": "stream",
     "text": [
      "Empty DataFrame\n",
      "Columns: [name, version]\n",
      "Index: []\n"
     ]
    }
   ],
   "source": [
    "rows_with_NaNs = pd.isnull(df).any(1).nonzero()[0]\n",
    "print(df.ix[rows_with_NaNs][['name', 'version']])"
   ]
  },
  {
   "cell_type": "code",
   "execution_count": 6,
   "metadata": {
    "collapsed": false
   },
   "outputs": [
    {
     "name": "stdout",
     "output_type": "stream",
     "text": [
      "(1014, 26)\n"
     ]
    }
   ],
   "source": [
    "print(df.shape)\n",
    "if len(rows_with_NaNs) > 0:\n",
    "    df.dropna(inplace=True)\n",
    "    print(df.shape)"
   ]
  },
  {
   "cell_type": "code",
   "execution_count": 7,
   "metadata": {
    "collapsed": false
   },
   "outputs": [],
   "source": [
    "exclude = ['avg_nloc',]\n",
    "features = [k for k, v in d[0]['stat'].items() if k not in exclude]\n",
    "\n",
    "X = df[features]\n",
    "y = (df.label == 'good').values.astype(int)"
   ]
  },
  {
   "cell_type": "code",
   "execution_count": 8,
   "metadata": {
    "collapsed": true
   },
   "outputs": [],
   "source": [
    "def label_counts_summary(data, label='unknow'):\n",
    "    N = len(data)\n",
    "    N_ones = data.sum()\n",
    "    print('''\n",
    "label: {}\n",
    "nb. of observations: {}\n",
    "nb. of ones (good gems): {}\n",
    "frequency: {:.3f}\n",
    "    '''.format(label, N, N_ones, 1.0 * N_ones / N))"
   ]
  },
  {
   "cell_type": "code",
   "execution_count": 9,
   "metadata": {
    "collapsed": false
   },
   "outputs": [
    {
     "name": "stdout",
     "output_type": "stream",
     "text": [
      "\n",
      "label: Full set\n",
      "nb. of observations: 1014\n",
      "nb. of ones (good gems): 389\n",
      "frequency: 0.384\n",
      "    \n",
      "\n",
      "label: Training set\n",
      "nb. of observations: 709\n",
      "nb. of ones (good gems): 270\n",
      "frequency: 0.381\n",
      "    \n",
      "\n",
      "label: Test set\n",
      "nb. of observations: 305\n",
      "nb. of ones (good gems): 119\n",
      "frequency: 0.390\n",
      "    \n"
     ]
    }
   ],
   "source": [
    "label_counts_summary(y, label='Full set')\n",
    "\n",
    "# split full dataset into 70% training and 30% test data\n",
    "# test data is used only to evalute the model's prediction performance\n",
    "X_train, X_test, y_train, y_test = train_test_split(X, y, test_size=0.3)\n",
    "\n",
    "label_counts_summary(y_train, label='Training set')\n",
    "label_counts_summary(y_test, label='Test set')"
   ]
  },
  {
   "cell_type": "markdown",
   "metadata": {},
   "source": [
    "# Classify using LogisticRegression"
   ]
  },
  {
   "cell_type": "code",
   "execution_count": 10,
   "metadata": {
    "collapsed": false
   },
   "outputs": [
    {
     "name": "stdout",
     "output_type": "stream",
     "text": [
      "             precision    recall  f1-score   support\n",
      "\n",
      "          0       0.62      0.78      0.69       186\n",
      "          1       0.42      0.25      0.32       119\n",
      "\n",
      "avg / total       0.54      0.57      0.54       305\n",
      "\n",
      "0.573770491803\n"
     ]
    }
   ],
   "source": [
    "model = LogisticRegression()\n",
    "model.fit(X_train, y_train)\n",
    "\n",
    "y_pred = model.predict(X_test)\n",
    "\n",
    "print(metrics.classification_report(y_test, y_pred))\n",
    "print(metrics.accuracy_score(y_test, y_pred))  # % of correct predictions"
   ]
  },
  {
   "cell_type": "code",
   "execution_count": 11,
   "metadata": {
    "collapsed": false
   },
   "outputs": [
    {
     "name": "stdout",
     "output_type": "stream",
     "text": [
      "[[ 0.57124957  0.42875043]\n",
      " [ 0.55414857  0.44585143]\n",
      " [ 0.54031512  0.45968488]]\n",
      "0.603278688525\n"
     ]
    }
   ],
   "source": [
    "# generate predictions based on classification probability\n",
    "y_pred_proba = model.predict_proba(X_test)\n",
    "\n",
    "print(y_pred_proba[:3])\n",
    "\n",
    "thresh = 0.6\n",
    "y_pred_good = binarize([y_pred_proba[:,1]], thresh)[0]\n",
    "\n",
    "print(metrics.accuracy_score(y_test, y_pred_good))"
   ]
  },
  {
   "cell_type": "markdown",
   "metadata": {},
   "source": [
    "## k-fold cross-validation\n",
    "\n",
    "Split data into 10 blocks and use 1 as testing and 9 others as training. Repeat 10 times with different block as testing block. Good for verifying dependency on outliers."
   ]
  },
  {
   "cell_type": "code",
   "execution_count": 12,
   "metadata": {
    "collapsed": false
   },
   "outputs": [
    {
     "name": "stdout",
     "output_type": "stream",
     "text": [
      "[ 0.65686275  0.62745098  0.58823529  0.60784314  0.59803922  0.61386139\n",
      "  0.6039604   0.54455446  0.6039604   0.64      ]\n",
      "0.608476800621 0.0289306935774\n"
     ]
    }
   ],
   "source": [
    "model = LogisticRegression()\n",
    "scores = cross_val_score(model, X, y, cv=10, scoring='accuracy')\n",
    "print(scores)\n",
    "print(scores.mean(), scores.std())"
   ]
  },
  {
   "cell_type": "markdown",
   "metadata": {},
   "source": [
    "# Classify using kNN"
   ]
  },
  {
   "cell_type": "code",
   "execution_count": 16,
   "metadata": {
    "collapsed": false
   },
   "outputs": [
    {
     "data": {
      "text/plain": [
       "<matplotlib.text.Text at 0x112730da0>"
      ]
     },
     "execution_count": 16,
     "metadata": {},
     "output_type": "execute_result"
    },
    {
     "data": {
      "image/png": "[encoded data removed]",
      "text/plain": [
       "<matplotlib.figure.Figure at 0x112689b00>"
      ]
     },
     "metadata": {},
     "output_type": "display_data"
    }
   ],
   "source": [
    "X_train, X_test, y_train, y_test = train_test_split(X, y, test_size=0.3)\n",
    "\n",
    "nb_range = np.arange(1, 31)\n",
    "a_scores = []\n",
    "\n",
    "for nb in nb_range:\n",
    "    model = KNeighborsClassifier(n_neighbors=nb)\n",
    "    model.fit(X_train, y_train)\n",
    "    y_pred = model.predict(X_test)\n",
    "    a_scores.append(metrics.accuracy_score(y_test, y_pred))\n",
    "    \n",
    "plt.plot(nb_range, a_scores, 'o-')\n",
    "plt.ylabel('Testing accuracy')\n",
    "plt.xlabel('k neighbours')"
   ]
  },
  {
   "cell_type": "code",
   "execution_count": 17,
   "metadata": {
    "collapsed": false
   },
   "outputs": [],
   "source": [
    "from sklearn.grid_search import GridSearchCV"
   ]
  },
  {
   "cell_type": "code",
   "execution_count": 18,
   "metadata": {
    "collapsed": false
   },
   "outputs": [
    {
     "name": "stdout",
     "output_type": "stream",
     "text": [
      "0.6055226824457594\n",
      "{'n_neighbors': 6, 'weights': 'uniform'}\n",
      "KNeighborsClassifier(algorithm='auto', leaf_size=30, metric='minkowski',\n",
      "           metric_params=None, n_jobs=1, n_neighbors=6, p=2,\n",
      "           weights='uniform')\n"
     ]
    }
   ],
   "source": [
    "k_range = list(range(1, 31))\n",
    "weight_options = ['uniform', 'distance']\n",
    "param_grid = dict(n_neighbors=k_range, weights=weight_options)\n",
    "\n",
    "knn = KNeighborsClassifier()\n",
    "\n",
    "grid = GridSearchCV(knn, param_grid, cv=10, scoring='accuracy')\n",
    "grid.fit(X, y)\n",
    "\n",
    "\n",
    "# examine the best model\n",
    "print(grid.best_score_)\n",
    "print(grid.best_params_)\n",
    "print(grid.best_estimator_)"
   ]
  },
  {
   "cell_type": "code",
   "execution_count": null,
   "metadata": {
    "collapsed": true
   },
   "outputs": [],
   "source": []
  }
 ],
 "metadata": {
  "anaconda-cloud": {},
  "kernelspec": {
   "display_name": "Python 3",
   "language": "python",
   "name": "python3"
  },
  "language_info": {
   "codemirror_mode": {
    "name": "ipython",
    "version": 3
   },
   "file_extension": ".py",
   "mimetype": "text/x-python",
   "name": "python",
   "nbconvert_exporter": "python",
   "pygments_lexer": "ipython3",
   "version": "3.6.0"
  }
 },
 "nbformat": 4,
 "nbformat_minor": 1
}
