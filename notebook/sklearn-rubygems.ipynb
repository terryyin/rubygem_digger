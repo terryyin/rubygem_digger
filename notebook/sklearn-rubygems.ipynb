{
 "cells": [
  {
   "cell_type": "code",
   "execution_count": 1,
   "metadata": {
    "collapsed": true
   },
   "outputs": [],
   "source": [
    "import numpy as np\n",
    "import pandas as pd\n",
    "import matplotlib.pyplot as plt\n",
    "import seaborn as sea\n",
    "%matplotlib inline"
   ]
  },
  {
   "cell_type": "code",
   "execution_count": 2,
   "metadata": {
    "collapsed": false
   },
   "outputs": [
    {
     "name": "stderr",
     "output_type": "stream",
     "text": [
      "/Users/terry/anaconda3/lib/python3.6/site-packages/sklearn/cross_validation.py:44: DeprecationWarning: This module was deprecated in version 0.18 in favor of the model_selection module into which all the refactored classes and functions are moved. Also note that the interface of the new CV iterators are different from that of this module. This module will be removed in 0.20.\n",
      "  \"This module will be removed in 0.20.\", DeprecationWarning)\n"
     ]
    }
   ],
   "source": [
    "from sklearn.linear_model import LogisticRegression\n",
    "from sklearn.neighbors import KNeighborsClassifier\n",
    "\n",
    "from sklearn.preprocessing import binarize\n",
    "from sklearn.cross_validation import train_test_split, cross_val_score\n",
    "from sklearn import metrics"
   ]
  },
  {
   "cell_type": "code",
   "execution_count": 3,
   "metadata": {
    "collapsed": false
   },
   "outputs": [
    {
     "name": "stdout",
     "output_type": "stream",
     "text": [
      "{'version': 1, 'min_number_of_gems': 12, 'min_months': 10, 'min_nloc': 2000, 'min_months_good': 20, 'history_months': 20, 'stopped_time_point': '2015-01-01 00:00:00 UTC', 'min_months_bad': 10, 'ignored_months_for_good': 10}\n",
      "{'name': 'actionwebservice', 'version': '1.2.6', 'stat': {'nloc': 5601, 'avg_ccn': 1.7, 'avg_nloc': 6.9, 'avg_token': 37.2, 'fun_count': 625, 'warning_count': 6.248884127834315, 'fun_rate': 0.06, 'nloc_rate': 0.24, 'style_': 62.13176218532405, 'lint_': 11.247991430101768, 'lint_duplicate': 0.17853954650955187, 'metrics_abcsize': 1.6068559185859668, 'metrics_blocklength': 0.5356186395286556, 'metrics_blocknesting': 0.0, 'metrics_classlength': 0.8926977325477593, 'metrics_cyclomaticcomplexity': 0.5356186395286556, 'metrics_linelength': 1.428316372076415, 'metrics_methodlength': 0.8926977325477593, 'metrics_modulelength': 1.0712372790573113, 'metrics_parameterlists': 0.7141581860382075, 'metrics_perceivedcomplexity': 1.249776825566863, 'total': 0.7141581860382075, 'DuplicateMethodCall': 36.779146580967684, 'FeatureEnvy': 7.4986609534011786, 'IrresponsibleModule': 19.81788966256026, 'NilCheck': 8.391358685948937, 'TooManyConstants': 0.0, 'TooManyMethods': 0.35707909301910373, 'UncommunicativeVariableName': 11.60507052312087, 'TooManyStatements': 16.96125691840743, 'UnusedParameters': 15.890019639350117, 'InstanceVariableAssumption': 7.855740046420282, 'TooManyInstanceVariables': 2.321014104624174, 'UtilityFunction': 12.676307802178183, 'PrimaDonnaMethod': 0.0, 'NestedIterators': 3.035172290662382, 'DataClump': 1.249776825566863, 'UncommunicativeMethodName': 4.284949116229245, 'LongParameterList': 4.999107302267452, 'UncommunicativeParameterName': 1.6068559185859668, 'ControlParameter': 1.7853954650955186, 'ManualDispatch': 1.9639350116050704, 'RepeatedConditional': 0.7141581860382075, 'Attribute': 4.284949116229245, 'BooleanParameter': 0.35707909301910373, 'SubclassedFromCoreClass': 0.17853954650955187, 'UncommunicativeModuleName': 0.17853954650955187, 'ModuleInitialize': 0.0, 'ClassVariable': 0.0, 'LongYieldList': 0.0}, 'label': 'good'}\n",
      "nb_records: 1014\n"
     ]
    }
   ],
   "source": [
    "import json\n",
    "\n",
    "fn = 'RubygemDigger--Steps--GenerateJsonForLastVersions--3.data.json'\n",
    "fn = 'RubygemDigger--Steps--GenerateJsonForLastVersions--6.data.json'\n",
    "fn = 'RubygemDigger--Steps--GenerateJsonForLastVersions--7.data.json'\n",
    "fn = 'RubygemDigger--Steps--GenerateJsonForLastVersions--8.data.json'\n",
    "fn = 'RubygemDigger--Steps--GenerateJsonForLastVersions--1.data.json'\n",
    "with open(fn) as f:\n",
    "    data = json.load(f)\n",
    "    d = data[\"data\"]\n",
    "    spec = data[\"spec\"]\n",
    "\n",
    "print(spec)\n",
    "print(d[0])\n",
    "\n",
    "n_obs = len(d)\n",
    "print('nb_records:', n_obs)"
   ]
  },
  {
   "cell_type": "code",
   "execution_count": 4,
   "metadata": {
    "collapsed": false
   },
   "outputs": [
    {
     "data": {
      "text/html": [
       "<div>\n",
       "<table border=\"1\" class=\"dataframe\">\n",
       "  <thead>\n",
       "    <tr style=\"text-align: right;\">\n",
       "      <th></th>\n",
       "      <th>label</th>\n",
       "      <th>name</th>\n",
       "      <th>Attribute</th>\n",
       "      <th>BooleanParameter</th>\n",
       "      <th>ClassVariable</th>\n",
       "      <th>ControlParameter</th>\n",
       "      <th>DataClump</th>\n",
       "      <th>DuplicateMethodCall</th>\n",
       "      <th>FeatureEnvy</th>\n",
       "      <th>InstanceVariableAssumption</th>\n",
       "      <th>...</th>\n",
       "      <th>metrics_methodlength</th>\n",
       "      <th>metrics_modulelength</th>\n",
       "      <th>metrics_parameterlists</th>\n",
       "      <th>metrics_perceivedcomplexity</th>\n",
       "      <th>nloc</th>\n",
       "      <th>nloc_rate</th>\n",
       "      <th>style_</th>\n",
       "      <th>total</th>\n",
       "      <th>warning_count</th>\n",
       "      <th>version</th>\n",
       "    </tr>\n",
       "  </thead>\n",
       "  <tbody>\n",
       "    <tr>\n",
       "      <th>0</th>\n",
       "      <td>good</td>\n",
       "      <td>actionwebservice</td>\n",
       "      <td>4.284949</td>\n",
       "      <td>0.357079</td>\n",
       "      <td>0.000000</td>\n",
       "      <td>1.785395</td>\n",
       "      <td>1.249777</td>\n",
       "      <td>36.779147</td>\n",
       "      <td>7.498661</td>\n",
       "      <td>7.855740</td>\n",
       "      <td>...</td>\n",
       "      <td>0.892698</td>\n",
       "      <td>1.071237</td>\n",
       "      <td>0.714158</td>\n",
       "      <td>1.249777</td>\n",
       "      <td>5601</td>\n",
       "      <td>0.24</td>\n",
       "      <td>62.131762</td>\n",
       "      <td>0.714158</td>\n",
       "      <td>6.248884</td>\n",
       "      <td>1.2.6</td>\n",
       "    </tr>\n",
       "    <tr>\n",
       "      <th>1</th>\n",
       "      <td>good</td>\n",
       "      <td>active_metadata</td>\n",
       "      <td>3.319109</td>\n",
       "      <td>1.422475</td>\n",
       "      <td>0.474158</td>\n",
       "      <td>0.948317</td>\n",
       "      <td>0.000000</td>\n",
       "      <td>23.233760</td>\n",
       "      <td>2.844950</td>\n",
       "      <td>6.638217</td>\n",
       "      <td>...</td>\n",
       "      <td>4.267425</td>\n",
       "      <td>0.000000</td>\n",
       "      <td>0.948317</td>\n",
       "      <td>0.948317</td>\n",
       "      <td>2109</td>\n",
       "      <td>0.03</td>\n",
       "      <td>84.400190</td>\n",
       "      <td>3.319109</td>\n",
       "      <td>1.422475</td>\n",
       "      <td>0.8.9</td>\n",
       "    </tr>\n",
       "    <tr>\n",
       "      <th>2</th>\n",
       "      <td>good</td>\n",
       "      <td>acts_as_ferret</td>\n",
       "      <td>2.336449</td>\n",
       "      <td>1.298027</td>\n",
       "      <td>1.817238</td>\n",
       "      <td>1.038422</td>\n",
       "      <td>0.778816</td>\n",
       "      <td>100.467290</td>\n",
       "      <td>7.268951</td>\n",
       "      <td>6.230530</td>\n",
       "      <td>...</td>\n",
       "      <td>0.778816</td>\n",
       "      <td>0.778816</td>\n",
       "      <td>0.000000</td>\n",
       "      <td>1.557632</td>\n",
       "      <td>3852</td>\n",
       "      <td>0.12</td>\n",
       "      <td>84.112150</td>\n",
       "      <td>0.000000</td>\n",
       "      <td>4.932503</td>\n",
       "      <td>0.5.4</td>\n",
       "    </tr>\n",
       "    <tr>\n",
       "      <th>3</th>\n",
       "      <td>good</td>\n",
       "      <td>adapi</td>\n",
       "      <td>4.763099</td>\n",
       "      <td>1.504136</td>\n",
       "      <td>0.501379</td>\n",
       "      <td>1.504136</td>\n",
       "      <td>0.000000</td>\n",
       "      <td>21.308599</td>\n",
       "      <td>1.754826</td>\n",
       "      <td>4.011030</td>\n",
       "      <td>...</td>\n",
       "      <td>1.253447</td>\n",
       "      <td>0.000000</td>\n",
       "      <td>0.000000</td>\n",
       "      <td>2.256205</td>\n",
       "      <td>3989</td>\n",
       "      <td>0.47</td>\n",
       "      <td>61.920281</td>\n",
       "      <td>1.504136</td>\n",
       "      <td>5.264477</td>\n",
       "      <td>0.2.0</td>\n",
       "    </tr>\n",
       "    <tr>\n",
       "      <th>4</th>\n",
       "      <td>good</td>\n",
       "      <td>adaptation</td>\n",
       "      <td>2.103492</td>\n",
       "      <td>0.000000</td>\n",
       "      <td>0.841397</td>\n",
       "      <td>2.103492</td>\n",
       "      <td>1.262095</td>\n",
       "      <td>38.283551</td>\n",
       "      <td>9.255364</td>\n",
       "      <td>4.206984</td>\n",
       "      <td>...</td>\n",
       "      <td>2.524190</td>\n",
       "      <td>0.420698</td>\n",
       "      <td>0.841397</td>\n",
       "      <td>3.786285</td>\n",
       "      <td>2377</td>\n",
       "      <td>0.28</td>\n",
       "      <td>121.161127</td>\n",
       "      <td>3.365587</td>\n",
       "      <td>8.834666</td>\n",
       "      <td>1.0.1</td>\n",
       "    </tr>\n",
       "  </tbody>\n",
       "</table>\n",
       "<p>5 rows × 53 columns</p>\n",
       "</div>"
      ],
      "text/plain": [
       "  label              name  Attribute  BooleanParameter  ClassVariable  \\\n",
       "0  good  actionwebservice   4.284949          0.357079       0.000000   \n",
       "1  good   active_metadata   3.319109          1.422475       0.474158   \n",
       "2  good    acts_as_ferret   2.336449          1.298027       1.817238   \n",
       "3  good             adapi   4.763099          1.504136       0.501379   \n",
       "4  good        adaptation   2.103492          0.000000       0.841397   \n",
       "\n",
       "   ControlParameter  DataClump  DuplicateMethodCall  FeatureEnvy  \\\n",
       "0          1.785395   1.249777            36.779147     7.498661   \n",
       "1          0.948317   0.000000            23.233760     2.844950   \n",
       "2          1.038422   0.778816           100.467290     7.268951   \n",
       "3          1.504136   0.000000            21.308599     1.754826   \n",
       "4          2.103492   1.262095            38.283551     9.255364   \n",
       "\n",
       "   InstanceVariableAssumption   ...     metrics_methodlength  \\\n",
       "0                    7.855740   ...                 0.892698   \n",
       "1                    6.638217   ...                 4.267425   \n",
       "2                    6.230530   ...                 0.778816   \n",
       "3                    4.011030   ...                 1.253447   \n",
       "4                    4.206984   ...                 2.524190   \n",
       "\n",
       "   metrics_modulelength  metrics_parameterlists  metrics_perceivedcomplexity  \\\n",
       "0              1.071237                0.714158                     1.249777   \n",
       "1              0.000000                0.948317                     0.948317   \n",
       "2              0.778816                0.000000                     1.557632   \n",
       "3              0.000000                0.000000                     2.256205   \n",
       "4              0.420698                0.841397                     3.786285   \n",
       "\n",
       "   nloc  nloc_rate      style_     total  warning_count  version  \n",
       "0  5601       0.24   62.131762  0.714158       6.248884    1.2.6  \n",
       "1  2109       0.03   84.400190  3.319109       1.422475    0.8.9  \n",
       "2  3852       0.12   84.112150  0.000000       4.932503    0.5.4  \n",
       "3  3989       0.47   61.920281  1.504136       5.264477    0.2.0  \n",
       "4  2377       0.28  121.161127  3.365587       8.834666    1.0.1  \n",
       "\n",
       "[5 rows x 53 columns]"
      ]
     },
     "execution_count": 4,
     "metadata": {},
     "output_type": "execute_result"
    }
   ],
   "source": [
    "df = pd.io.json.json_normalize(d)\n",
    "\n",
    "old_new_cols = {}\n",
    "for name in df.columns:\n",
    "    if name.startswith('stat'):\n",
    "        old_new_cols[name] = name.split('.')[1]\n",
    "\n",
    "df.rename(columns=old_new_cols, inplace=True)\n",
    "df.head()"
   ]
  },
  {
   "cell_type": "code",
   "execution_count": 5,
   "metadata": {
    "collapsed": false
   },
   "outputs": [
    {
     "name": "stdout",
     "output_type": "stream",
     "text": [
      "Empty DataFrame\n",
      "Columns: [name, version]\n",
      "Index: []\n"
     ]
    }
   ],
   "source": [
    "rows_with_NaNs = pd.isnull(df).any(1).nonzero()[0]\n",
    "print(df.ix[rows_with_NaNs][['name', 'version']])"
   ]
  },
  {
   "cell_type": "code",
   "execution_count": 6,
   "metadata": {
    "collapsed": false
   },
   "outputs": [
    {
     "name": "stdout",
     "output_type": "stream",
     "text": [
      "(1014, 53)\n"
     ]
    }
   ],
   "source": [
    "print(df.shape)\n",
    "if len(rows_with_NaNs) > 0:\n",
    "    df.dropna(inplace=True)\n",
    "    print(df.shape)"
   ]
  },
  {
   "cell_type": "code",
   "execution_count": 7,
   "metadata": {
    "collapsed": false
   },
   "outputs": [],
   "source": [
    "exclude = ['avg_nloc',]\n",
    "features = [k for k, v in d[0]['stat'].items() if k not in exclude]\n",
    "\n",
    "X = df[features]\n",
    "y = (df.label == 'good').values.astype(int)"
   ]
  },
  {
   "cell_type": "code",
   "execution_count": 8,
   "metadata": {
    "collapsed": true
   },
   "outputs": [],
   "source": [
    "def label_counts_summary(data, label='unknow'):\n",
    "    N = len(data)\n",
    "    N_ones = data.sum()\n",
    "    print('''\n",
    "label: {}\n",
    "nb. of observations: {}\n",
    "nb. of ones (good gems): {}\n",
    "frequency: {:.3f}\n",
    "    '''.format(label, N, N_ones, 1.0 * N_ones / N))"
   ]
  },
  {
   "cell_type": "code",
   "execution_count": 9,
   "metadata": {
    "collapsed": false
   },
   "outputs": [
    {
     "name": "stdout",
     "output_type": "stream",
     "text": [
      "\n",
      "label: Full set\n",
      "nb. of observations: 1014\n",
      "nb. of ones (good gems): 389\n",
      "frequency: 0.384\n",
      "    \n",
      "\n",
      "label: Training set\n",
      "nb. of observations: 709\n",
      "nb. of ones (good gems): 277\n",
      "frequency: 0.391\n",
      "    \n",
      "\n",
      "label: Test set\n",
      "nb. of observations: 305\n",
      "nb. of ones (good gems): 112\n",
      "frequency: 0.367\n",
      "    \n"
     ]
    }
   ],
   "source": [
    "label_counts_summary(y, label='Full set')\n",
    "\n",
    "# split full dataset into 70% training and 30% test data\n",
    "# test data is used only to evalute the model's prediction performance\n",
    "X_train, X_test, y_train, y_test = train_test_split(X, y, test_size=0.3)\n",
    "\n",
    "label_counts_summary(y_train, label='Training set')\n",
    "label_counts_summary(y_test, label='Test set')"
   ]
  },
  {
   "cell_type": "markdown",
   "metadata": {},
   "source": [
    "# Classify using LogisticRegression"
   ]
  },
  {
   "cell_type": "code",
   "execution_count": 10,
   "metadata": {
    "collapsed": false
   },
   "outputs": [
    {
     "name": "stdout",
     "output_type": "stream",
     "text": [
      "             precision    recall  f1-score   support\n",
      "\n",
      "          0       0.66      0.88      0.75       193\n",
      "          1       0.51      0.22      0.31       112\n",
      "\n",
      "avg / total       0.61      0.64      0.59       305\n",
      "\n",
      "0.63606557377\n"
     ]
    }
   ],
   "source": [
    "model = LogisticRegression()\n",
    "model.fit(X_train, y_train)\n",
    "\n",
    "y_pred = model.predict(X_test)\n",
    "\n",
    "print(metrics.classification_report(y_test, y_pred))\n",
    "print(metrics.accuracy_score(y_test, y_pred))  # % of correct predictions"
   ]
  },
  {
   "cell_type": "code",
   "execution_count": 11,
   "metadata": {
    "collapsed": false
   },
   "outputs": [
    {
     "name": "stdout",
     "output_type": "stream",
     "text": [
      "[[ 0.64193512  0.35806488]\n",
      " [ 0.59555506  0.40444494]\n",
      " [ 0.74005331  0.25994669]]\n",
      "0.64262295082\n"
     ]
    }
   ],
   "source": [
    "# generate predictions based on classification probability\n",
    "y_pred_proba = model.predict_proba(X_test)\n",
    "\n",
    "print(y_pred_proba[:3])\n",
    "\n",
    "thresh = 0.6\n",
    "y_pred_good = binarize([y_pred_proba[:,1]], thresh)[0]\n",
    "\n",
    "print(metrics.accuracy_score(y_test, y_pred_good))"
   ]
  },
  {
   "cell_type": "markdown",
   "metadata": {},
   "source": [
    "## k-fold cross-validation\n",
    "\n",
    "Split data into 10 blocks and use 1 as testing and 9 others as training. Repeat 10 times with different block as testing block. Good for verifying dependency on outliers."
   ]
  },
  {
   "cell_type": "code",
   "execution_count": 12,
   "metadata": {
    "collapsed": false
   },
   "outputs": [
    {
     "name": "stdout",
     "output_type": "stream",
     "text": [
      "[ 0.6372549   0.68627451  0.60784314  0.62745098  0.56862745  0.66336634\n",
      "  0.58415842  0.58415842  0.61386139  0.58      ]\n",
      "0.615299553485 0.0366047887216\n"
     ]
    }
   ],
   "source": [
    "model = LogisticRegression()\n",
    "scores = cross_val_score(model, X, y, cv=10, scoring='accuracy')\n",
    "print(scores)\n",
    "print(scores.mean(), scores.std())"
   ]
  },
  {
   "cell_type": "markdown",
   "metadata": {},
   "source": [
    "# Classify using kNN"
   ]
  },
  {
   "cell_type": "code",
   "execution_count": 13,
   "metadata": {
    "collapsed": false
   },
   "outputs": [
    {
     "data": {
      "text/plain": [
       "<matplotlib.text.Text at 0x11a217080>"
      ]
     },
     "execution_count": 13,
     "metadata": {},
     "output_type": "execute_result"
    },
    {
     "data": {
      "image/png": "[encoded data removed]",
      "text/plain": [
       "<matplotlib.figure.Figure at 0x119e5de48>"
      ]
     },
     "metadata": {},
     "output_type": "display_data"
    }
   ],
   "source": [
    "X_train, X_test, y_train, y_test = train_test_split(X, y, test_size=0.3)\n",
    "\n",
    "nb_range = np.arange(1, 31)\n",
    "a_scores = []\n",
    "\n",
    "for nb in nb_range:\n",
    "    model = KNeighborsClassifier(n_neighbors=nb)\n",
    "    model.fit(X_train, y_train)\n",
    "    y_pred = model.predict(X_test)\n",
    "    a_scores.append(metrics.accuracy_score(y_test, y_pred))\n",
    "    \n",
    "plt.plot(nb_range, a_scores, 'o-')\n",
    "plt.ylabel('Testing accuracy')\n",
    "plt.xlabel('k neighbours')"
   ]
  },
  {
   "cell_type": "code",
   "execution_count": 14,
   "metadata": {
    "collapsed": false
   },
   "outputs": [
    {
     "name": "stderr",
     "output_type": "stream",
     "text": [
      "/Users/terry/anaconda3/lib/python3.6/site-packages/sklearn/grid_search.py:43: DeprecationWarning: This module was deprecated in version 0.18 in favor of the model_selection module into which all the refactored classes and functions are moved. This module will be removed in 0.20.\n",
      "  DeprecationWarning)\n"
     ]
    }
   ],
   "source": [
    "from sklearn.grid_search import GridSearchCV"
   ]
  },
  {
   "cell_type": "code",
   "execution_count": 15,
   "metadata": {
    "collapsed": false
   },
   "outputs": [
    {
     "name": "stdout",
     "output_type": "stream",
     "text": [
      "0.6035502958579881\n",
      "{'n_neighbors': 6, 'weights': 'uniform'}\n",
      "KNeighborsClassifier(algorithm='auto', leaf_size=30, metric='minkowski',\n",
      "           metric_params=None, n_jobs=1, n_neighbors=6, p=2,\n",
      "           weights='uniform')\n"
     ]
    }
   ],
   "source": [
    "k_range = list(range(1, 31))\n",
    "weight_options = ['uniform', 'distance']\n",
    "param_grid = dict(n_neighbors=k_range, weights=weight_options)\n",
    "\n",
    "knn = KNeighborsClassifier()\n",
    "\n",
    "grid = GridSearchCV(knn, param_grid, cv=10, scoring='accuracy')\n",
    "grid.fit(X, y)\n",
    "\n",
    "\n",
    "# examine the best model\n",
    "print(grid.best_score_)\n",
    "print(grid.best_params_)\n",
    "print(grid.best_estimator_)"
   ]
  },
  {
   "cell_type": "code",
   "execution_count": null,
   "metadata": {
    "collapsed": true
   },
   "outputs": [],
   "source": []
  }
 ],
 "metadata": {
  "anaconda-cloud": {},
  "kernelspec": {
   "display_name": "Python 3",
   "language": "python",
   "name": "python3"
  },
  "language_info": {
   "codemirror_mode": {
    "name": "ipython",
    "version": 3
   },
   "file_extension": ".py",
   "mimetype": "text/x-python",
   "name": "python",
   "nbconvert_exporter": "python",
   "pygments_lexer": "ipython3",
   "version": "3.6.0"
  }
 },
 "nbformat": 4,
 "nbformat_minor": 1
}
