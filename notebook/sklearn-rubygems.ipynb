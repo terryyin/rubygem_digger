{
 "cells": [
  {
   "cell_type": "code",
   "execution_count": 1,
   "metadata": {
    "collapsed": true
   },
   "outputs": [],
   "source": [
    "import numpy as np\n",
    "import pandas as pd\n",
    "import matplotlib.pyplot as plt\n",
    "import seaborn as sea\n",
    "%matplotlib inline"
   ]
  },
  {
   "cell_type": "code",
   "execution_count": 2,
   "metadata": {
    "collapsed": true
   },
   "outputs": [],
   "source": [
    "reek_columns =[\n",
    "    'reek_total',\n",
    " 'Attribute',\n",
    " 'BooleanParameter',\n",
    " 'ClassVariable',\n",
    " 'ControlParameter',\n",
    " 'DataClump',\n",
    " 'DuplicateMethodCall',\n",
    " 'FeatureEnvy',\n",
    " 'InstanceVariableAssumption',\n",
    " 'IrresponsibleModule',\n",
    " 'LongParameterList',\n",
    " 'LongYieldList',\n",
    " 'ManualDispatch',\n",
    " 'ModuleInitialize',\n",
    " 'NestedIterators',\n",
    " 'NilCheck',\n",
    " 'PrimaDonnaMethod',\n",
    " 'RepeatedConditional',\n",
    " 'SubclassedFromCoreClass',\n",
    " 'TooManyConstants',\n",
    " 'TooManyInstanceVariables',\n",
    " 'TooManyMethods',\n",
    " 'TooManyStatements',\n",
    " 'UncommunicativeMethodName',\n",
    " 'UncommunicativeModuleName',\n",
    " 'UncommunicativeParameterName',\n",
    " 'UncommunicativeVariableName',\n",
    " 'UnusedParameters',\n",
    " 'UtilityFunction',\n",
    " 'delta_Attribute',\n",
    " 'delta_BooleanParameter',\n",
    " 'delta_ClassVariable',\n",
    " 'delta_ControlParameter',\n",
    " 'delta_DataClump',\n",
    " 'delta_DuplicateMethodCall',\n",
    " 'delta_FeatureEnvy',\n",
    " 'delta_InstanceVariableAssumption',\n",
    " 'delta_IrresponsibleModule',\n",
    " 'delta_LongParameterList',\n",
    " 'delta_LongYieldList',\n",
    " 'delta_ManualDispatch',\n",
    " 'delta_ModuleInitialize',\n",
    " 'delta_NestedIterators',\n",
    " 'delta_NilCheck',\n",
    " 'delta_PrimaDonnaMethod',\n",
    " 'delta_RepeatedConditional',\n",
    " 'delta_SubclassedFromCoreClass',\n",
    " 'delta_TooManyConstants',\n",
    " 'delta_TooManyInstanceVariables',\n",
    " 'delta_TooManyMethods',\n",
    " 'delta_TooManyStatements',\n",
    " 'delta_UncommunicativeMethodName',\n",
    " 'delta_UncommunicativeModuleName',\n",
    " 'delta_UncommunicativeParameterName',\n",
    " 'delta_UncommunicativeVariableName',\n",
    " 'delta_UnusedParameters',\n",
    " 'delta_UtilityFunction',\n",
    " 'delta_reek_total']\n",
    "lizard_columns = [\n",
    " 'avg_ccn',\n",
    " 'avg_nloc',\n",
    " 'avg_token',\n",
    " 'fun_count',\n",
    " 'fun_rate',\n",
    " 'nloc_rate',\n",
    " 'warning_count',\n",
    " 'delta_avg_ccn',\n",
    " 'delta_avg_nloc',\n",
    " 'delta_avg_token',\n",
    " 'delta_fun_count',\n",
    " 'delta_fun_rate',\n",
    " 'delta_warning_count',\n",
    "\n",
    "]\n",
    "\n",
    "rubocop_columns = [\n",
    " 'delta_lint_',\n",
    " 'delta_lint_duplicate',\n",
    " 'delta_metrics_abcsize',\n",
    " 'delta_metrics_blocklength',\n",
    " 'delta_metrics_blocknesting',\n",
    " 'delta_metrics_classlength',\n",
    " 'delta_metrics_cyclomaticcomplexity',\n",
    " 'delta_metrics_linelength',\n",
    " 'delta_metrics_methodlength',\n",
    " 'delta_metrics_modulelength',\n",
    " 'delta_metrics_parameterlists',\n",
    " 'delta_metrics_perceivedcomplexity',\n",
    " 'delta_nloc',\n",
    " 'delta_nloc_rate',\n",
    " 'delta_style_',\n",
    " 'delta_total',\n",
    "        'delta_performance_',\n",
    "    'delta_security_',\n",
    "    'delta_metrics_',\n",
    " 'lint_',\n",
    " 'lint_duplicate',\n",
    " 'metrics_abcsize',\n",
    " 'metrics_blocklength',\n",
    " 'metrics_blocknesting',\n",
    " 'metrics_classlength',\n",
    " 'metrics_cyclomaticcomplexity',\n",
    " 'metrics_linelength',\n",
    " 'metrics_methodlength',\n",
    " 'metrics_modulelength',\n",
    " 'metrics_parameterlists',\n",
    " 'metrics_perceivedcomplexity',\n",
    " 'style_',\n",
    "    'performance_',\n",
    "    'security_',\n",
    "    'metrics_',\n",
    " 'total',\n",
    " ]"
   ]
  },
  {
   "cell_type": "code",
   "execution_count": 3,
   "metadata": {
    "collapsed": false
   },
   "outputs": [
    {
     "name": "stderr",
     "output_type": "stream",
     "text": [
      "/Users/terry/anaconda3/lib/python3.6/site-packages/sklearn/cross_validation.py:44: DeprecationWarning: This module was deprecated in version 0.18 in favor of the model_selection module into which all the refactored classes and functions are moved. Also note that the interface of the new CV iterators are different from that of this module. This module will be removed in 0.20.\n",
      "  \"This module will be removed in 0.20.\", DeprecationWarning)\n"
     ]
    }
   ],
   "source": [
    "from sklearn.linear_model import LogisticRegression\n",
    "from sklearn.neighbors import KNeighborsClassifier\n",
    "\n",
    "from sklearn.preprocessing import binarize\n",
    "from sklearn.cross_validation import train_test_split, cross_val_score\n",
    "from sklearn import metrics\n",
    "from sklearn.feature_selection import SelectKBest\n",
    "from sklearn.feature_selection import chi2,f_classif, mutual_info_classif"
   ]
  },
  {
   "cell_type": "code",
   "execution_count": 4,
   "metadata": {
    "collapsed": false
   },
   "outputs": [
    {
     "name": "stdout",
     "output_type": "stream",
     "text": [
      "Overwriting learner.py\n"
     ]
    }
   ],
   "source": [
    "%%writefile learner.py\n",
    "import numpy as np\n",
    "import pandas as pd\n",
    "import json\n",
    "import matplotlib.pyplot as plt\n",
    "from sklearn.linear_model import LogisticRegression\n",
    "from sklearn.neighbors import KNeighborsClassifier\n",
    "\n",
    "from sklearn.preprocessing import binarize\n",
    "from sklearn.cross_validation import train_test_split, cross_val_score\n",
    "from sklearn import metrics\n",
    "from sklearn.feature_selection import SelectKBest\n",
    "from sklearn.feature_selection import chi2,f_classif, mutual_info_classif, f_regression, SelectPercentile\n",
    "\n",
    "class RubygemLearner(object):\n",
    "    def __init__(self, fn, exclude_features=[]):\n",
    "        with open(fn) as f:\n",
    "            data = json.load(f)\n",
    "        self.data = data[\"data\"]\n",
    "        self.spec = data[\"spec\"]\n",
    "        self.df = pd.io.json.json_normalize(self.data)\n",
    "        self.features = self.exclude_unwanted_features(exclude_features)\n",
    "        self._rename_columns()\n",
    "        self.df = self.df[self.df[\"avg_nloc\"]<20]\n",
    "            \n",
    "    def exclude_unwanted_features(self, exclude_features):\n",
    "        return [k for k, v in self.data[0]['stat'].items() if k not in exclude_features]\n",
    "        \n",
    "    def remove_too_small_changes(self):\n",
    "        try:\n",
    "            df = df.groupby('name').filter(lambda x: x['delta_nloc'].sum() >2000)\n",
    "        except:\n",
    "            pass\n",
    "    \n",
    "    def summary(self):\n",
    "        print(self.spec)\n",
    "        print('nb_records:', len(self.df))\n",
    "        print(\"abandoned:\", (self.df['label'] != 'maintained').sum())\n",
    "        \n",
    "    def feature_evaluation(self):\n",
    "        X = self.df[self.features]\n",
    "        y = (self.df.label == 'maintained').values.astype(int)\n",
    "        X_new = SelectKBest(f_classif, k=10).fit(X, y)\n",
    "        feature_list = np.array([X_new.scores_.astype(float), self.features]).T\n",
    "        feature_list=[[float(x[0]), x[1]] for x in feature_list]\n",
    "        return sorted(feature_list, key=lambda a_entry: a_entry[0], reverse=True )\n",
    "        \n",
    "    def _rename_columns(self):\n",
    "        old_new_cols = {}\n",
    "        for name in self.df.columns:\n",
    "            if name.startswith('stat'):\n",
    "                old_new_cols[name] = name.split('.')[1]\n",
    "        self.df.rename(columns=old_new_cols, inplace=True)\n",
    "        \n",
    "    def my_train_test_split(self, test_size=0.3):\n",
    "        Xgems = self.df[[\"name\"]].drop_duplicates()\n",
    "        X_train_gems, X_test_gems = train_test_split(Xgems, test_size=test_size)\n",
    "        X_train = self.df[self.df['name'].isin(X_train_gems['name'])]\n",
    "        y_train = (X_train.label == 'maintained').values.astype(int)\n",
    "        X_train = X_train[self.features]\n",
    "        dftest = self.df[self.df['name'].isin(X_test_gems['name'])]\n",
    "\n",
    "        return X_train, y_train, dftest\n",
    "\n",
    "class Trainer(object):\n",
    "    def __init__(self, learner):\n",
    "        self.learner = learner\n",
    "        \n",
    "    def predict_sequence(self, estimator, df, name, label, threshold=0.5):\n",
    "        X = df[df['name']==name][df['label']==label][self.learner.features]\n",
    "        y_pred = estimator.predict(X)\n",
    "        return 0 if np.mean(y_pred) < threshold else 1\n",
    "\n",
    "    def test_model(self, model, dftest):\n",
    "        estimator = model\n",
    "        testers = dftest[[\"name\", \"label\"]].drop_duplicates()\n",
    "        y_test = (testers.label == 'maintained').values.astype(int)\n",
    "        y_pred = [self.predict_sequence(estimator, dftest, t[0], t[1]) for t in testers.values]\n",
    "        #print(y_pred)\n",
    "        #print(y_test)\n",
    "        #print(metrics.classification_report(y_test, y_pred))\n",
    "        return metrics.accuracy_score(y_test, y_pred)\n",
    "\n",
    "    def train_and_test(self, model):\n",
    "        accuracies = []\n",
    "        for i in range(5):\n",
    "            X_train, y_train, test = self.learner.my_train_test_split(test_size=0.3)\n",
    "            model.fit(X_train, y_train)\n",
    "            accuracies.append(self.test_model(model, test))\n",
    "        return np.mean(accuracies)\n",
    "    \n"
   ]
  },
  {
   "cell_type": "code",
   "execution_count": 5,
   "metadata": {
    "collapsed": true
   },
   "outputs": [],
   "source": [
    "from learner import RubygemLearner, Trainer"
   ]
  },
  {
   "cell_type": "code",
   "execution_count": 6,
   "metadata": {
    "collapsed": false
   },
   "outputs": [
    {
     "name": "stdout",
     "output_type": "stream",
     "text": [
      "{'version': 1, 'description': 'most data', 'min_number_of_gems': 12, 'min_months': 10, 'min_nloc': 2000, 'min_months_good': 20, 'history_months': 10, 'stopped_time_point': '2015-01-01 00:00:00 UTC', 'ignored_months_for_good': 10}\n",
      "nb_records: 9968\n",
      "abandoned: 3819\n",
      "[[286.12976744783947, 'lint_'], [127.35050621783235, 'performance_'], [108.1601881490984, 'style_'], [102.37045052923294, 'lint_duplicate'], [101.23985868390126, 'metrics_classlength'], [88.825071314669, 'metrics_cyclomaticcomplexity'], [88.65195416899282, 'metrics_perceivedcomplexity'], [53.684523545476225, 'metrics_abcsize'], [53.14334521323146, 'metrics_'], [48.479367953951815, 'security_'], [31.475151865122662, 'metrics_parameterlists'], [31.38110160564853, 'metrics_methodlength'], [20.83904074719494, 'nloc'], [14.150394668797569, 'delta_performance_'], [11.881953071591333, 'metrics_blocklength'], [7.798244131446775, 'delta_metrics_parameterlists'], [6.130574565584444, 'delta_security_'], [2.9873230789721323, 'delta_style_'], [2.1994942834443747, 'delta_metrics_blocknesting'], [2.14204879474455, 'delta_total'], [1.9455586031862873, 'metrics_modulelength'], [1.6712056288180757, 'delta_metrics_abcsize'], [1.6608632807106063, 'total'], [1.3027751243652497, 'metrics_linelength'], [1.2707258740638296, 'delta_metrics_modulelength'], [0.9464331642723319, 'delta_nloc'], [0.6504574443930397, 'delta_metrics_classlength'], [0.5729792984658802, 'delta_metrics_blocklength'], [0.21939798335811578, 'delta_metrics_cyclomaticcomplexity'], [0.20304075539321514, 'delta_lint_'], [0.15754232686623268, 'delta_lint_duplicate'], [0.05205844026100055, 'delta_nloc_rate'], [0.048796006359738464, 'metrics_blocknesting'], [0.04308518503095126, 'delta_metrics_linelength'], [0.026278613693431534, 'delta_metrics_methodlength'], [0.0227286361473354, 'delta_metrics_'], [0.009462537002013601, 'delta_metrics_perceivedcomplexity'], [0.0011524377996549662, 'age']]\n"
     ]
    }
   ],
   "source": [
    "import json\n",
    "\n",
    "fn = 'RubygemDigger--Steps--GenerateJsonForLastVersions--2.data.json'\n",
    "fn = 'RubygemDigger--Steps--GenerateJsonForAllVersions--1.data.json.all.json'\n",
    "\n",
    "learner = RubygemLearner(fn, lizard_columns + reek_columns)\n",
    "learner.summary()\n",
    "print(learner.feature_evaluation())"
   ]
  },
  {
   "cell_type": "markdown",
   "metadata": {},
   "source": [
    "# Basic building blocks"
   ]
  },
  {
   "cell_type": "code",
   "execution_count": null,
   "metadata": {
    "collapsed": false
   },
   "outputs": [],
   "source": []
  },
  {
   "cell_type": "code",
   "execution_count": 7,
   "metadata": {
    "collapsed": false
   },
   "outputs": [],
   "source": [
    "trainer = Trainer(learner)"
   ]
  },
  {
   "cell_type": "code",
   "execution_count": 8,
   "metadata": {
    "collapsed": true
   },
   "outputs": [],
   "source": [
    "def label_counts_summary(data, label='unknow'):\n",
    "    N = len(data)\n",
    "    N_ones = data.sum()\n",
    "    print('''\n",
    "label: {}\n",
    "nb. of observations: {}\n",
    "nb. of ones (good gems): {}\n",
    "frequency: {:.3f}\n",
    "    '''.format(label, N, N_ones, 1.0 * N_ones / N))"
   ]
  },
  {
   "cell_type": "markdown",
   "metadata": {},
   "source": [
    "# Classify using LogisticRegression"
   ]
  },
  {
   "cell_type": "code",
   "execution_count": 9,
   "metadata": {
    "collapsed": false
   },
   "outputs": [],
   "source": [
    "from sklearn.ensemble import BaggingClassifier\n",
    "from sklearn.ensemble import BaggingRegressor\n",
    "from sklearn.tree import DecisionTreeRegressor\n",
    "from sklearn.tree import DecisionTreeClassifier\n",
    "from sklearn.ensemble import RandomForestClassifier\n",
    "from sklearn.ensemble import AdaBoostClassifier\n",
    "from sklearn.ensemble import GradientBoostingClassifier\n",
    "from sklearn.svm import LinearSVC\n",
    "from sklearn.neural_network import MLPClassifier\n",
    "\n",
    "models = [\n",
    "    LogisticRegression(),\n",
    "    DecisionTreeClassifier(),\n",
    "    #BaggingClassifier(grid.best_estimator_, max_samples=0.5, max_features=0.5),\n",
    "    BaggingClassifier(DecisionTreeRegressor()),\n",
    "    BaggingClassifier(LogisticRegression()),\n",
    "    BaggingClassifier(KNeighborsClassifier(n_neighbors=15)),\n",
    "    RandomForestClassifier(n_estimators=20),\n",
    "    AdaBoostClassifier(n_estimators=100),\n",
    "    GradientBoostingClassifier(n_estimators=100, learning_rate=1.0,max_depth=4, random_state=0),\n",
    "    LinearSVC(loss='l2', penalty=\"l2\",dual=False, tol=1e-4),\n",
    "    MLPClassifier(solver='lbfgs', alpha=1e-5,hidden_layer_sizes=(15,), random_state=1)\n",
    "]\n"
   ]
  },
  {
   "cell_type": "code",
   "execution_count": 10,
   "metadata": {
    "collapsed": false
   },
   "outputs": [],
   "source": [
    "def evaluate_models(trainer, models):\n",
    "    results = []\n",
    "    for model in models:\n",
    "        print(\"*\" * 50)\n",
    "        print(\"Class:\", type(model).__name__)\n",
    "        precision = trainer.train_and_test(model)\n",
    "        print(\"Parameters:\", model.get_params())\n",
    "        print(\"Precision\", precision)\n",
    "        results.append(precision)\n",
    "    return results\n"
   ]
  },
  {
   "cell_type": "code",
   "execution_count": 11,
   "metadata": {
    "collapsed": false
   },
   "outputs": [],
   "source": [
    "import json\n",
    "\n",
    "def evaluate_specs(trainer, spec_type_name):\n",
    "    results = []\n",
    "    for spec_id in [1,3,4,5,7,8]:    \n",
    "        fn = '%s--%d.data.json' % (spec_type_name, spec_id)\n",
    "        results.append(evaluate_models(trainer, models))\n",
    "\n",
    "    for row in results:\n",
    "        for n in row:\n",
    "            print(\"|\", \"%4.3f\" % n, end='')\n",
    "        print(\"|\")\n",
    "    return results\n",
    "\n"
   ]
  },
  {
   "cell_type": "code",
   "execution_count": 12,
   "metadata": {
    "collapsed": false
   },
   "outputs": [
    {
     "name": "stdout",
     "output_type": "stream",
     "text": [
      "**************************************************\n",
      "Class: LogisticRegression\n"
     ]
    },
    {
     "name": "stderr",
     "output_type": "stream",
     "text": [
      "/Users/terry/git/rubygem_digger/notebook/learner.py:69: UserWarning: Boolean Series key will be reindexed to match DataFrame index.\n",
      "  X = df[df['name']==name][df['label']==label][self.learner.features]\n"
     ]
    },
    {
     "name": "stdout",
     "output_type": "stream",
     "text": [
      "Parameters: {'C': 1.0, 'class_weight': None, 'dual': False, 'fit_intercept': True, 'intercept_scaling': 1, 'max_iter': 100, 'multi_class': 'ovr', 'n_jobs': 1, 'penalty': 'l2', 'random_state': None, 'solver': 'liblinear', 'tol': 0.0001, 'verbose': 0, 'warm_start': False}\n",
      "Precision 0.608084627744\n",
      "**************************************************\n",
      "Class: DecisionTreeClassifier\n"
     ]
    },
    {
     "name": "stderr",
     "output_type": "stream",
     "text": [
      "/Users/terry/git/rubygem_digger/notebook/learner.py:69: UserWarning: Boolean Series key will be reindexed to match DataFrame index.\n",
      "  X = df[df['name']==name][df['label']==label][self.learner.features]\n"
     ]
    },
    {
     "name": "stdout",
     "output_type": "stream",
     "text": [
      "Parameters: {'class_weight': None, 'criterion': 'gini', 'max_depth': None, 'max_features': None, 'max_leaf_nodes': None, 'min_impurity_split': 1e-07, 'min_samples_leaf': 1, 'min_samples_split': 2, 'min_weight_fraction_leaf': 0.0, 'presort': False, 'random_state': None, 'splitter': 'best'}\n",
      "Precision 0.581112414735\n",
      "**************************************************\n",
      "Class: BaggingClassifier\n"
     ]
    },
    {
     "name": "stderr",
     "output_type": "stream",
     "text": [
      "/Users/terry/git/rubygem_digger/notebook/learner.py:69: UserWarning: Boolean Series key will be reindexed to match DataFrame index.\n",
      "  X = df[df['name']==name][df['label']==label][self.learner.features]\n",
      "/Users/terry/anaconda3/lib/python3.6/site-packages/sklearn/ensemble/bagging.py:146: VisibleDeprecationWarning: using a non-integer number instead of an integer will result in an error in the future\n",
      "  proba[i, predictions[i]] += 1\n",
      "/Users/terry/git/rubygem_digger/notebook/learner.py:69: UserWarning: Boolean Series key will be reindexed to match DataFrame index.\n",
      "  X = df[df['name']==name][df['label']==label][self.learner.features]\n",
      "/Users/terry/anaconda3/lib/python3.6/site-packages/sklearn/ensemble/bagging.py:146: VisibleDeprecationWarning: using a non-integer number instead of an integer will result in an error in the future\n",
      "  proba[i, predictions[i]] += 1\n",
      "/Users/terry/git/rubygem_digger/notebook/learner.py:69: UserWarning: Boolean Series key will be reindexed to match DataFrame index.\n",
      "  X = df[df['name']==name][df['label']==label][self.learner.features]\n",
      "/Users/terry/anaconda3/lib/python3.6/site-packages/sklearn/ensemble/bagging.py:146: VisibleDeprecationWarning: using a non-integer number instead of an integer will result in an error in the future\n",
      "  proba[i, predictions[i]] += 1\n",
      "/Users/terry/git/rubygem_digger/notebook/learner.py:69: UserWarning: Boolean Series key will be reindexed to match DataFrame index.\n",
      "  X = df[df['name']==name][df['label']==label][self.learner.features]\n",
      "/Users/terry/anaconda3/lib/python3.6/site-packages/sklearn/ensemble/bagging.py:146: VisibleDeprecationWarning: using a non-integer number instead of an integer will result in an error in the future\n",
      "  proba[i, predictions[i]] += 1\n",
      "/Users/terry/git/rubygem_digger/notebook/learner.py:69: UserWarning: Boolean Series key will be reindexed to match DataFrame index.\n",
      "  X = df[df['name']==name][df['label']==label][self.learner.features]\n",
      "/Users/terry/anaconda3/lib/python3.6/site-packages/sklearn/ensemble/bagging.py:146: VisibleDeprecationWarning: using a non-integer number instead of an integer will result in an error in the future\n",
      "  proba[i, predictions[i]] += 1\n"
     ]
    },
    {
     "name": "stdout",
     "output_type": "stream",
     "text": [
      "Parameters: {'base_estimator__criterion': 'mse', 'base_estimator__max_depth': None, 'base_estimator__max_features': None, 'base_estimator__max_leaf_nodes': None, 'base_estimator__min_impurity_split': 1e-07, 'base_estimator__min_samples_leaf': 1, 'base_estimator__min_samples_split': 2, 'base_estimator__min_weight_fraction_leaf': 0.0, 'base_estimator__presort': False, 'base_estimator__random_state': None, 'base_estimator__splitter': 'best', 'base_estimator': DecisionTreeRegressor(criterion='mse', max_depth=None, max_features=None,\n",
      "           max_leaf_nodes=None, min_impurity_split=1e-07,\n",
      "           min_samples_leaf=1, min_samples_split=2,\n",
      "           min_weight_fraction_leaf=0.0, presort=False, random_state=None,\n",
      "           splitter='best'), 'bootstrap': True, 'bootstrap_features': False, 'max_features': 1.0, 'max_samples': 1.0, 'n_estimators': 10, 'n_jobs': 1, 'oob_score': False, 'random_state': None, 'verbose': 0, 'warm_start': False}\n",
      "Precision 0.568897881509\n",
      "**************************************************\n",
      "Class: BaggingClassifier\n"
     ]
    },
    {
     "name": "stderr",
     "output_type": "stream",
     "text": [
      "/Users/terry/git/rubygem_digger/notebook/learner.py:69: UserWarning: Boolean Series key will be reindexed to match DataFrame index.\n",
      "  X = df[df['name']==name][df['label']==label][self.learner.features]\n",
      "/Users/terry/git/rubygem_digger/notebook/learner.py:69: UserWarning: Boolean Series key will be reindexed to match DataFrame index.\n",
      "  X = df[df['name']==name][df['label']==label][self.learner.features]\n",
      "/Users/terry/git/rubygem_digger/notebook/learner.py:69: UserWarning: Boolean Series key will be reindexed to match DataFrame index.\n",
      "  X = df[df['name']==name][df['label']==label][self.learner.features]\n",
      "/Users/terry/git/rubygem_digger/notebook/learner.py:69: UserWarning: Boolean Series key will be reindexed to match DataFrame index.\n",
      "  X = df[df['name']==name][df['label']==label][self.learner.features]\n",
      "/Users/terry/git/rubygem_digger/notebook/learner.py:69: UserWarning: Boolean Series key will be reindexed to match DataFrame index.\n",
      "  X = df[df['name']==name][df['label']==label][self.learner.features]\n"
     ]
    },
    {
     "name": "stdout",
     "output_type": "stream",
     "text": [
      "Parameters: {'base_estimator__C': 1.0, 'base_estimator__class_weight': None, 'base_estimator__dual': False, 'base_estimator__fit_intercept': True, 'base_estimator__intercept_scaling': 1, 'base_estimator__max_iter': 100, 'base_estimator__multi_class': 'ovr', 'base_estimator__n_jobs': 1, 'base_estimator__penalty': 'l2', 'base_estimator__random_state': None, 'base_estimator__solver': 'liblinear', 'base_estimator__tol': 0.0001, 'base_estimator__verbose': 0, 'base_estimator__warm_start': False, 'base_estimator': LogisticRegression(C=1.0, class_weight=None, dual=False, fit_intercept=True,\n",
      "          intercept_scaling=1, max_iter=100, multi_class='ovr', n_jobs=1,\n",
      "          penalty='l2', random_state=None, solver='liblinear', tol=0.0001,\n",
      "          verbose=0, warm_start=False), 'bootstrap': True, 'bootstrap_features': False, 'max_features': 1.0, 'max_samples': 1.0, 'n_estimators': 10, 'n_jobs': 1, 'oob_score': False, 'random_state': None, 'verbose': 0, 'warm_start': False}\n",
      "Precision 0.615343566278\n",
      "**************************************************\n",
      "Class: BaggingClassifier\n"
     ]
    },
    {
     "name": "stderr",
     "output_type": "stream",
     "text": [
      "/Users/terry/git/rubygem_digger/notebook/learner.py:69: UserWarning: Boolean Series key will be reindexed to match DataFrame index.\n",
      "  X = df[df['name']==name][df['label']==label][self.learner.features]\n",
      "/Users/terry/git/rubygem_digger/notebook/learner.py:69: UserWarning: Boolean Series key will be reindexed to match DataFrame index.\n",
      "  X = df[df['name']==name][df['label']==label][self.learner.features]\n",
      "/Users/terry/git/rubygem_digger/notebook/learner.py:69: UserWarning: Boolean Series key will be reindexed to match DataFrame index.\n",
      "  X = df[df['name']==name][df['label']==label][self.learner.features]\n",
      "/Users/terry/git/rubygem_digger/notebook/learner.py:69: UserWarning: Boolean Series key will be reindexed to match DataFrame index.\n",
      "  X = df[df['name']==name][df['label']==label][self.learner.features]\n",
      "/Users/terry/git/rubygem_digger/notebook/learner.py:69: UserWarning: Boolean Series key will be reindexed to match DataFrame index.\n",
      "  X = df[df['name']==name][df['label']==label][self.learner.features]\n"
     ]
    },
    {
     "name": "stdout",
     "output_type": "stream",
     "text": [
      "Parameters: {'base_estimator__algorithm': 'auto', 'base_estimator__leaf_size': 30, 'base_estimator__metric': 'minkowski', 'base_estimator__metric_params': None, 'base_estimator__n_jobs': 1, 'base_estimator__n_neighbors': 15, 'base_estimator__p': 2, 'base_estimator__weights': 'uniform', 'base_estimator': KNeighborsClassifier(algorithm='auto', leaf_size=30, metric='minkowski',\n",
      "           metric_params=None, n_jobs=1, n_neighbors=15, p=2,\n",
      "           weights='uniform'), 'bootstrap': True, 'bootstrap_features': False, 'max_features': 1.0, 'max_samples': 1.0, 'n_estimators': 10, 'n_jobs': 1, 'oob_score': False, 'random_state': None, 'verbose': 0, 'warm_start': False}\n",
      "Precision 0.598975647731\n",
      "**************************************************\n",
      "Class: RandomForestClassifier\n"
     ]
    },
    {
     "name": "stderr",
     "output_type": "stream",
     "text": [
      "/Users/terry/git/rubygem_digger/notebook/learner.py:69: UserWarning: Boolean Series key will be reindexed to match DataFrame index.\n",
      "  X = df[df['name']==name][df['label']==label][self.learner.features]\n",
      "/Users/terry/git/rubygem_digger/notebook/learner.py:69: UserWarning: Boolean Series key will be reindexed to match DataFrame index.\n",
      "  X = df[df['name']==name][df['label']==label][self.learner.features]\n",
      "/Users/terry/git/rubygem_digger/notebook/learner.py:69: UserWarning: Boolean Series key will be reindexed to match DataFrame index.\n",
      "  X = df[df['name']==name][df['label']==label][self.learner.features]\n",
      "/Users/terry/git/rubygem_digger/notebook/learner.py:69: UserWarning: Boolean Series key will be reindexed to match DataFrame index.\n",
      "  X = df[df['name']==name][df['label']==label][self.learner.features]\n",
      "/Users/terry/git/rubygem_digger/notebook/learner.py:69: UserWarning: Boolean Series key will be reindexed to match DataFrame index.\n",
      "  X = df[df['name']==name][df['label']==label][self.learner.features]\n"
     ]
    },
    {
     "name": "stdout",
     "output_type": "stream",
     "text": [
      "Parameters: {'bootstrap': True, 'class_weight': None, 'criterion': 'gini', 'max_depth': None, 'max_features': 'auto', 'max_leaf_nodes': None, 'min_impurity_split': 1e-07, 'min_samples_leaf': 1, 'min_samples_split': 2, 'min_weight_fraction_leaf': 0.0, 'n_estimators': 20, 'n_jobs': 1, 'oob_score': False, 'random_state': None, 'verbose': 0, 'warm_start': False}\n",
      "Precision 0.62947289795\n",
      "**************************************************\n",
      "Class: AdaBoostClassifier\n"
     ]
    },
    {
     "name": "stderr",
     "output_type": "stream",
     "text": [
      "/Users/terry/git/rubygem_digger/notebook/learner.py:69: UserWarning: Boolean Series key will be reindexed to match DataFrame index.\n",
      "  X = df[df['name']==name][df['label']==label][self.learner.features]\n",
      "/Users/terry/git/rubygem_digger/notebook/learner.py:69: UserWarning: Boolean Series key will be reindexed to match DataFrame index.\n",
      "  X = df[df['name']==name][df['label']==label][self.learner.features]\n",
      "/Users/terry/git/rubygem_digger/notebook/learner.py:69: UserWarning: Boolean Series key will be reindexed to match DataFrame index.\n",
      "  X = df[df['name']==name][df['label']==label][self.learner.features]\n",
      "/Users/terry/git/rubygem_digger/notebook/learner.py:69: UserWarning: Boolean Series key will be reindexed to match DataFrame index.\n",
      "  X = df[df['name']==name][df['label']==label][self.learner.features]\n",
      "/Users/terry/git/rubygem_digger/notebook/learner.py:69: UserWarning: Boolean Series key will be reindexed to match DataFrame index.\n",
      "  X = df[df['name']==name][df['label']==label][self.learner.features]\n"
     ]
    },
    {
     "name": "stdout",
     "output_type": "stream",
     "text": [
      "Parameters: {'algorithm': 'SAMME.R', 'base_estimator': None, 'learning_rate': 1.0, 'n_estimators': 100, 'random_state': None}\n",
      "Precision 0.605515718245\n",
      "**************************************************\n",
      "Class: GradientBoostingClassifier\n"
     ]
    },
    {
     "name": "stderr",
     "output_type": "stream",
     "text": [
      "/Users/terry/git/rubygem_digger/notebook/learner.py:69: UserWarning: Boolean Series key will be reindexed to match DataFrame index.\n",
      "  X = df[df['name']==name][df['label']==label][self.learner.features]\n"
     ]
    },
    {
     "name": "stdout",
     "output_type": "stream",
     "text": [
      "Parameters: {'criterion': 'friedman_mse', 'init': None, 'learning_rate': 1.0, 'loss': 'deviance', 'max_depth': 4, 'max_features': None, 'max_leaf_nodes': None, 'min_impurity_split': 1e-07, 'min_samples_leaf': 1, 'min_samples_split': 2, 'min_weight_fraction_leaf': 0.0, 'n_estimators': 100, 'presort': 'auto', 'random_state': 0, 'subsample': 1.0, 'verbose': 0, 'warm_start': False}\n",
      "Precision 0.594545927117\n",
      "**************************************************\n",
      "Class: LinearSVC\n"
     ]
    },
    {
     "name": "stderr",
     "output_type": "stream",
     "text": [
      "/Users/terry/anaconda3/lib/python3.6/site-packages/sklearn/svm/classes.py:199: DeprecationWarning: loss='l2' has been deprecated in favor of loss='squared_hinge' as of 0.16. Backward compatibility for the loss='l2' will be removed in 1.0\n",
      "  DeprecationWarning)\n",
      "/Users/terry/git/rubygem_digger/notebook/learner.py:69: UserWarning: Boolean Series key will be reindexed to match DataFrame index.\n",
      "  X = df[df['name']==name][df['label']==label][self.learner.features]\n"
     ]
    },
    {
     "name": "stdout",
     "output_type": "stream",
     "text": [
      "Parameters: {'C': 1.0, 'class_weight': None, 'dual': False, 'fit_intercept': True, 'intercept_scaling': 1, 'loss': 'squared_hinge', 'max_iter': 1000, 'multi_class': 'ovr', 'penalty': 'l2', 'random_state': None, 'tol': 0.0001, 'verbose': 0}\n",
      "Precision 0.631632821658\n",
      "**************************************************\n",
      "Class: MLPClassifier\n"
     ]
    },
    {
     "name": "stderr",
     "output_type": "stream",
     "text": [
      "/Users/terry/git/rubygem_digger/notebook/learner.py:69: UserWarning: Boolean Series key will be reindexed to match DataFrame index.\n",
      "  X = df[df['name']==name][df['label']==label][self.learner.features]\n"
     ]
    },
    {
     "name": "stdout",
     "output_type": "stream",
     "text": [
      "Parameters: {'activation': 'relu', 'alpha': 1e-05, 'batch_size': 'auto', 'beta_1': 0.9, 'beta_2': 0.999, 'early_stopping': False, 'epsilon': 1e-08, 'hidden_layer_sizes': (15,), 'learning_rate': 'constant', 'learning_rate_init': 0.001, 'max_iter': 200, 'momentum': 0.9, 'nesterovs_momentum': True, 'power_t': 0.5, 'random_state': 1, 'shuffle': True, 'solver': 'lbfgs', 'tol': 0.0001, 'validation_fraction': 0.1, 'verbose': False, 'warm_start': False}\n",
      "Precision 0.589111913377\n",
      "**************************************************\n",
      "Class: LogisticRegression\n"
     ]
    },
    {
     "name": "stderr",
     "output_type": "stream",
     "text": [
      "/Users/terry/git/rubygem_digger/notebook/learner.py:69: UserWarning: Boolean Series key will be reindexed to match DataFrame index.\n",
      "  X = df[df['name']==name][df['label']==label][self.learner.features]\n"
     ]
    },
    {
     "name": "stdout",
     "output_type": "stream",
     "text": [
      "Parameters: {'C': 1.0, 'class_weight': None, 'dual': False, 'fit_intercept': True, 'intercept_scaling': 1, 'max_iter': 100, 'multi_class': 'ovr', 'n_jobs': 1, 'penalty': 'l2', 'random_state': None, 'solver': 'liblinear', 'tol': 0.0001, 'verbose': 0, 'warm_start': False}\n",
      "Precision 0.615890853533\n",
      "**************************************************\n",
      "Class: DecisionTreeClassifier\n"
     ]
    },
    {
     "name": "stderr",
     "output_type": "stream",
     "text": [
      "/Users/terry/git/rubygem_digger/notebook/learner.py:69: UserWarning: Boolean Series key will be reindexed to match DataFrame index.\n",
      "  X = df[df['name']==name][df['label']==label][self.learner.features]\n"
     ]
    },
    {
     "name": "stdout",
     "output_type": "stream",
     "text": [
      "Parameters: {'class_weight': None, 'criterion': 'gini', 'max_depth': None, 'max_features': None, 'max_leaf_nodes': None, 'min_impurity_split': 1e-07, 'min_samples_leaf': 1, 'min_samples_split': 2, 'min_weight_fraction_leaf': 0.0, 'presort': False, 'random_state': None, 'splitter': 'best'}\n",
      "Precision 0.585862176405\n",
      "**************************************************\n",
      "Class: BaggingClassifier\n"
     ]
    },
    {
     "name": "stderr",
     "output_type": "stream",
     "text": [
      "/Users/terry/git/rubygem_digger/notebook/learner.py:69: UserWarning: Boolean Series key will be reindexed to match DataFrame index.\n",
      "  X = df[df['name']==name][df['label']==label][self.learner.features]\n",
      "/Users/terry/anaconda3/lib/python3.6/site-packages/sklearn/ensemble/bagging.py:146: VisibleDeprecationWarning: using a non-integer number instead of an integer will result in an error in the future\n",
      "  proba[i, predictions[i]] += 1\n",
      "/Users/terry/git/rubygem_digger/notebook/learner.py:69: UserWarning: Boolean Series key will be reindexed to match DataFrame index.\n",
      "  X = df[df['name']==name][df['label']==label][self.learner.features]\n",
      "/Users/terry/anaconda3/lib/python3.6/site-packages/sklearn/ensemble/bagging.py:146: VisibleDeprecationWarning: using a non-integer number instead of an integer will result in an error in the future\n",
      "  proba[i, predictions[i]] += 1\n",
      "/Users/terry/git/rubygem_digger/notebook/learner.py:69: UserWarning: Boolean Series key will be reindexed to match DataFrame index.\n",
      "  X = df[df['name']==name][df['label']==label][self.learner.features]\n",
      "/Users/terry/anaconda3/lib/python3.6/site-packages/sklearn/ensemble/bagging.py:146: VisibleDeprecationWarning: using a non-integer number instead of an integer will result in an error in the future\n",
      "  proba[i, predictions[i]] += 1\n",
      "/Users/terry/git/rubygem_digger/notebook/learner.py:69: UserWarning: Boolean Series key will be reindexed to match DataFrame index.\n",
      "  X = df[df['name']==name][df['label']==label][self.learner.features]\n",
      "/Users/terry/anaconda3/lib/python3.6/site-packages/sklearn/ensemble/bagging.py:146: VisibleDeprecationWarning: using a non-integer number instead of an integer will result in an error in the future\n",
      "  proba[i, predictions[i]] += 1\n",
      "/Users/terry/git/rubygem_digger/notebook/learner.py:69: UserWarning: Boolean Series key will be reindexed to match DataFrame index.\n",
      "  X = df[df['name']==name][df['label']==label][self.learner.features]\n",
      "/Users/terry/anaconda3/lib/python3.6/site-packages/sklearn/ensemble/bagging.py:146: VisibleDeprecationWarning: using a non-integer number instead of an integer will result in an error in the future\n",
      "  proba[i, predictions[i]] += 1\n"
     ]
    },
    {
     "name": "stdout",
     "output_type": "stream",
     "text": [
      "Parameters: {'base_estimator__criterion': 'mse', 'base_estimator__max_depth': None, 'base_estimator__max_features': None, 'base_estimator__max_leaf_nodes': None, 'base_estimator__min_impurity_split': 1e-07, 'base_estimator__min_samples_leaf': 1, 'base_estimator__min_samples_split': 2, 'base_estimator__min_weight_fraction_leaf': 0.0, 'base_estimator__presort': False, 'base_estimator__random_state': None, 'base_estimator__splitter': 'best', 'base_estimator': DecisionTreeRegressor(criterion='mse', max_depth=None, max_features=None,\n",
      "           max_leaf_nodes=None, min_impurity_split=1e-07,\n",
      "           min_samples_leaf=1, min_samples_split=2,\n",
      "           min_weight_fraction_leaf=0.0, presort=False, random_state=None,\n",
      "           splitter='best'), 'bootstrap': True, 'bootstrap_features': False, 'max_features': 1.0, 'max_samples': 1.0, 'n_estimators': 10, 'n_jobs': 1, 'oob_score': False, 'random_state': None, 'verbose': 0, 'warm_start': False}\n",
      "Precision 0.599419110395\n",
      "**************************************************\n",
      "Class: BaggingClassifier\n"
     ]
    },
    {
     "name": "stderr",
     "output_type": "stream",
     "text": [
      "/Users/terry/git/rubygem_digger/notebook/learner.py:69: UserWarning: Boolean Series key will be reindexed to match DataFrame index.\n",
      "  X = df[df['name']==name][df['label']==label][self.learner.features]\n",
      "/Users/terry/git/rubygem_digger/notebook/learner.py:69: UserWarning: Boolean Series key will be reindexed to match DataFrame index.\n",
      "  X = df[df['name']==name][df['label']==label][self.learner.features]\n",
      "/Users/terry/git/rubygem_digger/notebook/learner.py:69: UserWarning: Boolean Series key will be reindexed to match DataFrame index.\n",
      "  X = df[df['name']==name][df['label']==label][self.learner.features]\n",
      "/Users/terry/git/rubygem_digger/notebook/learner.py:69: UserWarning: Boolean Series key will be reindexed to match DataFrame index.\n",
      "  X = df[df['name']==name][df['label']==label][self.learner.features]\n",
      "/Users/terry/git/rubygem_digger/notebook/learner.py:69: UserWarning: Boolean Series key will be reindexed to match DataFrame index.\n",
      "  X = df[df['name']==name][df['label']==label][self.learner.features]\n"
     ]
    },
    {
     "name": "stdout",
     "output_type": "stream",
     "text": [
      "Parameters: {'base_estimator__C': 1.0, 'base_estimator__class_weight': None, 'base_estimator__dual': False, 'base_estimator__fit_intercept': True, 'base_estimator__intercept_scaling': 1, 'base_estimator__max_iter': 100, 'base_estimator__multi_class': 'ovr', 'base_estimator__n_jobs': 1, 'base_estimator__penalty': 'l2', 'base_estimator__random_state': None, 'base_estimator__solver': 'liblinear', 'base_estimator__tol': 0.0001, 'base_estimator__verbose': 0, 'base_estimator__warm_start': False, 'base_estimator': LogisticRegression(C=1.0, class_weight=None, dual=False, fit_intercept=True,\n",
      "          intercept_scaling=1, max_iter=100, multi_class='ovr', n_jobs=1,\n",
      "          penalty='l2', random_state=None, solver='liblinear', tol=0.0001,\n",
      "          verbose=0, warm_start=False), 'bootstrap': True, 'bootstrap_features': False, 'max_features': 1.0, 'max_samples': 1.0, 'n_estimators': 10, 'n_jobs': 1, 'oob_score': False, 'random_state': None, 'verbose': 0, 'warm_start': False}\n",
      "Precision 0.620291412115\n",
      "**************************************************\n",
      "Class: BaggingClassifier\n"
     ]
    },
    {
     "name": "stderr",
     "output_type": "stream",
     "text": [
      "/Users/terry/git/rubygem_digger/notebook/learner.py:69: UserWarning: Boolean Series key will be reindexed to match DataFrame index.\n",
      "  X = df[df['name']==name][df['label']==label][self.learner.features]\n",
      "/Users/terry/git/rubygem_digger/notebook/learner.py:69: UserWarning: Boolean Series key will be reindexed to match DataFrame index.\n",
      "  X = df[df['name']==name][df['label']==label][self.learner.features]\n",
      "/Users/terry/git/rubygem_digger/notebook/learner.py:69: UserWarning: Boolean Series key will be reindexed to match DataFrame index.\n",
      "  X = df[df['name']==name][df['label']==label][self.learner.features]\n",
      "/Users/terry/git/rubygem_digger/notebook/learner.py:69: UserWarning: Boolean Series key will be reindexed to match DataFrame index.\n",
      "  X = df[df['name']==name][df['label']==label][self.learner.features]\n",
      "/Users/terry/git/rubygem_digger/notebook/learner.py:69: UserWarning: Boolean Series key will be reindexed to match DataFrame index.\n",
      "  X = df[df['name']==name][df['label']==label][self.learner.features]\n"
     ]
    },
    {
     "name": "stdout",
     "output_type": "stream",
     "text": [
      "Parameters: {'base_estimator__algorithm': 'auto', 'base_estimator__leaf_size': 30, 'base_estimator__metric': 'minkowski', 'base_estimator__metric_params': None, 'base_estimator__n_jobs': 1, 'base_estimator__n_neighbors': 15, 'base_estimator__p': 2, 'base_estimator__weights': 'uniform', 'base_estimator': KNeighborsClassifier(algorithm='auto', leaf_size=30, metric='minkowski',\n",
      "           metric_params=None, n_jobs=1, n_neighbors=15, p=2,\n",
      "           weights='uniform'), 'bootstrap': True, 'bootstrap_features': False, 'max_features': 1.0, 'max_samples': 1.0, 'n_estimators': 10, 'n_jobs': 1, 'oob_score': False, 'random_state': None, 'verbose': 0, 'warm_start': False}\n",
      "Precision 0.591112134469\n",
      "**************************************************\n",
      "Class: RandomForestClassifier\n"
     ]
    },
    {
     "name": "stderr",
     "output_type": "stream",
     "text": [
      "/Users/terry/git/rubygem_digger/notebook/learner.py:69: UserWarning: Boolean Series key will be reindexed to match DataFrame index.\n",
      "  X = df[df['name']==name][df['label']==label][self.learner.features]\n",
      "/Users/terry/git/rubygem_digger/notebook/learner.py:69: UserWarning: Boolean Series key will be reindexed to match DataFrame index.\n",
      "  X = df[df['name']==name][df['label']==label][self.learner.features]\n",
      "/Users/terry/git/rubygem_digger/notebook/learner.py:69: UserWarning: Boolean Series key will be reindexed to match DataFrame index.\n",
      "  X = df[df['name']==name][df['label']==label][self.learner.features]\n",
      "/Users/terry/git/rubygem_digger/notebook/learner.py:69: UserWarning: Boolean Series key will be reindexed to match DataFrame index.\n",
      "  X = df[df['name']==name][df['label']==label][self.learner.features]\n",
      "/Users/terry/git/rubygem_digger/notebook/learner.py:69: UserWarning: Boolean Series key will be reindexed to match DataFrame index.\n",
      "  X = df[df['name']==name][df['label']==label][self.learner.features]\n"
     ]
    },
    {
     "name": "stdout",
     "output_type": "stream",
     "text": [
      "Parameters: {'bootstrap': True, 'class_weight': None, 'criterion': 'gini', 'max_depth': None, 'max_features': 'auto', 'max_leaf_nodes': None, 'min_impurity_split': 1e-07, 'min_samples_leaf': 1, 'min_samples_split': 2, 'min_weight_fraction_leaf': 0.0, 'n_estimators': 20, 'n_jobs': 1, 'oob_score': False, 'random_state': None, 'verbose': 0, 'warm_start': False}\n",
      "Precision 0.611228759297\n",
      "**************************************************\n",
      "Class: AdaBoostClassifier\n"
     ]
    },
    {
     "name": "stderr",
     "output_type": "stream",
     "text": [
      "/Users/terry/git/rubygem_digger/notebook/learner.py:69: UserWarning: Boolean Series key will be reindexed to match DataFrame index.\n",
      "  X = df[df['name']==name][df['label']==label][self.learner.features]\n",
      "/Users/terry/git/rubygem_digger/notebook/learner.py:69: UserWarning: Boolean Series key will be reindexed to match DataFrame index.\n",
      "  X = df[df['name']==name][df['label']==label][self.learner.features]\n",
      "/Users/terry/git/rubygem_digger/notebook/learner.py:69: UserWarning: Boolean Series key will be reindexed to match DataFrame index.\n",
      "  X = df[df['name']==name][df['label']==label][self.learner.features]\n",
      "/Users/terry/git/rubygem_digger/notebook/learner.py:69: UserWarning: Boolean Series key will be reindexed to match DataFrame index.\n",
      "  X = df[df['name']==name][df['label']==label][self.learner.features]\n",
      "/Users/terry/git/rubygem_digger/notebook/learner.py:69: UserWarning: Boolean Series key will be reindexed to match DataFrame index.\n",
      "  X = df[df['name']==name][df['label']==label][self.learner.features]\n"
     ]
    },
    {
     "name": "stdout",
     "output_type": "stream",
     "text": [
      "Parameters: {'algorithm': 'SAMME.R', 'base_estimator': None, 'learning_rate': 1.0, 'n_estimators': 100, 'random_state': None}\n",
      "Precision 0.596099653885\n",
      "**************************************************\n",
      "Class: GradientBoostingClassifier\n"
     ]
    },
    {
     "name": "stderr",
     "output_type": "stream",
     "text": [
      "/Users/terry/git/rubygem_digger/notebook/learner.py:69: UserWarning: Boolean Series key will be reindexed to match DataFrame index.\n",
      "  X = df[df['name']==name][df['label']==label][self.learner.features]\n"
     ]
    },
    {
     "name": "stdout",
     "output_type": "stream",
     "text": [
      "Parameters: {'criterion': 'friedman_mse', 'init': None, 'learning_rate': 1.0, 'loss': 'deviance', 'max_depth': 4, 'max_features': None, 'max_leaf_nodes': None, 'min_impurity_split': 1e-07, 'min_samples_leaf': 1, 'min_samples_split': 2, 'min_weight_fraction_leaf': 0.0, 'n_estimators': 100, 'presort': 'auto', 'random_state': 0, 'subsample': 1.0, 'verbose': 0, 'warm_start': False}\n",
      "Precision 0.601457685117\n",
      "**************************************************\n",
      "Class: LinearSVC\n"
     ]
    },
    {
     "name": "stderr",
     "output_type": "stream",
     "text": [
      "/Users/terry/git/rubygem_digger/notebook/learner.py:69: UserWarning: Boolean Series key will be reindexed to match DataFrame index.\n",
      "  X = df[df['name']==name][df['label']==label][self.learner.features]\n"
     ]
    },
    {
     "name": "stdout",
     "output_type": "stream",
     "text": [
      "Parameters: {'C': 1.0, 'class_weight': None, 'dual': False, 'fit_intercept': True, 'intercept_scaling': 1, 'loss': 'squared_hinge', 'max_iter': 1000, 'multi_class': 'ovr', 'penalty': 'l2', 'random_state': None, 'tol': 0.0001, 'verbose': 0}\n",
      "Precision 0.622939793067\n",
      "**************************************************\n",
      "Class: MLPClassifier\n"
     ]
    },
    {
     "name": "stderr",
     "output_type": "stream",
     "text": [
      "/Users/terry/git/rubygem_digger/notebook/learner.py:69: UserWarning: Boolean Series key will be reindexed to match DataFrame index.\n",
      "  X = df[df['name']==name][df['label']==label][self.learner.features]\n"
     ]
    },
    {
     "name": "stdout",
     "output_type": "stream",
     "text": [
      "Parameters: {'activation': 'relu', 'alpha': 1e-05, 'batch_size': 'auto', 'beta_1': 0.9, 'beta_2': 0.999, 'early_stopping': False, 'epsilon': 1e-08, 'hidden_layer_sizes': (15,), 'learning_rate': 'constant', 'learning_rate_init': 0.001, 'max_iter': 200, 'momentum': 0.9, 'nesterovs_momentum': True, 'power_t': 0.5, 'random_state': 1, 'shuffle': True, 'solver': 'lbfgs', 'tol': 0.0001, 'validation_fraction': 0.1, 'verbose': False, 'warm_start': False}\n",
      "Precision 0.582572476737\n",
      "**************************************************\n",
      "Class: LogisticRegression\n"
     ]
    },
    {
     "name": "stderr",
     "output_type": "stream",
     "text": [
      "/Users/terry/git/rubygem_digger/notebook/learner.py:69: UserWarning: Boolean Series key will be reindexed to match DataFrame index.\n",
      "  X = df[df['name']==name][df['label']==label][self.learner.features]\n"
     ]
    },
    {
     "name": "stdout",
     "output_type": "stream",
     "text": [
      "Parameters: {'C': 1.0, 'class_weight': None, 'dual': False, 'fit_intercept': True, 'intercept_scaling': 1, 'max_iter': 100, 'multi_class': 'ovr', 'n_jobs': 1, 'penalty': 'l2', 'random_state': None, 'solver': 'liblinear', 'tol': 0.0001, 'verbose': 0, 'warm_start': False}\n",
      "Precision 0.613155594832\n",
      "**************************************************\n",
      "Class: DecisionTreeClassifier\n"
     ]
    },
    {
     "name": "stderr",
     "output_type": "stream",
     "text": [
      "/Users/terry/git/rubygem_digger/notebook/learner.py:69: UserWarning: Boolean Series key will be reindexed to match DataFrame index.\n",
      "  X = df[df['name']==name][df['label']==label][self.learner.features]\n"
     ]
    },
    {
     "name": "stdout",
     "output_type": "stream",
     "text": [
      "Parameters: {'class_weight': None, 'criterion': 'gini', 'max_depth': None, 'max_features': None, 'max_leaf_nodes': None, 'min_impurity_split': 1e-07, 'min_samples_leaf': 1, 'min_samples_split': 2, 'min_weight_fraction_leaf': 0.0, 'presort': False, 'random_state': None, 'splitter': 'best'}\n",
      "Precision 0.563619621785\n",
      "**************************************************\n",
      "Class: BaggingClassifier\n"
     ]
    },
    {
     "name": "stderr",
     "output_type": "stream",
     "text": [
      "/Users/terry/git/rubygem_digger/notebook/learner.py:69: UserWarning: Boolean Series key will be reindexed to match DataFrame index.\n",
      "  X = df[df['name']==name][df['label']==label][self.learner.features]\n",
      "/Users/terry/anaconda3/lib/python3.6/site-packages/sklearn/ensemble/bagging.py:146: VisibleDeprecationWarning: using a non-integer number instead of an integer will result in an error in the future\n",
      "  proba[i, predictions[i]] += 1\n",
      "/Users/terry/git/rubygem_digger/notebook/learner.py:69: UserWarning: Boolean Series key will be reindexed to match DataFrame index.\n",
      "  X = df[df['name']==name][df['label']==label][self.learner.features]\n",
      "/Users/terry/anaconda3/lib/python3.6/site-packages/sklearn/ensemble/bagging.py:146: VisibleDeprecationWarning: using a non-integer number instead of an integer will result in an error in the future\n",
      "  proba[i, predictions[i]] += 1\n",
      "/Users/terry/git/rubygem_digger/notebook/learner.py:69: UserWarning: Boolean Series key will be reindexed to match DataFrame index.\n",
      "  X = df[df['name']==name][df['label']==label][self.learner.features]\n",
      "/Users/terry/anaconda3/lib/python3.6/site-packages/sklearn/ensemble/bagging.py:146: VisibleDeprecationWarning: using a non-integer number instead of an integer will result in an error in the future\n",
      "  proba[i, predictions[i]] += 1\n",
      "/Users/terry/git/rubygem_digger/notebook/learner.py:69: UserWarning: Boolean Series key will be reindexed to match DataFrame index.\n",
      "  X = df[df['name']==name][df['label']==label][self.learner.features]\n",
      "/Users/terry/anaconda3/lib/python3.6/site-packages/sklearn/ensemble/bagging.py:146: VisibleDeprecationWarning: using a non-integer number instead of an integer will result in an error in the future\n",
      "  proba[i, predictions[i]] += 1\n",
      "/Users/terry/git/rubygem_digger/notebook/learner.py:69: UserWarning: Boolean Series key will be reindexed to match DataFrame index.\n",
      "  X = df[df['name']==name][df['label']==label][self.learner.features]\n",
      "/Users/terry/anaconda3/lib/python3.6/site-packages/sklearn/ensemble/bagging.py:146: VisibleDeprecationWarning: using a non-integer number instead of an integer will result in an error in the future\n",
      "  proba[i, predictions[i]] += 1\n"
     ]
    },
    {
     "name": "stdout",
     "output_type": "stream",
     "text": [
      "Parameters: {'base_estimator__criterion': 'mse', 'base_estimator__max_depth': None, 'base_estimator__max_features': None, 'base_estimator__max_leaf_nodes': None, 'base_estimator__min_impurity_split': 1e-07, 'base_estimator__min_samples_leaf': 1, 'base_estimator__min_samples_split': 2, 'base_estimator__min_weight_fraction_leaf': 0.0, 'base_estimator__presort': False, 'base_estimator__random_state': None, 'base_estimator__splitter': 'best', 'base_estimator': DecisionTreeRegressor(criterion='mse', max_depth=None, max_features=None,\n",
      "           max_leaf_nodes=None, min_impurity_split=1e-07,\n",
      "           min_samples_leaf=1, min_samples_split=2,\n",
      "           min_weight_fraction_leaf=0.0, presort=False, random_state=None,\n",
      "           splitter='best'), 'bootstrap': True, 'bootstrap_features': False, 'max_features': 1.0, 'max_samples': 1.0, 'n_estimators': 10, 'n_jobs': 1, 'oob_score': False, 'random_state': None, 'verbose': 0, 'warm_start': False}\n",
      "Precision 0.581005663502\n",
      "**************************************************\n",
      "Class: BaggingClassifier\n"
     ]
    },
    {
     "name": "stderr",
     "output_type": "stream",
     "text": [
      "/Users/terry/git/rubygem_digger/notebook/learner.py:69: UserWarning: Boolean Series key will be reindexed to match DataFrame index.\n",
      "  X = df[df['name']==name][df['label']==label][self.learner.features]\n",
      "/Users/terry/git/rubygem_digger/notebook/learner.py:69: UserWarning: Boolean Series key will be reindexed to match DataFrame index.\n",
      "  X = df[df['name']==name][df['label']==label][self.learner.features]\n",
      "/Users/terry/git/rubygem_digger/notebook/learner.py:69: UserWarning: Boolean Series key will be reindexed to match DataFrame index.\n",
      "  X = df[df['name']==name][df['label']==label][self.learner.features]\n",
      "/Users/terry/git/rubygem_digger/notebook/learner.py:69: UserWarning: Boolean Series key will be reindexed to match DataFrame index.\n",
      "  X = df[df['name']==name][df['label']==label][self.learner.features]\n",
      "/Users/terry/git/rubygem_digger/notebook/learner.py:69: UserWarning: Boolean Series key will be reindexed to match DataFrame index.\n",
      "  X = df[df['name']==name][df['label']==label][self.learner.features]\n"
     ]
    },
    {
     "name": "stdout",
     "output_type": "stream",
     "text": [
      "Parameters: {'base_estimator__C': 1.0, 'base_estimator__class_weight': None, 'base_estimator__dual': False, 'base_estimator__fit_intercept': True, 'base_estimator__intercept_scaling': 1, 'base_estimator__max_iter': 100, 'base_estimator__multi_class': 'ovr', 'base_estimator__n_jobs': 1, 'base_estimator__penalty': 'l2', 'base_estimator__random_state': None, 'base_estimator__solver': 'liblinear', 'base_estimator__tol': 0.0001, 'base_estimator__verbose': 0, 'base_estimator__warm_start': False, 'base_estimator': LogisticRegression(C=1.0, class_weight=None, dual=False, fit_intercept=True,\n",
      "          intercept_scaling=1, max_iter=100, multi_class='ovr', n_jobs=1,\n",
      "          penalty='l2', random_state=None, solver='liblinear', tol=0.0001,\n",
      "          verbose=0, warm_start=False), 'bootstrap': True, 'bootstrap_features': False, 'max_features': 1.0, 'max_samples': 1.0, 'n_estimators': 10, 'n_jobs': 1, 'oob_score': False, 'random_state': None, 'verbose': 0, 'warm_start': False}\n",
      "Precision 0.619778072034\n",
      "**************************************************\n",
      "Class: BaggingClassifier\n"
     ]
    },
    {
     "name": "stderr",
     "output_type": "stream",
     "text": [
      "/Users/terry/git/rubygem_digger/notebook/learner.py:69: UserWarning: Boolean Series key will be reindexed to match DataFrame index.\n",
      "  X = df[df['name']==name][df['label']==label][self.learner.features]\n",
      "/Users/terry/git/rubygem_digger/notebook/learner.py:69: UserWarning: Boolean Series key will be reindexed to match DataFrame index.\n",
      "  X = df[df['name']==name][df['label']==label][self.learner.features]\n",
      "/Users/terry/git/rubygem_digger/notebook/learner.py:69: UserWarning: Boolean Series key will be reindexed to match DataFrame index.\n",
      "  X = df[df['name']==name][df['label']==label][self.learner.features]\n",
      "/Users/terry/git/rubygem_digger/notebook/learner.py:69: UserWarning: Boolean Series key will be reindexed to match DataFrame index.\n",
      "  X = df[df['name']==name][df['label']==label][self.learner.features]\n",
      "/Users/terry/git/rubygem_digger/notebook/learner.py:69: UserWarning: Boolean Series key will be reindexed to match DataFrame index.\n",
      "  X = df[df['name']==name][df['label']==label][self.learner.features]\n"
     ]
    },
    {
     "name": "stdout",
     "output_type": "stream",
     "text": [
      "Parameters: {'base_estimator__algorithm': 'auto', 'base_estimator__leaf_size': 30, 'base_estimator__metric': 'minkowski', 'base_estimator__metric_params': None, 'base_estimator__n_jobs': 1, 'base_estimator__n_neighbors': 15, 'base_estimator__p': 2, 'base_estimator__weights': 'uniform', 'base_estimator': KNeighborsClassifier(algorithm='auto', leaf_size=30, metric='minkowski',\n",
      "           metric_params=None, n_jobs=1, n_neighbors=15, p=2,\n",
      "           weights='uniform'), 'bootstrap': True, 'bootstrap_features': False, 'max_features': 1.0, 'max_samples': 1.0, 'n_estimators': 10, 'n_jobs': 1, 'oob_score': False, 'random_state': None, 'verbose': 0, 'warm_start': False}\n",
      "Precision 0.591457978761\n",
      "**************************************************\n",
      "Class: RandomForestClassifier\n"
     ]
    },
    {
     "name": "stderr",
     "output_type": "stream",
     "text": [
      "/Users/terry/git/rubygem_digger/notebook/learner.py:69: UserWarning: Boolean Series key will be reindexed to match DataFrame index.\n",
      "  X = df[df['name']==name][df['label']==label][self.learner.features]\n",
      "/Users/terry/git/rubygem_digger/notebook/learner.py:69: UserWarning: Boolean Series key will be reindexed to match DataFrame index.\n",
      "  X = df[df['name']==name][df['label']==label][self.learner.features]\n",
      "/Users/terry/git/rubygem_digger/notebook/learner.py:69: UserWarning: Boolean Series key will be reindexed to match DataFrame index.\n",
      "  X = df[df['name']==name][df['label']==label][self.learner.features]\n",
      "/Users/terry/git/rubygem_digger/notebook/learner.py:69: UserWarning: Boolean Series key will be reindexed to match DataFrame index.\n",
      "  X = df[df['name']==name][df['label']==label][self.learner.features]\n",
      "/Users/terry/git/rubygem_digger/notebook/learner.py:69: UserWarning: Boolean Series key will be reindexed to match DataFrame index.\n",
      "  X = df[df['name']==name][df['label']==label][self.learner.features]\n"
     ]
    },
    {
     "name": "stdout",
     "output_type": "stream",
     "text": [
      "Parameters: {'bootstrap': True, 'class_weight': None, 'criterion': 'gini', 'max_depth': None, 'max_features': 'auto', 'max_leaf_nodes': None, 'min_impurity_split': 1e-07, 'min_samples_leaf': 1, 'min_samples_split': 2, 'min_weight_fraction_leaf': 0.0, 'n_estimators': 20, 'n_jobs': 1, 'oob_score': False, 'random_state': None, 'verbose': 0, 'warm_start': False}\n",
      "Precision 0.628439467875\n",
      "**************************************************\n",
      "Class: AdaBoostClassifier\n"
     ]
    },
    {
     "name": "stderr",
     "output_type": "stream",
     "text": [
      "/Users/terry/git/rubygem_digger/notebook/learner.py:69: UserWarning: Boolean Series key will be reindexed to match DataFrame index.\n",
      "  X = df[df['name']==name][df['label']==label][self.learner.features]\n",
      "/Users/terry/git/rubygem_digger/notebook/learner.py:69: UserWarning: Boolean Series key will be reindexed to match DataFrame index.\n",
      "  X = df[df['name']==name][df['label']==label][self.learner.features]\n",
      "/Users/terry/git/rubygem_digger/notebook/learner.py:69: UserWarning: Boolean Series key will be reindexed to match DataFrame index.\n",
      "  X = df[df['name']==name][df['label']==label][self.learner.features]\n",
      "/Users/terry/git/rubygem_digger/notebook/learner.py:69: UserWarning: Boolean Series key will be reindexed to match DataFrame index.\n",
      "  X = df[df['name']==name][df['label']==label][self.learner.features]\n",
      "/Users/terry/git/rubygem_digger/notebook/learner.py:69: UserWarning: Boolean Series key will be reindexed to match DataFrame index.\n",
      "  X = df[df['name']==name][df['label']==label][self.learner.features]\n"
     ]
    },
    {
     "name": "stdout",
     "output_type": "stream",
     "text": [
      "Parameters: {'algorithm': 'SAMME.R', 'base_estimator': None, 'learning_rate': 1.0, 'n_estimators': 100, 'random_state': None}\n",
      "Precision 0.607672676692\n",
      "**************************************************\n",
      "Class: GradientBoostingClassifier\n"
     ]
    },
    {
     "name": "stderr",
     "output_type": "stream",
     "text": [
      "/Users/terry/git/rubygem_digger/notebook/learner.py:69: UserWarning: Boolean Series key will be reindexed to match DataFrame index.\n",
      "  X = df[df['name']==name][df['label']==label][self.learner.features]\n"
     ]
    },
    {
     "name": "stdout",
     "output_type": "stream",
     "text": [
      "Parameters: {'criterion': 'friedman_mse', 'init': None, 'learning_rate': 1.0, 'loss': 'deviance', 'max_depth': 4, 'max_features': None, 'max_leaf_nodes': None, 'min_impurity_split': 1e-07, 'min_samples_leaf': 1, 'min_samples_split': 2, 'min_weight_fraction_leaf': 0.0, 'n_estimators': 100, 'presort': 'auto', 'random_state': 0, 'subsample': 1.0, 'verbose': 0, 'warm_start': False}\n",
      "Precision 0.598168121894\n",
      "**************************************************\n",
      "Class: LinearSVC\n"
     ]
    },
    {
     "name": "stderr",
     "output_type": "stream",
     "text": [
      "/Users/terry/git/rubygem_digger/notebook/learner.py:69: UserWarning: Boolean Series key will be reindexed to match DataFrame index.\n",
      "  X = df[df['name']==name][df['label']==label][self.learner.features]\n"
     ]
    },
    {
     "name": "stdout",
     "output_type": "stream",
     "text": [
      "Parameters: {'C': 1.0, 'class_weight': None, 'dual': False, 'fit_intercept': True, 'intercept_scaling': 1, 'loss': 'squared_hinge', 'max_iter': 1000, 'multi_class': 'ovr', 'penalty': 'l2', 'random_state': None, 'tol': 0.0001, 'verbose': 0}\n",
      "Precision 0.61403932873\n",
      "**************************************************\n",
      "Class: MLPClassifier\n"
     ]
    },
    {
     "name": "stderr",
     "output_type": "stream",
     "text": [
      "/Users/terry/git/rubygem_digger/notebook/learner.py:69: UserWarning: Boolean Series key will be reindexed to match DataFrame index.\n",
      "  X = df[df['name']==name][df['label']==label][self.learner.features]\n"
     ]
    },
    {
     "name": "stdout",
     "output_type": "stream",
     "text": [
      "Parameters: {'activation': 'relu', 'alpha': 1e-05, 'batch_size': 'auto', 'beta_1': 0.9, 'beta_2': 0.999, 'early_stopping': False, 'epsilon': 1e-08, 'hidden_layer_sizes': (15,), 'learning_rate': 'constant', 'learning_rate_init': 0.001, 'max_iter': 200, 'momentum': 0.9, 'nesterovs_momentum': True, 'power_t': 0.5, 'random_state': 1, 'shuffle': True, 'solver': 'lbfgs', 'tol': 0.0001, 'validation_fraction': 0.1, 'verbose': False, 'warm_start': False}\n",
      "Precision 0.614492458336\n",
      "**************************************************\n",
      "Class: LogisticRegression\n"
     ]
    },
    {
     "name": "stderr",
     "output_type": "stream",
     "text": [
      "/Users/terry/git/rubygem_digger/notebook/learner.py:69: UserWarning: Boolean Series key will be reindexed to match DataFrame index.\n",
      "  X = df[df['name']==name][df['label']==label][self.learner.features]\n"
     ]
    },
    {
     "name": "stdout",
     "output_type": "stream",
     "text": [
      "Parameters: {'C': 1.0, 'class_weight': None, 'dual': False, 'fit_intercept': True, 'intercept_scaling': 1, 'max_iter': 100, 'multi_class': 'ovr', 'n_jobs': 1, 'penalty': 'l2', 'random_state': None, 'solver': 'liblinear', 'tol': 0.0001, 'verbose': 0, 'warm_start': False}\n",
      "Precision 0.640574873791\n",
      "**************************************************\n",
      "Class: DecisionTreeClassifier\n"
     ]
    },
    {
     "name": "stderr",
     "output_type": "stream",
     "text": [
      "/Users/terry/git/rubygem_digger/notebook/learner.py:69: UserWarning: Boolean Series key will be reindexed to match DataFrame index.\n",
      "  X = df[df['name']==name][df['label']==label][self.learner.features]\n"
     ]
    },
    {
     "name": "stdout",
     "output_type": "stream",
     "text": [
      "Parameters: {'class_weight': None, 'criterion': 'gini', 'max_depth': None, 'max_features': None, 'max_leaf_nodes': None, 'min_impurity_split': 1e-07, 'min_samples_leaf': 1, 'min_samples_split': 2, 'min_weight_fraction_leaf': 0.0, 'presort': False, 'random_state': None, 'splitter': 'best'}\n",
      "Precision 0.581987368162\n",
      "**************************************************\n",
      "Class: BaggingClassifier\n"
     ]
    },
    {
     "name": "stderr",
     "output_type": "stream",
     "text": [
      "/Users/terry/git/rubygem_digger/notebook/learner.py:69: UserWarning: Boolean Series key will be reindexed to match DataFrame index.\n",
      "  X = df[df['name']==name][df['label']==label][self.learner.features]\n",
      "/Users/terry/anaconda3/lib/python3.6/site-packages/sklearn/ensemble/bagging.py:146: VisibleDeprecationWarning: using a non-integer number instead of an integer will result in an error in the future\n",
      "  proba[i, predictions[i]] += 1\n",
      "/Users/terry/git/rubygem_digger/notebook/learner.py:69: UserWarning: Boolean Series key will be reindexed to match DataFrame index.\n",
      "  X = df[df['name']==name][df['label']==label][self.learner.features]\n",
      "/Users/terry/anaconda3/lib/python3.6/site-packages/sklearn/ensemble/bagging.py:146: VisibleDeprecationWarning: using a non-integer number instead of an integer will result in an error in the future\n",
      "  proba[i, predictions[i]] += 1\n",
      "/Users/terry/git/rubygem_digger/notebook/learner.py:69: UserWarning: Boolean Series key will be reindexed to match DataFrame index.\n",
      "  X = df[df['name']==name][df['label']==label][self.learner.features]\n",
      "/Users/terry/anaconda3/lib/python3.6/site-packages/sklearn/ensemble/bagging.py:146: VisibleDeprecationWarning: using a non-integer number instead of an integer will result in an error in the future\n",
      "  proba[i, predictions[i]] += 1\n",
      "/Users/terry/git/rubygem_digger/notebook/learner.py:69: UserWarning: Boolean Series key will be reindexed to match DataFrame index.\n",
      "  X = df[df['name']==name][df['label']==label][self.learner.features]\n",
      "/Users/terry/anaconda3/lib/python3.6/site-packages/sklearn/ensemble/bagging.py:146: VisibleDeprecationWarning: using a non-integer number instead of an integer will result in an error in the future\n",
      "  proba[i, predictions[i]] += 1\n",
      "/Users/terry/git/rubygem_digger/notebook/learner.py:69: UserWarning: Boolean Series key will be reindexed to match DataFrame index.\n",
      "  X = df[df['name']==name][df['label']==label][self.learner.features]\n",
      "/Users/terry/anaconda3/lib/python3.6/site-packages/sklearn/ensemble/bagging.py:146: VisibleDeprecationWarning: using a non-integer number instead of an integer will result in an error in the future\n",
      "  proba[i, predictions[i]] += 1\n"
     ]
    },
    {
     "name": "stdout",
     "output_type": "stream",
     "text": [
      "Parameters: {'base_estimator__criterion': 'mse', 'base_estimator__max_depth': None, 'base_estimator__max_features': None, 'base_estimator__max_leaf_nodes': None, 'base_estimator__min_impurity_split': 1e-07, 'base_estimator__min_samples_leaf': 1, 'base_estimator__min_samples_split': 2, 'base_estimator__min_weight_fraction_leaf': 0.0, 'base_estimator__presort': False, 'base_estimator__random_state': None, 'base_estimator__splitter': 'best', 'base_estimator': DecisionTreeRegressor(criterion='mse', max_depth=None, max_features=None,\n",
      "           max_leaf_nodes=None, min_impurity_split=1e-07,\n",
      "           min_samples_leaf=1, min_samples_split=2,\n",
      "           min_weight_fraction_leaf=0.0, presort=False, random_state=None,\n",
      "           splitter='best'), 'bootstrap': True, 'bootstrap_features': False, 'max_features': 1.0, 'max_samples': 1.0, 'n_estimators': 10, 'n_jobs': 1, 'oob_score': False, 'random_state': None, 'verbose': 0, 'warm_start': False}\n",
      "Precision 0.597160111274\n",
      "**************************************************\n",
      "Class: BaggingClassifier\n"
     ]
    },
    {
     "name": "stderr",
     "output_type": "stream",
     "text": [
      "/Users/terry/git/rubygem_digger/notebook/learner.py:69: UserWarning: Boolean Series key will be reindexed to match DataFrame index.\n",
      "  X = df[df['name']==name][df['label']==label][self.learner.features]\n",
      "/Users/terry/git/rubygem_digger/notebook/learner.py:69: UserWarning: Boolean Series key will be reindexed to match DataFrame index.\n",
      "  X = df[df['name']==name][df['label']==label][self.learner.features]\n",
      "/Users/terry/git/rubygem_digger/notebook/learner.py:69: UserWarning: Boolean Series key will be reindexed to match DataFrame index.\n",
      "  X = df[df['name']==name][df['label']==label][self.learner.features]\n",
      "/Users/terry/git/rubygem_digger/notebook/learner.py:69: UserWarning: Boolean Series key will be reindexed to match DataFrame index.\n",
      "  X = df[df['name']==name][df['label']==label][self.learner.features]\n",
      "/Users/terry/git/rubygem_digger/notebook/learner.py:69: UserWarning: Boolean Series key will be reindexed to match DataFrame index.\n",
      "  X = df[df['name']==name][df['label']==label][self.learner.features]\n"
     ]
    },
    {
     "name": "stdout",
     "output_type": "stream",
     "text": [
      "Parameters: {'base_estimator__C': 1.0, 'base_estimator__class_weight': None, 'base_estimator__dual': False, 'base_estimator__fit_intercept': True, 'base_estimator__intercept_scaling': 1, 'base_estimator__max_iter': 100, 'base_estimator__multi_class': 'ovr', 'base_estimator__n_jobs': 1, 'base_estimator__penalty': 'l2', 'base_estimator__random_state': None, 'base_estimator__solver': 'liblinear', 'base_estimator__tol': 0.0001, 'base_estimator__verbose': 0, 'base_estimator__warm_start': False, 'base_estimator': LogisticRegression(C=1.0, class_weight=None, dual=False, fit_intercept=True,\n",
      "          intercept_scaling=1, max_iter=100, multi_class='ovr', n_jobs=1,\n",
      "          penalty='l2', random_state=None, solver='liblinear', tol=0.0001,\n",
      "          verbose=0, warm_start=False), 'bootstrap': True, 'bootstrap_features': False, 'max_features': 1.0, 'max_samples': 1.0, 'n_estimators': 10, 'n_jobs': 1, 'oob_score': False, 'random_state': None, 'verbose': 0, 'warm_start': False}\n",
      "Precision 0.621439276988\n",
      "**************************************************\n",
      "Class: BaggingClassifier\n"
     ]
    },
    {
     "name": "stderr",
     "output_type": "stream",
     "text": [
      "/Users/terry/git/rubygem_digger/notebook/learner.py:69: UserWarning: Boolean Series key will be reindexed to match DataFrame index.\n",
      "  X = df[df['name']==name][df['label']==label][self.learner.features]\n",
      "/Users/terry/git/rubygem_digger/notebook/learner.py:69: UserWarning: Boolean Series key will be reindexed to match DataFrame index.\n",
      "  X = df[df['name']==name][df['label']==label][self.learner.features]\n",
      "/Users/terry/git/rubygem_digger/notebook/learner.py:69: UserWarning: Boolean Series key will be reindexed to match DataFrame index.\n",
      "  X = df[df['name']==name][df['label']==label][self.learner.features]\n",
      "/Users/terry/git/rubygem_digger/notebook/learner.py:69: UserWarning: Boolean Series key will be reindexed to match DataFrame index.\n",
      "  X = df[df['name']==name][df['label']==label][self.learner.features]\n",
      "/Users/terry/git/rubygem_digger/notebook/learner.py:69: UserWarning: Boolean Series key will be reindexed to match DataFrame index.\n",
      "  X = df[df['name']==name][df['label']==label][self.learner.features]\n"
     ]
    },
    {
     "name": "stdout",
     "output_type": "stream",
     "text": [
      "Parameters: {'base_estimator__algorithm': 'auto', 'base_estimator__leaf_size': 30, 'base_estimator__metric': 'minkowski', 'base_estimator__metric_params': None, 'base_estimator__n_jobs': 1, 'base_estimator__n_neighbors': 15, 'base_estimator__p': 2, 'base_estimator__weights': 'uniform', 'base_estimator': KNeighborsClassifier(algorithm='auto', leaf_size=30, metric='minkowski',\n",
      "           metric_params=None, n_jobs=1, n_neighbors=15, p=2,\n",
      "           weights='uniform'), 'bootstrap': True, 'bootstrap_features': False, 'max_features': 1.0, 'max_samples': 1.0, 'n_estimators': 10, 'n_jobs': 1, 'oob_score': False, 'random_state': None, 'verbose': 0, 'warm_start': False}\n",
      "Precision 0.588061652474\n",
      "**************************************************\n",
      "Class: RandomForestClassifier\n"
     ]
    },
    {
     "name": "stderr",
     "output_type": "stream",
     "text": [
      "/Users/terry/git/rubygem_digger/notebook/learner.py:69: UserWarning: Boolean Series key will be reindexed to match DataFrame index.\n",
      "  X = df[df['name']==name][df['label']==label][self.learner.features]\n",
      "/Users/terry/git/rubygem_digger/notebook/learner.py:69: UserWarning: Boolean Series key will be reindexed to match DataFrame index.\n",
      "  X = df[df['name']==name][df['label']==label][self.learner.features]\n",
      "/Users/terry/git/rubygem_digger/notebook/learner.py:69: UserWarning: Boolean Series key will be reindexed to match DataFrame index.\n",
      "  X = df[df['name']==name][df['label']==label][self.learner.features]\n",
      "/Users/terry/git/rubygem_digger/notebook/learner.py:69: UserWarning: Boolean Series key will be reindexed to match DataFrame index.\n",
      "  X = df[df['name']==name][df['label']==label][self.learner.features]\n",
      "/Users/terry/git/rubygem_digger/notebook/learner.py:69: UserWarning: Boolean Series key will be reindexed to match DataFrame index.\n",
      "  X = df[df['name']==name][df['label']==label][self.learner.features]\n"
     ]
    },
    {
     "name": "stdout",
     "output_type": "stream",
     "text": [
      "Parameters: {'bootstrap': True, 'class_weight': None, 'criterion': 'gini', 'max_depth': None, 'max_features': 'auto', 'max_leaf_nodes': None, 'min_impurity_split': 1e-07, 'min_samples_leaf': 1, 'min_samples_split': 2, 'min_weight_fraction_leaf': 0.0, 'n_estimators': 20, 'n_jobs': 1, 'oob_score': False, 'random_state': None, 'verbose': 0, 'warm_start': False}\n",
      "Precision 0.609739910904\n",
      "**************************************************\n",
      "Class: AdaBoostClassifier\n"
     ]
    },
    {
     "name": "stderr",
     "output_type": "stream",
     "text": [
      "/Users/terry/git/rubygem_digger/notebook/learner.py:69: UserWarning: Boolean Series key will be reindexed to match DataFrame index.\n",
      "  X = df[df['name']==name][df['label']==label][self.learner.features]\n",
      "/Users/terry/git/rubygem_digger/notebook/learner.py:69: UserWarning: Boolean Series key will be reindexed to match DataFrame index.\n",
      "  X = df[df['name']==name][df['label']==label][self.learner.features]\n",
      "/Users/terry/git/rubygem_digger/notebook/learner.py:69: UserWarning: Boolean Series key will be reindexed to match DataFrame index.\n",
      "  X = df[df['name']==name][df['label']==label][self.learner.features]\n",
      "/Users/terry/git/rubygem_digger/notebook/learner.py:69: UserWarning: Boolean Series key will be reindexed to match DataFrame index.\n",
      "  X = df[df['name']==name][df['label']==label][self.learner.features]\n",
      "/Users/terry/git/rubygem_digger/notebook/learner.py:69: UserWarning: Boolean Series key will be reindexed to match DataFrame index.\n",
      "  X = df[df['name']==name][df['label']==label][self.learner.features]\n"
     ]
    },
    {
     "name": "stdout",
     "output_type": "stream",
     "text": [
      "Parameters: {'algorithm': 'SAMME.R', 'base_estimator': None, 'learning_rate': 1.0, 'n_estimators': 100, 'random_state': None}\n",
      "Precision 0.60275435122\n",
      "**************************************************\n",
      "Class: GradientBoostingClassifier\n"
     ]
    },
    {
     "name": "stderr",
     "output_type": "stream",
     "text": [
      "/Users/terry/git/rubygem_digger/notebook/learner.py:69: UserWarning: Boolean Series key will be reindexed to match DataFrame index.\n",
      "  X = df[df['name']==name][df['label']==label][self.learner.features]\n"
     ]
    },
    {
     "name": "stdout",
     "output_type": "stream",
     "text": [
      "Parameters: {'criterion': 'friedman_mse', 'init': None, 'learning_rate': 1.0, 'loss': 'deviance', 'max_depth': 4, 'max_features': None, 'max_leaf_nodes': None, 'min_impurity_split': 1e-07, 'min_samples_leaf': 1, 'min_samples_split': 2, 'min_weight_fraction_leaf': 0.0, 'n_estimators': 100, 'presort': 'auto', 'random_state': 0, 'subsample': 1.0, 'verbose': 0, 'warm_start': False}\n",
      "Precision 0.608591044934\n",
      "**************************************************\n",
      "Class: LinearSVC\n"
     ]
    },
    {
     "name": "stderr",
     "output_type": "stream",
     "text": [
      "/Users/terry/git/rubygem_digger/notebook/learner.py:69: UserWarning: Boolean Series key will be reindexed to match DataFrame index.\n",
      "  X = df[df['name']==name][df['label']==label][self.learner.features]\n"
     ]
    },
    {
     "name": "stdout",
     "output_type": "stream",
     "text": [
      "Parameters: {'C': 1.0, 'class_weight': None, 'dual': False, 'fit_intercept': True, 'intercept_scaling': 1, 'loss': 'squared_hinge', 'max_iter': 1000, 'multi_class': 'ovr', 'penalty': 'l2', 'random_state': None, 'tol': 0.0001, 'verbose': 0}\n",
      "Precision 0.612394608113\n",
      "**************************************************\n",
      "Class: MLPClassifier\n"
     ]
    },
    {
     "name": "stderr",
     "output_type": "stream",
     "text": [
      "/Users/terry/git/rubygem_digger/notebook/learner.py:69: UserWarning: Boolean Series key will be reindexed to match DataFrame index.\n",
      "  X = df[df['name']==name][df['label']==label][self.learner.features]\n"
     ]
    },
    {
     "name": "stdout",
     "output_type": "stream",
     "text": [
      "Parameters: {'activation': 'relu', 'alpha': 1e-05, 'batch_size': 'auto', 'beta_1': 0.9, 'beta_2': 0.999, 'early_stopping': False, 'epsilon': 1e-08, 'hidden_layer_sizes': (15,), 'learning_rate': 'constant', 'learning_rate_init': 0.001, 'max_iter': 200, 'momentum': 0.9, 'nesterovs_momentum': True, 'power_t': 0.5, 'random_state': 1, 'shuffle': True, 'solver': 'lbfgs', 'tol': 0.0001, 'validation_fraction': 0.1, 'verbose': False, 'warm_start': False}\n",
      "Precision 0.587157831895\n",
      "**************************************************\n",
      "Class: LogisticRegression\n"
     ]
    },
    {
     "name": "stderr",
     "output_type": "stream",
     "text": [
      "/Users/terry/git/rubygem_digger/notebook/learner.py:69: UserWarning: Boolean Series key will be reindexed to match DataFrame index.\n",
      "  X = df[df['name']==name][df['label']==label][self.learner.features]\n"
     ]
    },
    {
     "name": "stdout",
     "output_type": "stream",
     "text": [
      "Parameters: {'C': 1.0, 'class_weight': None, 'dual': False, 'fit_intercept': True, 'intercept_scaling': 1, 'max_iter': 100, 'multi_class': 'ovr', 'n_jobs': 1, 'penalty': 'l2', 'random_state': None, 'solver': 'liblinear', 'tol': 0.0001, 'verbose': 0, 'warm_start': False}\n",
      "Precision 0.611535444944\n",
      "**************************************************\n",
      "Class: DecisionTreeClassifier\n"
     ]
    },
    {
     "name": "stderr",
     "output_type": "stream",
     "text": [
      "/Users/terry/git/rubygem_digger/notebook/learner.py:69: UserWarning: Boolean Series key will be reindexed to match DataFrame index.\n",
      "  X = df[df['name']==name][df['label']==label][self.learner.features]\n"
     ]
    },
    {
     "name": "stdout",
     "output_type": "stream",
     "text": [
      "Parameters: {'class_weight': None, 'criterion': 'gini', 'max_depth': None, 'max_features': None, 'max_leaf_nodes': None, 'min_impurity_split': 1e-07, 'min_samples_leaf': 1, 'min_samples_split': 2, 'min_weight_fraction_leaf': 0.0, 'presort': False, 'random_state': None, 'splitter': 'best'}\n",
      "Precision 0.553555575443\n",
      "**************************************************\n",
      "Class: BaggingClassifier\n"
     ]
    },
    {
     "name": "stderr",
     "output_type": "stream",
     "text": [
      "/Users/terry/git/rubygem_digger/notebook/learner.py:69: UserWarning: Boolean Series key will be reindexed to match DataFrame index.\n",
      "  X = df[df['name']==name][df['label']==label][self.learner.features]\n",
      "/Users/terry/anaconda3/lib/python3.6/site-packages/sklearn/ensemble/bagging.py:146: VisibleDeprecationWarning: using a non-integer number instead of an integer will result in an error in the future\n",
      "  proba[i, predictions[i]] += 1\n",
      "/Users/terry/git/rubygem_digger/notebook/learner.py:69: UserWarning: Boolean Series key will be reindexed to match DataFrame index.\n",
      "  X = df[df['name']==name][df['label']==label][self.learner.features]\n",
      "/Users/terry/anaconda3/lib/python3.6/site-packages/sklearn/ensemble/bagging.py:146: VisibleDeprecationWarning: using a non-integer number instead of an integer will result in an error in the future\n",
      "  proba[i, predictions[i]] += 1\n",
      "/Users/terry/git/rubygem_digger/notebook/learner.py:69: UserWarning: Boolean Series key will be reindexed to match DataFrame index.\n",
      "  X = df[df['name']==name][df['label']==label][self.learner.features]\n",
      "/Users/terry/anaconda3/lib/python3.6/site-packages/sklearn/ensemble/bagging.py:146: VisibleDeprecationWarning: using a non-integer number instead of an integer will result in an error in the future\n",
      "  proba[i, predictions[i]] += 1\n",
      "/Users/terry/git/rubygem_digger/notebook/learner.py:69: UserWarning: Boolean Series key will be reindexed to match DataFrame index.\n",
      "  X = df[df['name']==name][df['label']==label][self.learner.features]\n",
      "/Users/terry/anaconda3/lib/python3.6/site-packages/sklearn/ensemble/bagging.py:146: VisibleDeprecationWarning: using a non-integer number instead of an integer will result in an error in the future\n",
      "  proba[i, predictions[i]] += 1\n",
      "/Users/terry/git/rubygem_digger/notebook/learner.py:69: UserWarning: Boolean Series key will be reindexed to match DataFrame index.\n",
      "  X = df[df['name']==name][df['label']==label][self.learner.features]\n",
      "/Users/terry/anaconda3/lib/python3.6/site-packages/sklearn/ensemble/bagging.py:146: VisibleDeprecationWarning: using a non-integer number instead of an integer will result in an error in the future\n",
      "  proba[i, predictions[i]] += 1\n"
     ]
    },
    {
     "name": "stdout",
     "output_type": "stream",
     "text": [
      "Parameters: {'base_estimator__criterion': 'mse', 'base_estimator__max_depth': None, 'base_estimator__max_features': None, 'base_estimator__max_leaf_nodes': None, 'base_estimator__min_impurity_split': 1e-07, 'base_estimator__min_samples_leaf': 1, 'base_estimator__min_samples_split': 2, 'base_estimator__min_weight_fraction_leaf': 0.0, 'base_estimator__presort': False, 'base_estimator__random_state': None, 'base_estimator__splitter': 'best', 'base_estimator': DecisionTreeRegressor(criterion='mse', max_depth=None, max_features=None,\n",
      "           max_leaf_nodes=None, min_impurity_split=1e-07,\n",
      "           min_samples_leaf=1, min_samples_split=2,\n",
      "           min_weight_fraction_leaf=0.0, presort=False, random_state=None,\n",
      "           splitter='best'), 'bootstrap': True, 'bootstrap_features': False, 'max_features': 1.0, 'max_samples': 1.0, 'n_estimators': 10, 'n_jobs': 1, 'oob_score': False, 'random_state': None, 'verbose': 0, 'warm_start': False}\n",
      "Precision 0.597626155004\n",
      "**************************************************\n",
      "Class: BaggingClassifier\n"
     ]
    },
    {
     "name": "stderr",
     "output_type": "stream",
     "text": [
      "/Users/terry/git/rubygem_digger/notebook/learner.py:69: UserWarning: Boolean Series key will be reindexed to match DataFrame index.\n",
      "  X = df[df['name']==name][df['label']==label][self.learner.features]\n",
      "/Users/terry/git/rubygem_digger/notebook/learner.py:69: UserWarning: Boolean Series key will be reindexed to match DataFrame index.\n",
      "  X = df[df['name']==name][df['label']==label][self.learner.features]\n",
      "/Users/terry/git/rubygem_digger/notebook/learner.py:69: UserWarning: Boolean Series key will be reindexed to match DataFrame index.\n",
      "  X = df[df['name']==name][df['label']==label][self.learner.features]\n",
      "/Users/terry/git/rubygem_digger/notebook/learner.py:69: UserWarning: Boolean Series key will be reindexed to match DataFrame index.\n",
      "  X = df[df['name']==name][df['label']==label][self.learner.features]\n",
      "/Users/terry/git/rubygem_digger/notebook/learner.py:69: UserWarning: Boolean Series key will be reindexed to match DataFrame index.\n",
      "  X = df[df['name']==name][df['label']==label][self.learner.features]\n"
     ]
    },
    {
     "name": "stdout",
     "output_type": "stream",
     "text": [
      "Parameters: {'base_estimator__C': 1.0, 'base_estimator__class_weight': None, 'base_estimator__dual': False, 'base_estimator__fit_intercept': True, 'base_estimator__intercept_scaling': 1, 'base_estimator__max_iter': 100, 'base_estimator__multi_class': 'ovr', 'base_estimator__n_jobs': 1, 'base_estimator__penalty': 'l2', 'base_estimator__random_state': None, 'base_estimator__solver': 'liblinear', 'base_estimator__tol': 0.0001, 'base_estimator__verbose': 0, 'base_estimator__warm_start': False, 'base_estimator': LogisticRegression(C=1.0, class_weight=None, dual=False, fit_intercept=True,\n",
      "          intercept_scaling=1, max_iter=100, multi_class='ovr', n_jobs=1,\n",
      "          penalty='l2', random_state=None, solver='liblinear', tol=0.0001,\n",
      "          verbose=0, warm_start=False), 'bootstrap': True, 'bootstrap_features': False, 'max_features': 1.0, 'max_samples': 1.0, 'n_estimators': 10, 'n_jobs': 1, 'oob_score': False, 'random_state': None, 'verbose': 0, 'warm_start': False}\n",
      "Precision 0.613403529967\n",
      "**************************************************\n",
      "Class: BaggingClassifier\n"
     ]
    },
    {
     "name": "stderr",
     "output_type": "stream",
     "text": [
      "/Users/terry/git/rubygem_digger/notebook/learner.py:69: UserWarning: Boolean Series key will be reindexed to match DataFrame index.\n",
      "  X = df[df['name']==name][df['label']==label][self.learner.features]\n",
      "/Users/terry/git/rubygem_digger/notebook/learner.py:69: UserWarning: Boolean Series key will be reindexed to match DataFrame index.\n",
      "  X = df[df['name']==name][df['label']==label][self.learner.features]\n",
      "/Users/terry/git/rubygem_digger/notebook/learner.py:69: UserWarning: Boolean Series key will be reindexed to match DataFrame index.\n",
      "  X = df[df['name']==name][df['label']==label][self.learner.features]\n",
      "/Users/terry/git/rubygem_digger/notebook/learner.py:69: UserWarning: Boolean Series key will be reindexed to match DataFrame index.\n",
      "  X = df[df['name']==name][df['label']==label][self.learner.features]\n",
      "/Users/terry/git/rubygem_digger/notebook/learner.py:69: UserWarning: Boolean Series key will be reindexed to match DataFrame index.\n",
      "  X = df[df['name']==name][df['label']==label][self.learner.features]\n"
     ]
    },
    {
     "name": "stdout",
     "output_type": "stream",
     "text": [
      "Parameters: {'base_estimator__algorithm': 'auto', 'base_estimator__leaf_size': 30, 'base_estimator__metric': 'minkowski', 'base_estimator__metric_params': None, 'base_estimator__n_jobs': 1, 'base_estimator__n_neighbors': 15, 'base_estimator__p': 2, 'base_estimator__weights': 'uniform', 'base_estimator': KNeighborsClassifier(algorithm='auto', leaf_size=30, metric='minkowski',\n",
      "           metric_params=None, n_jobs=1, n_neighbors=15, p=2,\n",
      "           weights='uniform'), 'bootstrap': True, 'bootstrap_features': False, 'max_features': 1.0, 'max_samples': 1.0, 'n_estimators': 10, 'n_jobs': 1, 'oob_score': False, 'random_state': None, 'verbose': 0, 'warm_start': False}\n",
      "Precision 0.582223403048\n",
      "**************************************************\n",
      "Class: RandomForestClassifier\n"
     ]
    },
    {
     "name": "stderr",
     "output_type": "stream",
     "text": [
      "/Users/terry/git/rubygem_digger/notebook/learner.py:69: UserWarning: Boolean Series key will be reindexed to match DataFrame index.\n",
      "  X = df[df['name']==name][df['label']==label][self.learner.features]\n",
      "/Users/terry/git/rubygem_digger/notebook/learner.py:69: UserWarning: Boolean Series key will be reindexed to match DataFrame index.\n",
      "  X = df[df['name']==name][df['label']==label][self.learner.features]\n",
      "/Users/terry/git/rubygem_digger/notebook/learner.py:69: UserWarning: Boolean Series key will be reindexed to match DataFrame index.\n",
      "  X = df[df['name']==name][df['label']==label][self.learner.features]\n",
      "/Users/terry/git/rubygem_digger/notebook/learner.py:69: UserWarning: Boolean Series key will be reindexed to match DataFrame index.\n",
      "  X = df[df['name']==name][df['label']==label][self.learner.features]\n",
      "/Users/terry/git/rubygem_digger/notebook/learner.py:69: UserWarning: Boolean Series key will be reindexed to match DataFrame index.\n",
      "  X = df[df['name']==name][df['label']==label][self.learner.features]\n"
     ]
    },
    {
     "name": "stdout",
     "output_type": "stream",
     "text": [
      "Parameters: {'bootstrap': True, 'class_weight': None, 'criterion': 'gini', 'max_depth': None, 'max_features': 'auto', 'max_leaf_nodes': None, 'min_impurity_split': 1e-07, 'min_samples_leaf': 1, 'min_samples_split': 2, 'min_weight_fraction_leaf': 0.0, 'n_estimators': 20, 'n_jobs': 1, 'oob_score': False, 'random_state': None, 'verbose': 0, 'warm_start': False}\n",
      "Precision 0.595347751912\n",
      "**************************************************\n",
      "Class: AdaBoostClassifier\n"
     ]
    },
    {
     "name": "stderr",
     "output_type": "stream",
     "text": [
      "/Users/terry/git/rubygem_digger/notebook/learner.py:69: UserWarning: Boolean Series key will be reindexed to match DataFrame index.\n",
      "  X = df[df['name']==name][df['label']==label][self.learner.features]\n",
      "/Users/terry/git/rubygem_digger/notebook/learner.py:69: UserWarning: Boolean Series key will be reindexed to match DataFrame index.\n",
      "  X = df[df['name']==name][df['label']==label][self.learner.features]\n",
      "/Users/terry/git/rubygem_digger/notebook/learner.py:69: UserWarning: Boolean Series key will be reindexed to match DataFrame index.\n",
      "  X = df[df['name']==name][df['label']==label][self.learner.features]\n",
      "/Users/terry/git/rubygem_digger/notebook/learner.py:69: UserWarning: Boolean Series key will be reindexed to match DataFrame index.\n",
      "  X = df[df['name']==name][df['label']==label][self.learner.features]\n",
      "/Users/terry/git/rubygem_digger/notebook/learner.py:69: UserWarning: Boolean Series key will be reindexed to match DataFrame index.\n",
      "  X = df[df['name']==name][df['label']==label][self.learner.features]\n"
     ]
    },
    {
     "name": "stdout",
     "output_type": "stream",
     "text": [
      "Parameters: {'algorithm': 'SAMME.R', 'base_estimator': None, 'learning_rate': 1.0, 'n_estimators': 100, 'random_state': None}\n",
      "Precision 0.602879614756\n",
      "**************************************************\n",
      "Class: GradientBoostingClassifier\n"
     ]
    },
    {
     "name": "stderr",
     "output_type": "stream",
     "text": [
      "/Users/terry/git/rubygem_digger/notebook/learner.py:69: UserWarning: Boolean Series key will be reindexed to match DataFrame index.\n",
      "  X = df[df['name']==name][df['label']==label][self.learner.features]\n"
     ]
    },
    {
     "name": "stdout",
     "output_type": "stream",
     "text": [
      "Parameters: {'criterion': 'friedman_mse', 'init': None, 'learning_rate': 1.0, 'loss': 'deviance', 'max_depth': 4, 'max_features': None, 'max_leaf_nodes': None, 'min_impurity_split': 1e-07, 'min_samples_leaf': 1, 'min_samples_split': 2, 'min_weight_fraction_leaf': 0.0, 'n_estimators': 100, 'presort': 'auto', 'random_state': 0, 'subsample': 1.0, 'verbose': 0, 'warm_start': False}\n",
      "Precision 0.586155052809\n",
      "**************************************************\n",
      "Class: LinearSVC\n"
     ]
    },
    {
     "name": "stderr",
     "output_type": "stream",
     "text": [
      "/Users/terry/git/rubygem_digger/notebook/learner.py:69: UserWarning: Boolean Series key will be reindexed to match DataFrame index.\n",
      "  X = df[df['name']==name][df['label']==label][self.learner.features]\n"
     ]
    },
    {
     "name": "stdout",
     "output_type": "stream",
     "text": [
      "Parameters: {'C': 1.0, 'class_weight': None, 'dual': False, 'fit_intercept': True, 'intercept_scaling': 1, 'loss': 'squared_hinge', 'max_iter': 1000, 'multi_class': 'ovr', 'penalty': 'l2', 'random_state': None, 'tol': 0.0001, 'verbose': 0}\n",
      "Precision 0.615577174092\n",
      "**************************************************\n",
      "Class: MLPClassifier\n"
     ]
    },
    {
     "name": "stderr",
     "output_type": "stream",
     "text": [
      "/Users/terry/git/rubygem_digger/notebook/learner.py:69: UserWarning: Boolean Series key will be reindexed to match DataFrame index.\n",
      "  X = df[df['name']==name][df['label']==label][self.learner.features]\n"
     ]
    },
    {
     "name": "stdout",
     "output_type": "stream",
     "text": [
      "Parameters: {'activation': 'relu', 'alpha': 1e-05, 'batch_size': 'auto', 'beta_1': 0.9, 'beta_2': 0.999, 'early_stopping': False, 'epsilon': 1e-08, 'hidden_layer_sizes': (15,), 'learning_rate': 'constant', 'learning_rate_init': 0.001, 'max_iter': 200, 'momentum': 0.9, 'nesterovs_momentum': True, 'power_t': 0.5, 'random_state': 1, 'shuffle': True, 'solver': 'lbfgs', 'tol': 0.0001, 'validation_fraction': 0.1, 'verbose': False, 'warm_start': False}\n",
      "Precision 0.579577870916\n",
      "**************************************************\n",
      "Class: LogisticRegression\n"
     ]
    },
    {
     "name": "stderr",
     "output_type": "stream",
     "text": [
      "/Users/terry/git/rubygem_digger/notebook/learner.py:69: UserWarning: Boolean Series key will be reindexed to match DataFrame index.\n",
      "  X = df[df['name']==name][df['label']==label][self.learner.features]\n"
     ]
    },
    {
     "name": "stdout",
     "output_type": "stream",
     "text": [
      "Parameters: {'C': 1.0, 'class_weight': None, 'dual': False, 'fit_intercept': True, 'intercept_scaling': 1, 'max_iter': 100, 'multi_class': 'ovr', 'n_jobs': 1, 'penalty': 'l2', 'random_state': None, 'solver': 'liblinear', 'tol': 0.0001, 'verbose': 0, 'warm_start': False}\n",
      "Precision 0.622434565623\n",
      "**************************************************\n",
      "Class: DecisionTreeClassifier\n"
     ]
    },
    {
     "name": "stderr",
     "output_type": "stream",
     "text": [
      "/Users/terry/git/rubygem_digger/notebook/learner.py:69: UserWarning: Boolean Series key will be reindexed to match DataFrame index.\n",
      "  X = df[df['name']==name][df['label']==label][self.learner.features]\n"
     ]
    },
    {
     "name": "stdout",
     "output_type": "stream",
     "text": [
      "Parameters: {'class_weight': None, 'criterion': 'gini', 'max_depth': None, 'max_features': None, 'max_leaf_nodes': None, 'min_impurity_split': 1e-07, 'min_samples_leaf': 1, 'min_samples_split': 2, 'min_weight_fraction_leaf': 0.0, 'presort': False, 'random_state': None, 'splitter': 'best'}\n",
      "Precision 0.576924767093\n",
      "**************************************************\n",
      "Class: BaggingClassifier\n"
     ]
    },
    {
     "name": "stderr",
     "output_type": "stream",
     "text": [
      "/Users/terry/git/rubygem_digger/notebook/learner.py:69: UserWarning: Boolean Series key will be reindexed to match DataFrame index.\n",
      "  X = df[df['name']==name][df['label']==label][self.learner.features]\n",
      "/Users/terry/anaconda3/lib/python3.6/site-packages/sklearn/ensemble/bagging.py:146: VisibleDeprecationWarning: using a non-integer number instead of an integer will result in an error in the future\n",
      "  proba[i, predictions[i]] += 1\n",
      "/Users/terry/git/rubygem_digger/notebook/learner.py:69: UserWarning: Boolean Series key will be reindexed to match DataFrame index.\n",
      "  X = df[df['name']==name][df['label']==label][self.learner.features]\n",
      "/Users/terry/anaconda3/lib/python3.6/site-packages/sklearn/ensemble/bagging.py:146: VisibleDeprecationWarning: using a non-integer number instead of an integer will result in an error in the future\n",
      "  proba[i, predictions[i]] += 1\n",
      "/Users/terry/git/rubygem_digger/notebook/learner.py:69: UserWarning: Boolean Series key will be reindexed to match DataFrame index.\n",
      "  X = df[df['name']==name][df['label']==label][self.learner.features]\n",
      "/Users/terry/anaconda3/lib/python3.6/site-packages/sklearn/ensemble/bagging.py:146: VisibleDeprecationWarning: using a non-integer number instead of an integer will result in an error in the future\n",
      "  proba[i, predictions[i]] += 1\n",
      "/Users/terry/git/rubygem_digger/notebook/learner.py:69: UserWarning: Boolean Series key will be reindexed to match DataFrame index.\n",
      "  X = df[df['name']==name][df['label']==label][self.learner.features]\n",
      "/Users/terry/anaconda3/lib/python3.6/site-packages/sklearn/ensemble/bagging.py:146: VisibleDeprecationWarning: using a non-integer number instead of an integer will result in an error in the future\n",
      "  proba[i, predictions[i]] += 1\n",
      "/Users/terry/git/rubygem_digger/notebook/learner.py:69: UserWarning: Boolean Series key will be reindexed to match DataFrame index.\n",
      "  X = df[df['name']==name][df['label']==label][self.learner.features]\n",
      "/Users/terry/anaconda3/lib/python3.6/site-packages/sklearn/ensemble/bagging.py:146: VisibleDeprecationWarning: using a non-integer number instead of an integer will result in an error in the future\n",
      "  proba[i, predictions[i]] += 1\n"
     ]
    },
    {
     "name": "stdout",
     "output_type": "stream",
     "text": [
      "Parameters: {'base_estimator__criterion': 'mse', 'base_estimator__max_depth': None, 'base_estimator__max_features': None, 'base_estimator__max_leaf_nodes': None, 'base_estimator__min_impurity_split': 1e-07, 'base_estimator__min_samples_leaf': 1, 'base_estimator__min_samples_split': 2, 'base_estimator__min_weight_fraction_leaf': 0.0, 'base_estimator__presort': False, 'base_estimator__random_state': None, 'base_estimator__splitter': 'best', 'base_estimator': DecisionTreeRegressor(criterion='mse', max_depth=None, max_features=None,\n",
      "           max_leaf_nodes=None, min_impurity_split=1e-07,\n",
      "           min_samples_leaf=1, min_samples_split=2,\n",
      "           min_weight_fraction_leaf=0.0, presort=False, random_state=None,\n",
      "           splitter='best'), 'bootstrap': True, 'bootstrap_features': False, 'max_features': 1.0, 'max_samples': 1.0, 'n_estimators': 10, 'n_jobs': 1, 'oob_score': False, 'random_state': None, 'verbose': 0, 'warm_start': False}\n",
      "Precision 0.594758411784\n",
      "**************************************************\n",
      "Class: BaggingClassifier\n"
     ]
    },
    {
     "name": "stderr",
     "output_type": "stream",
     "text": [
      "/Users/terry/git/rubygem_digger/notebook/learner.py:69: UserWarning: Boolean Series key will be reindexed to match DataFrame index.\n",
      "  X = df[df['name']==name][df['label']==label][self.learner.features]\n",
      "/Users/terry/git/rubygem_digger/notebook/learner.py:69: UserWarning: Boolean Series key will be reindexed to match DataFrame index.\n",
      "  X = df[df['name']==name][df['label']==label][self.learner.features]\n",
      "/Users/terry/git/rubygem_digger/notebook/learner.py:69: UserWarning: Boolean Series key will be reindexed to match DataFrame index.\n",
      "  X = df[df['name']==name][df['label']==label][self.learner.features]\n",
      "/Users/terry/git/rubygem_digger/notebook/learner.py:69: UserWarning: Boolean Series key will be reindexed to match DataFrame index.\n",
      "  X = df[df['name']==name][df['label']==label][self.learner.features]\n",
      "/Users/terry/git/rubygem_digger/notebook/learner.py:69: UserWarning: Boolean Series key will be reindexed to match DataFrame index.\n",
      "  X = df[df['name']==name][df['label']==label][self.learner.features]\n"
     ]
    },
    {
     "name": "stdout",
     "output_type": "stream",
     "text": [
      "Parameters: {'base_estimator__C': 1.0, 'base_estimator__class_weight': None, 'base_estimator__dual': False, 'base_estimator__fit_intercept': True, 'base_estimator__intercept_scaling': 1, 'base_estimator__max_iter': 100, 'base_estimator__multi_class': 'ovr', 'base_estimator__n_jobs': 1, 'base_estimator__penalty': 'l2', 'base_estimator__random_state': None, 'base_estimator__solver': 'liblinear', 'base_estimator__tol': 0.0001, 'base_estimator__verbose': 0, 'base_estimator__warm_start': False, 'base_estimator': LogisticRegression(C=1.0, class_weight=None, dual=False, fit_intercept=True,\n",
      "          intercept_scaling=1, max_iter=100, multi_class='ovr', n_jobs=1,\n",
      "          penalty='l2', random_state=None, solver='liblinear', tol=0.0001,\n",
      "          verbose=0, warm_start=False), 'bootstrap': True, 'bootstrap_features': False, 'max_features': 1.0, 'max_samples': 1.0, 'n_estimators': 10, 'n_jobs': 1, 'oob_score': False, 'random_state': None, 'verbose': 0, 'warm_start': False}\n",
      "Precision 0.623965512371\n",
      "**************************************************\n",
      "Class: BaggingClassifier\n"
     ]
    },
    {
     "name": "stderr",
     "output_type": "stream",
     "text": [
      "/Users/terry/git/rubygem_digger/notebook/learner.py:69: UserWarning: Boolean Series key will be reindexed to match DataFrame index.\n",
      "  X = df[df['name']==name][df['label']==label][self.learner.features]\n",
      "/Users/terry/git/rubygem_digger/notebook/learner.py:69: UserWarning: Boolean Series key will be reindexed to match DataFrame index.\n",
      "  X = df[df['name']==name][df['label']==label][self.learner.features]\n",
      "/Users/terry/git/rubygem_digger/notebook/learner.py:69: UserWarning: Boolean Series key will be reindexed to match DataFrame index.\n",
      "  X = df[df['name']==name][df['label']==label][self.learner.features]\n",
      "/Users/terry/git/rubygem_digger/notebook/learner.py:69: UserWarning: Boolean Series key will be reindexed to match DataFrame index.\n",
      "  X = df[df['name']==name][df['label']==label][self.learner.features]\n",
      "/Users/terry/git/rubygem_digger/notebook/learner.py:69: UserWarning: Boolean Series key will be reindexed to match DataFrame index.\n",
      "  X = df[df['name']==name][df['label']==label][self.learner.features]\n"
     ]
    },
    {
     "name": "stdout",
     "output_type": "stream",
     "text": [
      "Parameters: {'base_estimator__algorithm': 'auto', 'base_estimator__leaf_size': 30, 'base_estimator__metric': 'minkowski', 'base_estimator__metric_params': None, 'base_estimator__n_jobs': 1, 'base_estimator__n_neighbors': 15, 'base_estimator__p': 2, 'base_estimator__weights': 'uniform', 'base_estimator': KNeighborsClassifier(algorithm='auto', leaf_size=30, metric='minkowski',\n",
      "           metric_params=None, n_jobs=1, n_neighbors=15, p=2,\n",
      "           weights='uniform'), 'bootstrap': True, 'bootstrap_features': False, 'max_features': 1.0, 'max_samples': 1.0, 'n_estimators': 10, 'n_jobs': 1, 'oob_score': False, 'random_state': None, 'verbose': 0, 'warm_start': False}\n",
      "Precision 0.575920094807\n",
      "**************************************************\n",
      "Class: RandomForestClassifier\n"
     ]
    },
    {
     "name": "stderr",
     "output_type": "stream",
     "text": [
      "/Users/terry/git/rubygem_digger/notebook/learner.py:69: UserWarning: Boolean Series key will be reindexed to match DataFrame index.\n",
      "  X = df[df['name']==name][df['label']==label][self.learner.features]\n",
      "/Users/terry/git/rubygem_digger/notebook/learner.py:69: UserWarning: Boolean Series key will be reindexed to match DataFrame index.\n",
      "  X = df[df['name']==name][df['label']==label][self.learner.features]\n",
      "/Users/terry/git/rubygem_digger/notebook/learner.py:69: UserWarning: Boolean Series key will be reindexed to match DataFrame index.\n",
      "  X = df[df['name']==name][df['label']==label][self.learner.features]\n",
      "/Users/terry/git/rubygem_digger/notebook/learner.py:69: UserWarning: Boolean Series key will be reindexed to match DataFrame index.\n",
      "  X = df[df['name']==name][df['label']==label][self.learner.features]\n",
      "/Users/terry/git/rubygem_digger/notebook/learner.py:69: UserWarning: Boolean Series key will be reindexed to match DataFrame index.\n",
      "  X = df[df['name']==name][df['label']==label][self.learner.features]\n"
     ]
    },
    {
     "name": "stdout",
     "output_type": "stream",
     "text": [
      "Parameters: {'bootstrap': True, 'class_weight': None, 'criterion': 'gini', 'max_depth': None, 'max_features': 'auto', 'max_leaf_nodes': None, 'min_impurity_split': 1e-07, 'min_samples_leaf': 1, 'min_samples_split': 2, 'min_weight_fraction_leaf': 0.0, 'n_estimators': 20, 'n_jobs': 1, 'oob_score': False, 'random_state': None, 'verbose': 0, 'warm_start': False}\n",
      "Precision 0.613059985475\n",
      "**************************************************\n",
      "Class: AdaBoostClassifier\n"
     ]
    },
    {
     "name": "stderr",
     "output_type": "stream",
     "text": [
      "/Users/terry/git/rubygem_digger/notebook/learner.py:69: UserWarning: Boolean Series key will be reindexed to match DataFrame index.\n",
      "  X = df[df['name']==name][df['label']==label][self.learner.features]\n",
      "/Users/terry/git/rubygem_digger/notebook/learner.py:69: UserWarning: Boolean Series key will be reindexed to match DataFrame index.\n",
      "  X = df[df['name']==name][df['label']==label][self.learner.features]\n",
      "/Users/terry/git/rubygem_digger/notebook/learner.py:69: UserWarning: Boolean Series key will be reindexed to match DataFrame index.\n",
      "  X = df[df['name']==name][df['label']==label][self.learner.features]\n",
      "/Users/terry/git/rubygem_digger/notebook/learner.py:69: UserWarning: Boolean Series key will be reindexed to match DataFrame index.\n",
      "  X = df[df['name']==name][df['label']==label][self.learner.features]\n",
      "/Users/terry/git/rubygem_digger/notebook/learner.py:69: UserWarning: Boolean Series key will be reindexed to match DataFrame index.\n",
      "  X = df[df['name']==name][df['label']==label][self.learner.features]\n"
     ]
    },
    {
     "name": "stdout",
     "output_type": "stream",
     "text": [
      "Parameters: {'algorithm': 'SAMME.R', 'base_estimator': None, 'learning_rate': 1.0, 'n_estimators': 100, 'random_state': None}\n",
      "Precision 0.607010709183\n",
      "**************************************************\n",
      "Class: GradientBoostingClassifier\n"
     ]
    },
    {
     "name": "stderr",
     "output_type": "stream",
     "text": [
      "/Users/terry/git/rubygem_digger/notebook/learner.py:69: UserWarning: Boolean Series key will be reindexed to match DataFrame index.\n",
      "  X = df[df['name']==name][df['label']==label][self.learner.features]\n"
     ]
    },
    {
     "name": "stdout",
     "output_type": "stream",
     "text": [
      "Parameters: {'criterion': 'friedman_mse', 'init': None, 'learning_rate': 1.0, 'loss': 'deviance', 'max_depth': 4, 'max_features': None, 'max_leaf_nodes': None, 'min_impurity_split': 1e-07, 'min_samples_leaf': 1, 'min_samples_split': 2, 'min_weight_fraction_leaf': 0.0, 'n_estimators': 100, 'presort': 'auto', 'random_state': 0, 'subsample': 1.0, 'verbose': 0, 'warm_start': False}\n",
      "Precision 0.590804246621\n",
      "**************************************************\n",
      "Class: LinearSVC\n"
     ]
    },
    {
     "name": "stderr",
     "output_type": "stream",
     "text": [
      "/Users/terry/git/rubygem_digger/notebook/learner.py:69: UserWarning: Boolean Series key will be reindexed to match DataFrame index.\n",
      "  X = df[df['name']==name][df['label']==label][self.learner.features]\n"
     ]
    },
    {
     "name": "stdout",
     "output_type": "stream",
     "text": [
      "Parameters: {'C': 1.0, 'class_weight': None, 'dual': False, 'fit_intercept': True, 'intercept_scaling': 1, 'loss': 'squared_hinge', 'max_iter': 1000, 'multi_class': 'ovr', 'penalty': 'l2', 'random_state': None, 'tol': 0.0001, 'verbose': 0}\n",
      "Precision 0.610634197747\n",
      "**************************************************\n",
      "Class: MLPClassifier\n"
     ]
    },
    {
     "name": "stderr",
     "output_type": "stream",
     "text": [
      "/Users/terry/git/rubygem_digger/notebook/learner.py:69: UserWarning: Boolean Series key will be reindexed to match DataFrame index.\n",
      "  X = df[df['name']==name][df['label']==label][self.learner.features]\n"
     ]
    },
    {
     "name": "stdout",
     "output_type": "stream",
     "text": [
      "Parameters: {'activation': 'relu', 'alpha': 1e-05, 'batch_size': 'auto', 'beta_1': 0.9, 'beta_2': 0.999, 'early_stopping': False, 'epsilon': 1e-08, 'hidden_layer_sizes': (15,), 'learning_rate': 'constant', 'learning_rate_init': 0.001, 'max_iter': 200, 'momentum': 0.9, 'nesterovs_momentum': True, 'power_t': 0.5, 'random_state': 1, 'shuffle': True, 'solver': 'lbfgs', 'tol': 0.0001, 'validation_fraction': 0.1, 'verbose': False, 'warm_start': False}\n",
      "Precision 0.59818256211\n",
      "| 0.608| 0.581| 0.569| 0.615| 0.599| 0.629| 0.606| 0.595| 0.632| 0.589|\n",
      "| 0.616| 0.586| 0.599| 0.620| 0.591| 0.611| 0.596| 0.601| 0.623| 0.583|\n",
      "| 0.613| 0.564| 0.581| 0.620| 0.591| 0.628| 0.608| 0.598| 0.614| 0.614|\n",
      "| 0.641| 0.582| 0.597| 0.621| 0.588| 0.610| 0.603| 0.609| 0.612| 0.587|\n",
      "| 0.612| 0.554| 0.598| 0.613| 0.582| 0.595| 0.603| 0.586| 0.616| 0.580|\n",
      "| 0.622| 0.577| 0.595| 0.624| 0.576| 0.613| 0.607| 0.591| 0.611| 0.598|\n"
     ]
    }
   ],
   "source": [
    "learner = RubygemLearner(fn)\n",
    "trainer = Trainer(learner)\n",
    "result_last = evaluate_specs(trainer, 'RubygemDigger--Steps--GenerateJsonForLastVersions')"
   ]
  },
  {
   "cell_type": "code",
   "execution_count": 13,
   "metadata": {
    "collapsed": false,
    "scrolled": false
   },
   "outputs": [
    {
     "name": "stdout",
     "output_type": "stream",
     "text": [
      "**************************************************\n",
      "Class: LogisticRegression\n"
     ]
    },
    {
     "name": "stderr",
     "output_type": "stream",
     "text": [
      "/Users/terry/git/rubygem_digger/notebook/learner.py:69: UserWarning: Boolean Series key will be reindexed to match DataFrame index.\n",
      "  X = df[df['name']==name][df['label']==label][self.learner.features]\n"
     ]
    },
    {
     "name": "stdout",
     "output_type": "stream",
     "text": [
      "Parameters: {'C': 1.0, 'class_weight': None, 'dual': False, 'fit_intercept': True, 'intercept_scaling': 1, 'max_iter': 100, 'multi_class': 'ovr', 'n_jobs': 1, 'penalty': 'l2', 'random_state': None, 'solver': 'liblinear', 'tol': 0.0001, 'verbose': 0, 'warm_start': False}\n",
      "Precision 0.625727205891\n",
      "**************************************************\n",
      "Class: DecisionTreeClassifier\n"
     ]
    },
    {
     "name": "stderr",
     "output_type": "stream",
     "text": [
      "/Users/terry/git/rubygem_digger/notebook/learner.py:69: UserWarning: Boolean Series key will be reindexed to match DataFrame index.\n",
      "  X = df[df['name']==name][df['label']==label][self.learner.features]\n"
     ]
    },
    {
     "name": "stdout",
     "output_type": "stream",
     "text": [
      "Parameters: {'class_weight': None, 'criterion': 'gini', 'max_depth': None, 'max_features': None, 'max_leaf_nodes': None, 'min_impurity_split': 1e-07, 'min_samples_leaf': 1, 'min_samples_split': 2, 'min_weight_fraction_leaf': 0.0, 'presort': False, 'random_state': None, 'splitter': 'best'}\n",
      "Precision 0.562658568711\n",
      "**************************************************\n",
      "Class: BaggingClassifier\n"
     ]
    },
    {
     "name": "stderr",
     "output_type": "stream",
     "text": [
      "/Users/terry/git/rubygem_digger/notebook/learner.py:69: UserWarning: Boolean Series key will be reindexed to match DataFrame index.\n",
      "  X = df[df['name']==name][df['label']==label][self.learner.features]\n",
      "/Users/terry/anaconda3/lib/python3.6/site-packages/sklearn/ensemble/bagging.py:146: VisibleDeprecationWarning: using a non-integer number instead of an integer will result in an error in the future\n",
      "  proba[i, predictions[i]] += 1\n",
      "/Users/terry/git/rubygem_digger/notebook/learner.py:69: UserWarning: Boolean Series key will be reindexed to match DataFrame index.\n",
      "  X = df[df['name']==name][df['label']==label][self.learner.features]\n",
      "/Users/terry/anaconda3/lib/python3.6/site-packages/sklearn/ensemble/bagging.py:146: VisibleDeprecationWarning: using a non-integer number instead of an integer will result in an error in the future\n",
      "  proba[i, predictions[i]] += 1\n",
      "/Users/terry/git/rubygem_digger/notebook/learner.py:69: UserWarning: Boolean Series key will be reindexed to match DataFrame index.\n",
      "  X = df[df['name']==name][df['label']==label][self.learner.features]\n",
      "/Users/terry/anaconda3/lib/python3.6/site-packages/sklearn/ensemble/bagging.py:146: VisibleDeprecationWarning: using a non-integer number instead of an integer will result in an error in the future\n",
      "  proba[i, predictions[i]] += 1\n",
      "/Users/terry/git/rubygem_digger/notebook/learner.py:69: UserWarning: Boolean Series key will be reindexed to match DataFrame index.\n",
      "  X = df[df['name']==name][df['label']==label][self.learner.features]\n",
      "/Users/terry/anaconda3/lib/python3.6/site-packages/sklearn/ensemble/bagging.py:146: VisibleDeprecationWarning: using a non-integer number instead of an integer will result in an error in the future\n",
      "  proba[i, predictions[i]] += 1\n",
      "/Users/terry/git/rubygem_digger/notebook/learner.py:69: UserWarning: Boolean Series key will be reindexed to match DataFrame index.\n",
      "  X = df[df['name']==name][df['label']==label][self.learner.features]\n",
      "/Users/terry/anaconda3/lib/python3.6/site-packages/sklearn/ensemble/bagging.py:146: VisibleDeprecationWarning: using a non-integer number instead of an integer will result in an error in the future\n",
      "  proba[i, predictions[i]] += 1\n"
     ]
    },
    {
     "name": "stdout",
     "output_type": "stream",
     "text": [
      "Parameters: {'base_estimator__criterion': 'mse', 'base_estimator__max_depth': None, 'base_estimator__max_features': None, 'base_estimator__max_leaf_nodes': None, 'base_estimator__min_impurity_split': 1e-07, 'base_estimator__min_samples_leaf': 1, 'base_estimator__min_samples_split': 2, 'base_estimator__min_weight_fraction_leaf': 0.0, 'base_estimator__presort': False, 'base_estimator__random_state': None, 'base_estimator__splitter': 'best', 'base_estimator': DecisionTreeRegressor(criterion='mse', max_depth=None, max_features=None,\n",
      "           max_leaf_nodes=None, min_impurity_split=1e-07,\n",
      "           min_samples_leaf=1, min_samples_split=2,\n",
      "           min_weight_fraction_leaf=0.0, presort=False, random_state=None,\n",
      "           splitter='best'), 'bootstrap': True, 'bootstrap_features': False, 'max_features': 1.0, 'max_samples': 1.0, 'n_estimators': 10, 'n_jobs': 1, 'oob_score': False, 'random_state': None, 'verbose': 0, 'warm_start': False}\n",
      "Precision 0.596659380526\n",
      "**************************************************\n",
      "Class: BaggingClassifier\n"
     ]
    },
    {
     "name": "stderr",
     "output_type": "stream",
     "text": [
      "/Users/terry/git/rubygem_digger/notebook/learner.py:69: UserWarning: Boolean Series key will be reindexed to match DataFrame index.\n",
      "  X = df[df['name']==name][df['label']==label][self.learner.features]\n",
      "/Users/terry/git/rubygem_digger/notebook/learner.py:69: UserWarning: Boolean Series key will be reindexed to match DataFrame index.\n",
      "  X = df[df['name']==name][df['label']==label][self.learner.features]\n",
      "/Users/terry/git/rubygem_digger/notebook/learner.py:69: UserWarning: Boolean Series key will be reindexed to match DataFrame index.\n",
      "  X = df[df['name']==name][df['label']==label][self.learner.features]\n",
      "/Users/terry/git/rubygem_digger/notebook/learner.py:69: UserWarning: Boolean Series key will be reindexed to match DataFrame index.\n",
      "  X = df[df['name']==name][df['label']==label][self.learner.features]\n",
      "/Users/terry/git/rubygem_digger/notebook/learner.py:69: UserWarning: Boolean Series key will be reindexed to match DataFrame index.\n",
      "  X = df[df['name']==name][df['label']==label][self.learner.features]\n"
     ]
    },
    {
     "name": "stdout",
     "output_type": "stream",
     "text": [
      "Parameters: {'base_estimator__C': 1.0, 'base_estimator__class_weight': None, 'base_estimator__dual': False, 'base_estimator__fit_intercept': True, 'base_estimator__intercept_scaling': 1, 'base_estimator__max_iter': 100, 'base_estimator__multi_class': 'ovr', 'base_estimator__n_jobs': 1, 'base_estimator__penalty': 'l2', 'base_estimator__random_state': None, 'base_estimator__solver': 'liblinear', 'base_estimator__tol': 0.0001, 'base_estimator__verbose': 0, 'base_estimator__warm_start': False, 'base_estimator': LogisticRegression(C=1.0, class_weight=None, dual=False, fit_intercept=True,\n",
      "          intercept_scaling=1, max_iter=100, multi_class='ovr', n_jobs=1,\n",
      "          penalty='l2', random_state=None, solver='liblinear', tol=0.0001,\n",
      "          verbose=0, warm_start=False), 'bootstrap': True, 'bootstrap_features': False, 'max_features': 1.0, 'max_samples': 1.0, 'n_estimators': 10, 'n_jobs': 1, 'oob_score': False, 'random_state': None, 'verbose': 0, 'warm_start': False}\n",
      "Precision 0.625475437873\n",
      "**************************************************\n",
      "Class: BaggingClassifier\n"
     ]
    },
    {
     "name": "stderr",
     "output_type": "stream",
     "text": [
      "/Users/terry/git/rubygem_digger/notebook/learner.py:69: UserWarning: Boolean Series key will be reindexed to match DataFrame index.\n",
      "  X = df[df['name']==name][df['label']==label][self.learner.features]\n",
      "/Users/terry/git/rubygem_digger/notebook/learner.py:69: UserWarning: Boolean Series key will be reindexed to match DataFrame index.\n",
      "  X = df[df['name']==name][df['label']==label][self.learner.features]\n",
      "/Users/terry/git/rubygem_digger/notebook/learner.py:69: UserWarning: Boolean Series key will be reindexed to match DataFrame index.\n",
      "  X = df[df['name']==name][df['label']==label][self.learner.features]\n",
      "/Users/terry/git/rubygem_digger/notebook/learner.py:69: UserWarning: Boolean Series key will be reindexed to match DataFrame index.\n",
      "  X = df[df['name']==name][df['label']==label][self.learner.features]\n",
      "/Users/terry/git/rubygem_digger/notebook/learner.py:69: UserWarning: Boolean Series key will be reindexed to match DataFrame index.\n",
      "  X = df[df['name']==name][df['label']==label][self.learner.features]\n"
     ]
    },
    {
     "name": "stdout",
     "output_type": "stream",
     "text": [
      "Parameters: {'base_estimator__algorithm': 'auto', 'base_estimator__leaf_size': 30, 'base_estimator__metric': 'minkowski', 'base_estimator__metric_params': None, 'base_estimator__n_jobs': 1, 'base_estimator__n_neighbors': 15, 'base_estimator__p': 2, 'base_estimator__weights': 'uniform', 'base_estimator': KNeighborsClassifier(algorithm='auto', leaf_size=30, metric='minkowski',\n",
      "           metric_params=None, n_jobs=1, n_neighbors=15, p=2,\n",
      "           weights='uniform'), 'bootstrap': True, 'bootstrap_features': False, 'max_features': 1.0, 'max_samples': 1.0, 'n_estimators': 10, 'n_jobs': 1, 'oob_score': False, 'random_state': None, 'verbose': 0, 'warm_start': False}\n",
      "Precision 0.574694797837\n",
      "**************************************************\n",
      "Class: RandomForestClassifier\n"
     ]
    },
    {
     "name": "stderr",
     "output_type": "stream",
     "text": [
      "/Users/terry/git/rubygem_digger/notebook/learner.py:69: UserWarning: Boolean Series key will be reindexed to match DataFrame index.\n",
      "  X = df[df['name']==name][df['label']==label][self.learner.features]\n",
      "/Users/terry/git/rubygem_digger/notebook/learner.py:69: UserWarning: Boolean Series key will be reindexed to match DataFrame index.\n",
      "  X = df[df['name']==name][df['label']==label][self.learner.features]\n",
      "/Users/terry/git/rubygem_digger/notebook/learner.py:69: UserWarning: Boolean Series key will be reindexed to match DataFrame index.\n",
      "  X = df[df['name']==name][df['label']==label][self.learner.features]\n",
      "/Users/terry/git/rubygem_digger/notebook/learner.py:69: UserWarning: Boolean Series key will be reindexed to match DataFrame index.\n",
      "  X = df[df['name']==name][df['label']==label][self.learner.features]\n",
      "/Users/terry/git/rubygem_digger/notebook/learner.py:69: UserWarning: Boolean Series key will be reindexed to match DataFrame index.\n",
      "  X = df[df['name']==name][df['label']==label][self.learner.features]\n"
     ]
    },
    {
     "name": "stdout",
     "output_type": "stream",
     "text": [
      "Parameters: {'bootstrap': True, 'class_weight': None, 'criterion': 'gini', 'max_depth': None, 'max_features': 'auto', 'max_leaf_nodes': None, 'min_impurity_split': 1e-07, 'min_samples_leaf': 1, 'min_samples_split': 2, 'min_weight_fraction_leaf': 0.0, 'n_estimators': 20, 'n_jobs': 1, 'oob_score': False, 'random_state': None, 'verbose': 0, 'warm_start': False}\n",
      "Precision 0.622996760046\n",
      "**************************************************\n",
      "Class: AdaBoostClassifier\n"
     ]
    },
    {
     "name": "stderr",
     "output_type": "stream",
     "text": [
      "/Users/terry/git/rubygem_digger/notebook/learner.py:69: UserWarning: Boolean Series key will be reindexed to match DataFrame index.\n",
      "  X = df[df['name']==name][df['label']==label][self.learner.features]\n",
      "/Users/terry/git/rubygem_digger/notebook/learner.py:69: UserWarning: Boolean Series key will be reindexed to match DataFrame index.\n",
      "  X = df[df['name']==name][df['label']==label][self.learner.features]\n",
      "/Users/terry/git/rubygem_digger/notebook/learner.py:69: UserWarning: Boolean Series key will be reindexed to match DataFrame index.\n",
      "  X = df[df['name']==name][df['label']==label][self.learner.features]\n",
      "/Users/terry/git/rubygem_digger/notebook/learner.py:69: UserWarning: Boolean Series key will be reindexed to match DataFrame index.\n",
      "  X = df[df['name']==name][df['label']==label][self.learner.features]\n",
      "/Users/terry/git/rubygem_digger/notebook/learner.py:69: UserWarning: Boolean Series key will be reindexed to match DataFrame index.\n",
      "  X = df[df['name']==name][df['label']==label][self.learner.features]\n"
     ]
    },
    {
     "name": "stdout",
     "output_type": "stream",
     "text": [
      "Parameters: {'algorithm': 'SAMME.R', 'base_estimator': None, 'learning_rate': 1.0, 'n_estimators': 100, 'random_state': None}\n",
      "Precision 0.611143806654\n",
      "**************************************************\n",
      "Class: GradientBoostingClassifier\n"
     ]
    },
    {
     "name": "stderr",
     "output_type": "stream",
     "text": [
      "/Users/terry/git/rubygem_digger/notebook/learner.py:69: UserWarning: Boolean Series key will be reindexed to match DataFrame index.\n",
      "  X = df[df['name']==name][df['label']==label][self.learner.features]\n"
     ]
    },
    {
     "name": "stdout",
     "output_type": "stream",
     "text": [
      "Parameters: {'criterion': 'friedman_mse', 'init': None, 'learning_rate': 1.0, 'loss': 'deviance', 'max_depth': 4, 'max_features': None, 'max_leaf_nodes': None, 'min_impurity_split': 1e-07, 'min_samples_leaf': 1, 'min_samples_split': 2, 'min_weight_fraction_leaf': 0.0, 'n_estimators': 100, 'presort': 'auto', 'random_state': 0, 'subsample': 1.0, 'verbose': 0, 'warm_start': False}\n",
      "Precision 0.596145132095\n",
      "**************************************************\n",
      "Class: LinearSVC\n"
     ]
    },
    {
     "name": "stderr",
     "output_type": "stream",
     "text": [
      "/Users/terry/git/rubygem_digger/notebook/learner.py:69: UserWarning: Boolean Series key will be reindexed to match DataFrame index.\n",
      "  X = df[df['name']==name][df['label']==label][self.learner.features]\n"
     ]
    },
    {
     "name": "stdout",
     "output_type": "stream",
     "text": [
      "Parameters: {'C': 1.0, 'class_weight': None, 'dual': False, 'fit_intercept': True, 'intercept_scaling': 1, 'loss': 'squared_hinge', 'max_iter': 1000, 'multi_class': 'ovr', 'penalty': 'l2', 'random_state': None, 'tol': 0.0001, 'verbose': 0}\n",
      "Precision 0.599154532529\n",
      "**************************************************\n",
      "Class: MLPClassifier\n"
     ]
    },
    {
     "name": "stderr",
     "output_type": "stream",
     "text": [
      "/Users/terry/git/rubygem_digger/notebook/learner.py:69: UserWarning: Boolean Series key will be reindexed to match DataFrame index.\n",
      "  X = df[df['name']==name][df['label']==label][self.learner.features]\n"
     ]
    },
    {
     "name": "stdout",
     "output_type": "stream",
     "text": [
      "Parameters: {'activation': 'relu', 'alpha': 1e-05, 'batch_size': 'auto', 'beta_1': 0.9, 'beta_2': 0.999, 'early_stopping': False, 'epsilon': 1e-08, 'hidden_layer_sizes': (15,), 'learning_rate': 'constant', 'learning_rate_init': 0.001, 'max_iter': 200, 'momentum': 0.9, 'nesterovs_momentum': True, 'power_t': 0.5, 'random_state': 1, 'shuffle': True, 'solver': 'lbfgs', 'tol': 0.0001, 'validation_fraction': 0.1, 'verbose': False, 'warm_start': False}\n",
      "Precision 0.606551478858\n",
      "**************************************************\n",
      "Class: LogisticRegression\n"
     ]
    },
    {
     "name": "stderr",
     "output_type": "stream",
     "text": [
      "/Users/terry/git/rubygem_digger/notebook/learner.py:69: UserWarning: Boolean Series key will be reindexed to match DataFrame index.\n",
      "  X = df[df['name']==name][df['label']==label][self.learner.features]\n"
     ]
    },
    {
     "name": "stdout",
     "output_type": "stream",
     "text": [
      "Parameters: {'C': 1.0, 'class_weight': None, 'dual': False, 'fit_intercept': True, 'intercept_scaling': 1, 'max_iter': 100, 'multi_class': 'ovr', 'n_jobs': 1, 'penalty': 'l2', 'random_state': None, 'solver': 'liblinear', 'tol': 0.0001, 'verbose': 0, 'warm_start': False}\n",
      "Precision 0.615402197272\n",
      "**************************************************\n",
      "Class: DecisionTreeClassifier\n"
     ]
    },
    {
     "name": "stderr",
     "output_type": "stream",
     "text": [
      "/Users/terry/git/rubygem_digger/notebook/learner.py:69: UserWarning: Boolean Series key will be reindexed to match DataFrame index.\n",
      "  X = df[df['name']==name][df['label']==label][self.learner.features]\n"
     ]
    },
    {
     "name": "stdout",
     "output_type": "stream",
     "text": [
      "Parameters: {'class_weight': None, 'criterion': 'gini', 'max_depth': None, 'max_features': None, 'max_leaf_nodes': None, 'min_impurity_split': 1e-07, 'min_samples_leaf': 1, 'min_samples_split': 2, 'min_weight_fraction_leaf': 0.0, 'presort': False, 'random_state': None, 'splitter': 'best'}\n",
      "Precision 0.556905066386\n",
      "**************************************************\n",
      "Class: BaggingClassifier\n"
     ]
    },
    {
     "name": "stderr",
     "output_type": "stream",
     "text": [
      "/Users/terry/git/rubygem_digger/notebook/learner.py:69: UserWarning: Boolean Series key will be reindexed to match DataFrame index.\n",
      "  X = df[df['name']==name][df['label']==label][self.learner.features]\n",
      "/Users/terry/anaconda3/lib/python3.6/site-packages/sklearn/ensemble/bagging.py:146: VisibleDeprecationWarning: using a non-integer number instead of an integer will result in an error in the future\n",
      "  proba[i, predictions[i]] += 1\n",
      "/Users/terry/git/rubygem_digger/notebook/learner.py:69: UserWarning: Boolean Series key will be reindexed to match DataFrame index.\n",
      "  X = df[df['name']==name][df['label']==label][self.learner.features]\n",
      "/Users/terry/anaconda3/lib/python3.6/site-packages/sklearn/ensemble/bagging.py:146: VisibleDeprecationWarning: using a non-integer number instead of an integer will result in an error in the future\n",
      "  proba[i, predictions[i]] += 1\n",
      "/Users/terry/git/rubygem_digger/notebook/learner.py:69: UserWarning: Boolean Series key will be reindexed to match DataFrame index.\n",
      "  X = df[df['name']==name][df['label']==label][self.learner.features]\n",
      "/Users/terry/anaconda3/lib/python3.6/site-packages/sklearn/ensemble/bagging.py:146: VisibleDeprecationWarning: using a non-integer number instead of an integer will result in an error in the future\n",
      "  proba[i, predictions[i]] += 1\n",
      "/Users/terry/git/rubygem_digger/notebook/learner.py:69: UserWarning: Boolean Series key will be reindexed to match DataFrame index.\n",
      "  X = df[df['name']==name][df['label']==label][self.learner.features]\n",
      "/Users/terry/anaconda3/lib/python3.6/site-packages/sklearn/ensemble/bagging.py:146: VisibleDeprecationWarning: using a non-integer number instead of an integer will result in an error in the future\n",
      "  proba[i, predictions[i]] += 1\n",
      "/Users/terry/git/rubygem_digger/notebook/learner.py:69: UserWarning: Boolean Series key will be reindexed to match DataFrame index.\n",
      "  X = df[df['name']==name][df['label']==label][self.learner.features]\n",
      "/Users/terry/anaconda3/lib/python3.6/site-packages/sklearn/ensemble/bagging.py:146: VisibleDeprecationWarning: using a non-integer number instead of an integer will result in an error in the future\n",
      "  proba[i, predictions[i]] += 1\n"
     ]
    },
    {
     "name": "stdout",
     "output_type": "stream",
     "text": [
      "Parameters: {'base_estimator__criterion': 'mse', 'base_estimator__max_depth': None, 'base_estimator__max_features': None, 'base_estimator__max_leaf_nodes': None, 'base_estimator__min_impurity_split': 1e-07, 'base_estimator__min_samples_leaf': 1, 'base_estimator__min_samples_split': 2, 'base_estimator__min_weight_fraction_leaf': 0.0, 'base_estimator__presort': False, 'base_estimator__random_state': None, 'base_estimator__splitter': 'best', 'base_estimator': DecisionTreeRegressor(criterion='mse', max_depth=None, max_features=None,\n",
      "           max_leaf_nodes=None, min_impurity_split=1e-07,\n",
      "           min_samples_leaf=1, min_samples_split=2,\n",
      "           min_weight_fraction_leaf=0.0, presort=False, random_state=None,\n",
      "           splitter='best'), 'bootstrap': True, 'bootstrap_features': False, 'max_features': 1.0, 'max_samples': 1.0, 'n_estimators': 10, 'n_jobs': 1, 'oob_score': False, 'random_state': None, 'verbose': 0, 'warm_start': False}\n",
      "Precision 0.616775963672\n",
      "**************************************************\n",
      "Class: BaggingClassifier\n"
     ]
    },
    {
     "name": "stderr",
     "output_type": "stream",
     "text": [
      "/Users/terry/git/rubygem_digger/notebook/learner.py:69: UserWarning: Boolean Series key will be reindexed to match DataFrame index.\n",
      "  X = df[df['name']==name][df['label']==label][self.learner.features]\n",
      "/Users/terry/git/rubygem_digger/notebook/learner.py:69: UserWarning: Boolean Series key will be reindexed to match DataFrame index.\n",
      "  X = df[df['name']==name][df['label']==label][self.learner.features]\n",
      "/Users/terry/git/rubygem_digger/notebook/learner.py:69: UserWarning: Boolean Series key will be reindexed to match DataFrame index.\n",
      "  X = df[df['name']==name][df['label']==label][self.learner.features]\n",
      "/Users/terry/git/rubygem_digger/notebook/learner.py:69: UserWarning: Boolean Series key will be reindexed to match DataFrame index.\n",
      "  X = df[df['name']==name][df['label']==label][self.learner.features]\n",
      "/Users/terry/git/rubygem_digger/notebook/learner.py:69: UserWarning: Boolean Series key will be reindexed to match DataFrame index.\n",
      "  X = df[df['name']==name][df['label']==label][self.learner.features]\n"
     ]
    },
    {
     "name": "stdout",
     "output_type": "stream",
     "text": [
      "Parameters: {'base_estimator__C': 1.0, 'base_estimator__class_weight': None, 'base_estimator__dual': False, 'base_estimator__fit_intercept': True, 'base_estimator__intercept_scaling': 1, 'base_estimator__max_iter': 100, 'base_estimator__multi_class': 'ovr', 'base_estimator__n_jobs': 1, 'base_estimator__penalty': 'l2', 'base_estimator__random_state': None, 'base_estimator__solver': 'liblinear', 'base_estimator__tol': 0.0001, 'base_estimator__verbose': 0, 'base_estimator__warm_start': False, 'base_estimator': LogisticRegression(C=1.0, class_weight=None, dual=False, fit_intercept=True,\n",
      "          intercept_scaling=1, max_iter=100, multi_class='ovr', n_jobs=1,\n",
      "          penalty='l2', random_state=None, solver='liblinear', tol=0.0001,\n",
      "          verbose=0, warm_start=False), 'bootstrap': True, 'bootstrap_features': False, 'max_features': 1.0, 'max_samples': 1.0, 'n_estimators': 10, 'n_jobs': 1, 'oob_score': False, 'random_state': None, 'verbose': 0, 'warm_start': False}\n",
      "Precision 0.621473576963\n",
      "**************************************************\n",
      "Class: BaggingClassifier\n"
     ]
    },
    {
     "name": "stderr",
     "output_type": "stream",
     "text": [
      "/Users/terry/git/rubygem_digger/notebook/learner.py:69: UserWarning: Boolean Series key will be reindexed to match DataFrame index.\n",
      "  X = df[df['name']==name][df['label']==label][self.learner.features]\n",
      "/Users/terry/git/rubygem_digger/notebook/learner.py:69: UserWarning: Boolean Series key will be reindexed to match DataFrame index.\n",
      "  X = df[df['name']==name][df['label']==label][self.learner.features]\n",
      "/Users/terry/git/rubygem_digger/notebook/learner.py:69: UserWarning: Boolean Series key will be reindexed to match DataFrame index.\n",
      "  X = df[df['name']==name][df['label']==label][self.learner.features]\n",
      "/Users/terry/git/rubygem_digger/notebook/learner.py:69: UserWarning: Boolean Series key will be reindexed to match DataFrame index.\n",
      "  X = df[df['name']==name][df['label']==label][self.learner.features]\n",
      "/Users/terry/git/rubygem_digger/notebook/learner.py:69: UserWarning: Boolean Series key will be reindexed to match DataFrame index.\n",
      "  X = df[df['name']==name][df['label']==label][self.learner.features]\n"
     ]
    },
    {
     "name": "stdout",
     "output_type": "stream",
     "text": [
      "Parameters: {'base_estimator__algorithm': 'auto', 'base_estimator__leaf_size': 30, 'base_estimator__metric': 'minkowski', 'base_estimator__metric_params': None, 'base_estimator__n_jobs': 1, 'base_estimator__n_neighbors': 15, 'base_estimator__p': 2, 'base_estimator__weights': 'uniform', 'base_estimator': KNeighborsClassifier(algorithm='auto', leaf_size=30, metric='minkowski',\n",
      "           metric_params=None, n_jobs=1, n_neighbors=15, p=2,\n",
      "           weights='uniform'), 'bootstrap': True, 'bootstrap_features': False, 'max_features': 1.0, 'max_samples': 1.0, 'n_estimators': 10, 'n_jobs': 1, 'oob_score': False, 'random_state': None, 'verbose': 0, 'warm_start': False}\n",
      "Precision 0.56359005883\n",
      "**************************************************\n",
      "Class: RandomForestClassifier\n"
     ]
    },
    {
     "name": "stderr",
     "output_type": "stream",
     "text": [
      "/Users/terry/git/rubygem_digger/notebook/learner.py:69: UserWarning: Boolean Series key will be reindexed to match DataFrame index.\n",
      "  X = df[df['name']==name][df['label']==label][self.learner.features]\n",
      "/Users/terry/git/rubygem_digger/notebook/learner.py:69: UserWarning: Boolean Series key will be reindexed to match DataFrame index.\n",
      "  X = df[df['name']==name][df['label']==label][self.learner.features]\n",
      "/Users/terry/git/rubygem_digger/notebook/learner.py:69: UserWarning: Boolean Series key will be reindexed to match DataFrame index.\n",
      "  X = df[df['name']==name][df['label']==label][self.learner.features]\n",
      "/Users/terry/git/rubygem_digger/notebook/learner.py:69: UserWarning: Boolean Series key will be reindexed to match DataFrame index.\n",
      "  X = df[df['name']==name][df['label']==label][self.learner.features]\n",
      "/Users/terry/git/rubygem_digger/notebook/learner.py:69: UserWarning: Boolean Series key will be reindexed to match DataFrame index.\n",
      "  X = df[df['name']==name][df['label']==label][self.learner.features]\n"
     ]
    },
    {
     "name": "stdout",
     "output_type": "stream",
     "text": [
      "Parameters: {'bootstrap': True, 'class_weight': None, 'criterion': 'gini', 'max_depth': None, 'max_features': 'auto', 'max_leaf_nodes': None, 'min_impurity_split': 1e-07, 'min_samples_leaf': 1, 'min_samples_split': 2, 'min_weight_fraction_leaf': 0.0, 'n_estimators': 20, 'n_jobs': 1, 'oob_score': False, 'random_state': None, 'verbose': 0, 'warm_start': False}\n",
      "Precision 0.607225638556\n",
      "**************************************************\n",
      "Class: AdaBoostClassifier\n"
     ]
    },
    {
     "name": "stderr",
     "output_type": "stream",
     "text": [
      "/Users/terry/git/rubygem_digger/notebook/learner.py:69: UserWarning: Boolean Series key will be reindexed to match DataFrame index.\n",
      "  X = df[df['name']==name][df['label']==label][self.learner.features]\n",
      "/Users/terry/git/rubygem_digger/notebook/learner.py:69: UserWarning: Boolean Series key will be reindexed to match DataFrame index.\n",
      "  X = df[df['name']==name][df['label']==label][self.learner.features]\n",
      "/Users/terry/git/rubygem_digger/notebook/learner.py:69: UserWarning: Boolean Series key will be reindexed to match DataFrame index.\n",
      "  X = df[df['name']==name][df['label']==label][self.learner.features]\n",
      "/Users/terry/git/rubygem_digger/notebook/learner.py:69: UserWarning: Boolean Series key will be reindexed to match DataFrame index.\n",
      "  X = df[df['name']==name][df['label']==label][self.learner.features]\n",
      "/Users/terry/git/rubygem_digger/notebook/learner.py:69: UserWarning: Boolean Series key will be reindexed to match DataFrame index.\n",
      "  X = df[df['name']==name][df['label']==label][self.learner.features]\n"
     ]
    },
    {
     "name": "stdout",
     "output_type": "stream",
     "text": [
      "Parameters: {'algorithm': 'SAMME.R', 'base_estimator': None, 'learning_rate': 1.0, 'n_estimators': 100, 'random_state': None}\n",
      "Precision 0.59185341387\n",
      "**************************************************\n",
      "Class: GradientBoostingClassifier\n"
     ]
    },
    {
     "name": "stderr",
     "output_type": "stream",
     "text": [
      "/Users/terry/git/rubygem_digger/notebook/learner.py:69: UserWarning: Boolean Series key will be reindexed to match DataFrame index.\n",
      "  X = df[df['name']==name][df['label']==label][self.learner.features]\n"
     ]
    },
    {
     "name": "stdout",
     "output_type": "stream",
     "text": [
      "Parameters: {'criterion': 'friedman_mse', 'init': None, 'learning_rate': 1.0, 'loss': 'deviance', 'max_depth': 4, 'max_features': None, 'max_leaf_nodes': None, 'min_impurity_split': 1e-07, 'min_samples_leaf': 1, 'min_samples_split': 2, 'min_weight_fraction_leaf': 0.0, 'n_estimators': 100, 'presort': 'auto', 'random_state': 0, 'subsample': 1.0, 'verbose': 0, 'warm_start': False}\n",
      "Precision 0.602114523669\n",
      "**************************************************\n",
      "Class: LinearSVC\n"
     ]
    },
    {
     "name": "stderr",
     "output_type": "stream",
     "text": [
      "/Users/terry/git/rubygem_digger/notebook/learner.py:69: UserWarning: Boolean Series key will be reindexed to match DataFrame index.\n",
      "  X = df[df['name']==name][df['label']==label][self.learner.features]\n"
     ]
    },
    {
     "name": "stdout",
     "output_type": "stream",
     "text": [
      "Parameters: {'C': 1.0, 'class_weight': None, 'dual': False, 'fit_intercept': True, 'intercept_scaling': 1, 'loss': 'squared_hinge', 'max_iter': 1000, 'multi_class': 'ovr', 'penalty': 'l2', 'random_state': None, 'tol': 0.0001, 'verbose': 0}\n",
      "Precision 0.630615580364\n",
      "**************************************************\n",
      "Class: MLPClassifier\n"
     ]
    },
    {
     "name": "stderr",
     "output_type": "stream",
     "text": [
      "/Users/terry/git/rubygem_digger/notebook/learner.py:69: UserWarning: Boolean Series key will be reindexed to match DataFrame index.\n",
      "  X = df[df['name']==name][df['label']==label][self.learner.features]\n"
     ]
    },
    {
     "name": "stdout",
     "output_type": "stream",
     "text": [
      "Parameters: {'activation': 'relu', 'alpha': 1e-05, 'batch_size': 'auto', 'beta_1': 0.9, 'beta_2': 0.999, 'early_stopping': False, 'epsilon': 1e-08, 'hidden_layer_sizes': (15,), 'learning_rate': 'constant', 'learning_rate_init': 0.001, 'max_iter': 200, 'momentum': 0.9, 'nesterovs_momentum': True, 'power_t': 0.5, 'random_state': 1, 'shuffle': True, 'solver': 'lbfgs', 'tol': 0.0001, 'validation_fraction': 0.1, 'verbose': False, 'warm_start': False}\n",
      "Precision 0.61370713379\n",
      "**************************************************\n",
      "Class: LogisticRegression\n"
     ]
    },
    {
     "name": "stderr",
     "output_type": "stream",
     "text": [
      "/Users/terry/git/rubygem_digger/notebook/learner.py:69: UserWarning: Boolean Series key will be reindexed to match DataFrame index.\n",
      "  X = df[df['name']==name][df['label']==label][self.learner.features]\n"
     ]
    },
    {
     "name": "stdout",
     "output_type": "stream",
     "text": [
      "Parameters: {'C': 1.0, 'class_weight': None, 'dual': False, 'fit_intercept': True, 'intercept_scaling': 1, 'max_iter': 100, 'multi_class': 'ovr', 'n_jobs': 1, 'penalty': 'l2', 'random_state': None, 'solver': 'liblinear', 'tol': 0.0001, 'verbose': 0, 'warm_start': False}\n",
      "Precision 0.608114947733\n",
      "**************************************************\n",
      "Class: DecisionTreeClassifier\n"
     ]
    },
    {
     "name": "stderr",
     "output_type": "stream",
     "text": [
      "/Users/terry/git/rubygem_digger/notebook/learner.py:69: UserWarning: Boolean Series key will be reindexed to match DataFrame index.\n",
      "  X = df[df['name']==name][df['label']==label][self.learner.features]\n"
     ]
    },
    {
     "name": "stdout",
     "output_type": "stream",
     "text": [
      "Parameters: {'class_weight': None, 'criterion': 'gini', 'max_depth': None, 'max_features': None, 'max_leaf_nodes': None, 'min_impurity_split': 1e-07, 'min_samples_leaf': 1, 'min_samples_split': 2, 'min_weight_fraction_leaf': 0.0, 'presort': False, 'random_state': None, 'splitter': 'best'}\n",
      "Precision 0.574997241154\n",
      "**************************************************\n",
      "Class: BaggingClassifier\n"
     ]
    },
    {
     "name": "stderr",
     "output_type": "stream",
     "text": [
      "/Users/terry/git/rubygem_digger/notebook/learner.py:69: UserWarning: Boolean Series key will be reindexed to match DataFrame index.\n",
      "  X = df[df['name']==name][df['label']==label][self.learner.features]\n",
      "/Users/terry/anaconda3/lib/python3.6/site-packages/sklearn/ensemble/bagging.py:146: VisibleDeprecationWarning: using a non-integer number instead of an integer will result in an error in the future\n",
      "  proba[i, predictions[i]] += 1\n",
      "/Users/terry/git/rubygem_digger/notebook/learner.py:69: UserWarning: Boolean Series key will be reindexed to match DataFrame index.\n",
      "  X = df[df['name']==name][df['label']==label][self.learner.features]\n",
      "/Users/terry/anaconda3/lib/python3.6/site-packages/sklearn/ensemble/bagging.py:146: VisibleDeprecationWarning: using a non-integer number instead of an integer will result in an error in the future\n",
      "  proba[i, predictions[i]] += 1\n",
      "/Users/terry/git/rubygem_digger/notebook/learner.py:69: UserWarning: Boolean Series key will be reindexed to match DataFrame index.\n",
      "  X = df[df['name']==name][df['label']==label][self.learner.features]\n",
      "/Users/terry/anaconda3/lib/python3.6/site-packages/sklearn/ensemble/bagging.py:146: VisibleDeprecationWarning: using a non-integer number instead of an integer will result in an error in the future\n",
      "  proba[i, predictions[i]] += 1\n",
      "/Users/terry/git/rubygem_digger/notebook/learner.py:69: UserWarning: Boolean Series key will be reindexed to match DataFrame index.\n",
      "  X = df[df['name']==name][df['label']==label][self.learner.features]\n",
      "/Users/terry/anaconda3/lib/python3.6/site-packages/sklearn/ensemble/bagging.py:146: VisibleDeprecationWarning: using a non-integer number instead of an integer will result in an error in the future\n",
      "  proba[i, predictions[i]] += 1\n",
      "/Users/terry/git/rubygem_digger/notebook/learner.py:69: UserWarning: Boolean Series key will be reindexed to match DataFrame index.\n",
      "  X = df[df['name']==name][df['label']==label][self.learner.features]\n",
      "/Users/terry/anaconda3/lib/python3.6/site-packages/sklearn/ensemble/bagging.py:146: VisibleDeprecationWarning: using a non-integer number instead of an integer will result in an error in the future\n",
      "  proba[i, predictions[i]] += 1\n"
     ]
    },
    {
     "name": "stdout",
     "output_type": "stream",
     "text": [
      "Parameters: {'base_estimator__criterion': 'mse', 'base_estimator__max_depth': None, 'base_estimator__max_features': None, 'base_estimator__max_leaf_nodes': None, 'base_estimator__min_impurity_split': 1e-07, 'base_estimator__min_samples_leaf': 1, 'base_estimator__min_samples_split': 2, 'base_estimator__min_weight_fraction_leaf': 0.0, 'base_estimator__presort': False, 'base_estimator__random_state': None, 'base_estimator__splitter': 'best', 'base_estimator': DecisionTreeRegressor(criterion='mse', max_depth=None, max_features=None,\n",
      "           max_leaf_nodes=None, min_impurity_split=1e-07,\n",
      "           min_samples_leaf=1, min_samples_split=2,\n",
      "           min_weight_fraction_leaf=0.0, presort=False, random_state=None,\n",
      "           splitter='best'), 'bootstrap': True, 'bootstrap_features': False, 'max_features': 1.0, 'max_samples': 1.0, 'n_estimators': 10, 'n_jobs': 1, 'oob_score': False, 'random_state': None, 'verbose': 0, 'warm_start': False}\n",
      "Precision 0.583709781712\n",
      "**************************************************\n",
      "Class: BaggingClassifier\n"
     ]
    },
    {
     "name": "stderr",
     "output_type": "stream",
     "text": [
      "/Users/terry/git/rubygem_digger/notebook/learner.py:69: UserWarning: Boolean Series key will be reindexed to match DataFrame index.\n",
      "  X = df[df['name']==name][df['label']==label][self.learner.features]\n",
      "/Users/terry/git/rubygem_digger/notebook/learner.py:69: UserWarning: Boolean Series key will be reindexed to match DataFrame index.\n",
      "  X = df[df['name']==name][df['label']==label][self.learner.features]\n",
      "/Users/terry/git/rubygem_digger/notebook/learner.py:69: UserWarning: Boolean Series key will be reindexed to match DataFrame index.\n",
      "  X = df[df['name']==name][df['label']==label][self.learner.features]\n",
      "/Users/terry/git/rubygem_digger/notebook/learner.py:69: UserWarning: Boolean Series key will be reindexed to match DataFrame index.\n",
      "  X = df[df['name']==name][df['label']==label][self.learner.features]\n",
      "/Users/terry/git/rubygem_digger/notebook/learner.py:69: UserWarning: Boolean Series key will be reindexed to match DataFrame index.\n",
      "  X = df[df['name']==name][df['label']==label][self.learner.features]\n"
     ]
    },
    {
     "name": "stdout",
     "output_type": "stream",
     "text": [
      "Parameters: {'base_estimator__C': 1.0, 'base_estimator__class_weight': None, 'base_estimator__dual': False, 'base_estimator__fit_intercept': True, 'base_estimator__intercept_scaling': 1, 'base_estimator__max_iter': 100, 'base_estimator__multi_class': 'ovr', 'base_estimator__n_jobs': 1, 'base_estimator__penalty': 'l2', 'base_estimator__random_state': None, 'base_estimator__solver': 'liblinear', 'base_estimator__tol': 0.0001, 'base_estimator__verbose': 0, 'base_estimator__warm_start': False, 'base_estimator': LogisticRegression(C=1.0, class_weight=None, dual=False, fit_intercept=True,\n",
      "          intercept_scaling=1, max_iter=100, multi_class='ovr', n_jobs=1,\n",
      "          penalty='l2', random_state=None, solver='liblinear', tol=0.0001,\n",
      "          verbose=0, warm_start=False), 'bootstrap': True, 'bootstrap_features': False, 'max_features': 1.0, 'max_samples': 1.0, 'n_estimators': 10, 'n_jobs': 1, 'oob_score': False, 'random_state': None, 'verbose': 0, 'warm_start': False}\n",
      "Precision 0.621524182361\n",
      "**************************************************\n",
      "Class: BaggingClassifier\n"
     ]
    },
    {
     "name": "stderr",
     "output_type": "stream",
     "text": [
      "/Users/terry/git/rubygem_digger/notebook/learner.py:69: UserWarning: Boolean Series key will be reindexed to match DataFrame index.\n",
      "  X = df[df['name']==name][df['label']==label][self.learner.features]\n",
      "/Users/terry/git/rubygem_digger/notebook/learner.py:69: UserWarning: Boolean Series key will be reindexed to match DataFrame index.\n",
      "  X = df[df['name']==name][df['label']==label][self.learner.features]\n",
      "/Users/terry/git/rubygem_digger/notebook/learner.py:69: UserWarning: Boolean Series key will be reindexed to match DataFrame index.\n",
      "  X = df[df['name']==name][df['label']==label][self.learner.features]\n",
      "/Users/terry/git/rubygem_digger/notebook/learner.py:69: UserWarning: Boolean Series key will be reindexed to match DataFrame index.\n",
      "  X = df[df['name']==name][df['label']==label][self.learner.features]\n",
      "/Users/terry/git/rubygem_digger/notebook/learner.py:69: UserWarning: Boolean Series key will be reindexed to match DataFrame index.\n",
      "  X = df[df['name']==name][df['label']==label][self.learner.features]\n"
     ]
    },
    {
     "name": "stdout",
     "output_type": "stream",
     "text": [
      "Parameters: {'base_estimator__algorithm': 'auto', 'base_estimator__leaf_size': 30, 'base_estimator__metric': 'minkowski', 'base_estimator__metric_params': None, 'base_estimator__n_jobs': 1, 'base_estimator__n_neighbors': 15, 'base_estimator__p': 2, 'base_estimator__weights': 'uniform', 'base_estimator': KNeighborsClassifier(algorithm='auto', leaf_size=30, metric='minkowski',\n",
      "           metric_params=None, n_jobs=1, n_neighbors=15, p=2,\n",
      "           weights='uniform'), 'bootstrap': True, 'bootstrap_features': False, 'max_features': 1.0, 'max_samples': 1.0, 'n_estimators': 10, 'n_jobs': 1, 'oob_score': False, 'random_state': None, 'verbose': 0, 'warm_start': False}\n",
      "Precision 0.596061330955\n",
      "**************************************************\n",
      "Class: RandomForestClassifier\n"
     ]
    },
    {
     "name": "stderr",
     "output_type": "stream",
     "text": [
      "/Users/terry/git/rubygem_digger/notebook/learner.py:69: UserWarning: Boolean Series key will be reindexed to match DataFrame index.\n",
      "  X = df[df['name']==name][df['label']==label][self.learner.features]\n",
      "/Users/terry/git/rubygem_digger/notebook/learner.py:69: UserWarning: Boolean Series key will be reindexed to match DataFrame index.\n",
      "  X = df[df['name']==name][df['label']==label][self.learner.features]\n",
      "/Users/terry/git/rubygem_digger/notebook/learner.py:69: UserWarning: Boolean Series key will be reindexed to match DataFrame index.\n",
      "  X = df[df['name']==name][df['label']==label][self.learner.features]\n",
      "/Users/terry/git/rubygem_digger/notebook/learner.py:69: UserWarning: Boolean Series key will be reindexed to match DataFrame index.\n",
      "  X = df[df['name']==name][df['label']==label][self.learner.features]\n",
      "/Users/terry/git/rubygem_digger/notebook/learner.py:69: UserWarning: Boolean Series key will be reindexed to match DataFrame index.\n",
      "  X = df[df['name']==name][df['label']==label][self.learner.features]\n"
     ]
    },
    {
     "name": "stdout",
     "output_type": "stream",
     "text": [
      "Parameters: {'bootstrap': True, 'class_weight': None, 'criterion': 'gini', 'max_depth': None, 'max_features': 'auto', 'max_leaf_nodes': None, 'min_impurity_split': 1e-07, 'min_samples_leaf': 1, 'min_samples_split': 2, 'min_weight_fraction_leaf': 0.0, 'n_estimators': 20, 'n_jobs': 1, 'oob_score': False, 'random_state': None, 'verbose': 0, 'warm_start': False}\n",
      "Precision 0.626044946519\n",
      "**************************************************\n",
      "Class: AdaBoostClassifier\n"
     ]
    },
    {
     "name": "stderr",
     "output_type": "stream",
     "text": [
      "/Users/terry/git/rubygem_digger/notebook/learner.py:69: UserWarning: Boolean Series key will be reindexed to match DataFrame index.\n",
      "  X = df[df['name']==name][df['label']==label][self.learner.features]\n",
      "/Users/terry/git/rubygem_digger/notebook/learner.py:69: UserWarning: Boolean Series key will be reindexed to match DataFrame index.\n",
      "  X = df[df['name']==name][df['label']==label][self.learner.features]\n",
      "/Users/terry/git/rubygem_digger/notebook/learner.py:69: UserWarning: Boolean Series key will be reindexed to match DataFrame index.\n",
      "  X = df[df['name']==name][df['label']==label][self.learner.features]\n",
      "/Users/terry/git/rubygem_digger/notebook/learner.py:69: UserWarning: Boolean Series key will be reindexed to match DataFrame index.\n",
      "  X = df[df['name']==name][df['label']==label][self.learner.features]\n",
      "/Users/terry/git/rubygem_digger/notebook/learner.py:69: UserWarning: Boolean Series key will be reindexed to match DataFrame index.\n",
      "  X = df[df['name']==name][df['label']==label][self.learner.features]\n"
     ]
    },
    {
     "name": "stdout",
     "output_type": "stream",
     "text": [
      "Parameters: {'algorithm': 'SAMME.R', 'base_estimator': None, 'learning_rate': 1.0, 'n_estimators': 100, 'random_state': None}\n",
      "Precision 0.598316757345\n",
      "**************************************************\n",
      "Class: GradientBoostingClassifier\n"
     ]
    },
    {
     "name": "stderr",
     "output_type": "stream",
     "text": [
      "/Users/terry/git/rubygem_digger/notebook/learner.py:69: UserWarning: Boolean Series key will be reindexed to match DataFrame index.\n",
      "  X = df[df['name']==name][df['label']==label][self.learner.features]\n"
     ]
    },
    {
     "name": "stdout",
     "output_type": "stream",
     "text": [
      "Parameters: {'criterion': 'friedman_mse', 'init': None, 'learning_rate': 1.0, 'loss': 'deviance', 'max_depth': 4, 'max_features': None, 'max_leaf_nodes': None, 'min_impurity_split': 1e-07, 'min_samples_leaf': 1, 'min_samples_split': 2, 'min_weight_fraction_leaf': 0.0, 'n_estimators': 100, 'presort': 'auto', 'random_state': 0, 'subsample': 1.0, 'verbose': 0, 'warm_start': False}\n",
      "Precision 0.601600405065\n",
      "**************************************************\n",
      "Class: LinearSVC\n"
     ]
    },
    {
     "name": "stderr",
     "output_type": "stream",
     "text": [
      "/Users/terry/git/rubygem_digger/notebook/learner.py:69: UserWarning: Boolean Series key will be reindexed to match DataFrame index.\n",
      "  X = df[df['name']==name][df['label']==label][self.learner.features]\n"
     ]
    },
    {
     "name": "stdout",
     "output_type": "stream",
     "text": [
      "Parameters: {'C': 1.0, 'class_weight': None, 'dual': False, 'fit_intercept': True, 'intercept_scaling': 1, 'loss': 'squared_hinge', 'max_iter': 1000, 'multi_class': 'ovr', 'penalty': 'l2', 'random_state': None, 'tol': 0.0001, 'verbose': 0}\n",
      "Precision 0.62183046733\n",
      "**************************************************\n",
      "Class: MLPClassifier\n"
     ]
    },
    {
     "name": "stderr",
     "output_type": "stream",
     "text": [
      "/Users/terry/git/rubygem_digger/notebook/learner.py:69: UserWarning: Boolean Series key will be reindexed to match DataFrame index.\n",
      "  X = df[df['name']==name][df['label']==label][self.learner.features]\n"
     ]
    },
    {
     "name": "stdout",
     "output_type": "stream",
     "text": [
      "Parameters: {'activation': 'relu', 'alpha': 1e-05, 'batch_size': 'auto', 'beta_1': 0.9, 'beta_2': 0.999, 'early_stopping': False, 'epsilon': 1e-08, 'hidden_layer_sizes': (15,), 'learning_rate': 'constant', 'learning_rate_init': 0.001, 'max_iter': 200, 'momentum': 0.9, 'nesterovs_momentum': True, 'power_t': 0.5, 'random_state': 1, 'shuffle': True, 'solver': 'lbfgs', 'tol': 0.0001, 'validation_fraction': 0.1, 'verbose': False, 'warm_start': False}\n",
      "Precision 0.571175108241\n",
      "**************************************************\n",
      "Class: LogisticRegression\n"
     ]
    },
    {
     "name": "stderr",
     "output_type": "stream",
     "text": [
      "/Users/terry/git/rubygem_digger/notebook/learner.py:69: UserWarning: Boolean Series key will be reindexed to match DataFrame index.\n",
      "  X = df[df['name']==name][df['label']==label][self.learner.features]\n"
     ]
    },
    {
     "name": "stdout",
     "output_type": "stream",
     "text": [
      "Parameters: {'C': 1.0, 'class_weight': None, 'dual': False, 'fit_intercept': True, 'intercept_scaling': 1, 'max_iter': 100, 'multi_class': 'ovr', 'n_jobs': 1, 'penalty': 'l2', 'random_state': None, 'solver': 'liblinear', 'tol': 0.0001, 'verbose': 0, 'warm_start': False}\n",
      "Precision 0.627847418996\n",
      "**************************************************\n",
      "Class: DecisionTreeClassifier\n"
     ]
    },
    {
     "name": "stderr",
     "output_type": "stream",
     "text": [
      "/Users/terry/git/rubygem_digger/notebook/learner.py:69: UserWarning: Boolean Series key will be reindexed to match DataFrame index.\n",
      "  X = df[df['name']==name][df['label']==label][self.learner.features]\n"
     ]
    },
    {
     "name": "stdout",
     "output_type": "stream",
     "text": [
      "Parameters: {'class_weight': None, 'criterion': 'gini', 'max_depth': None, 'max_features': None, 'max_leaf_nodes': None, 'min_impurity_split': 1e-07, 'min_samples_leaf': 1, 'min_samples_split': 2, 'min_weight_fraction_leaf': 0.0, 'presort': False, 'random_state': None, 'splitter': 'best'}\n",
      "Precision 0.561773980329\n",
      "**************************************************\n",
      "Class: BaggingClassifier\n"
     ]
    },
    {
     "name": "stderr",
     "output_type": "stream",
     "text": [
      "/Users/terry/git/rubygem_digger/notebook/learner.py:69: UserWarning: Boolean Series key will be reindexed to match DataFrame index.\n",
      "  X = df[df['name']==name][df['label']==label][self.learner.features]\n",
      "/Users/terry/anaconda3/lib/python3.6/site-packages/sklearn/ensemble/bagging.py:146: VisibleDeprecationWarning: using a non-integer number instead of an integer will result in an error in the future\n",
      "  proba[i, predictions[i]] += 1\n",
      "/Users/terry/git/rubygem_digger/notebook/learner.py:69: UserWarning: Boolean Series key will be reindexed to match DataFrame index.\n",
      "  X = df[df['name']==name][df['label']==label][self.learner.features]\n",
      "/Users/terry/anaconda3/lib/python3.6/site-packages/sklearn/ensemble/bagging.py:146: VisibleDeprecationWarning: using a non-integer number instead of an integer will result in an error in the future\n",
      "  proba[i, predictions[i]] += 1\n",
      "/Users/terry/git/rubygem_digger/notebook/learner.py:69: UserWarning: Boolean Series key will be reindexed to match DataFrame index.\n",
      "  X = df[df['name']==name][df['label']==label][self.learner.features]\n",
      "/Users/terry/anaconda3/lib/python3.6/site-packages/sklearn/ensemble/bagging.py:146: VisibleDeprecationWarning: using a non-integer number instead of an integer will result in an error in the future\n",
      "  proba[i, predictions[i]] += 1\n",
      "/Users/terry/git/rubygem_digger/notebook/learner.py:69: UserWarning: Boolean Series key will be reindexed to match DataFrame index.\n",
      "  X = df[df['name']==name][df['label']==label][self.learner.features]\n",
      "/Users/terry/anaconda3/lib/python3.6/site-packages/sklearn/ensemble/bagging.py:146: VisibleDeprecationWarning: using a non-integer number instead of an integer will result in an error in the future\n",
      "  proba[i, predictions[i]] += 1\n",
      "/Users/terry/git/rubygem_digger/notebook/learner.py:69: UserWarning: Boolean Series key will be reindexed to match DataFrame index.\n",
      "  X = df[df['name']==name][df['label']==label][self.learner.features]\n",
      "/Users/terry/anaconda3/lib/python3.6/site-packages/sklearn/ensemble/bagging.py:146: VisibleDeprecationWarning: using a non-integer number instead of an integer will result in an error in the future\n",
      "  proba[i, predictions[i]] += 1\n"
     ]
    },
    {
     "name": "stdout",
     "output_type": "stream",
     "text": [
      "Parameters: {'base_estimator__criterion': 'mse', 'base_estimator__max_depth': None, 'base_estimator__max_features': None, 'base_estimator__max_leaf_nodes': None, 'base_estimator__min_impurity_split': 1e-07, 'base_estimator__min_samples_leaf': 1, 'base_estimator__min_samples_split': 2, 'base_estimator__min_weight_fraction_leaf': 0.0, 'base_estimator__presort': False, 'base_estimator__random_state': None, 'base_estimator__splitter': 'best', 'base_estimator': DecisionTreeRegressor(criterion='mse', max_depth=None, max_features=None,\n",
      "           max_leaf_nodes=None, min_impurity_split=1e-07,\n",
      "           min_samples_leaf=1, min_samples_split=2,\n",
      "           min_weight_fraction_leaf=0.0, presort=False, random_state=None,\n",
      "           splitter='best'), 'bootstrap': True, 'bootstrap_features': False, 'max_features': 1.0, 'max_samples': 1.0, 'n_estimators': 10, 'n_jobs': 1, 'oob_score': False, 'random_state': None, 'verbose': 0, 'warm_start': False}\n",
      "Precision 0.600119595287\n",
      "**************************************************\n",
      "Class: BaggingClassifier\n"
     ]
    },
    {
     "name": "stderr",
     "output_type": "stream",
     "text": [
      "/Users/terry/git/rubygem_digger/notebook/learner.py:69: UserWarning: Boolean Series key will be reindexed to match DataFrame index.\n",
      "  X = df[df['name']==name][df['label']==label][self.learner.features]\n",
      "/Users/terry/git/rubygem_digger/notebook/learner.py:69: UserWarning: Boolean Series key will be reindexed to match DataFrame index.\n",
      "  X = df[df['name']==name][df['label']==label][self.learner.features]\n",
      "/Users/terry/git/rubygem_digger/notebook/learner.py:69: UserWarning: Boolean Series key will be reindexed to match DataFrame index.\n",
      "  X = df[df['name']==name][df['label']==label][self.learner.features]\n",
      "/Users/terry/git/rubygem_digger/notebook/learner.py:69: UserWarning: Boolean Series key will be reindexed to match DataFrame index.\n",
      "  X = df[df['name']==name][df['label']==label][self.learner.features]\n",
      "/Users/terry/git/rubygem_digger/notebook/learner.py:69: UserWarning: Boolean Series key will be reindexed to match DataFrame index.\n",
      "  X = df[df['name']==name][df['label']==label][self.learner.features]\n"
     ]
    },
    {
     "name": "stdout",
     "output_type": "stream",
     "text": [
      "Parameters: {'base_estimator__C': 1.0, 'base_estimator__class_weight': None, 'base_estimator__dual': False, 'base_estimator__fit_intercept': True, 'base_estimator__intercept_scaling': 1, 'base_estimator__max_iter': 100, 'base_estimator__multi_class': 'ovr', 'base_estimator__n_jobs': 1, 'base_estimator__penalty': 'l2', 'base_estimator__random_state': None, 'base_estimator__solver': 'liblinear', 'base_estimator__tol': 0.0001, 'base_estimator__verbose': 0, 'base_estimator__warm_start': False, 'base_estimator': LogisticRegression(C=1.0, class_weight=None, dual=False, fit_intercept=True,\n",
      "          intercept_scaling=1, max_iter=100, multi_class='ovr', n_jobs=1,\n",
      "          penalty='l2', random_state=None, solver='liblinear', tol=0.0001,\n",
      "          verbose=0, warm_start=False), 'bootstrap': True, 'bootstrap_features': False, 'max_features': 1.0, 'max_samples': 1.0, 'n_estimators': 10, 'n_jobs': 1, 'oob_score': False, 'random_state': None, 'verbose': 0, 'warm_start': False}\n",
      "Precision 0.636913329483\n",
      "**************************************************\n",
      "Class: BaggingClassifier\n"
     ]
    },
    {
     "name": "stderr",
     "output_type": "stream",
     "text": [
      "/Users/terry/git/rubygem_digger/notebook/learner.py:69: UserWarning: Boolean Series key will be reindexed to match DataFrame index.\n",
      "  X = df[df['name']==name][df['label']==label][self.learner.features]\n",
      "/Users/terry/git/rubygem_digger/notebook/learner.py:69: UserWarning: Boolean Series key will be reindexed to match DataFrame index.\n",
      "  X = df[df['name']==name][df['label']==label][self.learner.features]\n",
      "/Users/terry/git/rubygem_digger/notebook/learner.py:69: UserWarning: Boolean Series key will be reindexed to match DataFrame index.\n",
      "  X = df[df['name']==name][df['label']==label][self.learner.features]\n",
      "/Users/terry/git/rubygem_digger/notebook/learner.py:69: UserWarning: Boolean Series key will be reindexed to match DataFrame index.\n",
      "  X = df[df['name']==name][df['label']==label][self.learner.features]\n",
      "/Users/terry/git/rubygem_digger/notebook/learner.py:69: UserWarning: Boolean Series key will be reindexed to match DataFrame index.\n",
      "  X = df[df['name']==name][df['label']==label][self.learner.features]\n"
     ]
    },
    {
     "name": "stdout",
     "output_type": "stream",
     "text": [
      "Parameters: {'base_estimator__algorithm': 'auto', 'base_estimator__leaf_size': 30, 'base_estimator__metric': 'minkowski', 'base_estimator__metric_params': None, 'base_estimator__n_jobs': 1, 'base_estimator__n_neighbors': 15, 'base_estimator__p': 2, 'base_estimator__weights': 'uniform', 'base_estimator': KNeighborsClassifier(algorithm='auto', leaf_size=30, metric='minkowski',\n",
      "           metric_params=None, n_jobs=1, n_neighbors=15, p=2,\n",
      "           weights='uniform'), 'bootstrap': True, 'bootstrap_features': False, 'max_features': 1.0, 'max_samples': 1.0, 'n_estimators': 10, 'n_jobs': 1, 'oob_score': False, 'random_state': None, 'verbose': 0, 'warm_start': False}\n",
      "Precision 0.583879758679\n",
      "**************************************************\n",
      "Class: RandomForestClassifier\n"
     ]
    },
    {
     "name": "stderr",
     "output_type": "stream",
     "text": [
      "/Users/terry/git/rubygem_digger/notebook/learner.py:69: UserWarning: Boolean Series key will be reindexed to match DataFrame index.\n",
      "  X = df[df['name']==name][df['label']==label][self.learner.features]\n",
      "/Users/terry/git/rubygem_digger/notebook/learner.py:69: UserWarning: Boolean Series key will be reindexed to match DataFrame index.\n",
      "  X = df[df['name']==name][df['label']==label][self.learner.features]\n",
      "/Users/terry/git/rubygem_digger/notebook/learner.py:69: UserWarning: Boolean Series key will be reindexed to match DataFrame index.\n",
      "  X = df[df['name']==name][df['label']==label][self.learner.features]\n",
      "/Users/terry/git/rubygem_digger/notebook/learner.py:69: UserWarning: Boolean Series key will be reindexed to match DataFrame index.\n",
      "  X = df[df['name']==name][df['label']==label][self.learner.features]\n",
      "/Users/terry/git/rubygem_digger/notebook/learner.py:69: UserWarning: Boolean Series key will be reindexed to match DataFrame index.\n",
      "  X = df[df['name']==name][df['label']==label][self.learner.features]\n"
     ]
    },
    {
     "name": "stdout",
     "output_type": "stream",
     "text": [
      "Parameters: {'bootstrap': True, 'class_weight': None, 'criterion': 'gini', 'max_depth': None, 'max_features': 'auto', 'max_leaf_nodes': None, 'min_impurity_split': 1e-07, 'min_samples_leaf': 1, 'min_samples_split': 2, 'min_weight_fraction_leaf': 0.0, 'n_estimators': 20, 'n_jobs': 1, 'oob_score': False, 'random_state': None, 'verbose': 0, 'warm_start': False}\n",
      "Precision 0.617387557046\n",
      "**************************************************\n",
      "Class: AdaBoostClassifier\n"
     ]
    },
    {
     "name": "stderr",
     "output_type": "stream",
     "text": [
      "/Users/terry/git/rubygem_digger/notebook/learner.py:69: UserWarning: Boolean Series key will be reindexed to match DataFrame index.\n",
      "  X = df[df['name']==name][df['label']==label][self.learner.features]\n",
      "/Users/terry/git/rubygem_digger/notebook/learner.py:69: UserWarning: Boolean Series key will be reindexed to match DataFrame index.\n",
      "  X = df[df['name']==name][df['label']==label][self.learner.features]\n",
      "/Users/terry/git/rubygem_digger/notebook/learner.py:69: UserWarning: Boolean Series key will be reindexed to match DataFrame index.\n",
      "  X = df[df['name']==name][df['label']==label][self.learner.features]\n",
      "/Users/terry/git/rubygem_digger/notebook/learner.py:69: UserWarning: Boolean Series key will be reindexed to match DataFrame index.\n",
      "  X = df[df['name']==name][df['label']==label][self.learner.features]\n",
      "/Users/terry/git/rubygem_digger/notebook/learner.py:69: UserWarning: Boolean Series key will be reindexed to match DataFrame index.\n",
      "  X = df[df['name']==name][df['label']==label][self.learner.features]\n"
     ]
    },
    {
     "name": "stdout",
     "output_type": "stream",
     "text": [
      "Parameters: {'algorithm': 'SAMME.R', 'base_estimator': None, 'learning_rate': 1.0, 'n_estimators': 100, 'random_state': None}\n",
      "Precision 0.605651442378\n",
      "**************************************************\n",
      "Class: GradientBoostingClassifier\n"
     ]
    },
    {
     "name": "stderr",
     "output_type": "stream",
     "text": [
      "/Users/terry/git/rubygem_digger/notebook/learner.py:69: UserWarning: Boolean Series key will be reindexed to match DataFrame index.\n",
      "  X = df[df['name']==name][df['label']==label][self.learner.features]\n"
     ]
    },
    {
     "name": "stdout",
     "output_type": "stream",
     "text": [
      "Parameters: {'criterion': 'friedman_mse', 'init': None, 'learning_rate': 1.0, 'loss': 'deviance', 'max_depth': 4, 'max_features': None, 'max_leaf_nodes': None, 'min_impurity_split': 1e-07, 'min_samples_leaf': 1, 'min_samples_split': 2, 'min_weight_fraction_leaf': 0.0, 'n_estimators': 100, 'presort': 'auto', 'random_state': 0, 'subsample': 1.0, 'verbose': 0, 'warm_start': False}\n",
      "Precision 0.576486489764\n",
      "**************************************************\n",
      "Class: LinearSVC\n"
     ]
    },
    {
     "name": "stderr",
     "output_type": "stream",
     "text": [
      "/Users/terry/git/rubygem_digger/notebook/learner.py:69: UserWarning: Boolean Series key will be reindexed to match DataFrame index.\n",
      "  X = df[df['name']==name][df['label']==label][self.learner.features]\n"
     ]
    },
    {
     "name": "stdout",
     "output_type": "stream",
     "text": [
      "Parameters: {'C': 1.0, 'class_weight': None, 'dual': False, 'fit_intercept': True, 'intercept_scaling': 1, 'loss': 'squared_hinge', 'max_iter': 1000, 'multi_class': 'ovr', 'penalty': 'l2', 'random_state': None, 'tol': 0.0001, 'verbose': 0}\n",
      "Precision 0.640072237022\n",
      "**************************************************\n",
      "Class: MLPClassifier\n"
     ]
    },
    {
     "name": "stderr",
     "output_type": "stream",
     "text": [
      "/Users/terry/git/rubygem_digger/notebook/learner.py:69: UserWarning: Boolean Series key will be reindexed to match DataFrame index.\n",
      "  X = df[df['name']==name][df['label']==label][self.learner.features]\n"
     ]
    },
    {
     "name": "stdout",
     "output_type": "stream",
     "text": [
      "Parameters: {'activation': 'relu', 'alpha': 1e-05, 'batch_size': 'auto', 'beta_1': 0.9, 'beta_2': 0.999, 'early_stopping': False, 'epsilon': 1e-08, 'hidden_layer_sizes': (15,), 'learning_rate': 'constant', 'learning_rate_init': 0.001, 'max_iter': 200, 'momentum': 0.9, 'nesterovs_momentum': True, 'power_t': 0.5, 'random_state': 1, 'shuffle': True, 'solver': 'lbfgs', 'tol': 0.0001, 'validation_fraction': 0.1, 'verbose': False, 'warm_start': False}\n",
      "Precision 0.584668163646\n",
      "**************************************************\n",
      "Class: LogisticRegression\n"
     ]
    },
    {
     "name": "stderr",
     "output_type": "stream",
     "text": [
      "/Users/terry/git/rubygem_digger/notebook/learner.py:69: UserWarning: Boolean Series key will be reindexed to match DataFrame index.\n",
      "  X = df[df['name']==name][df['label']==label][self.learner.features]\n"
     ]
    },
    {
     "name": "stdout",
     "output_type": "stream",
     "text": [
      "Parameters: {'C': 1.0, 'class_weight': None, 'dual': False, 'fit_intercept': True, 'intercept_scaling': 1, 'max_iter': 100, 'multi_class': 'ovr', 'n_jobs': 1, 'penalty': 'l2', 'random_state': None, 'solver': 'liblinear', 'tol': 0.0001, 'verbose': 0, 'warm_start': False}\n",
      "Precision 0.630501610023\n",
      "**************************************************\n",
      "Class: DecisionTreeClassifier\n"
     ]
    },
    {
     "name": "stderr",
     "output_type": "stream",
     "text": [
      "/Users/terry/git/rubygem_digger/notebook/learner.py:69: UserWarning: Boolean Series key will be reindexed to match DataFrame index.\n",
      "  X = df[df['name']==name][df['label']==label][self.learner.features]\n"
     ]
    },
    {
     "name": "stdout",
     "output_type": "stream",
     "text": [
      "Parameters: {'class_weight': None, 'criterion': 'gini', 'max_depth': None, 'max_features': None, 'max_leaf_nodes': None, 'min_impurity_split': 1e-07, 'min_samples_leaf': 1, 'min_samples_split': 2, 'min_weight_fraction_leaf': 0.0, 'presort': False, 'random_state': None, 'splitter': 'best'}\n",
      "Precision 0.575257031758\n",
      "**************************************************\n",
      "Class: BaggingClassifier\n"
     ]
    },
    {
     "name": "stderr",
     "output_type": "stream",
     "text": [
      "/Users/terry/git/rubygem_digger/notebook/learner.py:69: UserWarning: Boolean Series key will be reindexed to match DataFrame index.\n",
      "  X = df[df['name']==name][df['label']==label][self.learner.features]\n",
      "/Users/terry/anaconda3/lib/python3.6/site-packages/sklearn/ensemble/bagging.py:146: VisibleDeprecationWarning: using a non-integer number instead of an integer will result in an error in the future\n",
      "  proba[i, predictions[i]] += 1\n",
      "/Users/terry/git/rubygem_digger/notebook/learner.py:69: UserWarning: Boolean Series key will be reindexed to match DataFrame index.\n",
      "  X = df[df['name']==name][df['label']==label][self.learner.features]\n",
      "/Users/terry/anaconda3/lib/python3.6/site-packages/sklearn/ensemble/bagging.py:146: VisibleDeprecationWarning: using a non-integer number instead of an integer will result in an error in the future\n",
      "  proba[i, predictions[i]] += 1\n",
      "/Users/terry/git/rubygem_digger/notebook/learner.py:69: UserWarning: Boolean Series key will be reindexed to match DataFrame index.\n",
      "  X = df[df['name']==name][df['label']==label][self.learner.features]\n",
      "/Users/terry/anaconda3/lib/python3.6/site-packages/sklearn/ensemble/bagging.py:146: VisibleDeprecationWarning: using a non-integer number instead of an integer will result in an error in the future\n",
      "  proba[i, predictions[i]] += 1\n",
      "/Users/terry/git/rubygem_digger/notebook/learner.py:69: UserWarning: Boolean Series key will be reindexed to match DataFrame index.\n",
      "  X = df[df['name']==name][df['label']==label][self.learner.features]\n",
      "/Users/terry/anaconda3/lib/python3.6/site-packages/sklearn/ensemble/bagging.py:146: VisibleDeprecationWarning: using a non-integer number instead of an integer will result in an error in the future\n",
      "  proba[i, predictions[i]] += 1\n",
      "/Users/terry/git/rubygem_digger/notebook/learner.py:69: UserWarning: Boolean Series key will be reindexed to match DataFrame index.\n",
      "  X = df[df['name']==name][df['label']==label][self.learner.features]\n",
      "/Users/terry/anaconda3/lib/python3.6/site-packages/sklearn/ensemble/bagging.py:146: VisibleDeprecationWarning: using a non-integer number instead of an integer will result in an error in the future\n",
      "  proba[i, predictions[i]] += 1\n"
     ]
    },
    {
     "name": "stdout",
     "output_type": "stream",
     "text": [
      "Parameters: {'base_estimator__criterion': 'mse', 'base_estimator__max_depth': None, 'base_estimator__max_features': None, 'base_estimator__max_leaf_nodes': None, 'base_estimator__min_impurity_split': 1e-07, 'base_estimator__min_samples_leaf': 1, 'base_estimator__min_samples_split': 2, 'base_estimator__min_weight_fraction_leaf': 0.0, 'base_estimator__presort': False, 'base_estimator__random_state': None, 'base_estimator__splitter': 'best', 'base_estimator': DecisionTreeRegressor(criterion='mse', max_depth=None, max_features=None,\n",
      "           max_leaf_nodes=None, min_impurity_split=1e-07,\n",
      "           min_samples_leaf=1, min_samples_split=2,\n",
      "           min_weight_fraction_leaf=0.0, presort=False, random_state=None,\n",
      "           splitter='best'), 'bootstrap': True, 'bootstrap_features': False, 'max_features': 1.0, 'max_samples': 1.0, 'n_estimators': 10, 'n_jobs': 1, 'oob_score': False, 'random_state': None, 'verbose': 0, 'warm_start': False}\n",
      "Precision 0.599608899007\n",
      "**************************************************\n",
      "Class: BaggingClassifier\n"
     ]
    },
    {
     "name": "stderr",
     "output_type": "stream",
     "text": [
      "/Users/terry/git/rubygem_digger/notebook/learner.py:69: UserWarning: Boolean Series key will be reindexed to match DataFrame index.\n",
      "  X = df[df['name']==name][df['label']==label][self.learner.features]\n",
      "/Users/terry/git/rubygem_digger/notebook/learner.py:69: UserWarning: Boolean Series key will be reindexed to match DataFrame index.\n",
      "  X = df[df['name']==name][df['label']==label][self.learner.features]\n",
      "/Users/terry/git/rubygem_digger/notebook/learner.py:69: UserWarning: Boolean Series key will be reindexed to match DataFrame index.\n",
      "  X = df[df['name']==name][df['label']==label][self.learner.features]\n",
      "/Users/terry/git/rubygem_digger/notebook/learner.py:69: UserWarning: Boolean Series key will be reindexed to match DataFrame index.\n",
      "  X = df[df['name']==name][df['label']==label][self.learner.features]\n",
      "/Users/terry/git/rubygem_digger/notebook/learner.py:69: UserWarning: Boolean Series key will be reindexed to match DataFrame index.\n",
      "  X = df[df['name']==name][df['label']==label][self.learner.features]\n"
     ]
    },
    {
     "name": "stdout",
     "output_type": "stream",
     "text": [
      "Parameters: {'base_estimator__C': 1.0, 'base_estimator__class_weight': None, 'base_estimator__dual': False, 'base_estimator__fit_intercept': True, 'base_estimator__intercept_scaling': 1, 'base_estimator__max_iter': 100, 'base_estimator__multi_class': 'ovr', 'base_estimator__n_jobs': 1, 'base_estimator__penalty': 'l2', 'base_estimator__random_state': None, 'base_estimator__solver': 'liblinear', 'base_estimator__tol': 0.0001, 'base_estimator__verbose': 0, 'base_estimator__warm_start': False, 'base_estimator': LogisticRegression(C=1.0, class_weight=None, dual=False, fit_intercept=True,\n",
      "          intercept_scaling=1, max_iter=100, multi_class='ovr', n_jobs=1,\n",
      "          penalty='l2', random_state=None, solver='liblinear', tol=0.0001,\n",
      "          verbose=0, warm_start=False), 'bootstrap': True, 'bootstrap_features': False, 'max_features': 1.0, 'max_samples': 1.0, 'n_estimators': 10, 'n_jobs': 1, 'oob_score': False, 'random_state': None, 'verbose': 0, 'warm_start': False}\n",
      "Precision 0.616285057071\n",
      "**************************************************\n",
      "Class: BaggingClassifier\n"
     ]
    },
    {
     "name": "stderr",
     "output_type": "stream",
     "text": [
      "/Users/terry/git/rubygem_digger/notebook/learner.py:69: UserWarning: Boolean Series key will be reindexed to match DataFrame index.\n",
      "  X = df[df['name']==name][df['label']==label][self.learner.features]\n",
      "/Users/terry/git/rubygem_digger/notebook/learner.py:69: UserWarning: Boolean Series key will be reindexed to match DataFrame index.\n",
      "  X = df[df['name']==name][df['label']==label][self.learner.features]\n",
      "/Users/terry/git/rubygem_digger/notebook/learner.py:69: UserWarning: Boolean Series key will be reindexed to match DataFrame index.\n",
      "  X = df[df['name']==name][df['label']==label][self.learner.features]\n",
      "/Users/terry/git/rubygem_digger/notebook/learner.py:69: UserWarning: Boolean Series key will be reindexed to match DataFrame index.\n",
      "  X = df[df['name']==name][df['label']==label][self.learner.features]\n",
      "/Users/terry/git/rubygem_digger/notebook/learner.py:69: UserWarning: Boolean Series key will be reindexed to match DataFrame index.\n",
      "  X = df[df['name']==name][df['label']==label][self.learner.features]\n"
     ]
    },
    {
     "name": "stdout",
     "output_type": "stream",
     "text": [
      "Parameters: {'base_estimator__algorithm': 'auto', 'base_estimator__leaf_size': 30, 'base_estimator__metric': 'minkowski', 'base_estimator__metric_params': None, 'base_estimator__n_jobs': 1, 'base_estimator__n_neighbors': 15, 'base_estimator__p': 2, 'base_estimator__weights': 'uniform', 'base_estimator': KNeighborsClassifier(algorithm='auto', leaf_size=30, metric='minkowski',\n",
      "           metric_params=None, n_jobs=1, n_neighbors=15, p=2,\n",
      "           weights='uniform'), 'bootstrap': True, 'bootstrap_features': False, 'max_features': 1.0, 'max_samples': 1.0, 'n_estimators': 10, 'n_jobs': 1, 'oob_score': False, 'random_state': None, 'verbose': 0, 'warm_start': False}\n",
      "Precision 0.584148699549\n",
      "**************************************************\n",
      "Class: RandomForestClassifier\n"
     ]
    },
    {
     "name": "stderr",
     "output_type": "stream",
     "text": [
      "/Users/terry/git/rubygem_digger/notebook/learner.py:69: UserWarning: Boolean Series key will be reindexed to match DataFrame index.\n",
      "  X = df[df['name']==name][df['label']==label][self.learner.features]\n",
      "/Users/terry/git/rubygem_digger/notebook/learner.py:69: UserWarning: Boolean Series key will be reindexed to match DataFrame index.\n",
      "  X = df[df['name']==name][df['label']==label][self.learner.features]\n",
      "/Users/terry/git/rubygem_digger/notebook/learner.py:69: UserWarning: Boolean Series key will be reindexed to match DataFrame index.\n",
      "  X = df[df['name']==name][df['label']==label][self.learner.features]\n",
      "/Users/terry/git/rubygem_digger/notebook/learner.py:69: UserWarning: Boolean Series key will be reindexed to match DataFrame index.\n",
      "  X = df[df['name']==name][df['label']==label][self.learner.features]\n",
      "/Users/terry/git/rubygem_digger/notebook/learner.py:69: UserWarning: Boolean Series key will be reindexed to match DataFrame index.\n",
      "  X = df[df['name']==name][df['label']==label][self.learner.features]\n"
     ]
    },
    {
     "name": "stdout",
     "output_type": "stream",
     "text": [
      "Parameters: {'bootstrap': True, 'class_weight': None, 'criterion': 'gini', 'max_depth': None, 'max_features': 'auto', 'max_leaf_nodes': None, 'min_impurity_split': 1e-07, 'min_samples_leaf': 1, 'min_samples_split': 2, 'min_weight_fraction_leaf': 0.0, 'n_estimators': 20, 'n_jobs': 1, 'oob_score': False, 'random_state': None, 'verbose': 0, 'warm_start': False}\n",
      "Precision 0.604617877317\n",
      "**************************************************\n",
      "Class: AdaBoostClassifier\n"
     ]
    },
    {
     "name": "stderr",
     "output_type": "stream",
     "text": [
      "/Users/terry/git/rubygem_digger/notebook/learner.py:69: UserWarning: Boolean Series key will be reindexed to match DataFrame index.\n",
      "  X = df[df['name']==name][df['label']==label][self.learner.features]\n",
      "/Users/terry/git/rubygem_digger/notebook/learner.py:69: UserWarning: Boolean Series key will be reindexed to match DataFrame index.\n",
      "  X = df[df['name']==name][df['label']==label][self.learner.features]\n",
      "/Users/terry/git/rubygem_digger/notebook/learner.py:69: UserWarning: Boolean Series key will be reindexed to match DataFrame index.\n",
      "  X = df[df['name']==name][df['label']==label][self.learner.features]\n",
      "/Users/terry/git/rubygem_digger/notebook/learner.py:69: UserWarning: Boolean Series key will be reindexed to match DataFrame index.\n",
      "  X = df[df['name']==name][df['label']==label][self.learner.features]\n",
      "/Users/terry/git/rubygem_digger/notebook/learner.py:69: UserWarning: Boolean Series key will be reindexed to match DataFrame index.\n",
      "  X = df[df['name']==name][df['label']==label][self.learner.features]\n"
     ]
    },
    {
     "name": "stdout",
     "output_type": "stream",
     "text": [
      "Parameters: {'algorithm': 'SAMME.R', 'base_estimator': None, 'learning_rate': 1.0, 'n_estimators': 100, 'random_state': None}\n",
      "Precision 0.596347147983\n",
      "**************************************************\n",
      "Class: GradientBoostingClassifier\n"
     ]
    },
    {
     "name": "stderr",
     "output_type": "stream",
     "text": [
      "/Users/terry/git/rubygem_digger/notebook/learner.py:69: UserWarning: Boolean Series key will be reindexed to match DataFrame index.\n",
      "  X = df[df['name']==name][df['label']==label][self.learner.features]\n"
     ]
    },
    {
     "name": "stdout",
     "output_type": "stream",
     "text": [
      "Parameters: {'criterion': 'friedman_mse', 'init': None, 'learning_rate': 1.0, 'loss': 'deviance', 'max_depth': 4, 'max_features': None, 'max_leaf_nodes': None, 'min_impurity_split': 1e-07, 'min_samples_leaf': 1, 'min_samples_split': 2, 'min_weight_fraction_leaf': 0.0, 'n_estimators': 100, 'presort': 'auto', 'random_state': 0, 'subsample': 1.0, 'verbose': 0, 'warm_start': False}\n",
      "Precision 0.615760355133\n",
      "**************************************************\n",
      "Class: LinearSVC\n"
     ]
    },
    {
     "name": "stderr",
     "output_type": "stream",
     "text": [
      "/Users/terry/git/rubygem_digger/notebook/learner.py:69: UserWarning: Boolean Series key will be reindexed to match DataFrame index.\n",
      "  X = df[df['name']==name][df['label']==label][self.learner.features]\n"
     ]
    },
    {
     "name": "stdout",
     "output_type": "stream",
     "text": [
      "Parameters: {'C': 1.0, 'class_weight': None, 'dual': False, 'fit_intercept': True, 'intercept_scaling': 1, 'loss': 'squared_hinge', 'max_iter': 1000, 'multi_class': 'ovr', 'penalty': 'l2', 'random_state': None, 'tol': 0.0001, 'verbose': 0}\n",
      "Precision 0.639815085187\n",
      "**************************************************\n",
      "Class: MLPClassifier\n"
     ]
    },
    {
     "name": "stderr",
     "output_type": "stream",
     "text": [
      "/Users/terry/git/rubygem_digger/notebook/learner.py:69: UserWarning: Boolean Series key will be reindexed to match DataFrame index.\n",
      "  X = df[df['name']==name][df['label']==label][self.learner.features]\n"
     ]
    },
    {
     "name": "stdout",
     "output_type": "stream",
     "text": [
      "Parameters: {'activation': 'relu', 'alpha': 1e-05, 'batch_size': 'auto', 'beta_1': 0.9, 'beta_2': 0.999, 'early_stopping': False, 'epsilon': 1e-08, 'hidden_layer_sizes': (15,), 'learning_rate': 'constant', 'learning_rate_init': 0.001, 'max_iter': 200, 'momentum': 0.9, 'nesterovs_momentum': True, 'power_t': 0.5, 'random_state': 1, 'shuffle': True, 'solver': 'lbfgs', 'tol': 0.0001, 'validation_fraction': 0.1, 'verbose': False, 'warm_start': False}\n",
      "Precision 0.573858381501\n",
      "**************************************************\n",
      "Class: LogisticRegression\n"
     ]
    },
    {
     "name": "stderr",
     "output_type": "stream",
     "text": [
      "/Users/terry/git/rubygem_digger/notebook/learner.py:69: UserWarning: Boolean Series key will be reindexed to match DataFrame index.\n",
      "  X = df[df['name']==name][df['label']==label][self.learner.features]\n"
     ]
    },
    {
     "name": "stdout",
     "output_type": "stream",
     "text": [
      "Parameters: {'C': 1.0, 'class_weight': None, 'dual': False, 'fit_intercept': True, 'intercept_scaling': 1, 'max_iter': 100, 'multi_class': 'ovr', 'n_jobs': 1, 'penalty': 'l2', 'random_state': None, 'solver': 'liblinear', 'tol': 0.0001, 'verbose': 0, 'warm_start': False}\n",
      "Precision 0.617056440075\n",
      "**************************************************\n",
      "Class: DecisionTreeClassifier\n"
     ]
    },
    {
     "name": "stderr",
     "output_type": "stream",
     "text": [
      "/Users/terry/git/rubygem_digger/notebook/learner.py:69: UserWarning: Boolean Series key will be reindexed to match DataFrame index.\n",
      "  X = df[df['name']==name][df['label']==label][self.learner.features]\n"
     ]
    },
    {
     "name": "stdout",
     "output_type": "stream",
     "text": [
      "Parameters: {'class_weight': None, 'criterion': 'gini', 'max_depth': None, 'max_features': None, 'max_leaf_nodes': None, 'min_impurity_split': 1e-07, 'min_samples_leaf': 1, 'min_samples_split': 2, 'min_weight_fraction_leaf': 0.0, 'presort': False, 'random_state': None, 'splitter': 'best'}\n",
      "Precision 0.567622871082\n",
      "**************************************************\n",
      "Class: BaggingClassifier\n"
     ]
    },
    {
     "name": "stderr",
     "output_type": "stream",
     "text": [
      "/Users/terry/git/rubygem_digger/notebook/learner.py:69: UserWarning: Boolean Series key will be reindexed to match DataFrame index.\n",
      "  X = df[df['name']==name][df['label']==label][self.learner.features]\n",
      "/Users/terry/anaconda3/lib/python3.6/site-packages/sklearn/ensemble/bagging.py:146: VisibleDeprecationWarning: using a non-integer number instead of an integer will result in an error in the future\n",
      "  proba[i, predictions[i]] += 1\n",
      "/Users/terry/git/rubygem_digger/notebook/learner.py:69: UserWarning: Boolean Series key will be reindexed to match DataFrame index.\n",
      "  X = df[df['name']==name][df['label']==label][self.learner.features]\n",
      "/Users/terry/anaconda3/lib/python3.6/site-packages/sklearn/ensemble/bagging.py:146: VisibleDeprecationWarning: using a non-integer number instead of an integer will result in an error in the future\n",
      "  proba[i, predictions[i]] += 1\n",
      "/Users/terry/git/rubygem_digger/notebook/learner.py:69: UserWarning: Boolean Series key will be reindexed to match DataFrame index.\n",
      "  X = df[df['name']==name][df['label']==label][self.learner.features]\n",
      "/Users/terry/anaconda3/lib/python3.6/site-packages/sklearn/ensemble/bagging.py:146: VisibleDeprecationWarning: using a non-integer number instead of an integer will result in an error in the future\n",
      "  proba[i, predictions[i]] += 1\n",
      "/Users/terry/git/rubygem_digger/notebook/learner.py:69: UserWarning: Boolean Series key will be reindexed to match DataFrame index.\n",
      "  X = df[df['name']==name][df['label']==label][self.learner.features]\n",
      "/Users/terry/anaconda3/lib/python3.6/site-packages/sklearn/ensemble/bagging.py:146: VisibleDeprecationWarning: using a non-integer number instead of an integer will result in an error in the future\n",
      "  proba[i, predictions[i]] += 1\n",
      "/Users/terry/git/rubygem_digger/notebook/learner.py:69: UserWarning: Boolean Series key will be reindexed to match DataFrame index.\n",
      "  X = df[df['name']==name][df['label']==label][self.learner.features]\n",
      "/Users/terry/anaconda3/lib/python3.6/site-packages/sklearn/ensemble/bagging.py:146: VisibleDeprecationWarning: using a non-integer number instead of an integer will result in an error in the future\n",
      "  proba[i, predictions[i]] += 1\n"
     ]
    },
    {
     "name": "stdout",
     "output_type": "stream",
     "text": [
      "Parameters: {'base_estimator__criterion': 'mse', 'base_estimator__max_depth': None, 'base_estimator__max_features': None, 'base_estimator__max_leaf_nodes': None, 'base_estimator__min_impurity_split': 1e-07, 'base_estimator__min_samples_leaf': 1, 'base_estimator__min_samples_split': 2, 'base_estimator__min_weight_fraction_leaf': 0.0, 'base_estimator__presort': False, 'base_estimator__random_state': None, 'base_estimator__splitter': 'best', 'base_estimator': DecisionTreeRegressor(criterion='mse', max_depth=None, max_features=None,\n",
      "           max_leaf_nodes=None, min_impurity_split=1e-07,\n",
      "           min_samples_leaf=1, min_samples_split=2,\n",
      "           min_weight_fraction_leaf=0.0, presort=False, random_state=None,\n",
      "           splitter='best'), 'bootstrap': True, 'bootstrap_features': False, 'max_features': 1.0, 'max_samples': 1.0, 'n_estimators': 10, 'n_jobs': 1, 'oob_score': False, 'random_state': None, 'verbose': 0, 'warm_start': False}\n",
      "Precision 0.588008623119\n",
      "**************************************************\n",
      "Class: BaggingClassifier\n"
     ]
    },
    {
     "name": "stderr",
     "output_type": "stream",
     "text": [
      "/Users/terry/git/rubygem_digger/notebook/learner.py:69: UserWarning: Boolean Series key will be reindexed to match DataFrame index.\n",
      "  X = df[df['name']==name][df['label']==label][self.learner.features]\n",
      "/Users/terry/git/rubygem_digger/notebook/learner.py:69: UserWarning: Boolean Series key will be reindexed to match DataFrame index.\n",
      "  X = df[df['name']==name][df['label']==label][self.learner.features]\n",
      "/Users/terry/git/rubygem_digger/notebook/learner.py:69: UserWarning: Boolean Series key will be reindexed to match DataFrame index.\n",
      "  X = df[df['name']==name][df['label']==label][self.learner.features]\n",
      "/Users/terry/git/rubygem_digger/notebook/learner.py:69: UserWarning: Boolean Series key will be reindexed to match DataFrame index.\n",
      "  X = df[df['name']==name][df['label']==label][self.learner.features]\n",
      "/Users/terry/git/rubygem_digger/notebook/learner.py:69: UserWarning: Boolean Series key will be reindexed to match DataFrame index.\n",
      "  X = df[df['name']==name][df['label']==label][self.learner.features]\n"
     ]
    },
    {
     "name": "stdout",
     "output_type": "stream",
     "text": [
      "Parameters: {'base_estimator__C': 1.0, 'base_estimator__class_weight': None, 'base_estimator__dual': False, 'base_estimator__fit_intercept': True, 'base_estimator__intercept_scaling': 1, 'base_estimator__max_iter': 100, 'base_estimator__multi_class': 'ovr', 'base_estimator__n_jobs': 1, 'base_estimator__penalty': 'l2', 'base_estimator__random_state': None, 'base_estimator__solver': 'liblinear', 'base_estimator__tol': 0.0001, 'base_estimator__verbose': 0, 'base_estimator__warm_start': False, 'base_estimator': LogisticRegression(C=1.0, class_weight=None, dual=False, fit_intercept=True,\n",
      "          intercept_scaling=1, max_iter=100, multi_class='ovr', n_jobs=1,\n",
      "          penalty='l2', random_state=None, solver='liblinear', tol=0.0001,\n",
      "          verbose=0, warm_start=False), 'bootstrap': True, 'bootstrap_features': False, 'max_features': 1.0, 'max_samples': 1.0, 'n_estimators': 10, 'n_jobs': 1, 'oob_score': False, 'random_state': None, 'verbose': 0, 'warm_start': False}\n",
      "Precision 0.621578017534\n",
      "**************************************************\n",
      "Class: BaggingClassifier\n"
     ]
    },
    {
     "name": "stderr",
     "output_type": "stream",
     "text": [
      "/Users/terry/git/rubygem_digger/notebook/learner.py:69: UserWarning: Boolean Series key will be reindexed to match DataFrame index.\n",
      "  X = df[df['name']==name][df['label']==label][self.learner.features]\n",
      "/Users/terry/git/rubygem_digger/notebook/learner.py:69: UserWarning: Boolean Series key will be reindexed to match DataFrame index.\n",
      "  X = df[df['name']==name][df['label']==label][self.learner.features]\n",
      "/Users/terry/git/rubygem_digger/notebook/learner.py:69: UserWarning: Boolean Series key will be reindexed to match DataFrame index.\n",
      "  X = df[df['name']==name][df['label']==label][self.learner.features]\n",
      "/Users/terry/git/rubygem_digger/notebook/learner.py:69: UserWarning: Boolean Series key will be reindexed to match DataFrame index.\n",
      "  X = df[df['name']==name][df['label']==label][self.learner.features]\n",
      "/Users/terry/git/rubygem_digger/notebook/learner.py:69: UserWarning: Boolean Series key will be reindexed to match DataFrame index.\n",
      "  X = df[df['name']==name][df['label']==label][self.learner.features]\n"
     ]
    },
    {
     "name": "stdout",
     "output_type": "stream",
     "text": [
      "Parameters: {'base_estimator__algorithm': 'auto', 'base_estimator__leaf_size': 30, 'base_estimator__metric': 'minkowski', 'base_estimator__metric_params': None, 'base_estimator__n_jobs': 1, 'base_estimator__n_neighbors': 15, 'base_estimator__p': 2, 'base_estimator__weights': 'uniform', 'base_estimator': KNeighborsClassifier(algorithm='auto', leaf_size=30, metric='minkowski',\n",
      "           metric_params=None, n_jobs=1, n_neighbors=15, p=2,\n",
      "           weights='uniform'), 'bootstrap': True, 'bootstrap_features': False, 'max_features': 1.0, 'max_samples': 1.0, 'n_estimators': 10, 'n_jobs': 1, 'oob_score': False, 'random_state': None, 'verbose': 0, 'warm_start': False}\n",
      "Precision 0.606223456029\n",
      "**************************************************\n",
      "Class: RandomForestClassifier\n"
     ]
    },
    {
     "name": "stderr",
     "output_type": "stream",
     "text": [
      "/Users/terry/git/rubygem_digger/notebook/learner.py:69: UserWarning: Boolean Series key will be reindexed to match DataFrame index.\n",
      "  X = df[df['name']==name][df['label']==label][self.learner.features]\n",
      "/Users/terry/git/rubygem_digger/notebook/learner.py:69: UserWarning: Boolean Series key will be reindexed to match DataFrame index.\n",
      "  X = df[df['name']==name][df['label']==label][self.learner.features]\n",
      "/Users/terry/git/rubygem_digger/notebook/learner.py:69: UserWarning: Boolean Series key will be reindexed to match DataFrame index.\n",
      "  X = df[df['name']==name][df['label']==label][self.learner.features]\n",
      "/Users/terry/git/rubygem_digger/notebook/learner.py:69: UserWarning: Boolean Series key will be reindexed to match DataFrame index.\n",
      "  X = df[df['name']==name][df['label']==label][self.learner.features]\n",
      "/Users/terry/git/rubygem_digger/notebook/learner.py:69: UserWarning: Boolean Series key will be reindexed to match DataFrame index.\n",
      "  X = df[df['name']==name][df['label']==label][self.learner.features]\n"
     ]
    },
    {
     "name": "stdout",
     "output_type": "stream",
     "text": [
      "Parameters: {'bootstrap': True, 'class_weight': None, 'criterion': 'gini', 'max_depth': None, 'max_features': 'auto', 'max_leaf_nodes': None, 'min_impurity_split': 1e-07, 'min_samples_leaf': 1, 'min_samples_split': 2, 'min_weight_fraction_leaf': 0.0, 'n_estimators': 20, 'n_jobs': 1, 'oob_score': False, 'random_state': None, 'verbose': 0, 'warm_start': False}\n",
      "Precision 0.628683772824\n",
      "**************************************************\n",
      "Class: AdaBoostClassifier\n"
     ]
    },
    {
     "name": "stderr",
     "output_type": "stream",
     "text": [
      "/Users/terry/git/rubygem_digger/notebook/learner.py:69: UserWarning: Boolean Series key will be reindexed to match DataFrame index.\n",
      "  X = df[df['name']==name][df['label']==label][self.learner.features]\n",
      "/Users/terry/git/rubygem_digger/notebook/learner.py:69: UserWarning: Boolean Series key will be reindexed to match DataFrame index.\n",
      "  X = df[df['name']==name][df['label']==label][self.learner.features]\n",
      "/Users/terry/git/rubygem_digger/notebook/learner.py:69: UserWarning: Boolean Series key will be reindexed to match DataFrame index.\n",
      "  X = df[df['name']==name][df['label']==label][self.learner.features]\n",
      "/Users/terry/git/rubygem_digger/notebook/learner.py:69: UserWarning: Boolean Series key will be reindexed to match DataFrame index.\n",
      "  X = df[df['name']==name][df['label']==label][self.learner.features]\n",
      "/Users/terry/git/rubygem_digger/notebook/learner.py:69: UserWarning: Boolean Series key will be reindexed to match DataFrame index.\n",
      "  X = df[df['name']==name][df['label']==label][self.learner.features]\n"
     ]
    },
    {
     "name": "stdout",
     "output_type": "stream",
     "text": [
      "Parameters: {'algorithm': 'SAMME.R', 'base_estimator': None, 'learning_rate': 1.0, 'n_estimators': 100, 'random_state': None}\n",
      "Precision 0.593343468171\n",
      "**************************************************\n",
      "Class: GradientBoostingClassifier\n"
     ]
    },
    {
     "name": "stderr",
     "output_type": "stream",
     "text": [
      "/Users/terry/git/rubygem_digger/notebook/learner.py:69: UserWarning: Boolean Series key will be reindexed to match DataFrame index.\n",
      "  X = df[df['name']==name][df['label']==label][self.learner.features]\n"
     ]
    },
    {
     "name": "stdout",
     "output_type": "stream",
     "text": [
      "Parameters: {'criterion': 'friedman_mse', 'init': None, 'learning_rate': 1.0, 'loss': 'deviance', 'max_depth': 4, 'max_features': None, 'max_leaf_nodes': None, 'min_impurity_split': 1e-07, 'min_samples_leaf': 1, 'min_samples_split': 2, 'min_weight_fraction_leaf': 0.0, 'n_estimators': 100, 'presort': 'auto', 'random_state': 0, 'subsample': 1.0, 'verbose': 0, 'warm_start': False}\n",
      "Precision 0.589560797694\n",
      "**************************************************\n",
      "Class: LinearSVC\n"
     ]
    },
    {
     "name": "stderr",
     "output_type": "stream",
     "text": [
      "/Users/terry/git/rubygem_digger/notebook/learner.py:69: UserWarning: Boolean Series key will be reindexed to match DataFrame index.\n",
      "  X = df[df['name']==name][df['label']==label][self.learner.features]\n"
     ]
    },
    {
     "name": "stdout",
     "output_type": "stream",
     "text": [
      "Parameters: {'C': 1.0, 'class_weight': None, 'dual': False, 'fit_intercept': True, 'intercept_scaling': 1, 'loss': 'squared_hinge', 'max_iter': 1000, 'multi_class': 'ovr', 'penalty': 'l2', 'random_state': None, 'tol': 0.0001, 'verbose': 0}\n",
      "Precision 0.623451549379\n",
      "**************************************************\n",
      "Class: MLPClassifier\n"
     ]
    },
    {
     "name": "stderr",
     "output_type": "stream",
     "text": [
      "/Users/terry/git/rubygem_digger/notebook/learner.py:69: UserWarning: Boolean Series key will be reindexed to match DataFrame index.\n",
      "  X = df[df['name']==name][df['label']==label][self.learner.features]\n"
     ]
    },
    {
     "name": "stdout",
     "output_type": "stream",
     "text": [
      "Parameters: {'activation': 'relu', 'alpha': 1e-05, 'batch_size': 'auto', 'beta_1': 0.9, 'beta_2': 0.999, 'early_stopping': False, 'epsilon': 1e-08, 'hidden_layer_sizes': (15,), 'learning_rate': 'constant', 'learning_rate_init': 0.001, 'max_iter': 200, 'momentum': 0.9, 'nesterovs_momentum': True, 'power_t': 0.5, 'random_state': 1, 'shuffle': True, 'solver': 'lbfgs', 'tol': 0.0001, 'validation_fraction': 0.1, 'verbose': False, 'warm_start': False}\n",
      "Precision 0.585537206879\n",
      "| 0.626| 0.563| 0.597| 0.625| 0.575| 0.623| 0.611| 0.596| 0.599| 0.607|\n",
      "| 0.615| 0.557| 0.617| 0.621| 0.564| 0.607| 0.592| 0.602| 0.631| 0.614|\n",
      "| 0.608| 0.575| 0.584| 0.622| 0.596| 0.626| 0.598| 0.602| 0.622| 0.571|\n",
      "| 0.628| 0.562| 0.600| 0.637| 0.584| 0.617| 0.606| 0.576| 0.640| 0.585|\n",
      "| 0.631| 0.575| 0.600| 0.616| 0.584| 0.605| 0.596| 0.616| 0.640| 0.574|\n",
      "| 0.617| 0.568| 0.588| 0.622| 0.606| 0.629| 0.593| 0.590| 0.623| 0.586|\n"
     ]
    }
   ],
   "source": [
    "result_all = evaluate_specs(trainer, 'RubygemDigger--Steps--GenerateJsonForAllVersions')"
   ]
  },
  {
   "cell_type": "code",
   "execution_count": 14,
   "metadata": {
    "collapsed": false
   },
   "outputs": [],
   "source": [
    "from itertools import chain\n",
    "def print_results(results):\n",
    "    for row in results:\n",
    "        for n in row:\n",
    "            print(\"|\", \"%4.3f\" % n, end='')\n",
    "        print(\"|\", \"%4.3f\" % (sum(row)/len(row)), '|')\n",
    "    for c in range(len(results[0])):\n",
    "        col = [x[c] for x in results]\n",
    "        print(\"|\", \"%4.3f\" % (sum(col)/len(col)), end='')\n",
    "    a = list(chain(*results))\n",
    "    print(\"|\", \"%4.3f\" % (sum(a)/len(a)), '|')\n",
    "\n"
   ]
  },
  {
   "cell_type": "code",
   "execution_count": 15,
   "metadata": {
    "collapsed": false
   },
   "outputs": [
    {
     "name": "stdout",
     "output_type": "stream",
     "text": [
      "| 0.608| 0.581| 0.569| 0.615| 0.599| 0.629| 0.606| 0.595| 0.632| 0.589| 0.602 |\n",
      "| 0.616| 0.586| 0.599| 0.620| 0.591| 0.611| 0.596| 0.601| 0.623| 0.583| 0.603 |\n",
      "| 0.613| 0.564| 0.581| 0.620| 0.591| 0.628| 0.608| 0.598| 0.614| 0.614| 0.603 |\n",
      "| 0.641| 0.582| 0.597| 0.621| 0.588| 0.610| 0.603| 0.609| 0.612| 0.587| 0.605 |\n",
      "| 0.612| 0.554| 0.598| 0.613| 0.582| 0.595| 0.603| 0.586| 0.616| 0.580| 0.594 |\n",
      "| 0.622| 0.577| 0.595| 0.624| 0.576| 0.613| 0.607| 0.591| 0.611| 0.598| 0.601 |\n",
      "| 0.619| 0.574| 0.590| 0.619| 0.588| 0.615| 0.604| 0.597| 0.618| 0.592| 0.601 |\n"
     ]
    }
   ],
   "source": [
    "print_results(result_last)"
   ]
  },
  {
   "cell_type": "code",
   "execution_count": null,
   "metadata": {
    "collapsed": false
   },
   "outputs": [],
   "source": [
    "print_results(result_all)"
   ]
  },
  {
   "cell_type": "markdown",
   "metadata": {},
   "source": [
    "# Classify using kNN"
   ]
  },
  {
   "cell_type": "code",
   "execution_count": null,
   "metadata": {
    "collapsed": true
   },
   "outputs": [],
   "source": []
  },
  {
   "cell_type": "code",
   "execution_count": 17,
   "metadata": {
    "collapsed": false
   },
   "outputs": [
    {
     "name": "stderr",
     "output_type": "stream",
     "text": [
      "/Users/terry/git/rubygem_digger/notebook/learner.py:69: UserWarning: Boolean Series key will be reindexed to match DataFrame index.\n",
      "  X = df[df['name']==name][df['label']==label][self.learner.features]\n"
     ]
    },
    {
     "data": {
      "text/plain": [
       "<matplotlib.text.Text at 0x11e951668>"
      ]
     },
     "execution_count": 17,
     "metadata": {},
     "output_type": "execute_result"
    },
    {
     "data": {
      "image/png": "[encoded data removed]",
      "text/plain": [
       "<matplotlib.figure.Figure at 0x118d980f0>"
      ]
     },
     "metadata": {},
     "output_type": "display_data"
    }
   ],
   "source": [
    "nb_range = np.arange(1, 31)\n",
    "a_scores = []\n",
    "\n",
    "for nb in nb_range:\n",
    "    model = KNeighborsClassifier(n_neighbors=nb)\n",
    "    a_scores.append(trainer.train_and_test(model))\n",
    "    \n",
    "plt.plot(nb_range, a_scores, 'o-')\n",
    "plt.ylabel('Testing accuracy')\n",
    "plt.xlabel('k neighbours')"
   ]
  },
  {
   "cell_type": "code",
   "execution_count": 18,
   "metadata": {
    "collapsed": false,
    "scrolled": true
   },
   "outputs": [
    {
     "name": "stderr",
     "output_type": "stream",
     "text": [
      "/Users/terry/anaconda3/lib/python3.6/site-packages/sklearn/grid_search.py:43: DeprecationWarning: This module was deprecated in version 0.18 in favor of the model_selection module into which all the refactored classes and functions are moved. This module will be removed in 0.20.\n",
      "  DeprecationWarning)\n"
     ]
    }
   ],
   "source": [
    "from sklearn.grid_search import GridSearchCV"
   ]
  },
  {
   "cell_type": "code",
   "execution_count": 19,
   "metadata": {
    "collapsed": false
   },
   "outputs": [
    {
     "ename": "NameError",
     "evalue": "name 'X' is not defined",
     "output_type": "error",
     "traceback": [
      "\u001b[0;31m---------------------------------------------------------------------------\u001b[0m",
      "\u001b[0;31mNameError\u001b[0m                                 Traceback (most recent call last)",
      "\u001b[0;32m<ipython-input-19-bcce21aecba8>\u001b[0m in \u001b[0;36m<module>\u001b[0;34m()\u001b[0m\n\u001b[1;32m      6\u001b[0m \u001b[0;34m\u001b[0m\u001b[0m\n\u001b[1;32m      7\u001b[0m \u001b[0mgrid\u001b[0m \u001b[0;34m=\u001b[0m \u001b[0mGridSearchCV\u001b[0m\u001b[0;34m(\u001b[0m\u001b[0mknn\u001b[0m\u001b[0;34m,\u001b[0m \u001b[0mparam_grid\u001b[0m\u001b[0;34m,\u001b[0m \u001b[0mcv\u001b[0m\u001b[0;34m=\u001b[0m\u001b[0;36m10\u001b[0m\u001b[0;34m,\u001b[0m \u001b[0mscoring\u001b[0m\u001b[0;34m=\u001b[0m\u001b[0;34m'accuracy'\u001b[0m\u001b[0;34m)\u001b[0m\u001b[0;34m\u001b[0m\u001b[0m\n\u001b[0;32m----> 8\u001b[0;31m \u001b[0mgrid\u001b[0m\u001b[0;34m.\u001b[0m\u001b[0mfit\u001b[0m\u001b[0;34m(\u001b[0m\u001b[0mX\u001b[0m\u001b[0;34m,\u001b[0m \u001b[0my\u001b[0m\u001b[0;34m)\u001b[0m\u001b[0;34m\u001b[0m\u001b[0m\n\u001b[0m\u001b[1;32m      9\u001b[0m \u001b[0;34m\u001b[0m\u001b[0m\n\u001b[1;32m     10\u001b[0m \u001b[0;34m\u001b[0m\u001b[0m\n",
      "\u001b[0;31mNameError\u001b[0m: name 'X' is not defined"
     ]
    }
   ],
   "source": [
    "k_range = list(range(1, 31))\n",
    "weight_options = ['uniform', 'distance']\n",
    "param_grid = dict(n_neighbors=k_range, weights=weight_options)\n",
    "\n",
    "knn = KNeighborsClassifier()\n",
    "\n",
    "grid = GridSearchCV(knn, param_grid, cv=10, scoring='accuracy')\n",
    "grid.fit(X, y)\n",
    "\n",
    "\n",
    "# examine the best model\n",
    "print(grid.best_score_)\n",
    "print(grid.best_params_)\n",
    "print(grid.best_estimator_)"
   ]
  },
  {
   "cell_type": "markdown",
   "metadata": {
    "collapsed": true
   },
   "source": [
    "# Ensemble"
   ]
  },
  {
   "cell_type": "code",
   "execution_count": null,
   "metadata": {
    "collapsed": true
   },
   "outputs": [],
   "source": [
    "from sklearn.ensemble import BaggingRegressor\n",
    "from sklearn.tree import DecisionTreeRegressor"
   ]
  },
  {
   "cell_type": "code",
   "execution_count": null,
   "metadata": {
    "collapsed": false
   },
   "outputs": [],
   "source": [
    "from sklearn.ensemble import BaggingClassifier\n",
    "print(train_and_test(BaggingClassifier(grid.best_estimator_, max_samples=0.5, max_features=0.5), df))"
   ]
  },
  {
   "cell_type": "code",
   "execution_count": null,
   "metadata": {
    "collapsed": false
   },
   "outputs": [],
   "source": [
    "print(train_and_test(BaggingClassifier(DecisionTreeRegressor()), df))"
   ]
  },
  {
   "cell_type": "code",
   "execution_count": null,
   "metadata": {
    "collapsed": false
   },
   "outputs": [],
   "source": [
    "print(train_and_test(BaggingClassifier(LogisticRegression()), df))"
   ]
  },
  {
   "cell_type": "code",
   "execution_count": null,
   "metadata": {
    "collapsed": false
   },
   "outputs": [],
   "source": [
    "print(train_and_test(BaggingClassifier(KNeighborsClassifier(n_neighbors=15)), df))"
   ]
  },
  {
   "cell_type": "code",
   "execution_count": null,
   "metadata": {
    "collapsed": false
   },
   "outputs": [],
   "source": [
    "from sklearn.ensemble import RandomForestClassifier\n",
    "print(train_and_test(RandomForestClassifier(n_estimators=20), df))"
   ]
  },
  {
   "cell_type": "code",
   "execution_count": null,
   "metadata": {
    "collapsed": false
   },
   "outputs": [],
   "source": [
    "from sklearn.ensemble import AdaBoostClassifier\n",
    "print(train_and_test(AdaBoostClassifier(n_estimators=100), df))"
   ]
  },
  {
   "cell_type": "code",
   "execution_count": null,
   "metadata": {
    "collapsed": false
   },
   "outputs": [],
   "source": [
    "from sklearn.ensemble import GradientBoostingClassifier\n",
    "print(train_and_test( GradientBoostingClassifier(n_estimators=100, learning_rate=1.0,max_depth=4, random_state=0), df))"
   ]
  },
  {
   "cell_type": "code",
   "execution_count": null,
   "metadata": {
    "collapsed": false
   },
   "outputs": [],
   "source": [
    "from sklearn.svm import LinearSVC\n",
    "model = LinearSVC(loss='l2', penalty=\"l2\",dual=False, tol=1e-4)\n",
    "print(train_and_test(model, df))"
   ]
  },
  {
   "cell_type": "code",
   "execution_count": null,
   "metadata": {
    "collapsed": false
   },
   "outputs": [],
   "source": [
    "model.decision_function"
   ]
  },
  {
   "cell_type": "code",
   "execution_count": null,
   "metadata": {
    "collapsed": false
   },
   "outputs": [],
   "source": [
    "from sklearn.neural_network import MLPClassifier\n",
    "print(train_and_test(MLPClassifier(solver='lbfgs', alpha=1e-5,hidden_layer_sizes=(15,), random_state=1), df))"
   ]
  },
  {
   "cell_type": "code",
   "execution_count": null,
   "metadata": {
    "collapsed": true
   },
   "outputs": [],
   "source": []
  }
 ],
 "metadata": {
  "anaconda-cloud": {},
  "kernelspec": {
   "display_name": "Python 3",
   "language": "python",
   "name": "python3"
  },
  "language_info": {
   "codemirror_mode": {
    "name": "ipython",
    "version": 3
   },
   "file_extension": ".py",
   "mimetype": "text/x-python",
   "name": "python",
   "nbconvert_exporter": "python",
   "pygments_lexer": "ipython3",
   "version": "3.6.0"
  }
 },
 "nbformat": 4,
 "nbformat_minor": 1
}
